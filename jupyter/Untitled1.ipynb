{
 "cells": [
  {
   "cell_type": "markdown",
   "metadata": {},
   "source": [
    "# Dependacne"
   ]
  },
  {
   "cell_type": "markdown",
   "metadata": {},
   "source": [
    "## Package"
   ]
  },
  {
   "cell_type": "code",
   "execution_count": 62,
   "metadata": {
    "ExecuteTime": {
     "end_time": "2020-05-14T09:23:15.270391Z",
     "start_time": "2020-05-14T09:23:15.265378Z"
    }
   },
   "outputs": [],
   "source": [
    "import os,sys\n",
    "import datetime,time\n",
    "import traceback\n",
    "import json\n",
    "import requests\n",
    "\n",
    "BASE_DIR = r\"C:\\Users\\leo.zhangzs\\AppData\\Roaming\\Code\\User\\VScode\\py3\\UAT_Test\"\n",
    "sys.path.append(BASE_DIR)\n",
    "\n",
    "from eve import Eve\n",
    "from eve import default_settings\n",
    "from flask import request\n",
    "from core.configadmin import ConfigAdmin"
   ]
  },
  {
   "cell_type": "markdown",
   "metadata": {},
   "source": [
    "## Global Vars"
   ]
  },
  {
   "cell_type": "code",
   "execution_count": 63,
   "metadata": {
    "ExecuteTime": {
     "end_time": "2020-05-14T09:23:17.024533Z",
     "start_time": "2020-05-14T09:23:17.007296Z"
    }
   },
   "outputs": [],
   "source": [
    "settings = os.path.join(BASE_DIR, 'conf', 'settings.py')"
   ]
  },
  {
   "cell_type": "code",
   "execution_count": 58,
   "metadata": {
    "ExecuteTime": {
     "end_time": "2020-05-14T08:56:56.605411Z",
     "start_time": "2020-05-14T08:56:56.600398Z"
    }
   },
   "outputs": [
    {
     "data": {
      "text/plain": [
       "<module 'eve.default_settings' from 'D:\\\\Program\\\\miniconda\\\\envs\\\\cpy36_32\\\\lib\\\\site-packages\\\\eve\\\\default_settings.py'>"
      ]
     },
     "execution_count": 58,
     "metadata": {},
     "output_type": "execute_result"
    }
   ],
   "source": [
    "default_settings"
   ]
  },
  {
   "cell_type": "markdown",
   "metadata": {},
   "source": [
    "# Coding"
   ]
  },
  {
   "cell_type": "code",
   "execution_count": 74,
   "metadata": {
    "ExecuteTime": {
     "end_time": "2020-05-14T09:33:48.089441Z",
     "start_time": "2020-05-14T09:33:48.078913Z"
    }
   },
   "outputs": [],
   "source": [
    "app = Eve(settings=settiings)\n",
    "\n",
    "@app.route('/hello', methods=['POST'])\n",
    "def hello():\n",
    "    print(request.args.get('personId'))\n",
    "    time.sleep(10)\n",
    "    return {\"code\": 100000,\"message\": \"success\"}"
   ]
  },
  {
   "cell_type": "markdown",
   "metadata": {},
   "source": [
    "# Excute"
   ]
  },
  {
   "cell_type": "code",
   "execution_count": 75,
   "metadata": {
    "ExecuteTime": {
     "end_time": "2020-05-14T09:41:45.288712Z",
     "start_time": "2020-05-14T09:33:49.555818Z"
    },
    "scrolled": true
   },
   "outputs": [
    {
     "name": "stdout",
     "output_type": "stream",
     "text": [
      " * Serving Flask app \"eve\" (lazy loading)\n",
      " * Environment: production\n",
      "   WARNING: This is a development server. Do not use it in a production deployment.\n",
      "   Use a production WSGI server instead.\n",
      " * Debug mode: off\n"
     ]
    },
    {
     "name": "stderr",
     "output_type": "stream",
     "text": [
      " * Running on http://127.0.0.1:5000/ (Press CTRL+C to quit)\n"
     ]
    },
    {
     "name": "stdout",
     "output_type": "stream",
     "text": [
      "64262817\n"
     ]
    },
    {
     "name": "stderr",
     "output_type": "stream",
     "text": [
      "127.0.0.1 - - [14/May/2020 17:34:01] \"\u001b[37mPOST /hello?personId=64262817 HTTP/1.1\u001b[0m\" 200 -\n"
     ]
    }
   ],
   "source": [
    "app.run()"
   ]
  },
  {
   "cell_type": "code",
   "execution_count": 36,
   "metadata": {
    "ExecuteTime": {
     "end_time": "2020-05-13T09:52:43.007697Z",
     "start_time": "2020-05-13T09:52:37.942078Z"
    }
   },
   "outputs": [
    {
     "name": "stdout",
     "output_type": "stream",
     "text": [
      "2020-05-13 17:52:37\n",
      "HTTPConnectionPool(host='www.google.com.hk', port=80): Max retries exceeded with url: / (Caused by ConnectTimeoutError(<urllib3.connection.HTTPConnection object at 0x111BD1F0>, 'Connection to www.google.com.hk timed out. (connect timeout=5)'))\n",
      "2020-05-13 17:52:43\n"
     ]
    }
   ],
   "source": [
    "import time\n",
    "import requests\n",
    "\n",
    "url = 'http://www.google.com.hk'\n",
    "\n",
    "print(time.strftime('%Y-%m-%d %H:%M:%S'))\n",
    "try:\n",
    "    html = requests.get(url, timeout=5).text\n",
    "    print('success')\n",
    "except requests.exceptions.RequestException as e:\n",
    "    print(e)\n",
    "\n",
    "print(time.strftime('%Y-%m-%d %H:%M:%S'))nb"
   ]
  },
  {
   "cell_type": "code",
   "execution_count": 2,
   "metadata": {
    "ExecuteTime": {
     "end_time": "2020-08-20T09:53:20.982777Z",
     "start_time": "2020-08-20T09:53:20.965724Z"
    }
   },
   "outputs": [
    {
     "data": {
      "text/plain": [
       "[2, 3, 4, 5, 6]"
      ]
     },
     "execution_count": 2,
     "metadata": {},
     "output_type": "execute_result"
    }
   ],
   "source": [
    "ll = [1, 2, 3, 4, 5]\n",
    "[i for i in map(lambda x:x+1, ll)]"
   ]
  }
 ],
 "metadata": {
  "hide_input": false,
  "kernelspec": {
   "display_name": "cpy36_32",
   "language": "python",
   "name": "cpy36_32"
  },
  "language_info": {
   "codemirror_mode": {
    "name": "ipython",
    "version": 3
   },
   "file_extension": ".py",
   "mimetype": "text/x-python",
   "name": "python",
   "nbconvert_exporter": "python",
   "pygments_lexer": "ipython3",
   "version": "3.6.5"
  },
  "toc": {
   "base_numbering": 1,
   "nav_menu": {},
   "number_sections": true,
   "sideBar": true,
   "skip_h1_title": false,
   "title_cell": "Table of Contents",
   "title_sidebar": "Contents",
   "toc_cell": false,
   "toc_position": {},
   "toc_section_display": true,
   "toc_window_display": false
  },
  "varInspector": {
   "cols": {
    "lenName": 16,
    "lenType": 16,
    "lenVar": 40
   },
   "kernels_config": {
    "python": {
     "delete_cmd_postfix": "",
     "delete_cmd_prefix": "del ",
     "library": "var_list.py",
     "varRefreshCmd": "print(var_dic_list())"
    },
    "r": {
     "delete_cmd_postfix": ") ",
     "delete_cmd_prefix": "rm(",
     "library": "var_list.r",
     "varRefreshCmd": "cat(var_dic_list()) "
    }
   },
   "types_to_exclude": [
    "module",
    "function",
    "builtin_function_or_method",
    "instance",
    "_Feature"
   ],
   "window_display": false
  }
 },
 "nbformat": 4,
 "nbformat_minor": 2
}
