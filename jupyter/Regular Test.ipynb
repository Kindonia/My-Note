{
 "cells": [
  {
   "cell_type": "markdown",
   "metadata": {
    "heading_collapsed": true
   },
   "source": [
    "# Test"
   ]
  },
  {
   "cell_type": "code",
   "execution_count": 9,
   "metadata": {
    "ExecuteTime": {
     "end_time": "2020-06-23T08:15:43.930941Z",
     "start_time": "2020-06-23T08:15:43.215187Z"
    },
    "hidden": true
   },
   "outputs": [],
   "source": [
    "import sys,os\n",
    "import win32com.client as win32\n",
    "import time\n",
    "import datetime\n",
    "import traceback\n",
    "import math\n",
    "import pyspark\n",
    "from pyspark.storagelevel import StorageLevel\n",
    "from pyspark.sql.functions import broadcast\n",
    "from pyspark.sql import HiveContext, SQLContext, SparkSession\n",
    "from pyspark import SparkContext, SparkConf\n",
    "from pyspark.sql.types import ArrayType, FloatType, StringType, StructType, Row, StructField\n",
    "from pyspark.sql.functions import udf, array, countDistinct\n",
    "\n",
    "BASE_DIR =r'C:\\Users\\leo.zhangzs\\AppData\\Roaming\\Code\\User\\VScode\\py3\\UAT_Test'\n",
    "sys.path.append(BASE_DIR)\n",
    "\n",
    "from core import configadmin,log_ctrl,color_me\n",
    "\n",
    "config_path = os.path.join(BASE_DIR, 'conf')\n",
    "config_name = 'setting.ini'\n",
    "d_set = configadmin.ConfigAdmin(config_path, config_name)\n",
    "logging = log_ctrl.de8ug_log(logger_name='outlook', log_file=os.path.join(BASE_DIR, 'log', f'{time.strftime(\"%Y%m\",time.localtime())}-debug.log'))"
   ]
  },
  {
   "cell_type": "markdown",
   "metadata": {},
   "source": [
    "# Monitor Alert Check"
   ]
  },
  {
   "cell_type": "code",
   "execution_count": 32,
   "metadata": {
    "ExecuteTime": {
     "end_time": "2020-06-23T09:14:40.734603Z",
     "start_time": "2020-06-23T09:14:40.725548Z"
    }
   },
   "outputs": [],
   "source": [
    "import sys, os\n",
    "import datetime, time\n",
    "import traceback, logging\n",
    "import pandas as pd\n",
    "import tkinter\n",
    "import tkinter.messagebox\n",
    "import json\n",
    "\n",
    "BASE_DIR =r'C:\\Users\\leo.zhangzs\\AppData\\Roaming\\Code\\User\\VScode\\py3\\UAT_Test'\n",
    "sys.path.append(BASE_DIR)\n",
    "\n",
    "from pytz import utc\n",
    "from string import Template\n",
    "from multiprocessing import Process\n",
    "from apscheduler.schedulers.background import BackgroundScheduler\n",
    "from apscheduler.schedulers.blocking import BlockingScheduler\n",
    "from apscheduler.jobstores.memory import MemoryJobStore\n",
    "from apscheduler.events import EVENT_JOB_EXECUTED, EVENT_JOB_ERROR, EVENT_JOB_MISSED, EVENT_SCHEDULER_STARTED, EVENT_SCHEDULER_SHUTDOWN\n",
    "from apscheduler.executors.pool import ThreadPoolExecutor, ProcessPoolExecutor\n",
    "from apscheduler.triggers.cron import CronTrigger\n",
    "\n",
    "from core.configadmin import ConfigAdmin\n",
    "from core.color_me import ColorMe\n",
    "from core import log_ctrl\n",
    "from core.outlook import send_email\n",
    "from core.monitor_check import MonitorCheck\n",
    "\n",
    "from string import Template\n",
    "from core.sqlplus import SqlPlus\n",
    "\n",
    "config_path = os.path.join(BASE_DIR, 'conf')\n",
    "config_name = 'setting.ini'\n",
    "configs = ConfigAdmin(config_path, config_name)"
   ]
  },
  {
   "cell_type": "code",
   "execution_count": 15,
   "metadata": {
    "ExecuteTime": {
     "end_time": "2020-06-23T08:54:09.944984Z",
     "start_time": "2020-06-23T08:54:09.903877Z"
    }
   },
   "outputs": [
    {
     "data": {
      "text/html": [
       "<div>\n",
       "<style>\n",
       "    .dataframe thead tr:only-child th {\n",
       "        text-align: right;\n",
       "    }\n",
       "\n",
       "    .dataframe thead th {\n",
       "        text-align: left;\n",
       "    }\n",
       "\n",
       "    .dataframe tbody tr th {\n",
       "        vertical-align: top;\n",
       "    }\n",
       "</style>\n",
       "<table border=\"1\" class=\"dataframe\">\n",
       "  <thead>\n",
       "    <tr style=\"text-align: right;\">\n",
       "      <th></th>\n",
       "      <th>NAME</th>\n",
       "      <th>TRIGGER_TYPE</th>\n",
       "      <th>TRIGGER_VALUE</th>\n",
       "      <th>SLEEP_TIME</th>\n",
       "      <th>STATUS</th>\n",
       "      <th>DB</th>\n",
       "      <th>SCRIPTS</th>\n",
       "      <th>SCRIPTS_TYPE</th>\n",
       "      <th>INPUT</th>\n",
       "      <th>CONDITION</th>\n",
       "      <th>NOTIFY</th>\n",
       "      <th>SENTER</th>\n",
       "      <th>TEMPLATE</th>\n",
       "      <th>OUTPUT</th>\n",
       "      <th>PRINCIPAL</th>\n",
       "    </tr>\n",
       "  </thead>\n",
       "  <tbody>\n",
       "    <tr>\n",
       "      <th>5</th>\n",
       "      <td>Nromal Reply Check</td>\n",
       "      <td>CRON</td>\n",
       "      <td>*/10 * 8-21 * * *</td>\n",
       "      <td>28800.0</td>\n",
       "      <td>A</td>\n",
       "      <td>RTDM</td>\n",
       "      <td>Alert_RTDM_0_Normal_Decision.sql</td>\n",
       "      <td>COMPARE</td>\n",
       "      <td>{\"sec\":\"900\"}</td>\n",
       "      <td>CNT==0</td>\n",
       "      <td>Y</td>\n",
       "      <td>Leo.ZhangZS@homecredit.cn</td>\n",
       "      <td>DecisionLog0Normal.html</td>\n",
       "      <td>USE_CASE</td>\n",
       "      <td>Leo.ZhangZS</td>\n",
       "    </tr>\n",
       "    <tr>\n",
       "      <th>6</th>\n",
       "      <td>UseCase Volumn Check</td>\n",
       "      <td>CRON</td>\n",
       "      <td>* 53 */2 * * *</td>\n",
       "      <td>7200.0</td>\n",
       "      <td>A</td>\n",
       "      <td>RTDM</td>\n",
       "      <td>Alert_RTDM_0Data_2h_Decision.sql</td>\n",
       "      <td>COMPARE</td>\n",
       "      <td>{\"sec\":\"7200\"}</td>\n",
       "      <td>CNT==0</td>\n",
       "      <td>Y</td>\n",
       "      <td>CRMCampaignTeam@homecredit.cn</td>\n",
       "      <td>DecisionLog0Vol.html</td>\n",
       "      <td>RTDM_FLOW_NAME</td>\n",
       "      <td>Leo.ZhangZS</td>\n",
       "    </tr>\n",
       "  </tbody>\n",
       "</table>\n",
       "</div>"
      ],
      "text/plain": [
       "                   NAME TRIGGER_TYPE      TRIGGER_VALUE  SLEEP_TIME STATUS  \\\n",
       "5    Nromal Reply Check         CRON  */10 * 8-21 * * *     28800.0      A   \n",
       "6  UseCase Volumn Check         CRON     * 53 */2 * * *      7200.0      A   \n",
       "\n",
       "     DB                           SCRIPTS SCRIPTS_TYPE           INPUT  \\\n",
       "5  RTDM  Alert_RTDM_0_Normal_Decision.sql      COMPARE   {\"sec\":\"900\"}   \n",
       "6  RTDM  Alert_RTDM_0Data_2h_Decision.sql      COMPARE  {\"sec\":\"7200\"}   \n",
       "\n",
       "  CONDITION NOTIFY                         SENTER                 TEMPLATE  \\\n",
       "5    CNT==0      Y      Leo.ZhangZS@homecredit.cn  DecisionLog0Normal.html   \n",
       "6    CNT==0      Y  CRMCampaignTeam@homecredit.cn     DecisionLog0Vol.html   \n",
       "\n",
       "           OUTPUT    PRINCIPAL  \n",
       "5        USE_CASE  Leo.ZhangZS  \n",
       "6  RTDM_FLOW_NAME  Leo.ZhangZS  "
      ]
     },
     "execution_count": 15,
     "metadata": {},
     "output_type": "execute_result"
    }
   ],
   "source": [
    "Job_List = os.path.join(BASE_DIR, 'db', 'Sche', 'MonitorList.xlsx')\n",
    "df = pd.read_excel(Job_List, 'Sheet1', convert_float=False)\n",
    "Job_List = df[(df['STATUS']==\"A\") & (df['SCRIPTS'].isnull() == False) & df.SCRIPTS.apply(lambda x: os.path.exists(os.path.join(BASE_DIR, 'db', 'sql', str(x))) == True)]\n",
    "Job_List"
   ]
  },
  {
   "cell_type": "code",
   "execution_count": 24,
   "metadata": {
    "ExecuteTime": {
     "end_time": "2020-06-23T09:06:41.950880Z",
     "start_time": "2020-06-23T09:06:41.930830Z"
    }
   },
   "outputs": [],
   "source": [
    "f1 = Job_List[Job_List.index==6]\n",
    "js = json.loads(f1.to_json(orient='records'))[0]"
   ]
  },
  {
   "cell_type": "code",
   "execution_count": 26,
   "metadata": {
    "ExecuteTime": {
     "end_time": "2020-06-23T09:08:03.345879Z",
     "start_time": "2020-06-23T09:08:02.125411Z"
    }
   },
   "outputs": [
    {
     "name": "stderr",
     "output_type": "stream",
     "text": [
      "2020-06-23 17:08:03,338 monitor_check.py [line:150] Main_DWH ERROR Traceback (most recent call last):\n",
      "  File \"C:\\Users\\leo.zhangzs\\AppData\\Roaming\\Code\\User\\VScode\\py3\\UAT_Test\\core\\monitor_check.py\", line 87, in Check\n",
      "    for i in df.index:\n",
      "AttributeError: 'NoneType' object has no attribute 'index'\n",
      "\n"
     ]
    }
   ],
   "source": [
    "Rest = MonitorCheck(js).Check()"
   ]
  },
  {
   "cell_type": "code",
   "execution_count": 40,
   "metadata": {
    "ExecuteTime": {
     "end_time": "2020-06-23T09:22:25.453226Z",
     "start_time": "2020-06-23T09:22:25.422144Z"
    }
   },
   "outputs": [],
   "source": [
    "DB = str(js['DB'])\n",
    "db_user = configs.read_config(\"SAS_db\", f\"{DB.lower()}_user\")\n",
    "db_pswd = configs.read_config(\"SAS_db\", f\"{DB.lower()}_password\")\n",
    "db_serv = configs.read_config(\"SAS_db\", f\"{DB.lower()}_service\")\n",
    "\n",
    "if js['INPUT'] != None:\n",
    "    INPUT = json.loads(js['INPUT'])\n",
    "else:\n",
    "    INPUT = None\n",
    "with open(os.path.join(BASE_DIR, 'db', 'sql', js['SCRIPTS']), 'r', encoding='utf-8') as f:\n",
    "    if INPUT != None:\n",
    "        sql = Template(f.read()).substitute(INPUT)\n",
    "    else:\n",
    "        sql = f.read()\n",
    "    f.close()"
   ]
  },
  {
   "cell_type": "code",
   "execution_count": 41,
   "metadata": {
    "ExecuteTime": {
     "end_time": "2020-06-23T09:23:26.280743Z",
     "start_time": "2020-06-23T09:22:27.142064Z"
    }
   },
   "outputs": [
    {
     "name": "stdout",
     "output_type": "stream",
     "text": [
      "WITH USECASE AS\n",
      " (SELECT DISTINCT LO.RTDM_FLOW_NAME\n",
      "    FROM APP_RTCDM.CIE_RTDM_DECISION_LOG LO\n",
      "   WHERE TRUNC(LO.EVENT_DT) > SYSDATE - 3),\n",
      "CNT AS\n",
      " (SELECT LO.RTDM_FLOW_NAME, COUNT(*) AS CNT\n",
      "    FROM APP_RTCDM.CIE_RTDM_DECISION_LOG LO\n",
      "   WHERE LO.EVENT_DT + 7200 / (24 * 60 * 60) > SYSDATE\n",
      "   GROUP BY LO.RTDM_FLOW_NAME)\n",
      "SELECT A.RTDM_FLOW_NAME, NVL(B.CNT, 0) AS CNT\n",
      "  FROM USECASE A\n",
      "  FULL JOIN CNT B\n",
      "    ON A.RTDM_FLOW_NAME = B.RTDM_FLOW_NAME\n",
      " WHERE A.RTDM_FLOW_NAME != 'EPO Service SW_ECAD0KN5NFAUVT4B'\n",
      "   AND A.RTDM_FLOW_NAME != 'ChatBot WeChat FUP Service_GDEHMLW3QBCGXJRR'\n"
     ]
    },
    {
     "name": "stderr",
     "output_type": "stream",
     "text": [
      "2020-06-23 17:23:26,265 sqlplus.py [line:55] sqlplus INFO 执行成功\n"
     ]
    },
    {
     "data": {
      "text/plain": [
       "{'Status': True,\n",
       " 'msg':                                                                                        RTDM_FLOW_NAME  \\\n",
       " ORBP Service_ADCCB3TXSREETZDU                                           ORBP Service_ADCCB3TXSREETZDU   \n",
       " AFStuck CAPP FUP Service_HECFZOTAWBH2SPTS                   AFStuck CAPP FUP Service_HECFZOTAWBH2SPTS   \n",
       " ChatBot WeChat Service_DCCBJZV3EFE0R024                       ChatBot WeChat Service_DCCBJZV3EFE0R024   \n",
       " ContractSigned Service_DGGGJIYSDNAFSOAZ                       ContractSigned Service_DGGGJIYSDNAFSOAZ   \n",
       " ExternalTrigger Service_ADHAPYP1XFHTVAPJ                     ExternalTrigger Service_ADHAPYP1XFHTVAPJ   \n",
       " OtherOffers FUP Service_HBCBO2DBURFFQRQ0                     OtherOffers FUP Service_HBCBO2DBURFFQRQ0   \n",
       " rPOS Client Retention FUP Service_BHAB1OWLJNDZUP11  rPOS Client Retention FUP Service_BHAB1OWLJNDZ...   \n",
       " rPOS Client Retention Service_HDAEHWBTKZA0QNBI         rPOS Client Retention Service_HDAEHWBTKZA0QNBI   \n",
       " OtherOffers Service_FADCW3RNIBBDQ24N                             OtherOffers Service_FADCW3RNIBBDQ24N   \n",
       " ChatBot CAPP Service_DCFGUEU5XJCKT2F3                           ChatBot CAPP Service_DCFGUEU5XJCKT2F3   \n",
       " ORBP CAPP FUP Service_AECE3A1PGBHIVOWE                         ORBP CAPP FUP Service_AECE3A1PGBHIVOWE   \n",
       " SMS FollowUp Service_ABGAB4W5HVAQRA4N                           SMS FollowUp Service_ABGAB4W5HVAQRA4N   \n",
       " InboundCall Service_GBAGWGDBZ3HZW2VF                             InboundCall Service_GBAGWGDBZ3HZW2VF   \n",
       " HCP_CouragePromo Service_FDBENPJDNVGTTXZT                   HCP_CouragePromo Service_FDBENPJDNVGTTXZT   \n",
       " Reminder Poffer Details Service_DBDHL2W2CBHWU1Y4     Reminder Poffer Details Service_DBDHL2W2CBHWU1Y4   \n",
       " AFStuck Service_FDCG4TXI43BGRKHO                                     AFStuck Service_FDCG4TXI43BGRKHO   \n",
       " CAPP_Registration_GAAHI23H2RDBRR2G                                 CAPP_Registration_GAAHI23H2RDBRR2G   \n",
       " EPO Service_FDBELACNJJBTU3MF                                             EPO Service_FDBELACNJJBTU3MF   \n",
       " ER Retention Service_AGEE3MLQT3DNTEI2                           ER Retention Service_AGEE3MLQT3DNTEI2   \n",
       " CAPP_Intention service_AGGFU3ME0ZDLU0IB                       CAPP_Intention service_AGGFU3ME0ZDLU0IB   \n",
       " \n",
       "                                                       CNT  \n",
       " ORBP Service_ADCCB3TXSREETZDU                        5693  \n",
       " AFStuck CAPP FUP Service_HECFZOTAWBH2SPTS             438  \n",
       " ChatBot WeChat Service_DCCBJZV3EFE0R024               131  \n",
       " ContractSigned Service_DGGGJIYSDNAFSOAZ               198  \n",
       " ExternalTrigger Service_ADHAPYP1XFHTVAPJ             1943  \n",
       " OtherOffers FUP Service_HBCBO2DBURFFQRQ0              641  \n",
       " rPOS Client Retention FUP Service_BHAB1OWLJNDZUP11  13239  \n",
       " rPOS Client Retention Service_HDAEHWBTKZA0QNBI      51572  \n",
       " OtherOffers Service_FADCW3RNIBBDQ24N                 2108  \n",
       " ChatBot CAPP Service_DCFGUEU5XJCKT2F3                 241  \n",
       " ORBP CAPP FUP Service_AECE3A1PGBHIVOWE                778  \n",
       " SMS FollowUp Service_ABGAB4W5HVAQRA4N               80588  \n",
       " InboundCall Service_GBAGWGDBZ3HZW2VF                 5191  \n",
       " HCP_CouragePromo Service_FDBENPJDNVGTTXZT            2388  \n",
       " Reminder Poffer Details Service_DBDHL2W2CBHWU1Y4    16802  \n",
       " AFStuck Service_FDCG4TXI43BGRKHO                    10857  \n",
       " CAPP_Registration_GAAHI23H2RDBRR2G                   1726  \n",
       " EPO Service_FDBELACNJJBTU3MF                         5220  \n",
       " ER Retention Service_AGEE3MLQT3DNTEI2                 211  \n",
       " CAPP_Intention service_AGGFU3ME0ZDLU0IB                 0  }"
      ]
     },
     "execution_count": 41,
     "metadata": {},
     "output_type": "execute_result"
    }
   ],
   "source": [
    "print(sql)\n",
    "res = SqlPlus(db_user, db_pswd, db_serv).fetchall(sql)\n",
    "res"
   ]
  },
  {
   "cell_type": "code",
   "execution_count": 42,
   "metadata": {
    "ExecuteTime": {
     "end_time": "2020-06-23T09:32:36.834756Z",
     "start_time": "2020-06-23T09:31:42.003583Z"
    }
   },
   "outputs": [
    {
     "data": {
      "text/html": [
       "<div>\n",
       "<style>\n",
       "    .dataframe thead tr:only-child th {\n",
       "        text-align: right;\n",
       "    }\n",
       "\n",
       "    .dataframe thead th {\n",
       "        text-align: left;\n",
       "    }\n",
       "\n",
       "    .dataframe tbody tr th {\n",
       "        vertical-align: top;\n",
       "    }\n",
       "</style>\n",
       "<table border=\"1\" class=\"dataframe\">\n",
       "  <thead>\n",
       "    <tr style=\"text-align: right;\">\n",
       "      <th></th>\n",
       "      <th>RTDM_FLOW_NAME</th>\n",
       "      <th>CNT</th>\n",
       "    </tr>\n",
       "  </thead>\n",
       "  <tbody>\n",
       "    <tr>\n",
       "      <th>ORBP Service_ADCCB3TXSREETZDU</th>\n",
       "      <td>ORBP Service_ADCCB3TXSREETZDU</td>\n",
       "      <td>5551</td>\n",
       "    </tr>\n",
       "    <tr>\n",
       "      <th>ContractSigned Service_DGGGJIYSDNAFSOAZ</th>\n",
       "      <td>ContractSigned Service_DGGGJIYSDNAFSOAZ</td>\n",
       "      <td>193</td>\n",
       "    </tr>\n",
       "    <tr>\n",
       "      <th>ChatBot WeChat Service_DCCBJZV3EFE0R024</th>\n",
       "      <td>ChatBot WeChat Service_DCCBJZV3EFE0R024</td>\n",
       "      <td>135</td>\n",
       "    </tr>\n",
       "    <tr>\n",
       "      <th>AFStuck CAPP FUP Service_HECFZOTAWBH2SPTS</th>\n",
       "      <td>AFStuck CAPP FUP Service_HECFZOTAWBH2SPTS</td>\n",
       "      <td>424</td>\n",
       "    </tr>\n",
       "    <tr>\n",
       "      <th>ExternalTrigger Service_ADHAPYP1XFHTVAPJ</th>\n",
       "      <td>ExternalTrigger Service_ADHAPYP1XFHTVAPJ</td>\n",
       "      <td>1999</td>\n",
       "    </tr>\n",
       "    <tr>\n",
       "      <th>rPOS Client Retention FUP Service_BHAB1OWLJNDZUP11</th>\n",
       "      <td>rPOS Client Retention FUP Service_BHAB1OWLJNDZ...</td>\n",
       "      <td>13304</td>\n",
       "    </tr>\n",
       "    <tr>\n",
       "      <th>OtherOffers FUP Service_HBCBO2DBURFFQRQ0</th>\n",
       "      <td>OtherOffers FUP Service_HBCBO2DBURFFQRQ0</td>\n",
       "      <td>638</td>\n",
       "    </tr>\n",
       "    <tr>\n",
       "      <th>rPOS Client Retention Service_HDAEHWBTKZA0QNBI</th>\n",
       "      <td>rPOS Client Retention Service_HDAEHWBTKZA0QNBI</td>\n",
       "      <td>51376</td>\n",
       "    </tr>\n",
       "    <tr>\n",
       "      <th>OtherOffers Service_FADCW3RNIBBDQ24N</th>\n",
       "      <td>OtherOffers Service_FADCW3RNIBBDQ24N</td>\n",
       "      <td>2071</td>\n",
       "    </tr>\n",
       "    <tr>\n",
       "      <th>ChatBot CAPP Service_DCFGUEU5XJCKT2F3</th>\n",
       "      <td>ChatBot CAPP Service_DCFGUEU5XJCKT2F3</td>\n",
       "      <td>248</td>\n",
       "    </tr>\n",
       "    <tr>\n",
       "      <th>ORBP CAPP FUP Service_AECE3A1PGBHIVOWE</th>\n",
       "      <td>ORBP CAPP FUP Service_AECE3A1PGBHIVOWE</td>\n",
       "      <td>745</td>\n",
       "    </tr>\n",
       "    <tr>\n",
       "      <th>SMS FollowUp Service_ABGAB4W5HVAQRA4N</th>\n",
       "      <td>SMS FollowUp Service_ABGAB4W5HVAQRA4N</td>\n",
       "      <td>78213</td>\n",
       "    </tr>\n",
       "    <tr>\n",
       "      <th>InboundCall Service_GBAGWGDBZ3HZW2VF</th>\n",
       "      <td>InboundCall Service_GBAGWGDBZ3HZW2VF</td>\n",
       "      <td>5134</td>\n",
       "    </tr>\n",
       "    <tr>\n",
       "      <th>HCP_CouragePromo Service_FDBENPJDNVGTTXZT</th>\n",
       "      <td>HCP_CouragePromo Service_FDBENPJDNVGTTXZT</td>\n",
       "      <td>2387</td>\n",
       "    </tr>\n",
       "    <tr>\n",
       "      <th>Reminder Poffer Details Service_DBDHL2W2CBHWU1Y4</th>\n",
       "      <td>Reminder Poffer Details Service_DBDHL2W2CBHWU1Y4</td>\n",
       "      <td>17372</td>\n",
       "    </tr>\n",
       "    <tr>\n",
       "      <th>AFStuck Service_FDCG4TXI43BGRKHO</th>\n",
       "      <td>AFStuck Service_FDCG4TXI43BGRKHO</td>\n",
       "      <td>10620</td>\n",
       "    </tr>\n",
       "    <tr>\n",
       "      <th>CAPP_Registration_GAAHI23H2RDBRR2G</th>\n",
       "      <td>CAPP_Registration_GAAHI23H2RDBRR2G</td>\n",
       "      <td>1718</td>\n",
       "    </tr>\n",
       "    <tr>\n",
       "      <th>EPO Service_FDBELACNJJBTU3MF</th>\n",
       "      <td>EPO Service_FDBELACNJJBTU3MF</td>\n",
       "      <td>5464</td>\n",
       "    </tr>\n",
       "    <tr>\n",
       "      <th>ER Retention Service_AGEE3MLQT3DNTEI2</th>\n",
       "      <td>ER Retention Service_AGEE3MLQT3DNTEI2</td>\n",
       "      <td>213</td>\n",
       "    </tr>\n",
       "    <tr>\n",
       "      <th>CAPP_Intention service_AGGFU3ME0ZDLU0IB</th>\n",
       "      <td>CAPP_Intention service_AGGFU3ME0ZDLU0IB</td>\n",
       "      <td>0</td>\n",
       "    </tr>\n",
       "  </tbody>\n",
       "</table>\n",
       "</div>"
      ],
      "text/plain": [
       "                                                                                       RTDM_FLOW_NAME  \\\n",
       "ORBP Service_ADCCB3TXSREETZDU                                           ORBP Service_ADCCB3TXSREETZDU   \n",
       "ContractSigned Service_DGGGJIYSDNAFSOAZ                       ContractSigned Service_DGGGJIYSDNAFSOAZ   \n",
       "ChatBot WeChat Service_DCCBJZV3EFE0R024                       ChatBot WeChat Service_DCCBJZV3EFE0R024   \n",
       "AFStuck CAPP FUP Service_HECFZOTAWBH2SPTS                   AFStuck CAPP FUP Service_HECFZOTAWBH2SPTS   \n",
       "ExternalTrigger Service_ADHAPYP1XFHTVAPJ                     ExternalTrigger Service_ADHAPYP1XFHTVAPJ   \n",
       "rPOS Client Retention FUP Service_BHAB1OWLJNDZUP11  rPOS Client Retention FUP Service_BHAB1OWLJNDZ...   \n",
       "OtherOffers FUP Service_HBCBO2DBURFFQRQ0                     OtherOffers FUP Service_HBCBO2DBURFFQRQ0   \n",
       "rPOS Client Retention Service_HDAEHWBTKZA0QNBI         rPOS Client Retention Service_HDAEHWBTKZA0QNBI   \n",
       "OtherOffers Service_FADCW3RNIBBDQ24N                             OtherOffers Service_FADCW3RNIBBDQ24N   \n",
       "ChatBot CAPP Service_DCFGUEU5XJCKT2F3                           ChatBot CAPP Service_DCFGUEU5XJCKT2F3   \n",
       "ORBP CAPP FUP Service_AECE3A1PGBHIVOWE                         ORBP CAPP FUP Service_AECE3A1PGBHIVOWE   \n",
       "SMS FollowUp Service_ABGAB4W5HVAQRA4N                           SMS FollowUp Service_ABGAB4W5HVAQRA4N   \n",
       "InboundCall Service_GBAGWGDBZ3HZW2VF                             InboundCall Service_GBAGWGDBZ3HZW2VF   \n",
       "HCP_CouragePromo Service_FDBENPJDNVGTTXZT                   HCP_CouragePromo Service_FDBENPJDNVGTTXZT   \n",
       "Reminder Poffer Details Service_DBDHL2W2CBHWU1Y4     Reminder Poffer Details Service_DBDHL2W2CBHWU1Y4   \n",
       "AFStuck Service_FDCG4TXI43BGRKHO                                     AFStuck Service_FDCG4TXI43BGRKHO   \n",
       "CAPP_Registration_GAAHI23H2RDBRR2G                                 CAPP_Registration_GAAHI23H2RDBRR2G   \n",
       "EPO Service_FDBELACNJJBTU3MF                                             EPO Service_FDBELACNJJBTU3MF   \n",
       "ER Retention Service_AGEE3MLQT3DNTEI2                           ER Retention Service_AGEE3MLQT3DNTEI2   \n",
       "CAPP_Intention service_AGGFU3ME0ZDLU0IB                       CAPP_Intention service_AGGFU3ME0ZDLU0IB   \n",
       "\n",
       "                                                      CNT  \n",
       "ORBP Service_ADCCB3TXSREETZDU                        5551  \n",
       "ContractSigned Service_DGGGJIYSDNAFSOAZ               193  \n",
       "ChatBot WeChat Service_DCCBJZV3EFE0R024               135  \n",
       "AFStuck CAPP FUP Service_HECFZOTAWBH2SPTS             424  \n",
       "ExternalTrigger Service_ADHAPYP1XFHTVAPJ             1999  \n",
       "rPOS Client Retention FUP Service_BHAB1OWLJNDZUP11  13304  \n",
       "OtherOffers FUP Service_HBCBO2DBURFFQRQ0              638  \n",
       "rPOS Client Retention Service_HDAEHWBTKZA0QNBI      51376  \n",
       "OtherOffers Service_FADCW3RNIBBDQ24N                 2071  \n",
       "ChatBot CAPP Service_DCFGUEU5XJCKT2F3                 248  \n",
       "ORBP CAPP FUP Service_AECE3A1PGBHIVOWE                745  \n",
       "SMS FollowUp Service_ABGAB4W5HVAQRA4N               78213  \n",
       "InboundCall Service_GBAGWGDBZ3HZW2VF                 5134  \n",
       "HCP_CouragePromo Service_FDBENPJDNVGTTXZT            2387  \n",
       "Reminder Poffer Details Service_DBDHL2W2CBHWU1Y4    17372  \n",
       "AFStuck Service_FDCG4TXI43BGRKHO                    10620  \n",
       "CAPP_Registration_GAAHI23H2RDBRR2G                   1718  \n",
       "EPO Service_FDBELACNJJBTU3MF                         5464  \n",
       "ER Retention Service_AGEE3MLQT3DNTEI2                 213  \n",
       "CAPP_Intention service_AGGFU3ME0ZDLU0IB                 0  "
      ]
     },
     "execution_count": 42,
     "metadata": {},
     "output_type": "execute_result"
    }
   ],
   "source": [
    "import cx_Oracle\n",
    "db = cx_Oracle.connect(db_user, db_pswd, db_serv)\n",
    "con = db.cursor()\n",
    "row = con.execute(sql).fetchall()\n",
    "cols = [i[0] for i in con.description]\n",
    "df = pd.DataFrame(data=row, index=[i[0] for i in row], columns=cols)\n",
    "df"
   ]
  }
 ],
 "metadata": {
  "hide_input": false,
  "kernelspec": {
   "display_name": "cpy36_32",
   "language": "python",
   "name": "cpy36_32"
  },
  "language_info": {
   "codemirror_mode": {
    "name": "ipython",
    "version": 3
   },
   "file_extension": ".py",
   "mimetype": "text/x-python",
   "name": "python",
   "nbconvert_exporter": "python",
   "pygments_lexer": "ipython3",
   "version": "3.6.5"
  },
  "toc": {
   "base_numbering": 1,
   "nav_menu": {},
   "number_sections": true,
   "sideBar": true,
   "skip_h1_title": false,
   "title_cell": "Table of Contents",
   "title_sidebar": "Contents",
   "toc_cell": false,
   "toc_position": {},
   "toc_section_display": true,
   "toc_window_display": false
  },
  "varInspector": {
   "cols": {
    "lenName": 16,
    "lenType": 16,
    "lenVar": 40
   },
   "kernels_config": {
    "python": {
     "delete_cmd_postfix": "",
     "delete_cmd_prefix": "del ",
     "library": "var_list.py",
     "varRefreshCmd": "print(var_dic_list())"
    },
    "r": {
     "delete_cmd_postfix": ") ",
     "delete_cmd_prefix": "rm(",
     "library": "var_list.r",
     "varRefreshCmd": "cat(var_dic_list()) "
    }
   },
   "types_to_exclude": [
    "module",
    "function",
    "builtin_function_or_method",
    "instance",
    "_Feature"
   ],
   "window_display": false
  }
 },
 "nbformat": 4,
 "nbformat_minor": 2
}
