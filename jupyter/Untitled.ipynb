{
 "cells": [
  {
   "cell_type": "markdown",
   "metadata": {},
   "source": [
    "# Tools\n",
    "#### TODO LIST\n",
    "1. Asset statistics Table   \n",
    "##### AcountDict\n",
    "\n",
    "ID | AcountID | AcountCatalog | AcountName | AcountAmount | TargetAmount |ProjectNo1 | ProjectName\n",
    "---|---|---|---|---|---|---|---\n",
    "1|001|Finance|ABC-0815|1000|10000|01ade|Pro1\n",
    "\n",
    "\n",
    "##### AcountTB\n",
    "DateTime | AcountID | AcountName | AcountAmount | \n",
    "---|---|---|---"
   ]
  },
  {
   "cell_type": "markdown",
   "metadata": {},
   "source": [
    "## Import"
   ]
  },
  {
   "cell_type": "code",
   "execution_count": 1,
   "metadata": {
    "ExecuteTime": {
     "end_time": "2020-06-08T09:03:50.964094Z",
     "start_time": "2020-06-08T09:03:49.302140Z"
    }
   },
   "outputs": [],
   "source": [
    "import pandas as pd\n",
    "import numpy as np\n",
    "import matplotlib.pyplot as plt\n",
    "import baostock as bs\n",
    "import math\n",
    "import pickle\n",
    "\n",
    "from pylab import mpl\n",
    "mpl.rcParams['font.sans-serif']=['SimHei']\n",
    "mpl.rcParams['axes.unicode_minus']=False"
   ]
  },
  {
   "cell_type": "code",
   "execution_count": 17,
   "metadata": {
    "ExecuteTime": {
     "end_time": "2019-12-31T09:59:44.839401Z",
     "start_time": "2019-12-31T09:59:43.358393Z"
    }
   },
   "outputs": [
    {
     "name": "stdout",
     "output_type": "stream",
     "text": [
      "login success!\n",
      "login respond error_code:0\n",
      "login respond  error_msg:success\n",
      "query_history_k_data_plus respond error_code:0\n",
      "query_history_k_data_plus respond  error_msg:success\n"
     ]
    },
    {
     "data": {
      "text/html": [
       "<div>\n",
       "<style scoped>\n",
       "    .dataframe tbody tr th:only-of-type {\n",
       "        vertical-align: middle;\n",
       "    }\n",
       "\n",
       "    .dataframe tbody tr th {\n",
       "        vertical-align: top;\n",
       "    }\n",
       "\n",
       "    .dataframe thead th {\n",
       "        text-align: right;\n",
       "    }\n",
       "</style>\n",
       "<table border=\"1\" class=\"dataframe\">\n",
       "  <thead>\n",
       "    <tr style=\"text-align: right;\">\n",
       "      <th></th>\n",
       "      <th>date</th>\n",
       "      <th>code</th>\n",
       "      <th>open</th>\n",
       "      <th>high</th>\n",
       "      <th>low</th>\n",
       "      <th>close</th>\n",
       "      <th>preclose</th>\n",
       "      <th>volume</th>\n",
       "      <th>amount</th>\n",
       "      <th>adjustflag</th>\n",
       "      <th>turn</th>\n",
       "      <th>tradestatus</th>\n",
       "      <th>pctChg</th>\n",
       "      <th>peTTM</th>\n",
       "      <th>pbMRQ</th>\n",
       "      <th>psTTM</th>\n",
       "      <th>pcfNcfTTM</th>\n",
       "      <th>isST</th>\n",
       "    </tr>\n",
       "  </thead>\n",
       "  <tbody>\n",
       "    <tr>\n",
       "      <th>140</th>\n",
       "      <td>2019-12-25</td>\n",
       "      <td>sh.600000</td>\n",
       "      <td>12.2900</td>\n",
       "      <td>12.2900</td>\n",
       "      <td>12.2000</td>\n",
       "      <td>12.2400</td>\n",
       "      <td>12.2800</td>\n",
       "      <td>13678175</td>\n",
       "      <td>167407896.0000</td>\n",
       "      <td>3</td>\n",
       "      <td>0.048700</td>\n",
       "      <td>1</td>\n",
       "      <td>-0.325700</td>\n",
       "      <td>5.884165</td>\n",
       "      <td>0.748224</td>\n",
       "      <td>1.880224</td>\n",
       "      <td>-5.959912</td>\n",
       "      <td>0</td>\n",
       "    </tr>\n",
       "    <tr>\n",
       "      <th>141</th>\n",
       "      <td>2019-12-26</td>\n",
       "      <td>sh.600000</td>\n",
       "      <td>12.2600</td>\n",
       "      <td>12.3200</td>\n",
       "      <td>12.2300</td>\n",
       "      <td>12.2900</td>\n",
       "      <td>12.2400</td>\n",
       "      <td>15739054</td>\n",
       "      <td>193083033.0000</td>\n",
       "      <td>3</td>\n",
       "      <td>0.056000</td>\n",
       "      <td>1</td>\n",
       "      <td>0.408500</td>\n",
       "      <td>5.908202</td>\n",
       "      <td>0.751280</td>\n",
       "      <td>1.887905</td>\n",
       "      <td>-5.984258</td>\n",
       "      <td>0</td>\n",
       "    </tr>\n",
       "    <tr>\n",
       "      <th>142</th>\n",
       "      <td>2019-12-27</td>\n",
       "      <td>sh.600000</td>\n",
       "      <td>12.2500</td>\n",
       "      <td>12.4300</td>\n",
       "      <td>12.2500</td>\n",
       "      <td>12.3200</td>\n",
       "      <td>12.2900</td>\n",
       "      <td>27932109</td>\n",
       "      <td>344832499.0000</td>\n",
       "      <td>3</td>\n",
       "      <td>0.099400</td>\n",
       "      <td>1</td>\n",
       "      <td>0.244100</td>\n",
       "      <td>5.922624</td>\n",
       "      <td>0.753114</td>\n",
       "      <td>1.892513</td>\n",
       "      <td>-5.998866</td>\n",
       "      <td>0</td>\n",
       "    </tr>\n",
       "    <tr>\n",
       "      <th>143</th>\n",
       "      <td>2019-12-30</td>\n",
       "      <td>sh.600000</td>\n",
       "      <td>12.2700</td>\n",
       "      <td>12.3600</td>\n",
       "      <td>12.1200</td>\n",
       "      <td>12.3400</td>\n",
       "      <td>12.3200</td>\n",
       "      <td>41051555</td>\n",
       "      <td>503090483.0000</td>\n",
       "      <td>3</td>\n",
       "      <td>0.146100</td>\n",
       "      <td>1</td>\n",
       "      <td>0.162300</td>\n",
       "      <td>5.932238</td>\n",
       "      <td>0.754337</td>\n",
       "      <td>1.895585</td>\n",
       "      <td>-6.008604</td>\n",
       "      <td>0</td>\n",
       "    </tr>\n",
       "    <tr>\n",
       "      <th>144</th>\n",
       "      <td>2019-12-31</td>\n",
       "      <td>sh.600000</td>\n",
       "      <td>12.3200</td>\n",
       "      <td>12.3800</td>\n",
       "      <td>12.2100</td>\n",
       "      <td>12.3700</td>\n",
       "      <td>12.3400</td>\n",
       "      <td>31953628</td>\n",
       "      <td>392736236.0000</td>\n",
       "      <td>3</td>\n",
       "      <td>0.113700</td>\n",
       "      <td>1</td>\n",
       "      <td>0.243100</td>\n",
       "      <td>5.946660</td>\n",
       "      <td>0.756171</td>\n",
       "      <td>1.900194</td>\n",
       "      <td>-6.023212</td>\n",
       "      <td>0</td>\n",
       "    </tr>\n",
       "  </tbody>\n",
       "</table>\n",
       "</div>"
      ],
      "text/plain": [
       "           date       code     open     high      low    close preclose  \\\n",
       "140  2019-12-25  sh.600000  12.2900  12.2900  12.2000  12.2400  12.2800   \n",
       "141  2019-12-26  sh.600000  12.2600  12.3200  12.2300  12.2900  12.2400   \n",
       "142  2019-12-27  sh.600000  12.2500  12.4300  12.2500  12.3200  12.2900   \n",
       "143  2019-12-30  sh.600000  12.2700  12.3600  12.1200  12.3400  12.3200   \n",
       "144  2019-12-31  sh.600000  12.3200  12.3800  12.2100  12.3700  12.3400   \n",
       "\n",
       "       volume          amount adjustflag      turn tradestatus     pctChg  \\\n",
       "140  13678175  167407896.0000          3  0.048700           1  -0.325700   \n",
       "141  15739054  193083033.0000          3  0.056000           1   0.408500   \n",
       "142  27932109  344832499.0000          3  0.099400           1   0.244100   \n",
       "143  41051555  503090483.0000          3  0.146100           1   0.162300   \n",
       "144  31953628  392736236.0000          3  0.113700           1   0.243100   \n",
       "\n",
       "        peTTM     pbMRQ     psTTM  pcfNcfTTM isST  \n",
       "140  5.884165  0.748224  1.880224  -5.959912    0  \n",
       "141  5.908202  0.751280  1.887905  -5.984258    0  \n",
       "142  5.922624  0.753114  1.892513  -5.998866    0  \n",
       "143  5.932238  0.754337  1.895585  -6.008604    0  \n",
       "144  5.946660  0.756171  1.900194  -6.023212    0  "
      ]
     },
     "execution_count": 17,
     "metadata": {},
     "output_type": "execute_result"
    }
   ],
   "source": [
    "lg = bs.login()\n",
    "# 显示登陆返回信息\n",
    "print('login respond error_code:'+ lg.error_code)\n",
    "print('login respond  error_msg:'+ lg.error_msg)\n",
    "\n",
    "#### 获取历史K线数据 ####\n",
    "# 详细指标参数，参见“历史行情指标参数”章节\n",
    "rs = bs.query_history_k_data_plus(\"sh.600000\",\n",
    "    \"date,code,open,high,low,close,preclose,volume,amount,adjustflag,turn,tradestatus,pctChg,peTTM,pbMRQ,psTTM,pcfNcfTTM,isST\",\n",
    "    start_date='2019-06-01', end_date='2019-12-31', \n",
    "    frequency=\"d\", adjustflag=\"3\") #frequency=\"d\"取日k线，adjustflag=\"3\"默认不复权\n",
    "print('query_history_k_data_plus respond error_code:'+rs.error_code)\n",
    "print('query_history_k_data_plus respond  error_msg:'+rs.error_msg)\n",
    "\n",
    "#### 打印结果集 ####\n",
    "data_list = []\n",
    "while (rs.error_code == '0') & rs.next():\n",
    "    # 获取一条记录，将记录合并在一起\n",
    "    data_list.append(rs.get_row_data())\n",
    "result = pd.DataFrame(data_list, columns=rs.fields)\n",
    "#### 结果集输出到csv文件 ####\n",
    "# result.to_csv(\"D:/history_k_data.csv\", encoding=\"gbk\", index=False)\n",
    "# print(result)\n",
    "result.tail()"
   ]
  },
  {
   "cell_type": "code",
   "execution_count": null,
   "metadata": {},
   "outputs": [],
   "source": [
    "#### 登出系统 ####\n",
    "bs.logout()"
   ]
  },
  {
   "cell_type": "markdown",
   "metadata": {},
   "source": [
    "## Function"
   ]
  },
  {
   "cell_type": "code",
   "execution_count": 31,
   "metadata": {
    "ExecuteTime": {
     "end_time": "2019-12-06T08:06:10.111296Z",
     "start_time": "2019-12-06T08:06:10.106283Z"
    }
   },
   "outputs": [],
   "source": [
    "# 函数\n",
    "def xnpv(rate, cashflows):\n",
    "    return sum([cf/(1+rate)**((t-cashflows[0][0]).days/365.0) for (t,cf) in cashflows])\n",
    "\n",
    "\n",
    "def xirr(cashflows, guess=0.1):\n",
    "    try:\n",
    "        res = optimize.newton(lambda r: xnpv(r,cashflows),guess)\n",
    "        return print('Yield: {:.2%}'.format(res))\n",
    "    except:\n",
    "        print('Calc Wrong')"
   ]
  },
  {
   "cell_type": "code",
   "execution_count": 37,
   "metadata": {
    "ExecuteTime": {
     "end_time": "2019-12-06T08:10:40.594411Z",
     "start_time": "2019-12-06T08:10:40.588426Z"
    }
   },
   "outputs": [],
   "source": [
    "# 函数\n",
    "def xirr2(cashflows):\n",
    "    \"\"\"\n",
    "    计算现金流计划的内部收益率\n",
    "    \"\"\"\n",
    "    years = [(ta[0] - cashflows[0][0]).days / 365. for ta in cashflows]\n",
    "    residual = 1.0\n",
    "    step = 0.05\n",
    "    guess = 0.05\n",
    "    epsilon = 0.0001\n",
    "    limit = 10000\n",
    "    while abs(residual) > epsilon and limit > 0:\n",
    "        limit -= 1\n",
    "        residual = 0.0\n",
    "        for i, trans in enumerate(cashflows):\n",
    "            residual += trans[1] / pow(guess, years[i])\n",
    "        if abs(residual) > epsilon:\n",
    "            if residual > 0:\n",
    "                guess += step\n",
    "            else:\n",
    "                guess -= step\n",
    "                step /= 2.0\n",
    "    return print(\"Yield:{:.2%}\".format(guess - 1))"
   ]
  },
  {
   "cell_type": "code",
   "execution_count": 34,
   "metadata": {
    "ExecuteTime": {
     "end_time": "2019-12-06T08:09:41.769500Z",
     "start_time": "2019-12-06T08:09:41.763484Z"
    }
   },
   "outputs": [],
   "source": [
    "data = ['2017/1/20','2017/2/17','2017/3/20','2017/4/18','2017/5/15','2017/6/19','2017/7/18','2017/8/21','2017/9/18','2017/10/16','2017/11/20','2017/12/19','2017/12/19']\n",
    "DATE = [datetime.datetime.strptime(i, '%Y/%m/%d') for i in data]\n",
    "amount = [-749.7,-569,-582,-553.5,-681.6,-523.8,-789.5,-521.1,-580.2,-591.2,-676.1,-657.9,7931.5]\n",
    "test =  [i for i in zip(DATE, amount)]"
   ]
  },
  {
   "cell_type": "code",
   "execution_count": 38,
   "metadata": {
    "ExecuteTime": {
     "end_time": "2019-12-06T08:10:42.964286Z",
     "start_time": "2019-12-06T08:10:42.960254Z"
    }
   },
   "outputs": [
    {
     "name": "stdout",
     "output_type": "stream",
     "text": [
      "Yield:13.53%\n"
     ]
    }
   ],
   "source": [
    "xirr2(test)"
   ]
  },
  {
   "cell_type": "code",
   "execution_count": 11,
   "metadata": {
    "ExecuteTime": {
     "end_time": "2020-03-24T06:27:57.199317Z",
     "start_time": "2020-03-24T06:27:57.195307Z"
    }
   },
   "outputs": [
    {
     "name": "stdout",
     "output_type": "stream",
     "text": [
      "10\n"
     ]
    }
   ],
   "source": [
    "import datetime\n",
    "\n",
    "if 8 < int(datetime.datetime.strftime(datetime.datetime.now(), '%H')) < 21:\n",
    "    sec = 10\n",
    "else:\n",
    "    sec = 120\n",
    "print(sec)"
   ]
  },
  {
   "cell_type": "code",
   "execution_count": 20,
   "metadata": {
    "ExecuteTime": {
     "end_time": "2020-03-24T06:36:52.449854Z",
     "start_time": "2020-03-24T06:36:52.444846Z"
    }
   },
   "outputs": [
    {
     "name": "stdout",
     "output_type": "stream",
     "text": [
      "select COUNT(*) from app_rtcdm.cie_rtdm_decision_log lo where lo.event_dt + 10/(24*60*60) > sysdate\n"
     ]
    }
   ],
   "source": [
    "from string import Template\n",
    "\n",
    "file = r'C:\\Users\\leo.zhangzs\\AppData\\Roaming\\Code\\User\\VScode\\py3\\UAT_Test\\db\\sql\\rtdm_decision_log_monitor_test.sql'\n",
    "\n",
    "with open(file, 'r', encoding='utf8') as f:\n",
    "    sql = Template(f.read()).substitute(sec=sec)\n",
    "print(sql)"
   ]
  },
  {
   "cell_type": "code",
   "execution_count": 1,
   "metadata": {
    "ExecuteTime": {
     "end_time": "2020-04-20T02:21:26.098186Z",
     "start_time": "2020-04-20T02:21:26.077156Z"
    }
   },
   "outputs": [
    {
     "data": {
      "text/plain": [
       "['C:\\\\Users\\\\leo.zhangzs\\\\AppData\\\\Roaming\\\\Code\\\\User\\\\VScode\\\\py3\\\\UAT_Test\\\\core\\\\Setting.txt']"
      ]
     },
     "execution_count": 1,
     "metadata": {},
     "output_type": "execute_result"
    }
   ],
   "source": [
    "import configparser\n",
    "\n",
    "config = configparser.ConfigParser()\n",
    "config.read(r'C:\\Users\\leo.zhangzs\\AppData\\Roaming\\Code\\User\\VScode\\py3\\UAT_Test\\core\\Setting.txt', encoding='utf-8')"
   ]
  },
  {
   "cell_type": "code",
   "execution_count": 2,
   "metadata": {
    "ExecuteTime": {
     "end_time": "2020-04-20T02:21:58.078624Z",
     "start_time": "2020-04-20T02:21:58.075647Z"
    }
   },
   "outputs": [],
   "source": [
    "role = config.get('Configs','ROLE_LIST')"
   ]
  },
  {
   "cell_type": "code",
   "execution_count": 5,
   "metadata": {
    "ExecuteTime": {
     "end_time": "2020-04-20T02:32:14.436465Z",
     "start_time": "2020-04-20T02:32:14.433453Z"
    }
   },
   "outputs": [],
   "source": [
    "role_list = role.split(',')"
   ]
  },
  {
   "cell_type": "code",
   "execution_count": 7,
   "metadata": {
    "ExecuteTime": {
     "end_time": "2020-04-20T02:32:55.716642Z",
     "start_time": "2020-04-20T02:32:55.712126Z"
    }
   },
   "outputs": [
    {
     "data": {
      "text/plain": [
       "\"EMPLOYEE','TIPPER','SA','RA','DSM','DSMT','SDSM','EMP','CH\""
      ]
     },
     "execution_count": 7,
     "metadata": {},
     "output_type": "execute_result"
    }
   ],
   "source": [
    "(\"','\").join(role_list)"
   ]
  },
  {
   "cell_type": "code",
   "execution_count": 2,
   "metadata": {
    "ExecuteTime": {
     "end_time": "2020-06-08T09:04:12.449346Z",
     "start_time": "2020-06-08T09:04:12.441324Z"
    }
   },
   "outputs": [],
   "source": [
    "res = pd.DataFrame()"
   ]
  },
  {
   "cell_type": "code",
   "execution_count": 1,
   "metadata": {
    "ExecuteTime": {
     "end_time": "2020-07-22T02:09:36.345415Z",
     "start_time": "2020-07-22T02:09:36.325556Z"
    }
   },
   "outputs": [],
   "source": [
    "import os\n",
    "\n",
    "f1 = r'C:\\Users\\leo.zhangzs\\Documents\\HCC\\CAPP Monitor Report\\Use Case\\01 AF STUCK\\af stuck from pre_core.sql'"
   ]
  },
  {
   "cell_type": "code",
   "execution_count": 4,
   "metadata": {
    "ExecuteTime": {
     "end_time": "2020-07-22T02:10:46.758242Z",
     "start_time": "2020-07-22T02:10:46.742373Z"
    }
   },
   "outputs": [
    {
     "data": {
      "text/plain": [
       "'.sql'"
      ]
     },
     "execution_count": 4,
     "metadata": {},
     "output_type": "execute_result"
    }
   ],
   "source": [
    "os.path.splitext(f1)[1]"
   ]
  }
 ],
 "metadata": {
  "hide_input": false,
  "kernelspec": {
   "display_name": "py36_32",
   "language": "python",
   "name": "py36_32"
  },
  "language_info": {
   "codemirror_mode": {
    "name": "ipython",
    "version": 3
   },
   "file_extension": ".py",
   "mimetype": "text/x-python",
   "name": "python",
   "nbconvert_exporter": "python",
   "pygments_lexer": "ipython3",
   "version": "3.6.5"
  },
  "toc": {
   "base_numbering": 1,
   "nav_menu": {},
   "number_sections": true,
   "sideBar": true,
   "skip_h1_title": false,
   "title_cell": "Table of Contents",
   "title_sidebar": "Contents",
   "toc_cell": false,
   "toc_position": {},
   "toc_section_display": true,
   "toc_window_display": false
  },
  "varInspector": {
   "cols": {
    "lenName": 16,
    "lenType": 16,
    "lenVar": 40
   },
   "kernels_config": {
    "python": {
     "delete_cmd_postfix": "",
     "delete_cmd_prefix": "del ",
     "library": "var_list.py",
     "varRefreshCmd": "print(var_dic_list())"
    },
    "r": {
     "delete_cmd_postfix": ") ",
     "delete_cmd_prefix": "rm(",
     "library": "var_list.r",
     "varRefreshCmd": "cat(var_dic_list()) "
    }
   },
   "types_to_exclude": [
    "module",
    "function",
    "builtin_function_or_method",
    "instance",
    "_Feature"
   ],
   "window_display": false
  }
 },
 "nbformat": 4,
 "nbformat_minor": 2
}
