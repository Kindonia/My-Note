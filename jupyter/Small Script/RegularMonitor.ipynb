{
 "cells": [
  {
   "cell_type": "markdown",
   "metadata": {},
   "source": [
    "# Dependance"
   ]
  },
  {
   "cell_type": "code",
   "execution_count": 1,
   "metadata": {
    "ExecuteTime": {
     "end_time": "2020-05-06T02:12:40.810930Z",
     "start_time": "2020-05-06T02:12:40.129200Z"
    }
   },
   "outputs": [],
   "source": [
    "import sys,os\n",
    "import datetime, time\n",
    "import cx_Oracle\n",
    "import pandas as pd\n",
    "import numpy as np\n",
    "import traceback\n",
    "import logging\n",
    "\n",
    "BASE_DIR = r\"C:\\Users\\leo.zhangzs\\AppData\\Roaming\\Code\\User\\VScode\\py3\\UAT_Test\"\n",
    "sys.path.append(BASE_DIR)\n",
    "\n",
    "from string import Template\n",
    "\n",
    "from core import sdm_check\n",
    "from core.configadmin import ConfigAdmin\n",
    "from core.color_me import ColorMe\n",
    "from core.outlook import send_email\n",
    "from core import log_ctrl"
   ]
  },
  {
   "cell_type": "code",
   "execution_count": 2,
   "metadata": {
    "ExecuteTime": {
     "end_time": "2020-05-06T02:12:42.526904Z",
     "start_time": "2020-05-06T02:12:42.509858Z"
    }
   },
   "outputs": [],
   "source": [
    "# TODO:Config\n",
    "config_path = os.path.join(BASE_DIR, 'conf')\n",
    "config_name = 'setting.ini'\n",
    "conf = ConfigAdmin(config_path, config_name)\n",
    "# Template\n",
    "D3_excel = os.path.join(conf.read_config('Cofig_Path','D3_Report'),f'XRM Campaign Report {time.strftime(\"%Y%m%d\",time.localtime())}.xlsx')\n",
    "D3_html_R = os.path.join(conf.read_config('Cofig_Path','D3_Report'),f'XRM Regular Campaign Report {time.strftime(\"%Y%m%d\",time.localtime())}.html')\n",
    "D3_html_O = os.path.join(conf.read_config('Cofig_Path','D3_Report'),f'XRM One Time Campaign Report {time.strftime(\"%Y%m%d\",time.localtime())}.html')\n",
    "MyTemp = os.path.join (config_path, 'CSS', conf.read_config('CSS_Style', 'XRMCampaignTemplate'))\n",
    "MyCss_Style = os.path.join (config_path, 'CSS', conf.read_config('CSS_Style', 'table_style'))\n",
    "# Log Info\n",
    "log_info = log_ctrl.de8ug_log(logger_name='regular_check', log_file=os.path.join(BASE_DIR, 'log', f'{time.strftime(\"%Y%m\",time.localtime())}-monitor.log'), level=logging.INFO)\n",
    "# SQL Script\n",
    "CampaignListWaitToCheck = os.path.join(BASE_DIR, 'db','sql','CampaignListWaitToCheck.sql')\n",
    "CampaignAnaylysis = os.path.join(BASE_DIR, 'db','sql','CampaignAnaylysis.sql')\n",
    "# SAS DB\n",
    "user = conf.read_config(\"SAS_db\", \"user\")\n",
    "password = conf.read_config(\"SAS_db\", \"password\")\n",
    "service = conf.read_config(\"SAS_db\", \"service\")\n",
    "# panda option\n",
    "a = lambda x: format(x, '.2%') if x != np.nan else \"\"\n",
    "#显示所有列\n",
    "pd.set_option('display.max_columns', None)\n",
    "#显示所有行\n",
    "# pd.set_option('display.max_rows', None)\n",
    "#设置value的显示长度为100，默认为50\n",
    "# pd.set_option('max_colwidth',100)\n",
    "# pd.set_option(\"display.max_columns\",18)\n",
    "pd.set_option('display.width', 2000)    # 设置行宽\n",
    "pd.set_option('colheader_justify', 'center')    #设置居中"
   ]
  },
  {
   "cell_type": "markdown",
   "metadata": {},
   "source": [
    "# Scripts"
   ]
  },
  {
   "cell_type": "markdown",
   "metadata": {},
   "source": [
    "## Memo"
   ]
  },
  {
   "cell_type": "code",
   "execution_count": 3,
   "metadata": {
    "ExecuteTime": {
     "end_time": "2020-05-06T02:12:44.294543Z",
     "start_time": "2020-05-06T02:12:44.283448Z"
    }
   },
   "outputs": [],
   "source": [
    "class regular_check(object):\n",
    "    def __init__(self, db, sql, sender, copyer, temp):\n",
    "        self.user = conf.read_config(\"SAS_db\", f\"{db}_user\")\n",
    "        self.password = conf.read_config(\"SAS_db\", f\"{db}_password\")\n",
    "        self.service = conf.read_config(\"SAS_db\", f\"{db}_service\")\n",
    "        self.db = cx_Oracle.connect(self.user, self.password, self.service)\n",
    "        self.con = self.db.cursor()\n",
    "        self.sql = sql\n",
    "        self.notify = False\n",
    "        self.sender = sender\n",
    "        self.copyer = copyer\n",
    "        self.temp = temp\n",
    "    \n",
    "    def excute(self):\n",
    "        row = self.con.execute(sql).fetchall()\n",
    "#         cols = [i[0] for i in self.con.description]\n",
    "#         self.df = pd.DataFrame(data=row, index=[i[0] for i in row], columns=cols)\n",
    "#         print(row)\n",
    "        if row[0][0] == 0:\n",
    "            self.Email()\n",
    "            self.exit()\n",
    "            return True\n",
    "        else:\n",
    "            self.exit()\n",
    "            return False\n",
    "        \n",
    "    \n",
    "    def Email(self):\n",
    "        \"\"\"\n",
    "        Docstring:\n",
    "        To sent the report.\n",
    "        \"\"\"\n",
    "        subject = f\"[{str(self.service).upper()}]-Data monitoring alert\"\n",
    "        content = open(self.temp, 'r', encoding='utf-8').read()\n",
    "        if not send_email.outlook(send_to=self.sender, subject=subject, content=content, cc_to=self.copyer, addtach=None):\n",
    "            logging.error('E-mail Send Faild!')\n",
    "            print(ColorMe(f'{datetime.datetime.now().strftime(\"%Y_%m_%d %X\")} E-mail Send Faild!').red())\n",
    "            return False\n",
    "        else:\n",
    "            logging.info('E-mail Send Success!')\n",
    "            print(ColorMe(f'{datetime.datetime.now().strftime(\"%Y_%m_%d %X\")} E-mail Send Success!').green())\n",
    "            return True\n",
    "    \n",
    "    def exit(self):\n",
    "        self.db.close()"
   ]
  },
  {
   "cell_type": "markdown",
   "metadata": {},
   "source": [
    "## Test"
   ]
  },
  {
   "cell_type": "code",
   "execution_count": 4,
   "metadata": {
    "ExecuteTime": {
     "end_time": "2020-05-08T05:14:07.512819Z",
     "start_time": "2020-05-06T02:12:47.181330Z"
    },
    "scrolled": true
   },
   "outputs": [
    {
     "name": "stdout",
     "output_type": "stream",
     "text": [
      "2020-05-06 10:12:47 Program starting\n",
      "\u001b[32;1m2020_05_06 23:16:39 E-mail Send Success!\u001b[0m\n",
      "2020-05-06 23:16:39 Trigger alert: wait 15 min\n",
      "\u001b[32;1m2020_05_06 23:31:42 E-mail Send Success!\u001b[0m\n",
      "2020-05-06 23:31:42 Trigger alert: wait 15 min\n",
      "\u001b[32;1m2020_05_06 23:46:43 E-mail Send Success!\u001b[0m\n",
      "2020-05-06 23:46:44 Trigger alert: wait 15 min\n",
      "\u001b[32;1m2020_05_07 00:01:47 E-mail Send Success!\u001b[0m\n",
      "2020-05-07 00:01:47 Trigger alert: wait 15 min\n",
      "\u001b[32;1m2020_05_07 00:16:49 E-mail Send Success!\u001b[0m\n",
      "2020-05-07 00:16:50 Trigger alert: wait 15 min\n",
      "\u001b[32;1m2020_05_07 00:31:52 E-mail Send Success!\u001b[0m\n",
      "2020-05-07 00:31:52 Trigger alert: wait 15 min\n",
      "\u001b[32;1m2020_05_07 00:46:55 E-mail Send Success!\u001b[0m\n",
      "2020-05-07 00:46:55 Trigger alert: wait 15 min\n",
      "\u001b[32;1m2020_05_07 01:04:00 E-mail Send Success!\u001b[0m\n",
      "2020-05-07 01:04:01 Trigger alert: wait 15 min\n",
      "\u001b[32;1m2020_05_07 01:19:04 E-mail Send Success!\u001b[0m\n",
      "2020-05-07 01:19:04 Trigger alert: wait 15 min\n",
      "\u001b[32;1m2020_05_07 01:36:09 E-mail Send Success!\u001b[0m\n",
      "2020-05-07 01:36:09 Trigger alert: wait 15 min\n",
      "\u001b[32;1m2020_05_07 01:51:12 E-mail Send Success!\u001b[0m\n",
      "2020-05-07 01:51:12 Trigger alert: wait 15 min\n",
      "\u001b[32;1m2020_05_07 02:12:22 E-mail Send Success!\u001b[0m\n",
      "2020-05-07 02:12:22 Trigger alert: wait 15 min\n",
      "\u001b[32;1m2020_05_07 02:27:24 E-mail Send Success!\u001b[0m\n",
      "2020-05-07 02:27:24 Trigger alert: wait 15 min\n",
      "\u001b[32;1m2020_05_07 02:50:35 E-mail Send Success!\u001b[0m\n",
      "2020-05-07 02:50:35 Trigger alert: wait 15 min\n",
      "\u001b[32;1m2020_05_07 03:07:40 E-mail Send Success!\u001b[0m\n",
      "2020-05-07 03:07:40 Trigger alert: wait 15 min\n",
      "\u001b[32;1m2020_05_07 03:22:42 E-mail Send Success!\u001b[0m\n",
      "2020-05-07 03:22:42 Trigger alert: wait 15 min\n",
      "\u001b[32;1m2020_05_07 03:41:49 E-mail Send Success!\u001b[0m\n",
      "2020-05-07 03:41:49 Trigger alert: wait 15 min\n",
      "\u001b[32;1m2020_05_07 03:56:52 E-mail Send Success!\u001b[0m\n",
      "2020-05-07 03:56:52 Trigger alert: wait 15 min\n",
      "\u001b[32;1m2020_05_07 04:13:57 E-mail Send Success!\u001b[0m\n",
      "2020-05-07 04:13:57 Trigger alert: wait 15 min\n",
      "\u001b[32;1m2020_05_07 04:28:59 E-mail Send Success!\u001b[0m\n",
      "2020-05-07 04:29:00 Trigger alert: wait 15 min\n",
      "\u001b[32;1m2020_05_07 04:44:01 E-mail Send Success!\u001b[0m\n",
      "2020-05-07 04:44:02 Trigger alert: wait 15 min\n",
      "\u001b[32;1m2020_05_07 04:59:04 E-mail Send Success!\u001b[0m\n",
      "2020-05-07 04:59:04 Trigger alert: wait 15 min\n",
      "\u001b[32;1m2020_05_08 00:46:31 E-mail Send Success!\u001b[0m\n",
      "2020-05-08 00:46:31 Trigger alert: wait 15 min\n"
     ]
    },
    {
     "ename": "KeyboardInterrupt",
     "evalue": "",
     "output_type": "error",
     "traceback": [
      "\u001b[1;31m---------------------------------------------------------------------------\u001b[0m",
      "\u001b[1;31mKeyboardInterrupt\u001b[0m                         Traceback (most recent call last)",
      "\u001b[1;32m<ipython-input-4-f4495bf21fca>\u001b[0m in \u001b[0;36m<module>\u001b[1;34m\u001b[0m\n\u001b[0;32m     23\u001b[0m             \u001b[1;32mif\u001b[0m \u001b[0mtrigger\u001b[0m \u001b[1;33m==\u001b[0m \u001b[1;32mFalse\u001b[0m\u001b[1;33m:\u001b[0m\u001b[1;33m\u001b[0m\u001b[0m\n\u001b[0;32m     24\u001b[0m     \u001b[1;31m#             print(datetime.datetime.strftime(datetime.datetime.now(), '%Y-%m-%d %H:%M:%S'), f'Normal status: wait {sec} sec')\u001b[0m\u001b[1;33m\u001b[0m\u001b[1;33m\u001b[0m\u001b[0m\n\u001b[1;32m---> 25\u001b[1;33m                 \u001b[0mtime\u001b[0m\u001b[1;33m.\u001b[0m\u001b[0msleep\u001b[0m\u001b[1;33m(\u001b[0m\u001b[0msec\u001b[0m\u001b[1;33m)\u001b[0m\u001b[1;33m\u001b[0m\u001b[0m\n\u001b[0m\u001b[0;32m     26\u001b[0m             \u001b[1;32melse\u001b[0m\u001b[1;33m:\u001b[0m\u001b[1;33m\u001b[0m\u001b[0m\n\u001b[0;32m     27\u001b[0m                 \u001b[0mprint\u001b[0m\u001b[1;33m(\u001b[0m\u001b[0mdatetime\u001b[0m\u001b[1;33m.\u001b[0m\u001b[0mdatetime\u001b[0m\u001b[1;33m.\u001b[0m\u001b[0mstrftime\u001b[0m\u001b[1;33m(\u001b[0m\u001b[0mdatetime\u001b[0m\u001b[1;33m.\u001b[0m\u001b[0mdatetime\u001b[0m\u001b[1;33m.\u001b[0m\u001b[0mnow\u001b[0m\u001b[1;33m(\u001b[0m\u001b[1;33m)\u001b[0m\u001b[1;33m,\u001b[0m \u001b[1;34m'%Y-%m-%d %H:%M:%S'\u001b[0m\u001b[1;33m)\u001b[0m\u001b[1;33m,\u001b[0m \u001b[1;34m'Trigger alert: wait 15 min'\u001b[0m\u001b[1;33m)\u001b[0m\u001b[1;33m\u001b[0m\u001b[0m\n",
      "\u001b[1;31mKeyboardInterrupt\u001b[0m: "
     ]
    }
   ],
   "source": [
    "if __name__ == \"__main__\":\n",
    "    trigger = False\n",
    "    sqldir = os.path.join(BASE_DIR, 'db','sql','rtdm_decision_log_monitor.sql')\n",
    "#     with open(sqldir, 'r', encoding='utf-8') as f:\n",
    "#         sql = f.read()\n",
    "    sender = 'CRMCampaignTeam@homecredit.cn'\n",
    "    copyer = None\n",
    "    temp = os.path.join (config_path, 'CSS', 'DecisionLogCNT0.html')\n",
    "#     for i in range(2):\n",
    "    with open(sqldir, 'r', encoding='utf-8') as f:\n",
    "        Tempstr = f.read()\n",
    "            \n",
    "    switch = True\n",
    "    print(datetime.datetime.strftime(datetime.datetime.now(), '%Y-%m-%d %H:%M:%S'),'Program starting')\n",
    "    try:\n",
    "        while switch:\n",
    "            if 8 <= int(datetime.datetime.strftime(datetime.datetime.now(), '%H')) < 21:\n",
    "                sec = 10\n",
    "            else:\n",
    "                sec = 120\n",
    "            sql = Template(Tempstr).substitute(sec=sec)\n",
    "            trigger = regular_check('rtdm', sql, sender, copyer, temp).excute()\n",
    "            if trigger == False:\n",
    "    #             print(datetime.datetime.strftime(datetime.datetime.now(), '%Y-%m-%d %H:%M:%S'), f'Normal status: wait {sec} sec')\n",
    "                time.sleep(sec)\n",
    "            else:\n",
    "                print(datetime.datetime.strftime(datetime.datetime.now(), '%Y-%m-%d %H:%M:%S'), 'Trigger alert: wait 15 min')\n",
    "                time.sleep(900)\n",
    "    #         i = 1 \n",
    "    except Exception as e:\n",
    "        print(datetime.datetime.strftime(datetime.datetime.now(), '%Y-%m-%d %H:%M:%S'), e)\n",
    "        content = traceback.format_exc()\n",
    "        send_email.outlook(send_to=\"Leo.ZhangZS@homecredit.cn\", subject=\"Program Error\", content=content, cc_to=None, addtach=None)"
   ]
  },
  {
   "cell_type": "code",
   "execution_count": null,
   "metadata": {},
   "outputs": [],
   "source": []
  }
 ],
 "metadata": {
  "hide_input": false,
  "kernelspec": {
   "display_name": "py36_32",
   "language": "python",
   "name": "py36_32"
  },
  "language_info": {
   "codemirror_mode": {
    "name": "ipython",
    "version": 3
   },
   "file_extension": ".py",
   "mimetype": "text/x-python",
   "name": "python",
   "nbconvert_exporter": "python",
   "pygments_lexer": "ipython3",
   "version": "3.6.5"
  },
  "toc": {
   "base_numbering": 1,
   "nav_menu": {},
   "number_sections": true,
   "sideBar": true,
   "skip_h1_title": false,
   "title_cell": "Table of Contents",
   "title_sidebar": "Contents",
   "toc_cell": false,
   "toc_position": {},
   "toc_section_display": true,
   "toc_window_display": false
  },
  "varInspector": {
   "cols": {
    "lenName": 16,
    "lenType": 16,
    "lenVar": 40
   },
   "kernels_config": {
    "python": {
     "delete_cmd_postfix": "",
     "delete_cmd_prefix": "del ",
     "library": "var_list.py",
     "varRefreshCmd": "print(var_dic_list())"
    },
    "r": {
     "delete_cmd_postfix": ") ",
     "delete_cmd_prefix": "rm(",
     "library": "var_list.r",
     "varRefreshCmd": "cat(var_dic_list()) "
    }
   },
   "types_to_exclude": [
    "module",
    "function",
    "builtin_function_or_method",
    "instance",
    "_Feature"
   ],
   "window_display": false
  }
 },
 "nbformat": 4,
 "nbformat_minor": 2
}
