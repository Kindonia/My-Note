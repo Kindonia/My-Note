{
 "cells": [
  {
   "cell_type": "code",
   "execution_count": 4,
   "metadata": {
    "scrolled": true
   },
   "outputs": [
    {
     "name": "stdout",
     "output_type": "stream",
     "text": [
      "select pa.campaign_nm, pa.communication_nm, trunc(emp.response_dttm), emp.response_channel_cd, re.response_channel_response_cd, count(EMP.id_xrm_employee) as CNT_RESPONSE from APP_CAMPAIGN_CDM.Ci_Response_History_Emp EMP JOIN APP_CAMPAIGN_CDM.CI_RESPONSE_CHANNEL_RESPONSE RE ON RE.RESPONSE_SK = EMP.RESPONSE_SK JOIN APP_CAMPAIGN_CDM.CI_CELL_PACKAGE PA ON PA.CELL_PACKAGE_SK = EMP.CELL_PACKAGE_SK where trunc(emp.response_dttm) >= trunc(sysdate) AND  PA.COMMUNICATION_CD = 'COMM2120' GROUP BY pa.campaign_nm, pa.communication_nm, trunc(emp.response_dttm), emp.response_channel_cd, re.response_channel_response_cd\n",
      "[('SMT_LowPene_WS_A_SA_SCR-420', 'Inbox+Popup_Low_Pene_WS', datetime.datetime(2019, 8, 14, 0, 0), 'SMT', 'INBOX_VIEW_FROM_QUEUE', 16)]\n"
     ]
    }
   ],
   "source": [
    "#创建数据库连接的三种方式：\n",
    "#方法一：用户名、密码和监听分开写\n",
    "\n",
    "import cx_Oracle\n",
    "\n",
    "his_tb = 'APP_CAMPAIGN_CDM.Ci_Response_History_Emp'\n",
    "communication_cd = 'COMM2120'\n",
    "sql = f\"select pa.campaign_nm, pa.communication_nm, trunc(emp.response_dttm), emp.response_channel_cd, re.response_channel_response_cd, count(EMP.id_xrm_employee) as CNT_RESPONSE from {his_tb} EMP JOIN APP_CAMPAIGN_CDM.CI_RESPONSE_CHANNEL_RESPONSE RE ON RE.RESPONSE_SK = EMP.RESPONSE_SK JOIN APP_CAMPAIGN_CDM.CI_CELL_PACKAGE PA ON PA.CELL_PACKAGE_SK = EMP.CELL_PACKAGE_SK where trunc(emp.response_dttm) >= trunc(sysdate) AND  PA.COMMUNICATION_CD = '{communication_cd}' GROUP BY pa.campaign_nm, pa.communication_nm, trunc(emp.response_dttm), emp.response_channel_cd, re.response_channel_response_cd\"\n",
    "print(sql)\n",
    "db = cx_Oracle.connect('HCCN_LEOZHANGZS','yATbUPR64L6A','SASXRCN.HOMECREDIT.CN') #连接数据库\n",
    "#print(db.version) #打印版本看看 显示 11.2.0.1.0\n",
    "cur = db.cursor() # 游标操作\n",
    "cur.execute(sql) # 执行sql语句\n",
    "rows = cur.fetchall() # 获取数据\n",
    "print(rows)\n",
    "db.close()"
   ]
  },
  {
   "cell_type": "code",
   "execution_count": null,
   "metadata": {},
   "outputs": [],
   "source": [
    "#方法二：用户名、密码和监听写在一起\n",
    "\n",
    "import cx_Oracle\n",
    "\n",
    "db=cx_Oracle.connect('username','password','host/orcl')\n",
    "\n",
    "db.close()"
   ]
  },
  {
   "cell_type": "code",
   "execution_count": null,
   "metadata": {},
   "outputs": [],
   "source": [
    "#方法三：配置监听并连接\n",
    "\n",
    "import cx_Oracle\n",
    "\n",
    "tns=cx_Oracle.makedsn('host',1521,'orcl')\n",
    "\n",
    "db=cx_Oracle.connect('username','password',tns)\n",
    "\n",
    "db.close()"
   ]
  },
  {
   "cell_type": "code",
   "execution_count": null,
   "metadata": {},
   "outputs": [],
   "source": [
    "import cx_Oracle #导入包\n",
    "\n",
    "db = cx_Oracle.connect('用户名','用户密码','ip:端口号/数据库名') #连接数据库\n",
    "print(db.version) #打印版本看看 显示 11.2.0.1.0\n",
    "cur = db.cursor() # 游标操作\n",
    "cur.execute('select * from table') # 执行sql语句\n",
    "rows = cur.fetchall() # 获取数据\n",
    "# 打印数据\n",
    "for row in rows[:10]:\n",
    "   print(f\"{row[0]} ,\",end='')"
   ]
  },
  {
   "cell_type": "code",
   "execution_count": 1,
   "metadata": {},
   "outputs": [],
   "source": [
    "import os"
   ]
  },
  {
   "cell_type": "code",
   "execution_count": 5,
   "metadata": {},
   "outputs": [
    {
     "name": "stdout",
     "output_type": "stream",
     "text": [
      "Wall time: 0 ns\n"
     ]
    }
   ],
   "source": [
    "%time"
   ]
  }
 ],
 "metadata": {
  "hide_input": false,
  "kernelspec": {
   "display_name": "Python 3",
   "language": "python",
   "name": "python3"
  },
  "language_info": {
   "codemirror_mode": {
    "name": "ipython",
    "version": 3
   },
   "file_extension": ".py",
   "mimetype": "text/x-python",
   "name": "python",
   "nbconvert_exporter": "python",
   "pygments_lexer": "ipython3",
   "version": "3.7.1"
  },
  "toc": {
   "base_numbering": 1,
   "nav_menu": {},
   "number_sections": true,
   "sideBar": true,
   "skip_h1_title": false,
   "title_cell": "Table of Contents",
   "title_sidebar": "Contents",
   "toc_cell": false,
   "toc_position": {},
   "toc_section_display": true,
   "toc_window_display": false
  },
  "varInspector": {
   "cols": {
    "lenName": 16,
    "lenType": 16,
    "lenVar": 40
   },
   "kernels_config": {
    "python": {
     "delete_cmd_postfix": "",
     "delete_cmd_prefix": "del ",
     "library": "var_list.py",
     "varRefreshCmd": "print(var_dic_list())"
    },
    "r": {
     "delete_cmd_postfix": ") ",
     "delete_cmd_prefix": "rm(",
     "library": "var_list.r",
     "varRefreshCmd": "cat(var_dic_list()) "
    }
   },
   "types_to_exclude": [
    "module",
    "function",
    "builtin_function_or_method",
    "instance",
    "_Feature"
   ],
   "window_display": false
  }
 },
 "nbformat": 4,
 "nbformat_minor": 2
}
