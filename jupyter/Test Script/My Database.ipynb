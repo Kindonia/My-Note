{
 "cells": [
  {
   "cell_type": "code",
   "execution_count": 49,
   "metadata": {
    "ExecuteTime": {
     "end_time": "2020-06-17T09:43:26.176524Z",
     "start_time": "2020-06-17T09:43:26.167465Z"
    }
   },
   "outputs": [],
   "source": [
    "import sqlite3\n",
    "import os\n",
    "\n",
    "path = r'C:\\Users\\leo.zhangzs\\AppData\\Roaming\\Code\\User\\VScode\\py3\\UAT_Test\\db\\sqlite\\monitor'\n",
    "filesDir = r'C:\\Users\\leo.zhangzs\\AppData\\Roaming\\Code\\User\\VScode\\py3\\UAT_Test\\export\\Uploads'\n",
    "files= os.listdir(filesDir)\n",
    "\n",
    "conn = sqlite3.connect(r'C:\\Users\\leo.zhangzs\\AppData\\Roaming\\Code\\User\\VScode\\py3\\UAT_Test\\db\\monitor\\Channel_Monitor.db')\n",
    "cur = conn.cursor()\n",
    "                       \n",
    "# cur.execute(\"SELECT name FROM sqlite_master WHERE type='table';\")\n",
    "# Tables=cur.fetchall()\n",
    "# print(Tables)                       \n",
    "# cur.execute('create table if not exists numbers (Send_DT date primary key, number varchar(20) NOT NULL, Delivery_Rate float(5) NOT NULL)')\n",
    "# conn.commit()"
   ]
  },
  {
   "cell_type": "code",
   "execution_count": 50,
   "metadata": {
    "ExecuteTime": {
     "end_time": "2020-06-17T09:43:27.615269Z",
     "start_time": "2020-06-17T09:43:27.430917Z"
    }
   },
   "outputs": [
    {
     "name": "stdout",
     "output_type": "stream",
     "text": [
      "插入第 1 条数据: ['2020-05-20', 'SMS', '0.7439 \\n']\n",
      "插入第 2 条数据: ['2020-05-21', 'SMS', '0.8616 \\n']\n",
      "插入第 3 条数据: ['2020-05-22', 'SMS', '0.8645 \\n']\n",
      "插入第 4 条数据: ['2020-05-23', 'SMS', '0.7494 \\n']\n",
      "插入第 5 条数据: ['2020-05-24', 'SMS', '0.8680 \\n']\n",
      "插入第 6 条数据: ['2020-05-25', 'SMS', '0.7344 \\n']\n",
      "插入第 7 条数据: ['2020-05-26', 'SMS', '0.7526 \\n']\n",
      "插入第 8 条数据: ['2020-05-27', 'SMS', '0.6928 \\n']\n",
      "插入第 9 条数据: ['2020-05-28', 'SMS', '0.8953 \\n']\n",
      "插入第 10 条数据: ['2020-05-29', 'SMS', '0.9221 \\n']\n",
      "插入第 11 条数据: ['2020-05-30', 'SMS', '0.9158 \\n']\n",
      "插入第 12 条数据: ['2020-05-31', 'SMS', '0.8895 \\n']\n",
      "插入第 13 条数据: ['2020-06-01', 'SMS', '0.7516 \\n']\n",
      "插入第 14 条数据: ['2020-06-02', 'SMS', '0.8079 \\n']\n",
      "插入第 15 条数据: ['2020-06-03', 'SMS', '0.7458 \\n']\n",
      "插入第 16 条数据: ['2020-06-04', 'SMS', '0.8781 \\n']\n",
      "插入第 17 条数据: ['2020-06-05', 'SMS', '0.9035 \\n']\n",
      "插入第 18 条数据: ['2020-06-06', 'SMS', '0.8956 \\n']\n",
      "插入第 19 条数据: ['2020-06-07', 'SMS', '0.8174 \\n']\n",
      "插入第 20 条数据: ['2020-06-08', 'SMS', '0.7525 \\n']\n",
      "插入第 21 条数据: ['2020-06-09', 'SMS', '0.7837 \\n']\n",
      "插入第 22 条数据: ['2020-06-10', 'SMS', '0.7249 \\n']\n",
      "插入第 23 条数据: ['2020-06-11', 'SMS', '0.8609 \\n']\n",
      "插入第 24 条数据: ['2020-06-12', 'SMS', '0.9207 \\n']\n",
      "插入第 25 条数据: ['2020-06-13', 'SMS', '0.9331 \\n']\n",
      "插入第 26 条数据: ['2020-06-14', 'SMS', '0.8698']\n"
     ]
    }
   ],
   "source": [
    "i = 0\n",
    "for file in files:\n",
    "#     print(file)\n",
    "    if file.split('.')[-1] == 'txt':\n",
    "        with open(os.path.join(filesDir,file),'r',encoding='UTF-8') as f:\n",
    "            next(f)\n",
    "            for line in f:\n",
    "                a = line.split(';')\n",
    "                i += 1\n",
    "#                 cur.execute(f'insert into channel_rate values({a})')\n",
    "                cur.execute('insert into channel_rate values(?,?,?)',(a[0], a[1], a[2]))\n",
    "                print(\"插入第\", i, \"条数据:\", a)\n",
    "#                 \n",
    "                conn.commit()"
   ]
  },
  {
   "cell_type": "code",
   "execution_count": 51,
   "metadata": {
    "ExecuteTime": {
     "end_time": "2020-06-17T09:43:32.153606Z",
     "start_time": "2020-06-17T09:43:32.149596Z"
    }
   },
   "outputs": [],
   "source": [
    "cur.close()\n",
    "conn.close()\n",
    "# print('数据写入完成！共写入',i,' 条数据')"
   ]
  }
 ],
 "metadata": {
  "hide_input": false,
  "kernelspec": {
   "display_name": "py36_32",
   "language": "python",
   "name": "py36_32"
  },
  "language_info": {
   "codemirror_mode": {
    "name": "ipython",
    "version": 3
   },
   "file_extension": ".py",
   "mimetype": "text/x-python",
   "name": "python",
   "nbconvert_exporter": "python",
   "pygments_lexer": "ipython3",
   "version": "3.6.5"
  },
  "toc": {
   "base_numbering": 1,
   "nav_menu": {},
   "number_sections": true,
   "sideBar": true,
   "skip_h1_title": false,
   "title_cell": "Table of Contents",
   "title_sidebar": "Contents",
   "toc_cell": false,
   "toc_position": {},
   "toc_section_display": true,
   "toc_window_display": false
  },
  "varInspector": {
   "cols": {
    "lenName": 16,
    "lenType": 16,
    "lenVar": 40
   },
   "kernels_config": {
    "python": {
     "delete_cmd_postfix": "",
     "delete_cmd_prefix": "del ",
     "library": "var_list.py",
     "varRefreshCmd": "print(var_dic_list())"
    },
    "r": {
     "delete_cmd_postfix": ") ",
     "delete_cmd_prefix": "rm(",
     "library": "var_list.r",
     "varRefreshCmd": "cat(var_dic_list()) "
    }
   },
   "types_to_exclude": [
    "module",
    "function",
    "builtin_function_or_method",
    "instance",
    "_Feature"
   ],
   "window_display": false
  }
 },
 "nbformat": 4,
 "nbformat_minor": 2
}
