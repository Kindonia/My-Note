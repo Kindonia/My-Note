{
 "cells": [
  {
   "cell_type": "markdown",
   "metadata": {},
   "source": [
    "# import"
   ]
  },
  {
   "cell_type": "code",
   "execution_count": 1,
   "metadata": {
    "ExecuteTime": {
     "end_time": "2019-11-28T03:58:24.752796Z",
     "start_time": "2019-11-28T03:58:22.392506Z"
    }
   },
   "outputs": [],
   "source": [
    "import numpy as np\n",
    "import pandas as pd\n",
    "import plotly_express as px\n",
    "import os\n",
    "import datetime, time"
   ]
  },
  {
   "cell_type": "markdown",
   "metadata": {
    "ExecuteTime": {
     "end_time": "2019-09-12T07:42:49.577896Z",
     "start_time": "2019-09-12T07:42:49.484647Z"
    }
   },
   "source": [
    "# Pandas"
   ]
  },
  {
   "cell_type": "markdown",
   "metadata": {
    "heading_collapsed": true
   },
   "source": [
    "## New"
   ]
  },
  {
   "cell_type": "code",
   "execution_count": 34,
   "metadata": {
    "hidden": true
   },
   "outputs": [],
   "source": [
    "df1 = pd.DataFrame({'A':[200], 'B':[150], 'C':[240]})"
   ]
  },
  {
   "cell_type": "code",
   "execution_count": 12,
   "metadata": {
    "hidden": true,
    "scrolled": true
   },
   "outputs": [],
   "source": [
    "df2 = pd.DataFrame([['A', 'B', 'C'],[12, 18, 29]])"
   ]
  },
  {
   "cell_type": "code",
   "execution_count": 18,
   "metadata": {
    "ExecuteTime": {
     "end_time": "2019-09-17T02:09:18.428545Z",
     "start_time": "2019-09-17T02:09:18.418542Z"
    },
    "code_folding": [
     0
    ],
    "hidden": true
   },
   "outputs": [
    {
     "data": {
      "text/plain": [
       "0"
      ]
     },
     "execution_count": 18,
     "metadata": {},
     "output_type": "execute_result"
    }
   ],
   "source": [
    "df = pd.DataFrame({'A': ['one', 'one', 'two', 'three'] * 3,\n",
    "   .....:                    'B': ['A', 'B', 'C'] * 4,\n",
    "   .....:                    'C': ['foo', 'foo', 'foo', 'bar', 'bar', 'bar'] * 2,\n",
    "   .....:                    'D': np.random.randn(12),\n",
    "   .....:                    'E': np.random.randn(12)})\n",
    "len(df.loc[(df['C']=='foo') & (df['D'] > 0)])"
   ]
  },
  {
   "cell_type": "code",
   "execution_count": 6,
   "metadata": {
    "ExecuteTime": {
     "end_time": "2019-09-12T07:43:56.205199Z",
     "start_time": "2019-09-12T07:43:56.196174Z"
    },
    "hidden": true
   },
   "outputs": [],
   "source": [
    "index = pd.date_range('1/1/2000', periods=8)"
   ]
  },
  {
   "cell_type": "code",
   "execution_count": 13,
   "metadata": {
    "ExecuteTime": {
     "end_time": "2019-09-12T07:48:24.474743Z",
     "start_time": "2019-09-12T07:48:24.470732Z"
    },
    "hidden": true
   },
   "outputs": [],
   "source": [
    "df = pd.Series(np.random.randn(5), index=['a', 'b', 'c', 'd', 'e'])"
   ]
  },
  {
   "cell_type": "code",
   "execution_count": 23,
   "metadata": {
    "ExecuteTime": {
     "end_time": "2019-09-12T07:52:30.389067Z",
     "start_time": "2019-09-12T07:52:30.385062Z"
    },
    "hidden": true
   },
   "outputs": [],
   "source": [
    "df = pd.DataFrame(np.random.randn(8, 3), index=index,columns=['A', 'B', 'C'])"
   ]
  },
  {
   "cell_type": "markdown",
   "metadata": {
    "heading_collapsed": true,
    "hidden": true
   },
   "source": [
    "### cut"
   ]
  },
  {
   "cell_type": "code",
   "execution_count": 10,
   "metadata": {
    "ExecuteTime": {
     "end_time": "2019-09-12T07:45:02.702867Z",
     "start_time": "2019-09-12T07:45:02.678801Z"
    },
    "hidden": true
   },
   "outputs": [],
   "source": [
    "factor = pd.cut(arr, 4)"
   ]
  },
  {
   "cell_type": "code",
   "execution_count": 11,
   "metadata": {
    "ExecuteTime": {
     "end_time": "2019-09-12T07:45:06.737731Z",
     "start_time": "2019-09-12T07:45:06.728708Z"
    },
    "hidden": true
   },
   "outputs": [],
   "source": [
    "factor = pd.cut(arr, [-5, -1, 0, 1, 5])"
   ]
  },
  {
   "cell_type": "code",
   "execution_count": 12,
   "metadata": {
    "ExecuteTime": {
     "end_time": "2019-09-12T07:45:34.223619Z",
     "start_time": "2019-09-12T07:45:34.219608Z"
    },
    "hidden": true,
    "scrolled": true
   },
   "outputs": [],
   "source": [
    "arr = np.random.randn(20)\n",
    "factor = pd.cut(arr, [-np.inf, 0, np.inf])"
   ]
  },
  {
   "cell_type": "markdown",
   "metadata": {
    "ExecuteTime": {
     "end_time": "2019-09-12T07:39:03.926625Z",
     "start_time": "2019-09-12T07:39:03.910581Z"
    },
    "heading_collapsed": true,
    "hidden": true
   },
   "source": [
    "### align"
   ]
  },
  {
   "cell_type": "code",
   "execution_count": 38,
   "metadata": {
    "ExecuteTime": {
     "end_time": "2019-09-12T08:03:47.118349Z",
     "start_time": "2019-09-12T08:03:47.111329Z"
    },
    "hidden": true,
    "scrolled": true
   },
   "outputs": [
    {
     "data": {
      "text/plain": [
       "(                   A         B         C\n",
       " 2000-01-01 -1.698009  0.432606 -1.821567\n",
       " 2000-01-02 -1.559705 -0.049452 -0.913553\n",
       " 2000-01-03 -1.183813  0.118065  0.532007\n",
       " 2000-01-04  1.050803 -0.033064  0.637393, A   -1.183813\n",
       " B    0.118065\n",
       " C    0.532007\n",
       " Name: 2000-01-03 00:00:00, dtype: float64)"
      ]
     },
     "execution_count": 38,
     "metadata": {},
     "output_type": "execute_result"
    }
   ],
   "source": [
    "s1 = df[:4]\n",
    "s2 = df[1:]\n",
    "s1.align(s2.iloc[1], join='inner', axis=1)"
   ]
  },
  {
   "cell_type": "markdown",
   "metadata": {
    "heading_collapsed": true,
    "hidden": true
   },
   "source": [
    "### reindex"
   ]
  },
  {
   "cell_type": "code",
   "execution_count": 59,
   "metadata": {
    "ExecuteTime": {
     "end_time": "2019-09-12T08:12:23.746365Z",
     "start_time": "2019-09-12T08:12:23.731325Z"
    },
    "hidden": true,
    "scrolled": true
   },
   "outputs": [
    {
     "data": {
      "text/html": [
       "<div>\n",
       "<style scoped>\n",
       "    .dataframe tbody tr th:only-of-type {\n",
       "        vertical-align: middle;\n",
       "    }\n",
       "\n",
       "    .dataframe tbody tr th {\n",
       "        vertical-align: top;\n",
       "    }\n",
       "\n",
       "    .dataframe thead th {\n",
       "        text-align: right;\n",
       "    }\n",
       "</style>\n",
       "<table border=\"1\" class=\"dataframe\">\n",
       "  <thead>\n",
       "    <tr style=\"text-align: right;\">\n",
       "      <th></th>\n",
       "      <th>A</th>\n",
       "      <th>B</th>\n",
       "      <th>C</th>\n",
       "    </tr>\n",
       "  </thead>\n",
       "  <tbody>\n",
       "    <tr>\n",
       "      <th>2000-01-01</th>\n",
       "      <td>-1.698009</td>\n",
       "      <td>0.432606</td>\n",
       "      <td>-1.821567</td>\n",
       "    </tr>\n",
       "    <tr>\n",
       "      <th>2000-01-02</th>\n",
       "      <td>-1.698009</td>\n",
       "      <td>0.432606</td>\n",
       "      <td>-1.821567</td>\n",
       "    </tr>\n",
       "    <tr>\n",
       "      <th>2000-01-03</th>\n",
       "      <td>1.050803</td>\n",
       "      <td>-0.033064</td>\n",
       "      <td>0.637393</td>\n",
       "    </tr>\n",
       "    <tr>\n",
       "      <th>2000-01-04</th>\n",
       "      <td>1.050803</td>\n",
       "      <td>-0.033064</td>\n",
       "      <td>0.637393</td>\n",
       "    </tr>\n",
       "    <tr>\n",
       "      <th>2000-01-05</th>\n",
       "      <td>1.050803</td>\n",
       "      <td>-0.033064</td>\n",
       "      <td>0.637393</td>\n",
       "    </tr>\n",
       "    <tr>\n",
       "      <th>2000-01-06</th>\n",
       "      <td>-0.147495</td>\n",
       "      <td>-1.455898</td>\n",
       "      <td>0.118378</td>\n",
       "    </tr>\n",
       "    <tr>\n",
       "      <th>2000-01-07</th>\n",
       "      <td>-0.147495</td>\n",
       "      <td>-1.455898</td>\n",
       "      <td>0.118378</td>\n",
       "    </tr>\n",
       "    <tr>\n",
       "      <th>2000-01-08</th>\n",
       "      <td>-0.147495</td>\n",
       "      <td>-1.455898</td>\n",
       "      <td>0.118378</td>\n",
       "    </tr>\n",
       "  </tbody>\n",
       "</table>\n",
       "</div>"
      ],
      "text/plain": [
       "                   A         B         C\n",
       "2000-01-01 -1.698009  0.432606 -1.821567\n",
       "2000-01-02 -1.698009  0.432606 -1.821567\n",
       "2000-01-03  1.050803 -0.033064  0.637393\n",
       "2000-01-04  1.050803 -0.033064  0.637393\n",
       "2000-01-05  1.050803 -0.033064  0.637393\n",
       "2000-01-06 -0.147495 -1.455898  0.118378\n",
       "2000-01-07 -0.147495 -1.455898  0.118378\n",
       "2000-01-08 -0.147495 -1.455898  0.118378"
      ]
     },
     "execution_count": 59,
     "metadata": {},
     "output_type": "execute_result"
    }
   ],
   "source": [
    "ts2 = df.iloc[[0,3,6]]\n",
    "ts2.reindex(df.index, method='nearest')"
   ]
  },
  {
   "cell_type": "markdown",
   "metadata": {},
   "source": [
    "## Test"
   ]
  },
  {
   "cell_type": "code",
   "execution_count": 247,
   "metadata": {
    "ExecuteTime": {
     "end_time": "2019-11-26T06:07:28.445749Z",
     "start_time": "2019-11-26T06:07:28.425696Z"
    },
    "code_folding": [],
    "scrolled": true
   },
   "outputs": [
    {
     "data": {
      "text/plain": [
       "0"
      ]
     },
     "execution_count": 247,
     "metadata": {},
     "output_type": "execute_result"
    }
   ],
   "source": [
    "df1 = pd.read_excel(r'C:\\Users\\leo.zhangzs\\AppData\\Roaming\\Code\\User\\VScode\\py3\\schedule_monitor\\db\\dwh_job.xlsx', 'dwh_job', convert_float=False)\n",
    "df1.EXCUTION_TIME = pd.to_datetime(df1.EXCUTION_TIME, format=\"%Y/%m/%d %H:%M:%S\")\n",
    "Job_List =  df1[(df1['CAMPAIGN_STATUS'] == 'A') & \n",
    "                (df1['SCRIPTS'].isna() == False) \n",
    "                (datetime.datetime.now() >= df1.SCHEDULE_TIME.apply(lambda x: Cron(x).out_time())) & \n",
    "                (df1.SCRIPTS.apply(lambda x: os.path.exists(\n",
    "                    os.path.join(r'C:\\Users\\leo.zhangzs\\AppData\\Roaming\\Code\\User\\VScode\\py3\\schedule_monitor\\db\\DWH_Jobs',str(x))) == True))\n",
    "               ]\n",
    "Job_List = Job_List[Job_List.apply(lambda x:(datetime.datetime.now() - x['EXCUTION_TIME']).total_seconds()/3600 - x['INTERVAL_HOURS'],axis=1) > 0]\n",
    "len(Job_List)"
   ]
  },
  {
   "cell_type": "code",
   "execution_count": 197,
   "metadata": {
    "ExecuteTime": {
     "end_time": "2019-11-26T01:31:22.015764Z",
     "start_time": "2019-11-26T01:31:22.005741Z"
    },
    "code_folding": []
   },
   "outputs": [
    {
     "name": "stdout",
     "output_type": "stream",
     "text": [
      "<h4>Dear All,</h4>\n",
      "<h4>&nbsp;&nbsp;&nbsp;&nbsp;<span style=\"font-size:14px;\">DWH Process Result</span></h4>\n",
      "<p><strong>&nbsp;&nbsp;&nbsp;&nbsp;Campaign Name : </strong>CALL_SA_document_error_SCR-808<strong>&nbsp;</strong> </p>\n",
      "<p><strong>&nbsp;&nbsp;&nbsp;&nbsp;Status :&nbsp;</strong><span style=\"color:#E53333;\">Failed</span></p>\n",
      "<p>\n",
      "\t<span style=\"font-family:&quot;font-size:12px;font-style:normal;font-weight:700;\">\n",
      "\t\t<strong>&nbsp;&nbsp;&nbsp;&nbsp;Detail Info : </strong>\n",
      "\t</span>\n",
      "</p>\n",
      "<div style=\"color:#eeffff;background-color:#263238;font-family:'monospace', Consolas, 'Courier New', monospace;font-weight:500;font-size:14px;\">\n",
      "\t<div>\n",
      "\t\t<span style=\"color:#c3e88d;\">&nbsp;&nbsp;&nbsp;&nbsp;测试成</span>\n",
      "\t</div>\n",
      "</div>\n",
      "<p><br/></p>\n",
      "<p><span style=\"color:#666666;line-height:1;\"><em><strong>PS : </strong>The message is sent automatically by the program. </em></span><span style=\"color:#666666;line-height:1;\"><em>Please contact me if you have any questions.</em></span></p>\n",
      "<p><br/></p>\n",
      "<p><strong>Best Wish</strong></p>\n",
      "<p><strong>Leo 6492</strong></p>\n"
     ]
    }
   ],
   "source": [
    "Camp_nm = 'CALL_SA_document_error_SCR-808'\n",
    "result = '测试成'\n",
    "CampStatus = '<p><strong>&nbsp;&nbsp;&nbsp;&nbsp;Status :&nbsp;</strong><span style=\"color:#E53333;\">Failed</span></p>'\n",
    "Temp1 = r'C:\\Users\\leo.zhangzs\\AppData\\Roaming\\Code\\User\\VScode\\py3\\schedule_monitor\\conf\\CSS\\DWH Template1.txt'\n",
    "with open(Temp1, 'r') as f:\n",
    "    content_html = f.read()\n",
    "    t1 = content_html % (Camp_nm, CampStatus, result)\n",
    "    print(t1)"
   ]
  },
  {
   "cell_type": "markdown",
   "metadata": {
    "heading_collapsed": true
   },
   "source": [
    "# seaborn"
   ]
  },
  {
   "cell_type": "code",
   "execution_count": null,
   "metadata": {
    "hidden": true
   },
   "outputs": [],
   "source": [
    "import seaborn as sns\n",
    "import matplotlib.pyplot as plt\n",
    " \n",
    "# ax1 for KDE, ax2 for CDF\n",
    "f, ax1 = plt.subplots()\n",
    "ax1.grid(True)\n",
    "# ax1.set_ylim(0, 1)\n",
    "ax1.set_ylabel('KDE')\n",
    "ax1.set_xlabel('DATA')\n",
    "ax1.set_title('KDE + CDF')\n",
    "ax1.legend(loc=2)\n",
    "sns.kdeplot(data, ax=ax1, lw=2, label='KDE') # KDE\n",
    " \n",
    "ax2 = ax1.twinx() # the reason why it works\n",
    "ax2.set_ylabel('CDF')\n",
    "ax2.legend(loc=1)\n",
    "ax2.hist(data, bins=50, cumulative=True, normed=True, histtype='step', color='red', lw=2, label='CDF') # CDF\n",
    " \n",
    "plt.show()"
   ]
  },
  {
   "cell_type": "markdown",
   "metadata": {},
   "source": [
    "# Cron"
   ]
  },
  {
   "cell_type": "code",
   "execution_count": 199,
   "metadata": {
    "ExecuteTime": {
     "end_time": "2019-11-26T03:44:23.856418Z",
     "start_time": "2019-11-26T03:44:23.788234Z"
    }
   },
   "outputs": [],
   "source": [
    "# -*- coding: utf-8 -*-\n",
    "# cron.py\n",
    "# @author 阿申\n",
    "# @Description${description}\n",
    "# @created 2019-08-02T14:43:08.696Z+08:00\n",
    "# @last-modified 2019-11-01T16:45:16.344Z+08:00\n",
    "#\n",
    "\n",
    "import time\n",
    "import datetime\n",
    "\n",
    "TDict = {0: '%S', 1: '%m', 2: '%H', 3: '%d', 4: '%m', 5: '%w'}\n",
    "\n",
    "class Cron:\n",
    "    def __init__(self, cron_str):\n",
    "        self.cron = cron_str.strip().split(' ')\n",
    "        self.Dtime = []\n",
    "        self.currwed = self.current_time(5)\n",
    "        for i in range(len(self.cron)):\n",
    "            if ',' in self.cron[i]:\n",
    "                self.Dtime.append(int(self.split_time(i, self.cron[i])))\n",
    "            elif '/' in self.cron[i]:\n",
    "                self.Dtime.append(int(self.range_time(i, self.cron[i])))\n",
    "            elif r'*' in self.cron[i]:\n",
    "                self.Dtime.append(int(self.current_time(i)))\n",
    "            elif r'?' in self.cron[i]:\n",
    "                self.Dtime.append(int(time.strftime('%Y', time.localtime())))\n",
    "            else:\n",
    "                self.Dtime.append(int(self.cron[i]))\n",
    "            \n",
    "    def split_time(self, i, cron_str):\n",
    "        CurrWeekday = int(self.current_time(i))\n",
    "        if str(CurrWeekday) in cron_str:\n",
    "            return CurrWeekday\n",
    "        else:\n",
    "            NextDay = 1\n",
    "            for a in str(cron_str).split(\",\"):\n",
    "                if int(a) > CurrWeekday:\n",
    "                    NextDay = int(a)\n",
    "                    break\n",
    "            return NextDay\n",
    "\n",
    "    def range_time(self, i, cron_str):\n",
    "        mon = self.current_time(i+1)\n",
    "        day = int(self.current_time(i))\n",
    "        year = int(time.strftime('%Y', time.localtime()))\n",
    "        days = (datetime.datetime(year, int(mon)+1, 1) -\n",
    "                datetime.datetime(year, int(mon), 1)).days\n",
    "        start = int(cron_str.split(r'/')[0])\n",
    "        inv = int(cron_str.split(r'/')[1])\n",
    "        if day in range(start, int(days)+1, inv):\n",
    "            return day\n",
    "        else:\n",
    "            return 0\n",
    "\n",
    "    def current_time(self, i, delaTime = None):\n",
    "        a = TDict[i]\n",
    "        if delaTime == None:\n",
    "            Ntime = time.strftime(a, time.localtime())\n",
    "        else:\n",
    "            Ntime = datetime.datetime.now() + delaTime\n",
    "            Ntime = Ntime.strftime(a)\n",
    "        \n",
    "        if i == 5:\n",
    "            self.currwed = int(Ntime)\n",
    "        return int(Ntime)\n",
    "    \n",
    "    def out_time(self):\n",
    "        if self.Dtime[5] > 0 and self.Dtime[5] < 2000:\n",
    "            if self.Dtime[5] == self.currwed:\n",
    "                self.Dtime[3] = int(self.current_time(3))\n",
    "            else:\n",
    "                self.Dtime[3] = int(self.current_time(3, datetime.timedelta(days=self.Dtime[5]-self.currwed)))\n",
    "            if self.Dtime[3] < int(self.current_time(3)):\n",
    "                self.Dtime[4] = int(self.current_time(4)) + 1\n",
    "            else:\n",
    "                self.Dtime[4] = int(self.current_time(4))\n",
    "                \n",
    "            self.Dtime[5] = int(time.strftime('%Y', time.localtime()))\n",
    "        else:\n",
    "            if self.Dtime[3] == 0 or self.Dtime[4] == 0:\n",
    "                self.Dtime = []\n",
    "        \n",
    "        if len(self.Dtime) > 0:\n",
    "            outTime = datetime.datetime(self.Dtime[5], self.Dtime[4], self.Dtime[3], self.Dtime[2], self.Dtime[1], self.Dtime[0])\n",
    "            self.outTime = outTime\n",
    "        else:\n",
    "            self.outTime = False\n",
    "        \n",
    "        return self.outTime"
   ]
  },
  {
   "cell_type": "code",
   "execution_count": 263,
   "metadata": {
    "ExecuteTime": {
     "end_time": "2019-11-26T06:56:04.749789Z",
     "start_time": "2019-11-26T06:56:04.728728Z"
    },
    "scrolled": true
   },
   "outputs": [
    {
     "ename": "ValueError",
     "evalue": "invalid literal for int() with base 10: '9-10'",
     "output_type": "error",
     "traceback": [
      "\u001b[1;31m---------------------------------------------------------------------------\u001b[0m",
      "\u001b[1;31mValueError\u001b[0m                                Traceback (most recent call last)",
      "\u001b[1;32m<ipython-input-263-d74fd988e1bb>\u001b[0m in \u001b[0;36m<module>\u001b[1;34m\u001b[0m\n\u001b[0;32m      5\u001b[0m \u001b[1;33m\u001b[0m\u001b[0m\n\u001b[0;32m      6\u001b[0m \u001b[1;32mif\u001b[0m \u001b[0m__name__\u001b[0m \u001b[1;33m==\u001b[0m \u001b[1;34m\"__main__\"\u001b[0m\u001b[1;33m:\u001b[0m\u001b[1;33m\u001b[0m\u001b[0m\n\u001b[1;32m----> 7\u001b[1;33m     \u001b[0mmain\u001b[0m\u001b[1;33m(\u001b[0m\u001b[1;33m)\u001b[0m\u001b[1;33m\u001b[0m\u001b[0m\n\u001b[0m",
      "\u001b[1;32m<ipython-input-263-d74fd988e1bb>\u001b[0m in \u001b[0;36mmain\u001b[1;34m()\u001b[0m\n\u001b[0;32m      1\u001b[0m \u001b[1;32mdef\u001b[0m \u001b[0mmain\u001b[0m\u001b[1;33m(\u001b[0m\u001b[1;33m)\u001b[0m\u001b[1;33m:\u001b[0m\u001b[1;33m\u001b[0m\u001b[0m\n\u001b[0;32m      2\u001b[0m     \u001b[0mcron_str\u001b[0m \u001b[1;33m=\u001b[0m \u001b[1;34m'0 0 9-10 * * ?'\u001b[0m\u001b[1;33m\u001b[0m\u001b[0m\n\u001b[1;32m----> 3\u001b[1;33m     \u001b[0mtest\u001b[0m \u001b[1;33m=\u001b[0m \u001b[0mCron\u001b[0m\u001b[1;33m(\u001b[0m\u001b[0mcron_str\u001b[0m\u001b[1;33m)\u001b[0m\u001b[1;33m\u001b[0m\u001b[0m\n\u001b[0m\u001b[0;32m      4\u001b[0m     \u001b[0mprint\u001b[0m\u001b[1;33m(\u001b[0m\u001b[0mtest\u001b[0m\u001b[1;33m.\u001b[0m\u001b[0mout_time\u001b[0m\u001b[1;33m(\u001b[0m\u001b[1;33m)\u001b[0m\u001b[1;33m)\u001b[0m\u001b[1;33m\u001b[0m\u001b[0m\n\u001b[0;32m      5\u001b[0m \u001b[1;33m\u001b[0m\u001b[0m\n",
      "\u001b[1;32m<ipython-input-199-fb0a4e78eb58>\u001b[0m in \u001b[0;36m__init__\u001b[1;34m(self, cron_str)\u001b[0m\n\u001b[0;32m     27\u001b[0m                 \u001b[0mself\u001b[0m\u001b[1;33m.\u001b[0m\u001b[0mDtime\u001b[0m\u001b[1;33m.\u001b[0m\u001b[0mappend\u001b[0m\u001b[1;33m(\u001b[0m\u001b[0mint\u001b[0m\u001b[1;33m(\u001b[0m\u001b[0mtime\u001b[0m\u001b[1;33m.\u001b[0m\u001b[0mstrftime\u001b[0m\u001b[1;33m(\u001b[0m\u001b[1;34m'%Y'\u001b[0m\u001b[1;33m,\u001b[0m \u001b[0mtime\u001b[0m\u001b[1;33m.\u001b[0m\u001b[0mlocaltime\u001b[0m\u001b[1;33m(\u001b[0m\u001b[1;33m)\u001b[0m\u001b[1;33m)\u001b[0m\u001b[1;33m)\u001b[0m\u001b[1;33m)\u001b[0m\u001b[1;33m\u001b[0m\u001b[0m\n\u001b[0;32m     28\u001b[0m             \u001b[1;32melse\u001b[0m\u001b[1;33m:\u001b[0m\u001b[1;33m\u001b[0m\u001b[0m\n\u001b[1;32m---> 29\u001b[1;33m                 \u001b[0mself\u001b[0m\u001b[1;33m.\u001b[0m\u001b[0mDtime\u001b[0m\u001b[1;33m.\u001b[0m\u001b[0mappend\u001b[0m\u001b[1;33m(\u001b[0m\u001b[0mint\u001b[0m\u001b[1;33m(\u001b[0m\u001b[0mself\u001b[0m\u001b[1;33m.\u001b[0m\u001b[0mcron\u001b[0m\u001b[1;33m[\u001b[0m\u001b[0mi\u001b[0m\u001b[1;33m]\u001b[0m\u001b[1;33m)\u001b[0m\u001b[1;33m)\u001b[0m\u001b[1;33m\u001b[0m\u001b[0m\n\u001b[0m\u001b[0;32m     30\u001b[0m \u001b[1;33m\u001b[0m\u001b[0m\n\u001b[0;32m     31\u001b[0m     \u001b[1;32mdef\u001b[0m \u001b[0msplit_time\u001b[0m\u001b[1;33m(\u001b[0m\u001b[0mself\u001b[0m\u001b[1;33m,\u001b[0m \u001b[0mi\u001b[0m\u001b[1;33m,\u001b[0m \u001b[0mcron_str\u001b[0m\u001b[1;33m)\u001b[0m\u001b[1;33m:\u001b[0m\u001b[1;33m\u001b[0m\u001b[0m\n",
      "\u001b[1;31mValueError\u001b[0m: invalid literal for int() with base 10: '9-10'"
     ]
    }
   ],
   "source": [
    "def main():\n",
    "    cron_str = '0 0 9-10 * * ?'\n",
    "    test = Cron(cron_str)\n",
    "    print(test.out_time())\n",
    "\n",
    "if __name__ == \"__main__\":\n",
    "    main()"
   ]
  },
  {
   "cell_type": "code",
   "execution_count": 4,
   "metadata": {
    "ExecuteTime": {
     "end_time": "2019-11-28T04:02:19.228583Z",
     "start_time": "2019-11-28T04:02:16.177825Z"
    }
   },
   "outputs": [],
   "source": [
    "import cx_Oracle\n",
    "excel = pd.read_excel(r'C:\\Users\\leo.zhangzs\\Documents\\HCC\\Campagin\\import\\scr888.xlsx',sheet_name=0,header=0,)\n",
    "excel = excel.sort_values('ID_SOURCE')\n",
    "db = cx_Oracle.connect('HCCN_LEOZHANGZS','yATbUPR64L6A','SASXRCN.HOMECREDIT.CN') #连接数据库\n",
    "cur = db.cursor()\n",
    "res_index = []\n",
    "res_col = []\n",
    "for a in [excel['ID_SOURCE'][i:i+500] for i in range(0,len(excel),500)]:\n",
    "    y = \"','\".join([str(s) for s in list(a) ])\n",
    "    sql = f\"select ee.id_source,ee.id_xrm_employee from dm_campaign.dct_xrm_employee ee where ee.id_source in ('{y}')  and ee.code_xrm_employee_role in ('SA','RA','TIPPER','DSM','DSMT','SDSM') order by ee.id_source\"\n",
    "    cur.execute(sql)\n",
    "    rows  = cur.fetchall()\n",
    "    res_index += [i[0] for i in rows]\n",
    "    res_col += [i[1] for i in rows]"
   ]
  },
  {
   "cell_type": "code",
   "execution_count": 11,
   "metadata": {
    "ExecuteTime": {
     "end_time": "2019-11-28T04:09:16.093010Z",
     "start_time": "2019-11-28T04:09:16.090000Z"
    }
   },
   "outputs": [],
   "source": [
    "excel = excel.set_index(['ID_SOURCE'])"
   ]
  },
  {
   "cell_type": "code",
   "execution_count": 28,
   "metadata": {
    "ExecuteTime": {
     "end_time": "2019-11-28T05:19:01.598656Z",
     "start_time": "2019-11-28T05:19:01.582580Z"
    }
   },
   "outputs": [],
   "source": [
    "excel.loc[res_index, 'ID_XRM_EMPLOYEE'] = res_col"
   ]
  },
  {
   "cell_type": "code",
   "execution_count": 31,
   "metadata": {
    "ExecuteTime": {
     "end_time": "2019-11-28T05:21:12.595210Z",
     "start_time": "2019-11-28T05:21:12.586202Z"
    }
   },
   "outputs": [],
   "source": [
    "excel = excel[(excel['ID_XRM_EMPLOYEE'].isna() == False)]"
   ]
  },
  {
   "cell_type": "code",
   "execution_count": 32,
   "metadata": {
    "ExecuteTime": {
     "end_time": "2019-11-28T05:21:20.181640Z",
     "start_time": "2019-11-28T05:21:20.175598Z"
    }
   },
   "outputs": [
    {
     "data": {
      "text/plain": [
       "2454"
      ]
     },
     "execution_count": 32,
     "metadata": {},
     "output_type": "execute_result"
    }
   ],
   "source": [
    "len(excel)"
   ]
  },
  {
   "cell_type": "code",
   "execution_count": 30,
   "metadata": {
    "ExecuteTime": {
     "end_time": "2019-11-28T05:19:27.538742Z",
     "start_time": "2019-11-28T05:19:27.508736Z"
    }
   },
   "outputs": [],
   "source": [
    "import re\n",
    "import csv\n",
    "\n",
    "char = [i for i in [i for i in excel.keys()] if re.findall(r'^[^A-z]+|[A-z_]+', i)[0]=='CHAR']\n",
    "num = [i for i in [i for i in excel.keys()] if re.findall(r'^[^A-z]+|[A-z_]+', i)[0]=='NUM']\n",
    "dtime = [i for i in [i for i in excel.keys()] if re.findall(r'^[^A-z]+|[A-z_]+', i)[0]=='DATE']\n",
    "out_put = ['ID_XRM_EMPLOYEE'] + char + num + dtime\n",
    "excel[char] = excel[char].astype(str)\n",
    "f = lambda x: '\"'+ str(x)+'\"'\n",
    "excel[char] = excel[char].applymap(f)\n",
    "\n",
    "excel[out_put].to_csv('testresult.csv', index=0, sep=\";\", date_format='%d.%m.%Y', encoding='utf-8', quoting=csv.QUOTE_NONE,escapechar=';')"
   ]
  },
  {
   "cell_type": "code",
   "execution_count": 21,
   "metadata": {
    "ExecuteTime": {
     "end_time": "2019-11-28T04:17:05.202101Z",
     "start_time": "2019-11-28T04:17:04.312631Z"
    }
   },
   "outputs": [],
   "source": [
    "import io\n",
    "D3_excel = r'C:\\Users\\leo.zhangzs\\Documents\\My Received Files\\test.xlsx'\n",
    "excel.to_excel(pd.ExcelWriter(D3_excel),\n",
    "    sheet_name='Sheet1')"
   ]
  }
 ],
 "metadata": {
  "hide_input": false,
  "kernelspec": {
   "display_name": "py36_32",
   "language": "python",
   "name": "py36_32"
  },
  "language_info": {
   "codemirror_mode": {
    "name": "ipython",
    "version": 3
   },
   "file_extension": ".py",
   "mimetype": "text/x-python",
   "name": "python",
   "nbconvert_exporter": "python",
   "pygments_lexer": "ipython3",
   "version": "3.6.5"
  },
  "toc": {
   "base_numbering": 1,
   "nav_menu": {},
   "number_sections": true,
   "sideBar": true,
   "skip_h1_title": false,
   "title_cell": "Table of Contents",
   "title_sidebar": "Contents",
   "toc_cell": false,
   "toc_position": {},
   "toc_section_display": true,
   "toc_window_display": false
  },
  "varInspector": {
   "cols": {
    "lenName": 16,
    "lenType": 16,
    "lenVar": 40
   },
   "kernels_config": {
    "python": {
     "delete_cmd_postfix": "",
     "delete_cmd_prefix": "del ",
     "library": "var_list.py",
     "varRefreshCmd": "print(var_dic_list())"
    },
    "r": {
     "delete_cmd_postfix": ") ",
     "delete_cmd_prefix": "rm(",
     "library": "var_list.r",
     "varRefreshCmd": "cat(var_dic_list()) "
    }
   },
   "types_to_exclude": [
    "module",
    "function",
    "builtin_function_or_method",
    "instance",
    "_Feature"
   ],
   "window_display": false
  }
 },
 "nbformat": 4,
 "nbformat_minor": 2
}
