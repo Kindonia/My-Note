{
 "cells": [
  {
   "cell_type": "markdown",
   "metadata": {},
   "source": [
    "# DWH Job monitor"
   ]
  },
  {
   "cell_type": "markdown",
   "metadata": {},
   "source": [
    "## Loading"
   ]
  },
  {
   "cell_type": "code",
   "execution_count": 1,
   "metadata": {
    "ExecuteTime": {
     "end_time": "2020-04-21T03:35:37.108993Z",
     "start_time": "2020-04-21T03:35:36.520789Z"
    }
   },
   "outputs": [],
   "source": [
    "import sys\n",
    "import os\n",
    "import datetime\n",
    "import time\n",
    "import traceback\n",
    "import logging\n",
    "import pandas as pd\n",
    "import tkinter\n",
    "import tkinter.messagebox\n",
    "\n",
    "BASE_DIR = r'C:\\Users\\leo.zhangzs\\AppData\\Roaming\\Code\\User\\VScode\\py3\\UAT_Test'\n",
    "sys.path.append(BASE_DIR)\n",
    "\n",
    "from string import Template\n",
    "from core.configadmin import ConfigAdmin\n",
    "from core.color_me import ColorMe\n",
    "from core import log_ctrl\n",
    "from core.outlook import send_email\n",
    "from core.cron import Cron\n",
    "from core.sqlplus import SqlPlus\n",
    "\n",
    "config_path = os.path.join(BASE_DIR, 'conf')\n",
    "config_name = 'setting.ini'\n",
    "configs = ConfigAdmin(config_path, config_name)\n",
    "\n",
    "logs = log_ctrl.de8ug_log(logger_name='Main_DWH', log_file=os.path.join(BASE_DIR, 'log', f'{time.strftime(\"%Y%m\",time.localtime())}-run.log'), level = logging.INFO)\n",
    "# , level = logging.INFO)\n",
    "                                                                        \n",
    "Temp1 = os.path.join(BASE_DIR, 'conf', 'CSS', configs.read_config('CSS_Style','dwhtemplate'))\n",
    "TempError = os.path.join(BASE_DIR, 'conf', 'CSS', configs.read_config('CSS_Style','errortemplate'))"
   ]
  },
  {
   "cell_type": "markdown",
   "metadata": {},
   "source": [
    "## Class"
   ]
  },
  {
   "cell_type": "code",
   "execution_count": 3,
   "metadata": {
    "ExecuteTime": {
     "end_time": "2020-04-21T03:38:19.150376Z",
     "start_time": "2020-04-21T03:38:19.121798Z"
    },
    "code_folding": [
     27,
     74
    ]
   },
   "outputs": [],
   "source": [
    "class DWH_Jobs(object):\n",
    "    \"\"\"\n",
    "    管理DWH Schedule Jobs（SQL):\n",
    "    1.读取Excel中的任务列表（到达执行时间，且为激活状态的工作任务）\n",
    "    2.执行SQL脚本\n",
    "    3.发送执行结果通知\n",
    "    \"\"\"\n",
    "    def __init__(self):\n",
    "        \"\"\"\n",
    "        db_user: 数据库用户名\n",
    "        db_password：数据库密码\n",
    "        db_service：数据库地址\n",
    "        JobList： Excel数据表\n",
    "        logs：日志\n",
    "        \"\"\"\n",
    "        self.Sql_Processer = SqlPlus(configs.read_config(\"SAS_db\",\"dwh_user\"), configs.read_config(\"SAS_db\",\"dwh_password\"), configs.read_config(\"SAS_db\",\"dwh_service\"))\n",
    "        self.df = pd.read_excel(os.path.join(BASE_DIR, 'db', 'cache', configs.read_config(\"FILE_NM\",\"dwh_list\")), 'dwh_job', convert_float=False)\n",
    "        self.df.EXCUTION_TIME = pd.to_datetime(self.df.EXCUTION_TIME, format=\"%Y/%m/%d %H:%M:%S\")\n",
    "        self.Job_List = self.df[(self.df['CAMPAIGN_STATUS'] == 'A') & \n",
    "            (self.df['SCRIPTS'].isna() == False) & \n",
    "            (datetime.datetime.now() >= self.df.SCHEDULE_TIME.apply(lambda x: Cron(x).out_time())) & \n",
    "            (self.df.SCRIPTS.apply(lambda x: os.path.exists(os.path.join(BASE_DIR, 'db','DWH_Jobs',str(x))) == True))]\n",
    "        \n",
    "        self.Produce_list = self.Job_List[self.Job_List.apply(lambda x:(datetime.datetime.now() - x['EXCUTION_TIME']).total_seconds()/3600 - x['INTERVAL_HOURS'],axis=1) > 0]\n",
    "        self.log = logs\n",
    "        self.log.debug('Initial Completed!')\n",
    "        \n",
    "    def start(self):\n",
    "        \"\"\"\n",
    "        开始执行SQL Scripts\n",
    "        \"\"\"\n",
    "        if len(self.Produce_list) == 0 :\n",
    "            print(ColorMe(\"Warning: \").yellow(),\"There are no more jobs to processing right now.\")\n",
    "            self.log.debug(\"No more jobs.\")\n",
    "            return None\n",
    "        # self.log.info(self.Produce_list)\n",
    "        for i in self.Produce_list.index:\n",
    "            self.log.info(self.Produce_list[self.Produce_list.index == i]['SCRIPTS'])\n",
    "            sqlName = self.Produce_list[self.Produce_list.index == i]['SCRIPTS'].iloc[0]\n",
    "            sqlfile = os.path.join(BASE_DIR, 'db', 'DWH_Jobs', sqlName)\n",
    "            CAMPAIGN_NM = self.Produce_list[self.Produce_list.index == i]['CAMPAIGN_NM'].iloc[0]\n",
    "            SCRIPTS_TYPE = self.Produce_list[self.Produce_list.index == i]['SCRIPTS_TYPE'].iloc[0]\n",
    "            result = {'Status': None, 'msg': None}\n",
    "            self.log.debug(f'Start to process : {CAMPAIGN_NM}')\n",
    "            try:\n",
    "                # 判断SQL脚本类型，选择对应执行方法\n",
    "                if SCRIPTS_TYPE == 'EXECUTE':\n",
    "                    result = self.Sql_Processer.excute(sqlfile)\n",
    "                elif SCRIPTS_TYPE == 'PRODUCE':\n",
    "                    result = self.Sql_Processer.produce(sqlfile)\n",
    "                else:\n",
    "                    raise ValueError(\"Scripts Type Error !!!\")\n",
    "                if result['Status'] == True:\n",
    "                    self.df.loc[i, 'EXCUTION_TIME'] = datetime.datetime.strftime(datetime.datetime.now(), '%Y/%m/%d %X')\n",
    "                    print(ColorMe(\"Success: \").green(),f\"Process - {sqlName} success.\")\n",
    "                else:\n",
    "                    print(ColorMe(\"Filled: \").red(),f\"Process - {sqlName} Failed!!!\")\n",
    "                senter = \"\"\n",
    "                # 判断是否需要发送结果通知\n",
    "                if self.Produce_list[self.Produce_list.index == i]['IS_NOTIFY'].iloc[0] == 'Y':\n",
    "                    senter = self.Produce_list[self.Produce_list.index == i]['SENTER'].to_string(na_rep=None, index=False)\n",
    "                # 发送结果通知\n",
    "                self.notify(senter, CAMPAIGN_NM, result, sqlfile)\n",
    "            except Exception as e:\n",
    "                # 程序异常，发送异常警号邮件至相关责任人。\n",
    "                self.log.critical(traceback.format_exc())\n",
    "                sender = 'Leo.ZhangZS@homecredit.cn'\n",
    "                self.notify(sender, None, traceback.format_exc(), sqlfile)\n",
    "            finally:\n",
    "                writer = pd.ExcelWriter(JobList)\n",
    "                self.df.to_excel(writer, 'dwh_job', index=0)\n",
    "                writer.save()\n",
    "                self.log.debug(f\"End to process : {CAMPAIGN_NM}\")\n",
    "                \n",
    "    def notify(self, sent_to, Camp_nm = None, result = None, attachement = None):\n",
    "        \"\"\"\n",
    "        发送结果通知\n",
    "        \"\"\"\n",
    "        copyer = 'Leo.ZhangZS@homecredit.cn;Jason.JiJJ@homecreditcfc.cn;Caroline.Cui@homecredit.cn;Iris.Ji@homecreditcfc.cn;'\n",
    "        content_html = \"\"\n",
    "        subject = \"DWH Process Resume：\"\n",
    "         # 判断是否存在发送人地址\n",
    "        if len(sent_to) < 5:\n",
    "            # 联系人地址不合法，自动填充默认联系人\n",
    "            print(ColorMe(\"Warning: \").yellow(),f\"No Senters, sent to me only.\")\n",
    "            # self.log.warning(f'No Senters.')\n",
    "            sent_to = 'Leo.ZhangZS@homecredit.cn'\n",
    "        # 如果联系人只有我，为测试用例或异常值，清空抄送人\n",
    "        if sent_to == 'Leo.ZhangZS@homecredit.cn':\n",
    "            copyer = None\n",
    "        # 如果Camp_nm 为空，则为异常值邮件。\n",
    "        if Camp_nm != None:\n",
    "            # 根据返回，判断执行结果，发送对应的结果通知。\n",
    "            if result['Status'] == True:\n",
    "                CampStatus = '<p><strong>Status :&nbsp;</strong><span style=\"color:#99BB00;\">Successful</span></p>'\n",
    "                attachement = None\n",
    "                subject = subject + 'Successful'\n",
    "                with open(Temp1, 'r') as f:\n",
    "                    t1 = Template(f.read())\n",
    "                    content_html = t1.substitute(CampName=Camp_nm, CampStatus=CampStatus, DetailInfo=result['msg'])\n",
    "            else:\n",
    "                CampStatus = '<p><strong>Status :&nbsp;</strong><span style=\"color:#E53333;\">Failed</span></p>'\n",
    "                subject = subject + 'Failed'\n",
    "                ProcessName = os.path.basename(attachement)\n",
    "                EffectLevel = 'Medium'\n",
    "                ContactNotice = sent_to\n",
    "                RescueOperation = \"Manually execute the attachment script\"\n",
    "                EorrorTime = datetime.datetime.strftime(datetime.datetime.now(), \"%Y/%m/%d %X\")\n",
    "                with open(TempError, 'r') as f:\n",
    "                    t1 = Template(f.read())\n",
    "                    content_html = t1.substitute(ProcName=ProcessName, EffectLevel=EffectLevel, ContactNotice=ContactNotice, ResOpt=RescueOperation, EorrTime=EorrorTime, EorrInfo=result['msg'])\n",
    "        else:\n",
    "            subject = subject + 'Error'\n",
    "            ProcessName = 'Main_DWH.py'\n",
    "            EffectLevel = 'High'\n",
    "            ContactNotice = 'Leo.ZhangZS'\n",
    "            RescueOperation = 'Check the process log'\n",
    "            EorrorTime = datetime.datetime.strftime(datetime.datetime.now(), \"%Y/%m/%d %X\")\n",
    "            with open(TempError, 'r') as f:\n",
    "                t1 = Template(f.read())\n",
    "                content_html = t1.substitute(ProcName=ProcessName, EffectLevel=EffectLevel, ContactNotice=ContactNotice, ResOpt=RescueOperation, EorrTime=EorrorTime, EorrInfo=result)\n",
    "        # 如果邮件发送失败，触发异常\n",
    "        if not send_email.outlook(sent_to, subject, content_html, copyer, attachement):\n",
    "            raise Exception('Send E-mail Failed!')"
   ]
  },
  {
   "cell_type": "markdown",
   "metadata": {},
   "source": [
    "## Test"
   ]
  },
  {
   "cell_type": "code",
   "execution_count": 14,
   "metadata": {
    "ExecuteTime": {
     "end_time": "2019-12-30T07:40:24.317564Z",
     "start_time": "2019-12-30T07:40:24.309500Z"
    },
    "code_folding": []
   },
   "outputs": [],
   "source": [
    "def main():\n",
    "    try:\n",
    "        dwh_jobs = DWH_Jobs()\n",
    "        dwh_jobs.start()\n",
    "        return True\n",
    "    except Exception as e:\n",
    "        sent_to = 'Leo.ZhangZS@homecredit.cn'\n",
    "        subject = 'Program Error'\n",
    "        ProcessName = 'Main_DWH.py'\n",
    "        EffectLevel = 'High'\n",
    "        ContactNotice = 'Leo.ZhangZS'\n",
    "        RescueOperation = 'Eorror Info'\n",
    "        EorrorTime = datetime.datetime.strftime(datetime.datetime.now(), \"%Y/%m/%d %X\")\n",
    "        with open(TempError, 'r') as f:\n",
    "            t1 = Template(f.read())\n",
    "            content_html = t1.substitute(ProcName=ProcessName, EffectLevel=EffectLevel, ContactNotice=ContactNotice, ResOpt=RescueOperation, EorrTime=EorrorTime, EorrInfo=traceback.format_exc())\n",
    "        logs.critical(traceback.format_exc())\n",
    "        send_email.outlook(sent_to, subject, content_html, None, None)\n",
    "    #     tkinter.messagebox.showerror(\"ERROR\", e)\n",
    "        return False"
   ]
  },
  {
   "cell_type": "code",
   "execution_count": 16,
   "metadata": {
    "ExecuteTime": {
     "end_time": "2019-12-30T07:40:57.853182Z",
     "start_time": "2019-12-30T07:40:56.281849Z"
    }
   },
   "outputs": [
    {
     "name": "stderr",
     "output_type": "stream",
     "text": [
      "2019-12-30 15:40:56,473 <ipython-input-13-d1fcc1d9d9af> [line:38] Main_DWH INFO 1.0    SMS_POS_Visit_Feedback_Tipper_SCR-931.sql\n",
      "Name: SCRIPTS, dtype: object\n",
      "2019-12-30 15:40:56,473 <ipython-input-13-d1fcc1d9d9af> [line:38] Main_DWH INFO 1.0    SMS_POS_Visit_Feedback_Tipper_SCR-931.sql\n",
      "Name: SCRIPTS, dtype: object\n",
      "2019-12-30 15:40:57,680 sqlplus.py [line:69] sqlplus DEBUG 数据传输成功\n"
     ]
    },
    {
     "name": "stdout",
     "output_type": "stream",
     "text": [
      "\u001b[32;1mSuccess: \u001b[0m Process - SMS_POS_Visit_Feedback_Tipper_SCR-931.sql success.\n"
     ]
    },
    {
     "data": {
      "text/plain": [
       "True"
      ]
     },
     "execution_count": 16,
     "metadata": {},
     "output_type": "execute_result"
    }
   ],
   "source": [
    "main()"
   ]
  },
  {
   "cell_type": "code",
   "execution_count": 8,
   "metadata": {
    "ExecuteTime": {
     "end_time": "2020-04-21T03:41:08.255101Z",
     "start_time": "2020-04-21T03:41:08.213986Z"
    }
   },
   "outputs": [
    {
     "data": {
      "text/html": [
       "<div>\n",
       "<style>\n",
       "    .dataframe thead tr:only-child th {\n",
       "        text-align: right;\n",
       "    }\n",
       "\n",
       "    .dataframe thead th {\n",
       "        text-align: left;\n",
       "    }\n",
       "\n",
       "    .dataframe tbody tr th {\n",
       "        vertical-align: top;\n",
       "    }\n",
       "</style>\n",
       "<table border=\"1\" class=\"dataframe\">\n",
       "  <thead>\n",
       "    <tr style=\"text-align: right;\">\n",
       "      <th></th>\n",
       "      <th>CAMPAIGN_NM</th>\n",
       "      <th>CAMPAIGN_CD</th>\n",
       "      <th>COMMUNICATION_CD</th>\n",
       "      <th>CAMPAIGN_STATUS</th>\n",
       "      <th>SCHEDULE_TIME</th>\n",
       "      <th>SCRIPTS_TYPE</th>\n",
       "      <th>EXCUTION_TIME</th>\n",
       "      <th>INTERVAL_HOURS</th>\n",
       "      <th>SCRIPTS</th>\n",
       "      <th>IS_NOTIFY</th>\n",
       "      <th>...</th>\n",
       "      <th>PARM3</th>\n",
       "      <th>PARM4</th>\n",
       "      <th>PARM5</th>\n",
       "      <th>PARM6</th>\n",
       "      <th>PARM7</th>\n",
       "      <th>PARM8</th>\n",
       "      <th>PARM9</th>\n",
       "      <th>PARM10</th>\n",
       "      <th>PARM11</th>\n",
       "      <th>PARM12</th>\n",
       "    </tr>\n",
       "  </thead>\n",
       "  <tbody>\n",
       "    <tr>\n",
       "      <th>0</th>\n",
       "      <td>CALL_SA_document_error_SCR-808</td>\n",
       "      <td>CAMP1305</td>\n",
       "      <td>COMM5220,COMM5221</td>\n",
       "      <td>A</td>\n",
       "      <td>0 10 17 0 0 3</td>\n",
       "      <td>PRODUCE</td>\n",
       "      <td>2019-11-24 10:00:00</td>\n",
       "      <td>24.0</td>\n",
       "      <td>CALL_SA_document_error_SCR-808.sql</td>\n",
       "      <td>Y</td>\n",
       "      <td>...</td>\n",
       "      <td>NaN</td>\n",
       "      <td>NaN</td>\n",
       "      <td>NaN</td>\n",
       "      <td>NaN</td>\n",
       "      <td>NaN</td>\n",
       "      <td>NaN</td>\n",
       "      <td>NaN</td>\n",
       "      <td>NaN</td>\n",
       "      <td>NaN</td>\n",
       "      <td>NaN</td>\n",
       "    </tr>\n",
       "    <tr>\n",
       "      <th>1</th>\n",
       "      <td>SMS_POS_Visit_Feedback_Tipper_SCR-931</td>\n",
       "      <td>CAMP1444</td>\n",
       "      <td>COMM6126</td>\n",
       "      <td>A</td>\n",
       "      <td>0 59 10 * * ?</td>\n",
       "      <td>PRODUCE</td>\n",
       "      <td>2019-12-30 15:40:57</td>\n",
       "      <td>24.0</td>\n",
       "      <td>SMS_POS_Visit_Feedback_Tipper_SCR-931.sql</td>\n",
       "      <td>Y</td>\n",
       "      <td>...</td>\n",
       "      <td>NaN</td>\n",
       "      <td>NaN</td>\n",
       "      <td>NaN</td>\n",
       "      <td>NaN</td>\n",
       "      <td>NaN</td>\n",
       "      <td>NaN</td>\n",
       "      <td>NaN</td>\n",
       "      <td>NaN</td>\n",
       "      <td>NaN</td>\n",
       "      <td>NaN</td>\n",
       "    </tr>\n",
       "  </tbody>\n",
       "</table>\n",
       "<p>2 rows × 24 columns</p>\n",
       "</div>"
      ],
      "text/plain": [
       "                             CAMPAIGN_NM CAMPAIGN_CD   COMMUNICATION_CD  \\\n",
       "0         CALL_SA_document_error_SCR-808    CAMP1305  COMM5220,COMM5221   \n",
       "1  SMS_POS_Visit_Feedback_Tipper_SCR-931    CAMP1444           COMM6126   \n",
       "\n",
       "  CAMPAIGN_STATUS  SCHEDULE_TIME SCRIPTS_TYPE       EXCUTION_TIME  \\\n",
       "0               A  0 10 17 0 0 3      PRODUCE 2019-11-24 10:00:00   \n",
       "1               A  0 59 10 * * ?      PRODUCE 2019-12-30 15:40:57   \n",
       "\n",
       "   INTERVAL_HOURS                                    SCRIPTS IS_NOTIFY  \\\n",
       "0            24.0         CALL_SA_document_error_SCR-808.sql         Y   \n",
       "1            24.0  SMS_POS_Visit_Feedback_Tipper_SCR-931.sql         Y   \n",
       "\n",
       "    ...   PARM3  PARM4  PARM5  PARM6  PARM7  PARM8  PARM9  PARM10  PARM11  \\\n",
       "0   ...     NaN    NaN    NaN    NaN    NaN    NaN    NaN     NaN     NaN   \n",
       "1   ...     NaN    NaN    NaN    NaN    NaN    NaN    NaN     NaN     NaN   \n",
       "\n",
       "   PARM12  \n",
       "0     NaN  \n",
       "1     NaN  \n",
       "\n",
       "[2 rows x 24 columns]"
      ]
     },
     "execution_count": 8,
     "metadata": {},
     "output_type": "execute_result"
    }
   ],
   "source": [
    "df = pd.read_excel(os.path.join(BASE_DIR, 'db', 'cache', configs.read_config(\"FILE_NM\",\"dwh_list\")), 'dwh_job', convert_float=False)\n",
    "df.EXCUTION_TIME = pd.to_datetime(df.EXCUTION_TIME, format=\"%Y/%m/%d %H:%M:%S\")\n",
    "df"
   ]
  },
  {
   "cell_type": "code",
   "execution_count": 15,
   "metadata": {
    "ExecuteTime": {
     "end_time": "2020-04-21T03:42:55.292985Z",
     "start_time": "2020-04-21T03:42:55.264911Z"
    }
   },
   "outputs": [
    {
     "data": {
      "text/html": [
       "<div>\n",
       "<style>\n",
       "    .dataframe thead tr:only-child th {\n",
       "        text-align: right;\n",
       "    }\n",
       "\n",
       "    .dataframe thead th {\n",
       "        text-align: left;\n",
       "    }\n",
       "\n",
       "    .dataframe tbody tr th {\n",
       "        vertical-align: top;\n",
       "    }\n",
       "</style>\n",
       "<table border=\"1\" class=\"dataframe\">\n",
       "  <thead>\n",
       "    <tr style=\"text-align: right;\">\n",
       "      <th></th>\n",
       "      <th>CAMPAIGN_NM</th>\n",
       "      <th>CAMPAIGN_CD</th>\n",
       "      <th>COMMUNICATION_CD</th>\n",
       "      <th>CAMPAIGN_STATUS</th>\n",
       "      <th>SCHEDULE_TIME</th>\n",
       "      <th>SCRIPTS_TYPE</th>\n",
       "      <th>EXCUTION_TIME</th>\n",
       "      <th>INTERVAL_HOURS</th>\n",
       "      <th>SCRIPTS</th>\n",
       "      <th>IS_NOTIFY</th>\n",
       "      <th>...</th>\n",
       "      <th>PARM3</th>\n",
       "      <th>PARM4</th>\n",
       "      <th>PARM5</th>\n",
       "      <th>PARM6</th>\n",
       "      <th>PARM7</th>\n",
       "      <th>PARM8</th>\n",
       "      <th>PARM9</th>\n",
       "      <th>PARM10</th>\n",
       "      <th>PARM11</th>\n",
       "      <th>PARM12</th>\n",
       "    </tr>\n",
       "  </thead>\n",
       "  <tbody>\n",
       "    <tr>\n",
       "      <th>1</th>\n",
       "      <td>SMS_POS_Visit_Feedback_Tipper_SCR-931</td>\n",
       "      <td>CAMP1444</td>\n",
       "      <td>COMM6126</td>\n",
       "      <td>A</td>\n",
       "      <td>0 59 10 * * ?</td>\n",
       "      <td>PRODUCE</td>\n",
       "      <td>2019-12-30 15:40:57</td>\n",
       "      <td>24.0</td>\n",
       "      <td>SMS_POS_Visit_Feedback_Tipper_SCR-931.sql</td>\n",
       "      <td>Y</td>\n",
       "      <td>...</td>\n",
       "      <td>NaN</td>\n",
       "      <td>NaN</td>\n",
       "      <td>NaN</td>\n",
       "      <td>NaN</td>\n",
       "      <td>NaN</td>\n",
       "      <td>NaN</td>\n",
       "      <td>NaN</td>\n",
       "      <td>NaN</td>\n",
       "      <td>NaN</td>\n",
       "      <td>NaN</td>\n",
       "    </tr>\n",
       "  </tbody>\n",
       "</table>\n",
       "<p>1 rows × 24 columns</p>\n",
       "</div>"
      ],
      "text/plain": [
       "                             CAMPAIGN_NM CAMPAIGN_CD COMMUNICATION_CD  \\\n",
       "1  SMS_POS_Visit_Feedback_Tipper_SCR-931    CAMP1444         COMM6126   \n",
       "\n",
       "  CAMPAIGN_STATUS  SCHEDULE_TIME SCRIPTS_TYPE       EXCUTION_TIME  \\\n",
       "1               A  0 59 10 * * ?      PRODUCE 2019-12-30 15:40:57   \n",
       "\n",
       "   INTERVAL_HOURS                                    SCRIPTS IS_NOTIFY  \\\n",
       "1            24.0  SMS_POS_Visit_Feedback_Tipper_SCR-931.sql         Y   \n",
       "\n",
       "    ...   PARM3  PARM4  PARM5  PARM6  PARM7  PARM8  PARM9  PARM10  PARM11  \\\n",
       "1   ...     NaN    NaN    NaN    NaN    NaN    NaN    NaN     NaN     NaN   \n",
       "\n",
       "   PARM12  \n",
       "1     NaN  \n",
       "\n",
       "[1 rows x 24 columns]"
      ]
     },
     "execution_count": 15,
     "metadata": {},
     "output_type": "execute_result"
    }
   ],
   "source": [
    "df[(df['CAMPAIGN_STATUS'] == 'A') & \n",
    "(df['SCRIPTS'].isnull() == False) & \n",
    "(datetime.datetime.now() >= df.SCHEDULE_TIME.apply(lambda x: Cron(x).out_time())) & \n",
    "(df.SCRIPTS.apply(lambda x: os.path.exists(os.path.join(BASE_DIR, 'db','DWH_Jobs',str(x))) == True))]"
   ]
  }
 ],
 "metadata": {
  "hide_input": false,
  "kernelspec": {
   "display_name": "py36_32",
   "language": "python",
   "name": "py36_32"
  },
  "language_info": {
   "codemirror_mode": {
    "name": "ipython",
    "version": 3
   },
   "file_extension": ".py",
   "mimetype": "text/x-python",
   "name": "python",
   "nbconvert_exporter": "python",
   "pygments_lexer": "ipython3",
   "version": "3.6.5"
  },
  "toc": {
   "base_numbering": 1,
   "nav_menu": {},
   "number_sections": true,
   "sideBar": true,
   "skip_h1_title": false,
   "title_cell": "Table of Contents",
   "title_sidebar": "Contents",
   "toc_cell": false,
   "toc_position": {},
   "toc_section_display": true,
   "toc_window_display": false
  },
  "varInspector": {
   "cols": {
    "lenName": 16,
    "lenType": 16,
    "lenVar": 40
   },
   "kernels_config": {
    "python": {
     "delete_cmd_postfix": "",
     "delete_cmd_prefix": "del ",
     "library": "var_list.py",
     "varRefreshCmd": "print(var_dic_list())"
    },
    "r": {
     "delete_cmd_postfix": ") ",
     "delete_cmd_prefix": "rm(",
     "library": "var_list.r",
     "varRefreshCmd": "cat(var_dic_list()) "
    }
   },
   "types_to_exclude": [
    "module",
    "function",
    "builtin_function_or_method",
    "instance",
    "_Feature"
   ],
   "window_display": false
  }
 },
 "nbformat": 4,
 "nbformat_minor": 2
}
