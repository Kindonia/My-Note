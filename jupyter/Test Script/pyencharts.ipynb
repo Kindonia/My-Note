{
 "cells": [
  {
   "cell_type": "markdown",
   "metadata": {
    "ExecuteTime": {
     "end_time": "2019-09-16T02:50:58.666331Z",
     "start_time": "2019-09-16T02:50:58.663318Z"
    },
    "heading_collapsed": true
   },
   "source": [
    "# PyEncharts"
   ]
  },
  {
   "cell_type": "markdown",
   "metadata": {
    "heading_collapsed": true,
    "hidden": true
   },
   "source": [
    "## 快速开始"
   ]
  },
  {
   "cell_type": "markdown",
   "metadata": {
    "heading_collapsed": true,
    "hidden": true
   },
   "source": [
    "### 安装"
   ]
  },
  {
   "cell_type": "code",
   "execution_count": null,
   "metadata": {
    "ExecuteTime": {
     "end_time": "2019-09-16T02:53:43.528768Z",
     "start_time": "2019-09-16T02:53:40.076262Z"
    },
    "hidden": true
   },
   "outputs": [],
   "source": [
    "pip install pyecharts"
   ]
  },
  {
   "cell_type": "markdown",
   "metadata": {
    "hidden": true
   },
   "source": [
    "如果想直接将图片保存为 png, pdf, gif 格式的文件，可以使用 pyecharts-snapshot。使用该插件请确保你的系统上已经安装了 Nodejs 环境。\n",
    "* 安装 phantomjs \n",
    "`npm install -g phantomjs-prebuilt`\n",
    "\n",
    "* 安装 pyecharts-snapshot\n",
    "`pip install pyecharts-snapshot`"
   ]
  },
  {
   "cell_type": "markdown",
   "metadata": {
    "hidden": true
   },
   "source": [
    "源码安装\n",
    "```\n",
    "$ git clone https://github.com/pyecharts/pyecharts.git\n",
    "$ cd pyecharts\n",
    "$ pip install -r requirements.txt\n",
    "$ python setup.py install\n",
    "# 或者执行 python install.py\n",
    "```"
   ]
  },
  {
   "cell_type": "markdown",
   "metadata": {
    "hidden": true
   },
   "source": [
    "### 快速上手"
   ]
  },
  {
   "cell_type": "markdown",
   "metadata": {
    "heading_collapsed": true,
    "hidden": true
   },
   "source": [
    "#### 第一个图表"
   ]
  },
  {
   "cell_type": "code",
   "execution_count": 73,
   "metadata": {
    "ExecuteTime": {
     "end_time": "2020-06-18T05:36:55.516148Z",
     "start_time": "2020-06-18T05:36:55.511135Z"
    },
    "hidden": true
   },
   "outputs": [
    {
     "data": {
      "text/plain": [
       "<pyecharts.charts.basic_charts.bar.Bar at 0x10777b90>"
      ]
     },
     "execution_count": 73,
     "metadata": {},
     "output_type": "execute_result"
    }
   ],
   "source": [
    "from pyecharts.charts import Bar\n",
    "\n",
    "bar = Bar()\n",
    "bar.add_xaxis([\"衬衫\", \"羊毛衫\", \"雪纺衫\", \"裤子\", \"高跟鞋\", \"袜子\"])\n",
    "bar.add_yaxis(\"商家A\", [5, 20, 36, 10, 75, 90])\n",
    "# render 会生成本地 HTML 文件，默认会在当前目录生成 render.html 文件\n",
    "# 也可以传入路径参数，如 bar.render(\"mycharts.html\")\n",
    "# bar.render()\n",
    "# bar.jupyter()"
   ]
  },
  {
   "cell_type": "code",
   "execution_count": 74,
   "metadata": {
    "ExecuteTime": {
     "end_time": "2020-06-18T05:36:57.026448Z",
     "start_time": "2020-06-18T05:36:57.015443Z"
    },
    "hidden": true,
    "scrolled": true
   },
   "outputs": [
    {
     "data": {
      "text/html": [
       "<!DOCTYPE html>\n",
       "<html>\n",
       "<head>\n",
       "    <meta charset=\"UTF-8\">\n",
       "</head>\n",
       "<body>\n",
       "        <div id=\"c605a932aa944f42b899d43aa11fbf33\" class=\"chart-container\" style=\"width:900px; height:500px;\"></div>\n",
       "    <script>\n",
       "        var chart_c605a932aa944f42b899d43aa11fbf33 = echarts.init(\n",
       "            document.getElementById('c605a932aa944f42b899d43aa11fbf33'), 'white', {renderer: 'canvas'});\n",
       "        var option_c605a932aa944f42b899d43aa11fbf33 = {\n",
       "    \"animation\": true,\n",
       "    \"animationThreshold\": 2000,\n",
       "    \"animationDuration\": 1000,\n",
       "    \"animationEasing\": \"cubicOut\",\n",
       "    \"animationDelay\": 0,\n",
       "    \"animationDurationUpdate\": 300,\n",
       "    \"animationEasingUpdate\": \"cubicOut\",\n",
       "    \"animationDelayUpdate\": 0,\n",
       "    \"color\": [\n",
       "        \"#c23531\",\n",
       "        \"#2f4554\",\n",
       "        \"#61a0a8\",\n",
       "        \"#d48265\",\n",
       "        \"#749f83\",\n",
       "        \"#ca8622\",\n",
       "        \"#bda29a\",\n",
       "        \"#6e7074\",\n",
       "        \"#546570\",\n",
       "        \"#c4ccd3\",\n",
       "        \"#f05b72\",\n",
       "        \"#ef5b9c\",\n",
       "        \"#f47920\",\n",
       "        \"#905a3d\",\n",
       "        \"#fab27b\",\n",
       "        \"#2a5caa\",\n",
       "        \"#444693\",\n",
       "        \"#726930\",\n",
       "        \"#b2d235\",\n",
       "        \"#6d8346\",\n",
       "        \"#ac6767\",\n",
       "        \"#1d953f\",\n",
       "        \"#6950a1\",\n",
       "        \"#918597\"\n",
       "    ],\n",
       "    \"series\": [\n",
       "        {\n",
       "            \"type\": \"bar\",\n",
       "            \"name\": \"\\u5546\\u5bb6A\",\n",
       "            \"data\": [\n",
       "                5,\n",
       "                20,\n",
       "                36,\n",
       "                10,\n",
       "                75,\n",
       "                90\n",
       "            ],\n",
       "            \"barCategoryGap\": \"20%\",\n",
       "            \"label\": {\n",
       "                \"show\": true,\n",
       "                \"position\": \"top\",\n",
       "                \"margin\": 8\n",
       "            }\n",
       "        }\n",
       "    ],\n",
       "    \"legend\": [\n",
       "        {\n",
       "            \"data\": [\n",
       "                \"\\u5546\\u5bb6A\"\n",
       "            ],\n",
       "            \"selected\": {\n",
       "                \"\\u5546\\u5bb6A\": true\n",
       "            }\n",
       "        }\n",
       "    ],\n",
       "    \"tooltip\": {\n",
       "        \"show\": true,\n",
       "        \"trigger\": \"item\",\n",
       "        \"triggerOn\": \"mousemove|click\",\n",
       "        \"axisPointer\": {\n",
       "            \"type\": \"line\"\n",
       "        },\n",
       "        \"textStyle\": {\n",
       "            \"fontSize\": 14\n",
       "        },\n",
       "        \"borderWidth\": 0\n",
       "    },\n",
       "    \"xAxis\": [\n",
       "        {\n",
       "            \"show\": true,\n",
       "            \"scale\": false,\n",
       "            \"nameLocation\": \"end\",\n",
       "            \"nameGap\": 15,\n",
       "            \"gridIndex\": 0,\n",
       "            \"inverse\": false,\n",
       "            \"offset\": 0,\n",
       "            \"splitNumber\": 5,\n",
       "            \"minInterval\": 0,\n",
       "            \"splitLine\": {\n",
       "                \"show\": false,\n",
       "                \"lineStyle\": {\n",
       "                    \"width\": 1,\n",
       "                    \"opacity\": 1,\n",
       "                    \"curveness\": 0,\n",
       "                    \"type\": \"solid\"\n",
       "                }\n",
       "            },\n",
       "            \"data\": [\n",
       "                \"\\u886c\\u886b\",\n",
       "                \"\\u7f8a\\u6bdb\\u886b\",\n",
       "                \"\\u96ea\\u7eba\\u886b\",\n",
       "                \"\\u88e4\\u5b50\",\n",
       "                \"\\u9ad8\\u8ddf\\u978b\",\n",
       "                \"\\u889c\\u5b50\"\n",
       "            ]\n",
       "        }\n",
       "    ],\n",
       "    \"yAxis\": [\n",
       "        {\n",
       "            \"show\": true,\n",
       "            \"scale\": false,\n",
       "            \"nameLocation\": \"end\",\n",
       "            \"nameGap\": 15,\n",
       "            \"gridIndex\": 0,\n",
       "            \"inverse\": false,\n",
       "            \"offset\": 0,\n",
       "            \"splitNumber\": 5,\n",
       "            \"minInterval\": 0,\n",
       "            \"splitLine\": {\n",
       "                \"show\": false,\n",
       "                \"lineStyle\": {\n",
       "                    \"width\": 1,\n",
       "                    \"opacity\": 1,\n",
       "                    \"curveness\": 0,\n",
       "                    \"type\": \"solid\"\n",
       "                }\n",
       "            }\n",
       "        }\n",
       "    ]\n",
       "};\n",
       "        chart_c605a932aa944f42b899d43aa11fbf33.setOption(option_c605a932aa944f42b899d43aa11fbf33);\n",
       "    </script>\n",
       "</body>\n",
       "</html>\n"
      ],
      "text/plain": [
       "<pyecharts.render.display.HTML at 0x1072fe50>"
      ]
     },
     "execution_count": 74,
     "metadata": {},
     "output_type": "execute_result"
    }
   ],
   "source": [
    "bar.render_notebook()"
   ]
  },
  {
   "cell_type": "markdown",
   "metadata": {
    "heading_collapsed": true,
    "hidden": true
   },
   "source": [
    "#### 使用 options 配置项，在 pyecharts 中，一切皆 Options"
   ]
  },
  {
   "cell_type": "code",
   "execution_count": null,
   "metadata": {
    "ExecuteTime": {
     "end_time": "2019-11-18T03:02:31.715267Z",
     "start_time": "2019-11-18T03:02:31.706267Z"
    },
    "hidden": true,
    "scrolled": true
   },
   "outputs": [],
   "source": [
    "from pyecharts.charts import Bar\n",
    "from pyecharts import options as opts\n",
    "\n",
    "# V1 版本开始支持链式调用\n",
    "# 你所看到的格式其实是 `black` 格式化以后的效果\n",
    "# 可以执行 `pip install black` 下载使用\n",
    "bar = (\n",
    "    Bar()\n",
    "    .add_xaxis([\"衬衫\", \"羊毛衫\", \"雪纺衫\", \"裤子\", \"高跟鞋\", \"袜子\"])\n",
    "    .add_yaxis(\"商家A\", [5, 20, 36, 10, 75, 90])\n",
    "    .set_global_opts(title_opts=opts.TitleOpts(title=\"主标题\", subtitle=\"副标题\"))\n",
    "    # 或者直接使用字典参数\n",
    "    # .set_global_opts(title_opts={\"text\": \"主标题\", \"subtext\": \"副标题\"})\n",
    ")\n",
    "# bar.render()\n",
    "bar.render_notebook()\n",
    "\n",
    "# # 不习惯链式调用的开发者依旧可以单独调用方法\n",
    "# bar = Bar()\n",
    "# bar.add_xaxis([\"衬衫\", \"羊毛衫\", \"雪纺衫\", \"裤子\", \"高跟鞋\", \"袜子\"])\n",
    "# bar.add_yaxis(\"商家A\", [5, 20, 36, 10, 75, 90])\n",
    "# bar.set_global_opts(title_opts=opts.TitleOpts(title=\"主标题\", subtitle=\"副标题\"))\n",
    "# bar.render()"
   ]
  },
  {
   "cell_type": "markdown",
   "metadata": {
    "heading_collapsed": true,
    "hidden": true
   },
   "source": [
    "#### 渲染成图片文件，这部分内容请参考 进阶话题-渲染图片"
   ]
  },
  {
   "cell_type": "code",
   "execution_count": null,
   "metadata": {
    "ExecuteTime": {
     "end_time": "2019-11-18T03:03:01.520115Z",
     "start_time": "2019-11-18T03:02:54.462173Z"
    },
    "hidden": true
   },
   "outputs": [],
   "source": [
    "from pyecharts.charts import Bar\n",
    "from pyecharts.render import make_snapshot\n",
    "\n",
    "# 使用 snapshot-selenium 渲染图片\n",
    "from snapshot_selenium import snapshot\n",
    "\n",
    "bar = (\n",
    "    Bar()\n",
    "    .add_xaxis([\"衬衫\", \"羊毛衫\", \"雪纺衫\", \"裤子\", \"高跟鞋\", \"袜子\"])\n",
    "    .add_yaxis(\"商家A\", [5, 20, 36, 10, 75, 90])\n",
    ")\n",
    "make_snapshot(snapshot, bar.render(), \"bar.gif\")"
   ]
  },
  {
   "cell_type": "markdown",
   "metadata": {
    "heading_collapsed": true,
    "hidden": true
   },
   "source": [
    "### 使用主题\n",
    "pyecharts 提供了 10+ 种内置主题，开发者也可以定制自己喜欢的主题，进阶话题-[定制主题](https://pyecharts.org/#/zh-cn/themes) 有相关介绍。\n",
    "\n",
    "**Note**: 在使用 Pandas&Numpy 时，请确保将数值类型转换为 python 原生的 int/float。比如整数类型请确保为 int，而不是 numpy.int32"
   ]
  },
  {
   "cell_type": "code",
   "execution_count": null,
   "metadata": {
    "ExecuteTime": {
     "end_time": "2019-09-23T06:35:45.096143Z",
     "start_time": "2019-09-23T06:35:44.958787Z"
    },
    "hidden": true
   },
   "outputs": [],
   "source": [
    "from pyecharts.charts import Bar\n",
    "from pyecharts import options as opts\n",
    "# 内置主题类型可查看 pyecharts.globals.ThemeType\n",
    "from pyecharts.globals import ThemeType\n",
    "\n",
    "bar = (\n",
    "    Bar(init_opts=opts.InitOpts(theme=ThemeType.LIGHT))\n",
    "    .add_xaxis([\"衬衫\", \"羊毛衫\", \"雪纺衫\", \"裤子\", \"高跟鞋\", \"袜子\"])\n",
    "    .add_yaxis(\"商家A\", [5, 20, 36, 10, 75, 90])\n",
    "    .add_yaxis(\"商家B\", [15, 6, 45, 20, 35, 66])\n",
    "    .set_global_opts(title_opts=opts.TitleOpts(title=\"主标题\", subtitle=\"副标题\"))\n",
    ")\n",
    "bar.render_notebook()"
   ]
  },
  {
   "cell_type": "markdown",
   "metadata": {
    "heading_collapsed": true,
    "hidden": true
   },
   "source": [
    "### 使用Notebook\n",
    "[官方文档](https://pyecharts.org/#/zh-cn/notebook)    \n",
    "不同的 Notebook 环境有自己不同的渲染要求，pyecharts 在底层做了适配处理，但因为我们无法在 import pyecharts 的时候知道用户具体使用的是哪种 Notebook 环境，所以需要用户在使用时在顶部声明环境类型。"
   ]
  },
  {
   "cell_type": "markdown",
   "metadata": {
    "hidden": true
   },
   "source": [
    "#### Jupyter Notebook\n",
    "Jupyter Notebook 直接调用 render_notebook 随时随地渲染图表，默认为 Jupter-Notebook。"
   ]
  },
  {
   "cell_type": "markdown",
   "metadata": {
    "hidden": true
   },
   "source": [
    "#### Jupyter Lab\n",
    "Jupyter Lab 渲染的时候有两点需要注意\n",
    "\n",
    "1. 在顶部声明 Notebook 类型，必须在引入 pyecharts.charts 等模块前声明\n",
    "```\n",
    " from pyecharts.globals import CurrentConfig, NotebookType\n",
    " CurrentConfig.NOTEBOOK_TYPE = NotebookType.JUPYTER_LAB\n",
    "```\n",
    "2. 第一次渲染的时候调用`load_javascript()`会预先加载基本`JavaScript`文件到`Notebook`中。如若后面其他图形渲染不出来，则请开发者尝试再次调用，因为`load_javascript`只会预先加载最基本的`js`引用。而主题、地图等`js`文件需要再次按需加载。\n",
    "3. `load_javascript()`和`render_notebook()`方法需要在不同的`cell`中调用，这是`Notebook`的内联机制，其实本质上我们是返回了带有`_html_`,`_javascript_`对象的`class`。notebook 会自动去调用这些方法。"
   ]
  },
  {
   "cell_type": "markdown",
   "metadata": {
    "hidden": true
   },
   "source": [
    "#### Nteract"
   ]
  },
  {
   "cell_type": "markdown",
   "metadata": {
    "hidden": true
   },
   "source": [
    "#### Zeppelin"
   ]
  },
  {
   "cell_type": "markdown",
   "metadata": {
    "hidden": true
   },
   "source": [
    "## 配置项"
   ]
  },
  {
   "cell_type": "markdown",
   "metadata": {
    "hidden": true
   },
   "source": [
    "### 全局配置项"
   ]
  },
  {
   "cell_type": "markdown",
   "metadata": {
    "hidden": true
   },
   "source": [
    "### 系列配置项"
   ]
  },
  {
   "cell_type": "markdown",
   "metadata": {
    "heading_collapsed": true
   },
   "source": [
    "# Test Case"
   ]
  },
  {
   "cell_type": "markdown",
   "metadata": {
    "heading_collapsed": true,
    "hidden": true
   },
   "source": [
    "## 双轴图"
   ]
  },
  {
   "cell_type": "code",
   "execution_count": 66,
   "metadata": {
    "ExecuteTime": {
     "end_time": "2020-06-18T05:33:38.033702Z",
     "start_time": "2020-06-18T05:33:33.552977Z"
    },
    "code_folding": [
     30
    ],
    "hidden": true,
    "scrolled": true
   },
   "outputs": [
    {
     "ename": "SessionNotCreatedException",
     "evalue": "Message: session not created: This version of ChromeDriver only supports Chrome version 79\n",
     "output_type": "error",
     "traceback": [
      "\u001b[1;31m---------------------------------------------------------------------------\u001b[0m",
      "\u001b[1;31mSessionNotCreatedException\u001b[0m                Traceback (most recent call last)",
      "\u001b[1;32m<ipython-input-66-10fe02b86ec4>\u001b[0m in \u001b[0;36m<module>\u001b[1;34m\u001b[0m\n\u001b[0;32m    109\u001b[0m \u001b[0mbar\u001b[0m\u001b[1;33m.\u001b[0m\u001b[0mrender_notebook\u001b[0m\u001b[1;33m(\u001b[0m\u001b[1;33m)\u001b[0m\u001b[1;33m\u001b[0m\u001b[0m\n\u001b[0;32m    110\u001b[0m \u001b[1;31m# bar.render()\u001b[0m\u001b[1;33m\u001b[0m\u001b[1;33m\u001b[0m\u001b[0m\n\u001b[1;32m--> 111\u001b[1;33m \u001b[0mmake_snapshot\u001b[0m\u001b[1;33m(\u001b[0m\u001b[0msnapshot\u001b[0m\u001b[1;33m,\u001b[0m \u001b[0mbar\u001b[0m\u001b[1;33m.\u001b[0m\u001b[0mrender\u001b[0m\u001b[1;33m(\u001b[0m\u001b[1;33m)\u001b[0m\u001b[1;33m,\u001b[0m \u001b[1;34m\"bar.gif\"\u001b[0m\u001b[1;33m)\u001b[0m\u001b[1;33m\u001b[0m\u001b[0m\n\u001b[0m",
      "\u001b[1;32mD:\\Program\\miniconda\\envs\\py36_32\\lib\\site-packages\\pyecharts\\render\\snapshot.py\u001b[0m in \u001b[0;36mmake_snapshot\u001b[1;34m(engine, file_name, output_name, delay, pixel_ratio, is_remove_html, **kwargs)\u001b[0m\n\u001b[0;32m     30\u001b[0m     \u001b[0mfile_type\u001b[0m \u001b[1;33m=\u001b[0m \u001b[0moutput_name\u001b[0m\u001b[1;33m.\u001b[0m\u001b[0msplit\u001b[0m\u001b[1;33m(\u001b[0m\u001b[1;34m\".\"\u001b[0m\u001b[1;33m)\u001b[0m\u001b[1;33m[\u001b[0m\u001b[1;33m-\u001b[0m\u001b[1;36m1\u001b[0m\u001b[1;33m]\u001b[0m\u001b[1;33m\u001b[0m\u001b[0m\n\u001b[0;32m     31\u001b[0m \u001b[1;33m\u001b[0m\u001b[0m\n\u001b[1;32m---> 32\u001b[1;33m     \u001b[0mcontent\u001b[0m \u001b[1;33m=\u001b[0m \u001b[0mengine\u001b[0m\u001b[1;33m.\u001b[0m\u001b[0mmake_snapshot\u001b[0m\u001b[1;33m(\u001b[0m\u001b[0mfile_name\u001b[0m\u001b[1;33m,\u001b[0m \u001b[0mfile_type\u001b[0m\u001b[1;33m,\u001b[0m \u001b[0mdelay\u001b[0m\u001b[1;33m,\u001b[0m \u001b[0mpixel_ratio\u001b[0m\u001b[1;33m,\u001b[0m \u001b[1;33m**\u001b[0m\u001b[0mkwargs\u001b[0m\u001b[1;33m)\u001b[0m\u001b[1;33m\u001b[0m\u001b[0m\n\u001b[0m\u001b[0;32m     33\u001b[0m     \u001b[1;32mif\u001b[0m \u001b[0mfile_type\u001b[0m \u001b[1;32min\u001b[0m \u001b[1;33m[\u001b[0m\u001b[0mSVG_FORMAT\u001b[0m\u001b[1;33m,\u001b[0m \u001b[0mB64_FORMAT\u001b[0m\u001b[1;33m]\u001b[0m\u001b[1;33m:\u001b[0m\u001b[1;33m\u001b[0m\u001b[0m\n\u001b[0;32m     34\u001b[0m         \u001b[0msave_as_text\u001b[0m\u001b[1;33m(\u001b[0m\u001b[0mcontent\u001b[0m\u001b[1;33m,\u001b[0m \u001b[0moutput_name\u001b[0m\u001b[1;33m)\u001b[0m\u001b[1;33m\u001b[0m\u001b[0m\n",
      "\u001b[1;32mD:\\Program\\miniconda\\envs\\py36_32\\lib\\site-packages\\snapshot_selenium\\snapshot.py\u001b[0m in \u001b[0;36mmake_snapshot\u001b[1;34m(html_path, file_type, pixel_ratio, delay, browser, driver)\u001b[0m\n\u001b[0;32m     33\u001b[0m     \u001b[1;32mif\u001b[0m \u001b[1;32mnot\u001b[0m \u001b[0mdriver\u001b[0m\u001b[1;33m:\u001b[0m\u001b[1;33m\u001b[0m\u001b[0m\n\u001b[0;32m     34\u001b[0m         \u001b[1;32mif\u001b[0m \u001b[0mbrowser\u001b[0m \u001b[1;33m==\u001b[0m \u001b[1;34m\"Chrome\"\u001b[0m\u001b[1;33m:\u001b[0m\u001b[1;33m\u001b[0m\u001b[0m\n\u001b[1;32m---> 35\u001b[1;33m             \u001b[0mdriver\u001b[0m \u001b[1;33m=\u001b[0m \u001b[0mget_chrome_driver\u001b[0m\u001b[1;33m(\u001b[0m\u001b[1;33m)\u001b[0m\u001b[1;33m\u001b[0m\u001b[0m\n\u001b[0m\u001b[0;32m     36\u001b[0m         \u001b[1;32melif\u001b[0m \u001b[0mbrowser\u001b[0m \u001b[1;33m==\u001b[0m \u001b[1;34m\"Safari\"\u001b[0m\u001b[1;33m:\u001b[0m\u001b[1;33m\u001b[0m\u001b[0m\n\u001b[0;32m     37\u001b[0m             \u001b[0mdriver\u001b[0m \u001b[1;33m=\u001b[0m \u001b[0mget_safari_driver\u001b[0m\u001b[1;33m(\u001b[0m\u001b[1;33m)\u001b[0m\u001b[1;33m\u001b[0m\u001b[0m\n",
      "\u001b[1;32mD:\\Program\\miniconda\\envs\\py36_32\\lib\\site-packages\\snapshot_selenium\\snapshot.py\u001b[0m in \u001b[0;36mget_chrome_driver\u001b[1;34m()\u001b[0m\n\u001b[0;32m     56\u001b[0m     \u001b[0moptions\u001b[0m \u001b[1;33m=\u001b[0m \u001b[0mwebdriver\u001b[0m\u001b[1;33m.\u001b[0m\u001b[0mChromeOptions\u001b[0m\u001b[1;33m(\u001b[0m\u001b[1;33m)\u001b[0m\u001b[1;33m\u001b[0m\u001b[0m\n\u001b[0;32m     57\u001b[0m     \u001b[0moptions\u001b[0m\u001b[1;33m.\u001b[0m\u001b[0madd_argument\u001b[0m\u001b[1;33m(\u001b[0m\u001b[1;34m\"headless\"\u001b[0m\u001b[1;33m)\u001b[0m\u001b[1;33m\u001b[0m\u001b[0m\n\u001b[1;32m---> 58\u001b[1;33m     \u001b[1;32mreturn\u001b[0m \u001b[0mwebdriver\u001b[0m\u001b[1;33m.\u001b[0m\u001b[0mChrome\u001b[0m\u001b[1;33m(\u001b[0m\u001b[0moptions\u001b[0m\u001b[1;33m=\u001b[0m\u001b[0moptions\u001b[0m\u001b[1;33m)\u001b[0m\u001b[1;33m\u001b[0m\u001b[0m\n\u001b[0m\u001b[0;32m     59\u001b[0m \u001b[1;33m\u001b[0m\u001b[0m\n\u001b[0;32m     60\u001b[0m \u001b[1;33m\u001b[0m\u001b[0m\n",
      "\u001b[1;32mD:\\Program\\miniconda\\envs\\py36_32\\lib\\site-packages\\selenium\\webdriver\\chrome\\webdriver.py\u001b[0m in \u001b[0;36m__init__\u001b[1;34m(self, executable_path, port, options, service_args, desired_capabilities, service_log_path, chrome_options, keep_alive)\u001b[0m\n\u001b[0;32m     79\u001b[0m                     \u001b[0mremote_server_addr\u001b[0m\u001b[1;33m=\u001b[0m\u001b[0mself\u001b[0m\u001b[1;33m.\u001b[0m\u001b[0mservice\u001b[0m\u001b[1;33m.\u001b[0m\u001b[0mservice_url\u001b[0m\u001b[1;33m,\u001b[0m\u001b[1;33m\u001b[0m\u001b[0m\n\u001b[0;32m     80\u001b[0m                     keep_alive=keep_alive),\n\u001b[1;32m---> 81\u001b[1;33m                 desired_capabilities=desired_capabilities)\n\u001b[0m\u001b[0;32m     82\u001b[0m         \u001b[1;32mexcept\u001b[0m \u001b[0mException\u001b[0m\u001b[1;33m:\u001b[0m\u001b[1;33m\u001b[0m\u001b[0m\n\u001b[0;32m     83\u001b[0m             \u001b[0mself\u001b[0m\u001b[1;33m.\u001b[0m\u001b[0mquit\u001b[0m\u001b[1;33m(\u001b[0m\u001b[1;33m)\u001b[0m\u001b[1;33m\u001b[0m\u001b[0m\n",
      "\u001b[1;32mD:\\Program\\miniconda\\envs\\py36_32\\lib\\site-packages\\selenium\\webdriver\\remote\\webdriver.py\u001b[0m in \u001b[0;36m__init__\u001b[1;34m(self, command_executor, desired_capabilities, browser_profile, proxy, keep_alive, file_detector, options)\u001b[0m\n\u001b[0;32m    155\u001b[0m             warnings.warn(\"Please use FirefoxOptions to set browser profile\",\n\u001b[0;32m    156\u001b[0m                           DeprecationWarning, stacklevel=2)\n\u001b[1;32m--> 157\u001b[1;33m         \u001b[0mself\u001b[0m\u001b[1;33m.\u001b[0m\u001b[0mstart_session\u001b[0m\u001b[1;33m(\u001b[0m\u001b[0mcapabilities\u001b[0m\u001b[1;33m,\u001b[0m \u001b[0mbrowser_profile\u001b[0m\u001b[1;33m)\u001b[0m\u001b[1;33m\u001b[0m\u001b[0m\n\u001b[0m\u001b[0;32m    158\u001b[0m         \u001b[0mself\u001b[0m\u001b[1;33m.\u001b[0m\u001b[0m_switch_to\u001b[0m \u001b[1;33m=\u001b[0m \u001b[0mSwitchTo\u001b[0m\u001b[1;33m(\u001b[0m\u001b[0mself\u001b[0m\u001b[1;33m)\u001b[0m\u001b[1;33m\u001b[0m\u001b[0m\n\u001b[0;32m    159\u001b[0m         \u001b[0mself\u001b[0m\u001b[1;33m.\u001b[0m\u001b[0m_mobile\u001b[0m \u001b[1;33m=\u001b[0m \u001b[0mMobile\u001b[0m\u001b[1;33m(\u001b[0m\u001b[0mself\u001b[0m\u001b[1;33m)\u001b[0m\u001b[1;33m\u001b[0m\u001b[0m\n",
      "\u001b[1;32mD:\\Program\\miniconda\\envs\\py36_32\\lib\\site-packages\\selenium\\webdriver\\remote\\webdriver.py\u001b[0m in \u001b[0;36mstart_session\u001b[1;34m(self, capabilities, browser_profile)\u001b[0m\n\u001b[0;32m    250\u001b[0m         parameters = {\"capabilities\": w3c_caps,\n\u001b[0;32m    251\u001b[0m                       \"desiredCapabilities\": capabilities}\n\u001b[1;32m--> 252\u001b[1;33m         \u001b[0mresponse\u001b[0m \u001b[1;33m=\u001b[0m \u001b[0mself\u001b[0m\u001b[1;33m.\u001b[0m\u001b[0mexecute\u001b[0m\u001b[1;33m(\u001b[0m\u001b[0mCommand\u001b[0m\u001b[1;33m.\u001b[0m\u001b[0mNEW_SESSION\u001b[0m\u001b[1;33m,\u001b[0m \u001b[0mparameters\u001b[0m\u001b[1;33m)\u001b[0m\u001b[1;33m\u001b[0m\u001b[0m\n\u001b[0m\u001b[0;32m    253\u001b[0m         \u001b[1;32mif\u001b[0m \u001b[1;34m'sessionId'\u001b[0m \u001b[1;32mnot\u001b[0m \u001b[1;32min\u001b[0m \u001b[0mresponse\u001b[0m\u001b[1;33m:\u001b[0m\u001b[1;33m\u001b[0m\u001b[0m\n\u001b[0;32m    254\u001b[0m             \u001b[0mresponse\u001b[0m \u001b[1;33m=\u001b[0m \u001b[0mresponse\u001b[0m\u001b[1;33m[\u001b[0m\u001b[1;34m'value'\u001b[0m\u001b[1;33m]\u001b[0m\u001b[1;33m\u001b[0m\u001b[0m\n",
      "\u001b[1;32mD:\\Program\\miniconda\\envs\\py36_32\\lib\\site-packages\\selenium\\webdriver\\remote\\webdriver.py\u001b[0m in \u001b[0;36mexecute\u001b[1;34m(self, driver_command, params)\u001b[0m\n\u001b[0;32m    319\u001b[0m         \u001b[0mresponse\u001b[0m \u001b[1;33m=\u001b[0m \u001b[0mself\u001b[0m\u001b[1;33m.\u001b[0m\u001b[0mcommand_executor\u001b[0m\u001b[1;33m.\u001b[0m\u001b[0mexecute\u001b[0m\u001b[1;33m(\u001b[0m\u001b[0mdriver_command\u001b[0m\u001b[1;33m,\u001b[0m \u001b[0mparams\u001b[0m\u001b[1;33m)\u001b[0m\u001b[1;33m\u001b[0m\u001b[0m\n\u001b[0;32m    320\u001b[0m         \u001b[1;32mif\u001b[0m \u001b[0mresponse\u001b[0m\u001b[1;33m:\u001b[0m\u001b[1;33m\u001b[0m\u001b[0m\n\u001b[1;32m--> 321\u001b[1;33m             \u001b[0mself\u001b[0m\u001b[1;33m.\u001b[0m\u001b[0merror_handler\u001b[0m\u001b[1;33m.\u001b[0m\u001b[0mcheck_response\u001b[0m\u001b[1;33m(\u001b[0m\u001b[0mresponse\u001b[0m\u001b[1;33m)\u001b[0m\u001b[1;33m\u001b[0m\u001b[0m\n\u001b[0m\u001b[0;32m    322\u001b[0m             response['value'] = self._unwrap_value(\n\u001b[0;32m    323\u001b[0m                 response.get('value', None))\n",
      "\u001b[1;32mD:\\Program\\miniconda\\envs\\py36_32\\lib\\site-packages\\selenium\\webdriver\\remote\\errorhandler.py\u001b[0m in \u001b[0;36mcheck_response\u001b[1;34m(self, response)\u001b[0m\n\u001b[0;32m    240\u001b[0m                 \u001b[0malert_text\u001b[0m \u001b[1;33m=\u001b[0m \u001b[0mvalue\u001b[0m\u001b[1;33m[\u001b[0m\u001b[1;34m'alert'\u001b[0m\u001b[1;33m]\u001b[0m\u001b[1;33m.\u001b[0m\u001b[0mget\u001b[0m\u001b[1;33m(\u001b[0m\u001b[1;34m'text'\u001b[0m\u001b[1;33m)\u001b[0m\u001b[1;33m\u001b[0m\u001b[0m\n\u001b[0;32m    241\u001b[0m             \u001b[1;32mraise\u001b[0m \u001b[0mexception_class\u001b[0m\u001b[1;33m(\u001b[0m\u001b[0mmessage\u001b[0m\u001b[1;33m,\u001b[0m \u001b[0mscreen\u001b[0m\u001b[1;33m,\u001b[0m \u001b[0mstacktrace\u001b[0m\u001b[1;33m,\u001b[0m \u001b[0malert_text\u001b[0m\u001b[1;33m)\u001b[0m\u001b[1;33m\u001b[0m\u001b[0m\n\u001b[1;32m--> 242\u001b[1;33m         \u001b[1;32mraise\u001b[0m \u001b[0mexception_class\u001b[0m\u001b[1;33m(\u001b[0m\u001b[0mmessage\u001b[0m\u001b[1;33m,\u001b[0m \u001b[0mscreen\u001b[0m\u001b[1;33m,\u001b[0m \u001b[0mstacktrace\u001b[0m\u001b[1;33m)\u001b[0m\u001b[1;33m\u001b[0m\u001b[0m\n\u001b[0m\u001b[0;32m    243\u001b[0m \u001b[1;33m\u001b[0m\u001b[0m\n\u001b[0;32m    244\u001b[0m     \u001b[1;32mdef\u001b[0m \u001b[0m_value_or_default\u001b[0m\u001b[1;33m(\u001b[0m\u001b[0mself\u001b[0m\u001b[1;33m,\u001b[0m \u001b[0mobj\u001b[0m\u001b[1;33m,\u001b[0m \u001b[0mkey\u001b[0m\u001b[1;33m,\u001b[0m \u001b[0mdefault\u001b[0m\u001b[1;33m)\u001b[0m\u001b[1;33m:\u001b[0m\u001b[1;33m\u001b[0m\u001b[0m\n",
      "\u001b[1;31mSessionNotCreatedException\u001b[0m: Message: session not created: This version of ChromeDriver only supports Chrome version 79\n"
     ]
    }
   ],
   "source": [
    "from pyecharts.charts import Line, Bar\n",
    "from pyecharts.render import make_snapshot\n",
    "from pyecharts.globals import ThemeType,RenderType\n",
    "from pyecharts.options.series_options import TextStyleOpts\n",
    "from pyecharts.commons.utils import JsCode\n",
    "from pyecharts import options as opts\n",
    "# 使用 snapshot-selenium 渲染图片\n",
    "from snapshot_selenium import snapshot\n",
    "\n",
    "# attr = [\"{}月\".format(i) for i in range(1, 13)]\n",
    "attr = ['2019/12/11','2019/12/16']\n",
    "Inbox_Read = [2591, 2591]\n",
    "Popup_Read = [2926, 3112]\n",
    "# Url_Click = [5114]\n",
    "Total_Sent = [3056, 3264]\n",
    "\n",
    "newline = '\\\\n'\n",
    "\n",
    "bar = (\n",
    "    Bar(init_opts = opts.InitOpts(width = \"1000px\", \n",
    "                                  height = \"600px\", \n",
    "#                                   bg_color = \"#ffffff\",\n",
    "                                  theme=ThemeType.VINTAGE, \n",
    "                                  renderer = RenderType.CANVAS, \n",
    "                                  animation_opts = opts.AnimationOpts(animation = True)\n",
    "                                 )\n",
    "       )\n",
    "    .add_xaxis(attr)\n",
    "    .add_yaxis(\"Inbox\", Inbox_Read)\n",
    "    .add_yaxis(\"Popup\", Popup_Read)\n",
    "#     .add_yaxis(\"Url_Click\", Url_Click)\n",
    "    .add_yaxis(\"Delivery\", Total_Sent)\n",
    "    .extend_axis(yaxis=opts.AxisOpts(type_ = 'value'\n",
    "                                     ,boundary_gap = ['0%','20%']\n",
    "                                     ,axislabel_opts = opts.LabelOpts(is_show = True,\n",
    "                                                                      formatter = JsCode(f\"function(value) \\\n",
    "                                                                      {{var str=Number(value/{Total_Sent}[0]*100).toFixed(1); str+='%'; return str;}}\"))\n",
    "                                    )\n",
    "                 \n",
    "    )\n",
    "    .set_global_opts(title_opts = opts.TitleOpts(title = \"SA Weekly ACL Poster sharing day\", \n",
    "                                                 pos_left = 'center', \n",
    "                                                 pos_top = '1%',\n",
    "                                                 title_textstyle_opts = {'fontWeight': 'bold',\n",
    "                                                                         'fontSize': 16,\n",
    "                                                                         'padding': [8,8,8,8],\n",
    "                                                                         'hight': '10%',\n",
    "                                                                         'line_height':'10%'\n",
    "                                                                      })\n",
    "                     ,legend_opts = opts.LegendOpts(type_ = 'scroll', \n",
    "                                                    is_show = True,\n",
    "                                                    pos_left = 'center', \n",
    "                                                    pos_top = 'bottom', \n",
    "                                                    orient = 'horizontal', \n",
    "                                                   )\n",
    "                     ,xaxis_opts = opts.AxisOpts(type_ = None, \n",
    "                                                 boundary_gap = ['10%','10%']\n",
    "                                                )\n",
    "                     ,toolbox_opts = opts.ToolboxOpts(is_show = True)\n",
    "                     ,tooltip_opts = opts.TooltipOpts(is_show = True)\n",
    "                     ,datazoom_opts = opts.DataZoomOpts(is_show = True\n",
    "                                                        ,type_ = \"slider\"\n",
    "                                                        ,orient = \"vertical\"\n",
    "                                                        ,range_start = 0\n",
    "                                                        ,range_end = 100\n",
    "                                                        ,yaxis_index = 1\n",
    "                                                       )\n",
    "    )\n",
    "    .set_series_opts(label_opts=opts.LabelOpts(is_show = True,\n",
    "                                               position = \"insideBottom\",\n",
    "                                               font_style = \"normal\",\n",
    "                                               font_size = 15,\n",
    "                                               margin = 100,\n",
    "                                               rotate = 0,\n",
    "                                               interval = 1,\n",
    "                                               formatter = JsCode(f\"function(params){{ \\\n",
    "                                               var str1=params.seriesName + '_Num' + ':' + params.value; \\\n",
    "                                               return str1 }}\"),\n",
    "                                               rich = { 'lineHeight':10\n",
    "                                               }\n",
    "                                              )\n",
    "                    )\n",
    ")\n",
    "\n",
    "line = (\n",
    "    Line()\n",
    "    .add_xaxis(attr)\n",
    "    .add_yaxis(\"Inbox\", Inbox_Read, yaxis_index = 1)\n",
    "    .add_yaxis(\"Popup\", Popup_Read, yaxis_index = 1)\n",
    "#     .add_yaxis(\"Url_Click\", Url_Click, yaxis_index = 1)\n",
    "    .add_yaxis(\"Delivery\", Total_Sent, yaxis_index = 1)\n",
    "    .set_series_opts(label_opts=opts.LabelOpts(is_show = True,\n",
    "#                                                font_style=\"italic\",\n",
    "                                               font_size = 15,\n",
    "                                               color = \"#333333\",\n",
    "                                               interval = 6, \n",
    "                                               margin = 100,\n",
    "                                               formatter = JsCode(f\"function(params){{ \\\n",
    "                                               var str1 = params.seriesName + '_Rate' + ':' + Number(params.value[1]/params.value[3]*100).toFixed(2) + '%'; \\\n",
    "                                               return str1}}\"),\n",
    "                                               rich = {\n",
    "                                                   'lineHeight':10\n",
    "                                               }\n",
    "                                              )\n",
    "                    )\n",
    ")\n",
    "\n",
    "bar.overlap(line)\n",
    "bar.render_notebook()\n",
    "# bar.render()\n",
    "make_snapshot(snapshot, bar.render(), \"bar.gif\")"
   ]
  },
  {
   "cell_type": "markdown",
   "metadata": {
    "heading_collapsed": true,
    "hidden": true
   },
   "source": [
    "## GetData"
   ]
  },
  {
   "cell_type": "markdown",
   "metadata": {
    "heading_collapsed": true,
    "hidden": true
   },
   "source": [
    "### TODO:\n",
    "1. 输入Campaign cd | Communication cd 获取结果\n",
    "2. 可以限制 Trigger 时间，StartTime , EndTime\n",
    "3. 可以支持多个查询\n",
    "4. 输出模式可选 ByDay, TillNow, ByGroup\n",
    "5. 是否检查UrlClick [SMT，Wechat 可选]\n",
    "6. 选择输出字段[可选]"
   ]
  },
  {
   "cell_type": "markdown",
   "metadata": {
    "heading_collapsed": true,
    "hidden": true
   },
   "source": [
    "#### Old version"
   ]
  },
  {
   "cell_type": "markdown",
   "metadata": {
    "hidden": true
   },
   "source": [
    "##### Scripts"
   ]
  },
  {
   "cell_type": "code",
   "execution_count": 1,
   "metadata": {
    "ExecuteTime": {
     "end_time": "2020-03-10T03:14:12.769644Z",
     "start_time": "2020-03-10T03:14:12.431678Z"
    },
    "code_folding": [
     14,
     143,
     174
    ],
    "hidden": true
   },
   "outputs": [],
   "source": [
    "import sys,os, traceback\n",
    "import cx_Oracle\n",
    "import datetime, time\n",
    "import pandas as pd\n",
    "\n",
    "BASE_DIR = r'C:\\Users\\leo.zhangzs\\AppData\\Roaming\\Code\\User\\VScode\\py3\\UAT_Test'\n",
    "sys.path.append(BASE_DIR)\n",
    "\n",
    "from core import configadmin,log_ctrl,color_me\n",
    "config_path = os.path.join(BASE_DIR, 'conf')\n",
    "config_name = 'setting.ini'\n",
    "d_set = configadmin.ConfigAdmin(config_path, config_name)\n",
    "logging = log_ctrl.de8ug_log(logger_name='camp_res', log_file=os.path.join(BASE_DIR, 'log', f'{time.strftime(\"%Y%m\",time.localtime())}-debug.log'))\n",
    "                                                                           \n",
    "class campaign_res:\n",
    "    def __init__(self, campaign_cd, communication_cd, url_check, launch_time, End_time=None, model='t', group=None):\n",
    "        \"\"\"\n",
    "        计算Read Rate (排除Remove，Control Group)\n",
    "        campaign_cd:当campaign_cd不为空(\"XNA\")且communication_cd为空(\"XNA\")时，计算该campaign下，launch_time之后所有communication阅读率(不按人消重计算)。\n",
    "        communication_cd:当Communication_cd不为空时，优先按Communication_cd计算Read Rate(按人消重计算).当Campaign_cd & Communication_cd 同时不为空时(不按人消重计算)\n",
    "        url_check:是否检查连接点击率(SMT, Wechat适用)\n",
    "        launch_time:检查首次Campaign起始时间\n",
    "        End_time:检查第n次Campagin起始时间(默认为空)\n",
    "        model:\n",
    "            -t —— Till Now(默认)\n",
    "            -l —— By Launch Time\n",
    "            -d —— By day\n",
    "            -g —— By Group:适用该分组功能时，communication_cd不能为空，且数量必须与group一致，中间适用空格分隔\n",
    "        \"\"\"\n",
    "        self.campaign_cd = campaign_cd if len(campaign_cd) > 3 else None\n",
    "        self.communication_cd = str(communication_cd).replace(' ',\"','\") if len(communication_cd) > 4 else None\n",
    "        self.url_check = url_check\n",
    "        self.launch_time = launch_time\n",
    "        self.End_time = End_time\n",
    "        self.model = model\n",
    "        self.user = d_set.read_config(\"SAS_db\", \"user\")\n",
    "        self.password = d_set.read_config(\"SAS_db\", \"password\")\n",
    "        self.service = d_set.read_config(\"SAS_db\", \"service\")\n",
    "        if model == 'g': \n",
    "            if group != None and self.communication_cd != None:\n",
    "                self.group = {'COMMUNICATION_CD':communication_cd.split(\" \"),'GROUP_TYPE':group.split(\" \")}\n",
    "            else:\n",
    "                logging.error('Parameter error: Check your group condition!!!')\n",
    "                raise ValueException(\"Parameter error: Check your group condition!!!\")\n",
    "\n",
    "    def get_res(self):\n",
    "        try:\n",
    "            self.db = cx_Oracle.connect(self.user, self.password, self.service)\n",
    "            self.con = self.db.cursor()\n",
    "            if self.communication_cd:\n",
    "                self.con1 = f\"GE.COMMUNICATION_CD IN ('{self.communication_cd}')\"\n",
    "                if self.campaign_cd:\n",
    "                    self.con1 = self.con1 + f\" AND GE.CAMPAIGN_CD = '{self.campaign_cd}'\"\n",
    "            else:\n",
    "                self.con1 = f\"GE.CAMPAIGN_CD = '{self.campaign_cd}'\"\n",
    "                                                                           \n",
    "            if self.End_time:\n",
    "                self.con2 = f\"GE.PROCESSED_DTTM > TO_DATE('{self.launch_time}', 'yyyy-mm-dd hh24:mi:ss') AND GE.PROCESSED_DTTM < TO_DATE('{self.End_time}', 'yyyy-mm-dd hh24:mi:ss')\"\n",
    "            else:\n",
    "                self.con2 = f\"GE.PROCESSED_DTTM > TO_DATE('{self.launch_time}', 'yyyy-mm-dd hh24:mi:ss')\"\n",
    "            \n",
    "            oo = f\"SELECT GE.RESPONSE_TRACKING_CD,\\\n",
    "            GE.CAMPAIGN_CD,\\\n",
    "            GE.CAMPAIGN_NM,\\\n",
    "            GE.COMMUNICATION_CD,\\\n",
    "            GE.COMMUNICATION_NM,\\\n",
    "            GE.COMMUNICATION_OCCURRENCE_NO,\\\n",
    "            GE.CHANNEL_CD,\\\n",
    "            GE.SUBJECT_TYPE_NM,\\\n",
    "            TRUNC(GE.PROCESSED_DTTM) AS PROCESSED_DTTM\\\n",
    "            FROM APP_CAMPAIGN_CDM.CI_CELL_PACKAGE GE\\\n",
    "            WHERE {self.con1}\\\n",
    "            AND {self.con2}\\\n",
    "            AND GE.CONTROL_GROUP_TYPE_CD IS NULL\\\n",
    "            AND GE.CHANNEL_CD != '_MC'\\\n",
    "            ORDER BY GE.PROCESSED_DTTM\"\n",
    "            \n",
    "            col = ['RESPONSE_TRACKING_CD','CAMPAIGN_CD','CAMPAIGN_NM','COMMUNICATION_CD','COMMUNICATION_NM','COMMUNICATION_OCCURRENCE_NO','CHANNEL_CD','SUBJECT_TYPE_NM','PROCESSED_DTTM']\n",
    "            rows = self._excute_sql(oo)\n",
    "\n",
    "            if len(rows) < 1:\n",
    "                print(oo)\n",
    "                logging.info('None Results')\n",
    "                return False\n",
    "            \n",
    "            df1 = pd.DataFrame(data=rows, index=[i[0] for i in rows], columns=col)\n",
    "            self._a = \"=\"\n",
    "            if self.model == 't':\n",
    "                df = df1.drop_duplicates(subset=['CAMPAIGN_CD','CHANNEL_CD'], keep='first')\n",
    "                self._a = \">=\"\n",
    "                self._b = self.con1\n",
    "            elif self.model == 'l' or self.model == 'd':\n",
    "                df = df1.sort_index()\n",
    "            elif self.model == 'g':\n",
    "                if len(self.group[\"COMMUNICATION_CD\"]) == len(self.group[\"GROUP_TYPE\"]):\n",
    "                    df2 = pd.DataFrame(data=self.group[\"GROUP_TYPE\"], index=self.group[\"COMMUNICATION_CD\"], columns=['GROUP_TYPE'])\n",
    "                    df1 = df1.set_index([df1.COMMUNICATION_CD])\n",
    "                    df = pd.concat([df1, df2], axis=1, join='inner')\n",
    "                else:\n",
    "                    logging.error('Group Data not matched!')\n",
    "                    return False\n",
    "            else:\n",
    "                logging.error('Parameter error: No such group type!')\n",
    "                return False\n",
    "                                                                           \n",
    "            num = 0\n",
    "            dic = {}\n",
    "            for i in ['SMT', 'GEN', \"SMS\", 'WCH', 'RPT']:\n",
    "                if len(df)==num:\n",
    "                    break\n",
    "                else:\n",
    "                    num += len(df.loc[df.CHANNEL_CD==i])\n",
    "                    dic[i] = self.channel_response(df.loc[df.CHANNEL_CD==i], i)\n",
    "                                                                           \n",
    "            self.db.close()\n",
    "            return dic\n",
    "        except Exception as e:\n",
    "            logging.error(traceback.format_exc())\n",
    "\n",
    "    def notify_type(self, COMMUNICATION_CD, CHANNEL_CD, OCCURRENCE_NO, PROCESSED_DTTM):\n",
    "        try:\n",
    "            if type(COMMUNICATION_CD) != str:\n",
    "                COMMUNICATION_CD = COMMUNICATION_CD.iloc[0]\n",
    "        except Exception as e:\n",
    "            print(type(COMMUNICATION_CD), COMMUNICATION_CD)\n",
    "            return None\n",
    "                                                                           \n",
    "        if self.model != 't':\n",
    "            self._b = f\"GE.COMMUNICATION_CD = '{COMMUNICATION_CD}'\"\n",
    "                                                                           \n",
    "        if CHANNEL_CD == 'SMT':\n",
    "            sql = f\"select distinct case when tem.is_popup > 0 then 'POP_UP'  when  tem.is_notify > 0 then 'PUSH' end as Notify_type \\\n",
    "            from app_campaign_cdm.ci_cell_package ge \\\n",
    "            left join OWNER_OUT.OT_SMT_MESSAGE_DATA TA \\\n",
    "            on ta.campaign_track_id = ge.response_tracking_cd \\\n",
    "            left join dm_campaign.v_smt_template tem \\\n",
    "            on ta.template_id = tem.id \\\n",
    "            WHERE {self._b} AND ge.COMMUNICATION_OCCURRENCE_NO {self._a} {OCCURRENCE_NO}\\\n",
    "            AND {self.con2} AND ge.control_group_type_cd is null\\\n",
    "            AND ge.channel_cd != '_MC'\"\n",
    "        res = self._excute_sql(sql)[0][0]\n",
    "        if res:\n",
    "            return res\n",
    "        else:\n",
    "            print(sql)\n",
    "            return None\n",
    "\n",
    "    def owner_cnt(self, COMMUNICATION_CD, CHANNEL_CD, OCCURRENCE_NO, PROCESSED_DTTM):\n",
    "        if type(COMMUNICATION_CD) != str:\n",
    "            COMMUNICATION_CD = COMMUNICATION_CD.iloc[0]\n",
    "        \n",
    "        if CHANNEL_CD == \"SMT\":\n",
    "            oo_tb = \"OT_SMT_MESSAGE_DATA\"\n",
    "            remove_tb = \"LEFT JOIN OWNER_OUT.OT_SMT_FORCED_DELETION RE ON RE.CAMPAIGN_TRACKID_FD = TA.CAMPAIGN_TRACK_ID AND RE.ID_ENTITY_EMPLOYEE = TA.ID_ENTITY_EMPLOYEE\"\n",
    "            remove_con = \"AND RE.ID_ENTITY_EMPLOYEE IS NULL\"\n",
    "        \n",
    "        if self.model != 't':\n",
    "            self._b = f\"GE.COMMUNICATION_CD = '{COMMUNICATION_CD}'\"\n",
    "        \n",
    "        sql = f\"SELECT COUNT(TA.ID_ENTITY_EMPLOYEE) AS OWNER_OUT\\\n",
    "            FROM OWNER_OUT.{oo_tb} TA\\\n",
    "            LEFT JOIN APP_CAMPAIGN_CDM.CI_CELL_PACKAGE GE\\\n",
    "            ON GE.RESPONSE_TRACKING_CD = TA.CAMPAIGN_TRACK_ID\\\n",
    "            {remove_tb}\\\n",
    "            WHERE {self._b}\\\n",
    "            and GE.Communication_Occurrence_No {self._a} {OCCURRENCE_NO}\\\n",
    "            and ge.control_group_type_cd is null \\\n",
    "            AND ge.deleted_flg = 'N' \\\n",
    "            AND ge.channel_cd != '_MC'\\\n",
    "            AND TA.ACTIVE_START >= TO_DATE('{PROCESSED_DTTM}','yyyy-mm-dd hh24:mi:ss')\\\n",
    "            {remove_con}\"\n",
    "        res = self._excute_sql(sql)[0][0]\n",
    "        if res:\n",
    "            return res\n",
    "        else:\n",
    "            print(sql)\n",
    "            return None\n",
    "\n",
    "    def contact_cnt(self, COMMUNICATION_CD, SUBJECT_TYPE_NM, OCCURRENCE_NO, PROCESSED_DTTM):\n",
    "        if type(COMMUNICATION_CD) != str:\n",
    "            COMMUNICATION_CD = COMMUNICATION_CD.iloc[0]\n",
    "        \n",
    "        a = lambda x: \"TIP\" if x == \"Tipper\" else \"EMP\"\n",
    "        if self.model != 't':\n",
    "            self._b = f\"GE.COMMUNICATION_CD = '{COMMUNICATION_CD}'\"\n",
    "        \n",
    "        sql = f\"SELECT COUNT(HMP.ID_XRM_EMPLOYEE) AS DELIVERY_SUC\\\n",
    "            FROM APP_CAMPAIGN_CDM.CI_CONTACT_HISTORY_{a(SUBJECT_TYPE_NM)} HMP\\\n",
    "            JOIN APP_CAMPAIGN_CDM.CI_CELL_PACKAGE GE\\\n",
    "            ON GE.CELL_PACKAGE_SK = HMP.CELL_PACKAGE_SK\\\n",
    "            WHERE {self._b}\\\n",
    "            AND HMP.CONTACT_HISTORY_STATUS_CD <> '_30'\\\n",
    "            AND HMP.CONTACT_HISTORY_STATUS_CD <> '_31'\\\n",
    "            AND ge.COMMUNICATION_OCCURRENCE_NO {self._a} {OCCURRENCE_NO}\\\n",
    "            and ge.control_group_type_cd is null \\\n",
    "            AND ge.deleted_flg = 'N' \\\n",
    "            AND ge.channel_cd != '_MC'\\\n",
    "            AND GE.PROCESSED_DTTM >= TO_DATE('{PROCESSED_DTTM}', 'yyyy-mm-dd hh24:mi:ss')\"\n",
    "        res = self._excute_sql(sql)[0][0]\n",
    "        print(sql)\n",
    "        if res:\n",
    "            return res\n",
    "        else:\n",
    "            print(sql)\n",
    "            return None\n",
    "\n",
    "    def channel_response(self, df, channel):\n",
    "        if channel == \"SMT\":\n",
    "            data = df.copy()\n",
    "            data['Notify_Type'] = df.apply(lambda x: self.notify_type(x['COMMUNICATION_CD'], x['CHANNEL_CD'], x['COMMUNICATION_OCCURRENCE_NO'], x['PROCESSED_DTTM']), axis=1)\n",
    "            data['Total_Send'] = df.apply(lambda x: self.owner_cnt(x['COMMUNICATION_CD'], x['CHANNEL_CD'], x['COMMUNICATION_OCCURRENCE_NO'], x['PROCESSED_DTTM']), axis=1)\n",
    "            data['Send_Succ'] = df.apply(lambda x: self.contact_cnt(x['COMMUNICATION_CD'], x['SUBJECT_TYPE_NM'], x['COMMUNICATION_OCCURRENCE_NO'], x['PROCESSED_DTTM']), axis=1)\n",
    "            data['Delivery_Rate'] = data.apply(lambda x: x['Send_Succ']/x['Total_Send'], axis=1)\n",
    "            data['Inbox_Read'] = df.apply(lambda x: self.inbox_cnt(x['COMMUNICATION_CD'], x['CHANNEL_CD'], x['SUBJECT_TYPE_NM'], x['COMMUNICATION_OCCURRENCE_NO'], x['PROCESSED_DTTM']), axis=1)\n",
    "            data['Inbox_Rate'] = data.apply(lambda x: x['Inbox_Read']/x['Send_Succ'], axis=1)\n",
    "            if len(data.loc[data.Notify_Type=='POP_UP']) > 0:\n",
    "                data['Popup_Read'] = data.loc[data.Notify_Type=='POP_UP'].apply(lambda x: self.popup_cnt(x['COMMUNICATION_CD'], x['CHANNEL_CD'], x['SUBJECT_TYPE_NM'], x['COMMUNICATION_OCCURRENCE_NO'], x['PROCESSED_DTTM']), axis=1)\n",
    "                data['Popup_Rate'] = data.apply(lambda x: x['Popup_Read']/x['Send_Succ'], axis=1)\n",
    "            if len(data.loc[data.Notify_Type=='PUSH']) > 0:\n",
    "                data['Push_Read'] = data.loc[data.Notify_Type=='PUSH'].apply(lambda x: self.popup_cnt(x['COMMUNICATION_CD'], x['CHANNEL_CD'], x['SUBJECT_TYPE_NM'], x['COMMUNICATION_OCCURRENCE_NO'], x['PROCESSED_DTTM']), axis=1)\n",
    "                data['Push_Rate'] = data.apply(lambda x: x['Push_Read']/x['Send_Succ'], axis=1)\n",
    "            if self.url_check == 'a':\n",
    "                data[\"Url_Click\"] = df.apply(lambda x: self.url_click(x['COMMUNICATION_CD'], x['CHANNEL_CD'], x['SUBJECT_TYPE_NM'], x['COMMUNICATION_OCCURRENCE_NO'], x['PROCESSED_DTTM']), axis=1)\n",
    "                data['Click_Rate'] = data.apply(lambda x: x['Url_Click']/x['Send_Succ'], axis=1)\n",
    "            return data\n",
    "    \n",
    "    def inbox_cnt(self, COMMUNICATION_CD, CHANNEL_CD, SUBJECT_TYPE_NM, OCCURRENCE_NO, PROCESSED_DTTM):\n",
    "        if type(COMMUNICATION_CD) != str:\n",
    "            COMMUNICATION_CD = COMMUNICATION_CD.iloc[0]\n",
    "        \n",
    "        a = lambda x: \"TIP\" if x == \"Tipper\" else \"EMP\"\n",
    "        \n",
    "        if self.model != 't':\n",
    "            self._b = f\"GE.COMMUNICATION_CD = '{COMMUNICATION_CD}'\"\n",
    "                                                                           \n",
    "        sql = f\"SELECT COUNT(DIstinct hmp.id_xrm_employee) as POPUP_READ\\\n",
    "            FROM APP_CAMPAIGN_CDM.CI_RESPONSE_HISTORY_{a(SUBJECT_TYPE_NM)} HMP\\\n",
    "            JOIN APP_CAMPAIGN_CDM.CI_CELL_PACKAGE GE\\\n",
    "            ON GE.CELL_PACKAGE_SK = HMP.CELL_PACKAGE_SK\\\n",
    "            WHERE {self._b}\\\n",
    "            AND HMP.RESPONSE_SK IN ('1029', '1030')\\\n",
    "            AND ge.communication_occurrence_no {self._a} {OCCURRENCE_NO}\\\n",
    "            and ge.control_group_type_cd is null\\\n",
    "            AND ge.deleted_flg = 'N' \\\n",
    "            AND ge.channel_cd != '_MC'\\\n",
    "            AND {self.con2}\\\n",
    "            AND HMP.ID_XRM_EMPLOYEE NOT IN ({self._remove_tb(CHANNEL_CD)}\\\n",
    "            LEFT JOIN APP_CAMPAIGN_CDM.CI_CELL_PACKAGE GE \\\n",
    "            ON GE.RESPONSE_TRACKING_CD = A.CAMPAIGN_TRACKID_FD \\\n",
    "            WHERE {self._b} AND ge.COMMUNICATION_OCCURRENCE_NO {self._a} {OCCURRENCE_NO}\\\n",
    "            AND {self.con2}\\\n",
    "            AND GE.CONTROL_GROUP_TYPE_CD IS NULL)\"\n",
    "        res = self._excute_sql(sql)[0][0]\n",
    "        print(sql)\n",
    "        if res:\n",
    "            print(sql)\n",
    "            return res\n",
    "        else:\n",
    "            print(sql)\n",
    "            return None\n",
    "                                                                           \n",
    "    def popup_cnt(self, COMMUNICATION_CD, CHANNEL_CD, SUBJECT_TYPE_NM, OCCURRENCE_NO, PROCESSED_DTTM):\n",
    "        if type(COMMUNICATION_CD) != str:\n",
    "            COMMUNICATION_CD = COMMUNICATION_CD.iloc[0]\n",
    "        \n",
    "        a = lambda x: \"TIP\" if x == \"Tipper\" else \"EMP\"\n",
    "        \n",
    "        if self.model != 't':\n",
    "            self._b = f\"GE.COMMUNICATION_CD = '{COMMUNICATION_CD}'\"\n",
    "                                                                           \n",
    "        sql = f\"SELECT COUNT(distinct hmp.id_xrm_employee) as POPUP_READ\\\n",
    "            FROM APP_CAMPAIGN_CDM.CI_RESPONSE_HISTORY_{a(SUBJECT_TYPE_NM)} HMP\\\n",
    "            JOIN APP_CAMPAIGN_CDM.CI_CELL_PACKAGE GE\\\n",
    "            ON GE.CELL_PACKAGE_SK = HMP.CELL_PACKAGE_SK\\\n",
    "            WHERE {self._b}\\\n",
    "            AND HMP.RESPONSE_SK = '1028'\\\n",
    "            AND ge.communication_occurrence_no {self._a} {OCCURRENCE_NO}\\\n",
    "            and ge.control_group_type_cd is null\\\n",
    "            AND ge.deleted_flg = 'N' \\\n",
    "            AND ge.channel_cd != '_MC'\\\n",
    "            AND {self.con2}\\\n",
    "            AND HMP.ID_XRM_EMPLOYEE NOT IN ({self._remove_tb(CHANNEL_CD)}\\\n",
    "            LEFT JOIN APP_CAMPAIGN_CDM.CI_CELL_PACKAGE GE \\\n",
    "            ON GE.RESPONSE_TRACKING_CD = A.CAMPAIGN_TRACKID_FD \\\n",
    "            WHERE {self._b} AND ge.COMMUNICATION_OCCURRENCE_NO {self._a} {OCCURRENCE_NO}\\\n",
    "            AND {self.con2}\\\n",
    "            AND GE.CONTROL_GROUP_TYPE_CD IS NULL)\"\n",
    "#         \n",
    "        return self._excute_sql(sql)[0][0]\n",
    "\n",
    "    def push_cnt(self, COMMUNICATION_CD, CHANNEL_CD, SUBJECT_TYPE_NM, OCCURRENCE_NO, PROCESSED_DTTM):\n",
    "        if type(COMMUNICATION_CD) != str:\n",
    "            COMMUNICATION_CD = COMMUNICATION_CD.iloc[0]\n",
    "        \n",
    "        a = lambda x: \"TIP\" if x == \"Tipper\" else \"EMP\"\n",
    "        \n",
    "        if self.model != 't':\n",
    "            self._b = f\"GE.COMMUNICATION_CD = '{COMMUNICATION_CD}'\"\n",
    "                                                                           \n",
    "        sql = f\"SELECT COUNT(distinct hmp.id_xrm_employee) as POPUP_READ\\\n",
    "            FROM APP_CAMPAIGN_CDM.CI_RESPONSE_HISTORY_{a(SUBJECT_TYPE_NM)} HMP\\\n",
    "            JOIN APP_CAMPAIGN_CDM.CI_CELL_PACKAGE GE\\\n",
    "            ON GE.CELL_PACKAGE_SK = HMP.CELL_PACKAGE_SK\\\n",
    "            WHERE {self._b}\\\n",
    "            AND HMP.RESPONSE_SK = '1031'\\\n",
    "            AND ge.communication_occurrence_no {self._a} {OCCURRENCE_NO}\\\n",
    "            and ge.control_group_type_cd is null\\\n",
    "            AND ge.deleted_flg = 'N' \\\n",
    "            AND ge.channel_cd != '_MC'\\\n",
    "            AND {self.con2}\\\n",
    "            AND HMP.ID_XRM_EMPLOYEE NOT IN ({self._remove_tb(CHANNEL_CD)}\\\n",
    "            LEFT JOIN APP_CAMPAIGN_CDM.CI_CELL_PACKAGE GE \\\n",
    "            ON GE.RESPONSE_TRACKING_CD = A.CAMPAIGN_TRACKID_FD \\\n",
    "            WHERE {self._b} AND ge.COMMUNICATION_OCCURRENCE_NO {self._a} {OCCURRENCE_NO}\\\n",
    "            AND {self.con2}\\\n",
    "            AND GE.CONTROL_GROUP_TYPE_CD IS NULL)\"\n",
    "        \n",
    "            \n",
    "        return self._excute_sql(sql)[0][0]\n",
    "\n",
    "    def url_click(self, COMMUNICATION_CD, CHANNEL_CD, SUBJECT_TYPE_NM, OCCURRENCE_NO, PROCESSED_DTTM):\n",
    "        if type(COMMUNICATION_CD) != str:\n",
    "            COMMUNICATION_CD = COMMUNICATION_CD.iloc[0]\n",
    "        \n",
    "        a = lambda x: \"TIP\" if x == \"Tipper\" else \"EMP\"\n",
    "        \n",
    "        if self.model != 't':\n",
    "            self._b = f\"GE.COMMUNICATION_CD = '{COMMUNICATION_CD}'\"\n",
    "                                                                           \n",
    "        sql = f\"SELECT COUNT(distinct HMP.Id_Xrm_Employee) AS URL_CLICK\\\n",
    "            FROM APP_CAMPAIGN_CDM.CI_RESPONSE_HISTORY_{a(SUBJECT_TYPE_NM)} HMP\\\n",
    "            LEFT JOIN APP_CAMPAIGN_CDM.CI_CELL_PACKAGE GE\\\n",
    "            ON HMP.CELL_PACKAGE_SK = GE.CELL_PACKAGE_SK\\\n",
    "            WHERE {self._b} AND {self.con2}\\\n",
    "            AND ge.communication_occurrence_no {self._a} {OCCURRENCE_NO}\\\n",
    "            AND HMP.External_Response_Info_Id2 is not null\\\n",
    "            and ge.control_group_type_cd is null\\\n",
    "            AND ge.deleted_flg = 'N' \\\n",
    "            AND ge.channel_cd != '_MC'\\\n",
    "            AND HMP.ID_XRM_EMPLOYEE NOT IN ({self._remove_tb(CHANNEL_CD)}\\\n",
    "            LEFT JOIN APP_CAMPAIGN_CDM.CI_CELL_PACKAGE GE \\\n",
    "            ON GE.RESPONSE_TRACKING_CD = A.CAMPAIGN_TRACKID_FD \\\n",
    "            WHERE {self._b} AND ge.COMMUNICATION_OCCURRENCE_NO {self._a} {OCCURRENCE_NO}\\\n",
    "            AND {self.con2}\\\n",
    "            AND GE.CONTROL_GROUP_TYPE_CD IS NULL)\\\n",
    "            ORDER BY GE.COMMUNICATION_CD\"\n",
    "            \n",
    "        return self._excute_sql(sql)[0][0]\n",
    "                                                                           \n",
    "    def _remove_tb(self, channel_cd):\n",
    "        if channel_cd == \"SMT\":\n",
    "            remove_con_his =\"SELECT A.ID_ENTITY_EMPLOYEE_TYPE || '.' || A.ID_ENTITY_EMPLOYEE \\\n",
    "                FROM OWNER_OUT.OT_SMT_FORCED_DELETION A\"\n",
    "            return remove_con_his\n",
    "        else:\n",
    "            return False\n",
    "    \n",
    "    def _excute_sql(self, sql):\n",
    "        try:\n",
    "            self.con.execute(sql)\n",
    "            rows = self.con.fetchall()\n",
    "            return rows\n",
    "        except Exception as e:\n",
    "            print(e)\n",
    "            print(sql)"
   ]
  },
  {
   "cell_type": "markdown",
   "metadata": {
    "hidden": true
   },
   "source": [
    "##### Test"
   ]
  },
  {
   "cell_type": "code",
   "execution_count": 2,
   "metadata": {
    "ExecuteTime": {
     "end_time": "2020-03-10T03:15:21.505281Z",
     "start_time": "2020-03-10T03:15:21.497278Z"
    },
    "hidden": true
   },
   "outputs": [],
   "source": [
    "# CAMP1122 COMM4073 CAMP1435 COMM6028 COMM6211 COMM6395\n",
    "campaign_cd = 'XNA'\n",
    "COMMUNICATION_CD = 'COMM7385'\n",
    "LAUNCH_TIME = '2020/02/11 00:00:00'\n",
    "# END_TIME = '2019/12/17 17:00:00'\n",
    "END_TIME = None\n",
    "URL_CHICK = 'n'\n",
    "MODEL = 'd'\n",
    "GROUP = 'P1 P2'\n",
    "test = campaign_res(campaign_cd, COMMUNICATION_CD, URL_CHICK, LAUNCH_TIME, END_TIME, MODEL, GROUP)\n",
    "# data = test.get_res()"
   ]
  },
  {
   "cell_type": "code",
   "execution_count": 3,
   "metadata": {
    "ExecuteTime": {
     "end_time": "2020-03-10T03:18:37.840512Z",
     "start_time": "2020-03-10T03:15:23.319551Z"
    },
    "hidden": true
   },
   "outputs": [
    {
     "name": "stdout",
     "output_type": "stream",
     "text": [
      "SELECT COUNT(HMP.ID_XRM_EMPLOYEE) AS DELIVERY_SUC            FROM APP_CAMPAIGN_CDM.CI_CONTACT_HISTORY_EMP HMP            JOIN APP_CAMPAIGN_CDM.CI_CELL_PACKAGE GE            ON GE.CELL_PACKAGE_SK = HMP.CELL_PACKAGE_SK            WHERE GE.COMMUNICATION_CD = 'COMM7385'            AND HMP.CONTACT_HISTORY_STATUS_CD <> '_30'            AND HMP.CONTACT_HISTORY_STATUS_CD <> '_31'            AND ge.COMMUNICATION_OCCURRENCE_NO = 1            and ge.control_group_type_cd is null             AND ge.deleted_flg = 'N'             AND ge.channel_cd != '_MC'            AND GE.PROCESSED_DTTM >= TO_DATE('2020-02-11 00:00:00', 'yyyy-mm-dd hh24:mi:ss')\n",
      "SELECT COUNT(DIstinct hmp.id_xrm_employee) as POPUP_READ            FROM APP_CAMPAIGN_CDM.CI_RESPONSE_HISTORY_EMP HMP            JOIN APP_CAMPAIGN_CDM.CI_CELL_PACKAGE GE            ON GE.CELL_PACKAGE_SK = HMP.CELL_PACKAGE_SK            WHERE GE.COMMUNICATION_CD = 'COMM7385'            AND HMP.RESPONSE_SK IN ('1029', '1030')            AND ge.communication_occurrence_no = 1            and ge.control_group_type_cd is null            AND ge.deleted_flg = 'N'             AND ge.channel_cd != '_MC'            AND GE.PROCESSED_DTTM > TO_DATE('2020/02/11 00:00:00', 'yyyy-mm-dd hh24:mi:ss')            AND HMP.ID_XRM_EMPLOYEE NOT IN (SELECT A.ID_ENTITY_EMPLOYEE_TYPE || '.' || A.ID_ENTITY_EMPLOYEE                 FROM OWNER_OUT.OT_SMT_FORCED_DELETION A            LEFT JOIN APP_CAMPAIGN_CDM.CI_CELL_PACKAGE GE             ON GE.RESPONSE_TRACKING_CD = A.CAMPAIGN_TRACKID_FD             WHERE GE.COMMUNICATION_CD = 'COMM7385' AND ge.COMMUNICATION_OCCURRENCE_NO = 1            AND GE.PROCESSED_DTTM > TO_DATE('2020/02/11 00:00:00', 'yyyy-mm-dd hh24:mi:ss')            AND GE.CONTROL_GROUP_TYPE_CD IS NULL)\n",
      "SELECT COUNT(DIstinct hmp.id_xrm_employee) as POPUP_READ            FROM APP_CAMPAIGN_CDM.CI_RESPONSE_HISTORY_EMP HMP            JOIN APP_CAMPAIGN_CDM.CI_CELL_PACKAGE GE            ON GE.CELL_PACKAGE_SK = HMP.CELL_PACKAGE_SK            WHERE GE.COMMUNICATION_CD = 'COMM7385'            AND HMP.RESPONSE_SK IN ('1029', '1030')            AND ge.communication_occurrence_no = 1            and ge.control_group_type_cd is null            AND ge.deleted_flg = 'N'             AND ge.channel_cd != '_MC'            AND GE.PROCESSED_DTTM > TO_DATE('2020/02/11 00:00:00', 'yyyy-mm-dd hh24:mi:ss')            AND HMP.ID_XRM_EMPLOYEE NOT IN (SELECT A.ID_ENTITY_EMPLOYEE_TYPE || '.' || A.ID_ENTITY_EMPLOYEE                 FROM OWNER_OUT.OT_SMT_FORCED_DELETION A            LEFT JOIN APP_CAMPAIGN_CDM.CI_CELL_PACKAGE GE             ON GE.RESPONSE_TRACKING_CD = A.CAMPAIGN_TRACKID_FD             WHERE GE.COMMUNICATION_CD = 'COMM7385' AND ge.COMMUNICATION_OCCURRENCE_NO = 1            AND GE.PROCESSED_DTTM > TO_DATE('2020/02/11 00:00:00', 'yyyy-mm-dd hh24:mi:ss')            AND GE.CONTROL_GROUP_TYPE_CD IS NULL)\n"
     ]
    }
   ],
   "source": [
    "data = test.get_res()"
   ]
  },
  {
   "cell_type": "code",
   "execution_count": 78,
   "metadata": {
    "ExecuteTime": {
     "end_time": "2020-01-13T05:42:15.992446Z",
     "start_time": "2020-01-13T05:42:15.974393Z"
    },
    "hidden": true,
    "scrolled": true
   },
   "outputs": [
    {
     "data": {
      "text/html": [
       "<div>\n",
       "<style scoped>\n",
       "    .dataframe tbody tr th:only-of-type {\n",
       "        vertical-align: middle;\n",
       "    }\n",
       "\n",
       "    .dataframe tbody tr th {\n",
       "        vertical-align: top;\n",
       "    }\n",
       "\n",
       "    .dataframe thead th {\n",
       "        text-align: right;\n",
       "    }\n",
       "</style>\n",
       "<table border=\"1\" class=\"dataframe\">\n",
       "  <thead>\n",
       "    <tr style=\"text-align: center;\">\n",
       "      <th></th>\n",
       "      <th>RESPONSE_TRACKING_CD</th>\n",
       "      <th>CAMPAIGN_CD</th>\n",
       "      <th>CAMPAIGN_NM</th>\n",
       "      <th>COMMUNICATION_CD</th>\n",
       "      <th>COMMUNICATION_NM</th>\n",
       "      <th>COMMUNICATION_OCCURRENCE_NO</th>\n",
       "      <th>CHANNEL_CD</th>\n",
       "      <th>SUBJECT_TYPE_NM</th>\n",
       "      <th>PROCESSED_DTTM</th>\n",
       "      <th>Notify_Type</th>\n",
       "      <th>Total_Send</th>\n",
       "      <th>Send_Succ</th>\n",
       "      <th>Delivery_Rate</th>\n",
       "      <th>Inbox_Read</th>\n",
       "      <th>Inbox_Rate</th>\n",
       "      <th>Popup_Read</th>\n",
       "      <th>Popup_Rate</th>\n",
       "    </tr>\n",
       "  </thead>\n",
       "  <tbody>\n",
       "    <tr>\n",
       "      <th>226440103</th>\n",
       "      <td>226440103</td>\n",
       "      <td>CAMP1491</td>\n",
       "      <td>SMT_Collect_BlessWords_Game_Tipper_SCR-981</td>\n",
       "      <td>COMM6782</td>\n",
       "      <td>Tipper_Bless_Word_Game_SCR981-7327-0107</td>\n",
       "      <td>1</td>\n",
       "      <td>SMT</td>\n",
       "      <td>Tipper</td>\n",
       "      <td>2020-01-07</td>\n",
       "      <td>POP_UP</td>\n",
       "      <td>643988</td>\n",
       "      <td>643988</td>\n",
       "      <td>1.0</td>\n",
       "      <td>7590</td>\n",
       "      <td>0.011786</td>\n",
       "      <td>62213</td>\n",
       "      <td>0.096606</td>\n",
       "    </tr>\n",
       "    <tr>\n",
       "      <th>226930103</th>\n",
       "      <td>226930103</td>\n",
       "      <td>CAMP1491</td>\n",
       "      <td>SMT_Collect_BlessWords_Game_Tipper_SCR-981</td>\n",
       "      <td>COMM6783</td>\n",
       "      <td>Tipper_Bless_Word_Game_SCR981-7326-0109</td>\n",
       "      <td>1</td>\n",
       "      <td>SMT</td>\n",
       "      <td>Tipper</td>\n",
       "      <td>2020-01-09</td>\n",
       "      <td>POP_UP</td>\n",
       "      <td>644280</td>\n",
       "      <td>644280</td>\n",
       "      <td>1.0</td>\n",
       "      <td>5272</td>\n",
       "      <td>0.008183</td>\n",
       "      <td>51048</td>\n",
       "      <td>0.079233</td>\n",
       "    </tr>\n",
       "    <tr>\n",
       "      <th>228100103</th>\n",
       "      <td>228100103</td>\n",
       "      <td>CAMP1491</td>\n",
       "      <td>SMT_Collect_BlessWords_Game_Tipper_SCR-981</td>\n",
       "      <td>COMM6785</td>\n",
       "      <td>Tipper_Bless_Word_Game_SCR981-7325-0113</td>\n",
       "      <td>1</td>\n",
       "      <td>SMT</td>\n",
       "      <td>Tipper</td>\n",
       "      <td>2020-01-13</td>\n",
       "      <td>POP_UP</td>\n",
       "      <td>644531</td>\n",
       "      <td>644531</td>\n",
       "      <td>1.0</td>\n",
       "      <td>82</td>\n",
       "      <td>0.000127</td>\n",
       "      <td>762</td>\n",
       "      <td>0.001182</td>\n",
       "    </tr>\n",
       "  </tbody>\n",
       "</table>\n",
       "</div>"
      ],
      "text/plain": [
       "          RESPONSE_TRACKING_CD CAMPAIGN_CD                 CAMPAIGN_NM                 COMMUNICATION_CD             COMMUNICATION_NM              COMMUNICATION_OCCURRENCE_NO CHANNEL_CD SUBJECT_TYPE_NM PROCESSED_DTTM Notify_Type  Total_Send  Send_Succ  Delivery_Rate  Inbox_Read  Inbox_Rate  Popup_Read  Popup_Rate\n",
       "226440103       226440103        CAMP1491   SMT_Collect_BlessWords_Game_Tipper_SCR-981     COMM6782      Tipper_Bless_Word_Game_SCR981-7327-0107               1                  SMT         Tipper       2020-01-07      POP_UP      643988     643988         1.0          7590      0.011786      62213     0.096606 \n",
       "226930103       226930103        CAMP1491   SMT_Collect_BlessWords_Game_Tipper_SCR-981     COMM6783      Tipper_Bless_Word_Game_SCR981-7326-0109               1                  SMT         Tipper       2020-01-09      POP_UP      644280     644280         1.0          5272      0.008183      51048     0.079233 \n",
       "228100103       228100103        CAMP1491   SMT_Collect_BlessWords_Game_Tipper_SCR-981     COMM6785      Tipper_Bless_Word_Game_SCR981-7325-0113               1                  SMT         Tipper       2020-01-13      POP_UP      644531     644531         1.0            82      0.000127        762     0.001182 "
      ]
     },
     "execution_count": 78,
     "metadata": {},
     "output_type": "execute_result"
    }
   ],
   "source": [
    "df = data['SMT']\n",
    "cols = list(df.columns[8:])\n",
    "m = cols[1]\n",
    "# if m == 'GROUP_TYPE'\n",
    "# df=df.fillna(0)\n",
    "df"
   ]
  },
  {
   "cell_type": "code",
   "execution_count": 55,
   "metadata": {
    "ExecuteTime": {
     "end_time": "2020-01-13T03:16:21.552982Z",
     "start_time": "2020-01-13T03:16:21.549972Z"
    },
    "hidden": true
   },
   "outputs": [],
   "source": [
    "# data['SMT']['CAMPAIGN_NM'][0]\n",
    "# drep"
   ]
  },
  {
   "cell_type": "code",
   "execution_count": 69,
   "metadata": {
    "ExecuteTime": {
     "end_time": "2020-01-13T05:33:35.576880Z",
     "start_time": "2020-01-13T05:33:35.507777Z"
    },
    "hidden": true
   },
   "outputs": [
    {
     "name": "stdout",
     "output_type": "stream",
     "text": [
      "['PROCESSED_DTTM', 'Notify_Type', 'Total_Send', 'Send_Succ', 'Delivery_Rate', 'Inbox_Read', 'Inbox_Rate', 'Popup_Read', 'Popup_Rate']\n"
     ]
    }
   ],
   "source": [
    "drep = data['SMT'][cols].to_dict(\"list\")\n",
    "print([k for k,v in drep.items()])"
   ]
  },
  {
   "cell_type": "code",
   "execution_count": 70,
   "metadata": {
    "ExecuteTime": {
     "end_time": "2020-01-13T05:33:37.527971Z",
     "start_time": "2020-01-13T05:33:37.510927Z"
    },
    "hidden": true
   },
   "outputs": [],
   "source": [
    "# ToHtml\n",
    "a = lambda x: format(x, '.2%')\n",
    "pd.set_option('display.width', 1000)\n",
    "pd.set_option('colheader_justify', 'center')\n",
    "tb = data['SMT'].to_html(columns=cols, float_format=a, index=0, border=0)\n",
    "# print(tb)"
   ]
  },
  {
   "cell_type": "markdown",
   "metadata": {
    "heading_collapsed": true,
    "hidden": true
   },
   "source": [
    "#### New version"
   ]
  },
  {
   "cell_type": "code",
   "execution_count": 5,
   "metadata": {
    "ExecuteTime": {
     "end_time": "2019-12-23T01:59:40.293893Z",
     "start_time": "2019-12-23T01:59:39.998581Z"
    },
    "code_folding": [],
    "hidden": true
   },
   "outputs": [],
   "source": [
    "import sys\n",
    "import os\n",
    "import traceback\n",
    "import datetime\n",
    "import time\n",
    "import cx_Oracle\n",
    "import pandas as pd\n",
    "\n",
    "from pandas import DataFrame,Series\n",
    "\n",
    "\n",
    "BASE_DIR = r'C:\\Users\\leo.zhangzs\\AppData\\Roaming\\Code\\User\\VScode\\py3\\schedule_monitor'\n",
    "sys.path.append(BASE_DIR)\n",
    "\n",
    "from core import configadmin,log_ctrl,color_me\n",
    "\n",
    "config_path = os.path.join(BASE_DIR, 'conf')\n",
    "config_name = 'setting.ini'\n",
    "d_set = configadmin.ConfigAdmin(config_path, config_name)\n",
    "\n",
    "class getData(object):\n",
    "    def __init__(self, communicationCD, CheckDTime):\n",
    "        self.user = d_set.read_config(\"SAS_db\", \"user\")\n",
    "        self.password = d_set.read_config(\"SAS_db\", \"password\")\n",
    "        self.service = d_set.read_config(\"SAS_db\", \"service\")\n",
    "        self.db = cx_Oracle.connect(self.user, self.password, self.service)\n",
    "        self.con = self.db.cursor()\n",
    "        self.communicationCD = communicationCD\n",
    "        self.CheckDTime = CheckDTime\n",
    "        \n",
    "    def get_res(self):\n",
    "        sql = f\"\"\"with owner_out as (SELECT ge.response_tracking_cd,\n",
    "               trunc(ge.processed_dttm) MD,\n",
    "               COUNT(DISTINCT TA.ID_ENTITY_EMPLOYEE) AS OWNER_OUT\n",
    "          FROM OWNER_OUT.OT_SMT_MESSAGE_DATA TA\n",
    "          LEFT JOIN APP_CAMPAIGN_CDM.CI_CELL_PACKAGE GE\n",
    "            ON GE.RESPONSE_TRACKING_CD = TA.CAMPAIGN_TRACK_ID\n",
    "         WHERE GE.COMMUNICATION_CD IN ('{self.communicationCD}')\n",
    "           and ge.control_group_type_cd is null\n",
    "           AND GE.PROCESSED_DTTM >=\n",
    "               TO_DATE('{self.CheckDTime}', 'yyyy-mm-dd hh24:mi:ss')\n",
    "         group by ge.response_tracking_cd, trunc(ge.processed_dttm)\n",
    "         order by trunc(ge.processed_dttm)),\n",
    "         inbox as (SELECT ge.response_tracking_cd,\n",
    "               trunc(ge.processed_dttm) MD,\n",
    "               COUNT(DIstinct hmp.id_xrm_employee) as INBOX_READ\n",
    "          FROM APP_CAMPAIGN_CDM.CI_RESPONSE_HISTORY_EMP HMP\n",
    "          JOIN APP_CAMPAIGN_CDM.CI_CELL_PACKAGE GE\n",
    "            ON GE.CELL_PACKAGE_SK = HMP.CELL_PACKAGE_SK\n",
    "         WHERE GE.COMMUNICATION_CD = '{self.communicationCD}'\n",
    "           AND HMP.RESPONSE_SK IN ('1029', '1030')\n",
    "           and ge.control_group_type_cd is null\n",
    "           AND GE.PROCESSED_DTTM >=\n",
    "               TO_DATE('{self.CheckDTime}', 'yyyy-mm-dd hh24:mi:ss')\n",
    "         group by ge.response_tracking_cd, trunc(ge.processed_dttm)\n",
    "         order by trunc(ge.processed_dttm)),\n",
    "        popup as (SELECT ge.response_tracking_cd,\n",
    "               trunc(ge.processed_dttm) MD,\n",
    "               COUNT(DIstinct hmp.id_xrm_employee) as POPUP_READ\n",
    "          FROM APP_CAMPAIGN_CDM.CI_RESPONSE_HISTORY_EMP HMP\n",
    "          JOIN APP_CAMPAIGN_CDM.CI_CELL_PACKAGE GE\n",
    "            ON GE.CELL_PACKAGE_SK = HMP.CELL_PACKAGE_SK\n",
    "         WHERE GE.COMMUNICATION_CD = '{self.communicationCD}'\n",
    "           AND HMP.RESPONSE_SK = '1028'\n",
    "           and ge.control_group_type_cd is null\n",
    "           AND GE.PROCESSED_DTTM >=\n",
    "               TO_DATE('{self.CheckDTime}', 'yyyy-mm-dd hh24:mi:ss')\n",
    "         group by ge.response_tracking_cd, trunc(ge.processed_dttm)\n",
    "         order by trunc(ge.processed_dttm)),\n",
    "        urlclick as (SELECT ge.response_tracking_cd,\n",
    "               trunc(ge.processed_dttm) MD,\n",
    "               COUNT(distinct EMP.Id_Xrm_Employee) AS URL_CLICK\n",
    "          FROM APP_CAMPAIGN_CDM.CI_RESPONSE_HISTORY_EMP EMP\n",
    "          LEFT JOIN APP_CAMPAIGN_CDM.CI_CELL_PACKAGE GE\n",
    "            ON EMP.CELL_PACKAGE_SK = GE.CELL_PACKAGE_SK\n",
    "         WHERE GE.COMMUNICATION_CD = '{self.communicationCD}'\n",
    "           AND GE.PROCESSED_DTTM >\n",
    "               TO_DATE('{self.CheckDTime}', 'yyyy-mm-dd hh24:mi:ss')\n",
    "           AND EMP.External_Response_Info_Id2 is not null\n",
    "           and ge.control_group_type_cd is null\n",
    "         group by ge.response_tracking_cd, trunc(ge.processed_dttm)\n",
    "         ORDER BY trunc(ge.processed_dttm))\n",
    "        select to_char(owner_out.MD,'YYYY-MM-DD') MD,\n",
    "               owner_out.owner_out,\n",
    "               inbox.INBOX_READ,\n",
    "               Round(inbox.INBOX_READ / owner_out.owner_out, 4) INBOX_RATE,\n",
    "               popup.POPUP_READ,\n",
    "                  Round(popup.POPUP_READ / owner_out.owner_out, 4) POPUP_RATE,\n",
    "               urlclick.URL_CLICK,\n",
    "                  Round(urlclick.URL_CLICK / owner_out.owner_out, 4) CLICK_RATE\n",
    "          from owner_out\n",
    "          left join inbox\n",
    "            on owner_out.response_tracking_cd = inbox.response_tracking_cd\n",
    "          left join popup\n",
    "            on owner_out.response_tracking_cd = popup.response_tracking_cd\n",
    "          left join urlclick\n",
    "            on owner_out.response_tracking_cd = urlclick.response_tracking_cd\n",
    "        union all\n",
    "        select a.MD,\n",
    "               a.owner_out,\n",
    "               a.INBOX_READ,\n",
    "               Round(a.INBOX_READ / a.owner_out, 4) INBOX_RATE,\n",
    "               a.POPUP_READ,\n",
    "               Round(a.POPUP_READ / a.owner_out, 4) POPUP_RATE,\n",
    "               a.URL_CLICK,\n",
    "               Round(a.URL_CLICK / a.owner_out, 4) CLICK_RATE\n",
    "          from (select to_char(trunc(owner_out.MD, 'MM'), 'yyyy-MM') MD,\n",
    "                       SUM(owner_out.owner_out) OWNER_OUT,\n",
    "                       SUM(inbox.INBOX_READ) INBOX_READ,\n",
    "                       SUM(popup.POPUP_READ) POPUP_READ,\n",
    "                       SUM(urlclick.URL_CLICK) URL_CLICK\n",
    "                  from owner_out\n",
    "                  left join inbox\n",
    "                    on owner_out.response_tracking_cd = inbox.response_tracking_cd\n",
    "                  left join popup\n",
    "                    on owner_out.response_tracking_cd = popup.response_tracking_cd\n",
    "                  left join urlclick\n",
    "                    on owner_out.response_tracking_cd =\n",
    "                       urlclick.response_tracking_cd\n",
    "                 group by trunc(owner_out.MD, 'MM')) a\n",
    "        \"\"\"\n",
    "        self.con.execute(sql)\n",
    "        rows = self.con.fetchall()\n",
    "        column = ['Date', 'TotalSent', 'InbooxRead', 'InboxRate', 'PopupRead', 'PopupRate', 'UrlClick', 'UrlClickRate']\n",
    "        df1 = DataFrame(data=rows, columns=column)\n",
    "        return df1\n",
    "\n",
    "    def _getChannel(self):\n",
    "        \"\"\"根据CampaignCD或CommunicationCD获取ChannelType\"\"\"\n",
    "        pass\n",
    "    \n",
    "    def _getRole(self):\n",
    "        \"\"\"根据CampaignCD或CommunicationCD获取Role\"\"\"\n",
    "        pass\n",
    "    \n",
    "    def _getNotifyType(self):\n",
    "        \"\"\"判断通知类型(仅在SMT Channel下查询)\"\"\"\n",
    "        pass\n",
    "         \n",
    "    def exit(self):\n",
    "        self.db.close()"
   ]
  },
  {
   "cell_type": "code",
   "execution_count": 7,
   "metadata": {
    "ExecuteTime": {
     "end_time": "2019-12-23T02:01:01.032036Z",
     "start_time": "2019-12-23T02:00:59.421699Z"
    },
    "hidden": true,
    "scrolled": true
   },
   "outputs": [],
   "source": [
    "run = getData('COMM4073', '2019-11-01 00:00:00')\n",
    "data = run.get_res()"
   ]
  },
  {
   "cell_type": "code",
   "execution_count": 8,
   "metadata": {
    "ExecuteTime": {
     "end_time": "2019-12-23T02:01:03.013745Z",
     "start_time": "2019-12-23T02:01:02.995697Z"
    },
    "hidden": true
   },
   "outputs": [
    {
     "data": {
      "text/html": [
       "<div>\n",
       "<style scoped>\n",
       "    .dataframe tbody tr th:only-of-type {\n",
       "        vertical-align: middle;\n",
       "    }\n",
       "\n",
       "    .dataframe tbody tr th {\n",
       "        vertical-align: top;\n",
       "    }\n",
       "\n",
       "    .dataframe thead th {\n",
       "        text-align: right;\n",
       "    }\n",
       "</style>\n",
       "<table border=\"1\" class=\"dataframe\">\n",
       "  <thead>\n",
       "    <tr style=\"text-align: right;\">\n",
       "      <th></th>\n",
       "      <th>Date</th>\n",
       "      <th>TotalSent</th>\n",
       "      <th>InbooxRead</th>\n",
       "      <th>InboxRate</th>\n",
       "      <th>PopupRead</th>\n",
       "      <th>PopupRate</th>\n",
       "      <th>UrlClick</th>\n",
       "      <th>UrlClickRate</th>\n",
       "    </tr>\n",
       "  </thead>\n",
       "  <tbody>\n",
       "    <tr>\n",
       "      <th>0</th>\n",
       "      <td>2019-11-26</td>\n",
       "      <td>27437</td>\n",
       "      <td>15152</td>\n",
       "      <td>0.5522</td>\n",
       "      <td>26341</td>\n",
       "      <td>0.9601</td>\n",
       "      <td>1873</td>\n",
       "      <td>0.0683</td>\n",
       "    </tr>\n",
       "    <tr>\n",
       "      <th>1</th>\n",
       "      <td>2019-12-03</td>\n",
       "      <td>26309</td>\n",
       "      <td>11892</td>\n",
       "      <td>0.4520</td>\n",
       "      <td>21652</td>\n",
       "      <td>0.8230</td>\n",
       "      <td>2263</td>\n",
       "      <td>0.0860</td>\n",
       "    </tr>\n",
       "    <tr>\n",
       "      <th>2</th>\n",
       "      <td>2019-12-10</td>\n",
       "      <td>25694</td>\n",
       "      <td>10891</td>\n",
       "      <td>0.4239</td>\n",
       "      <td>21348</td>\n",
       "      <td>0.8309</td>\n",
       "      <td>2081</td>\n",
       "      <td>0.0810</td>\n",
       "    </tr>\n",
       "    <tr>\n",
       "      <th>3</th>\n",
       "      <td>2019-12-17</td>\n",
       "      <td>25231</td>\n",
       "      <td>8603</td>\n",
       "      <td>0.3410</td>\n",
       "      <td>19876</td>\n",
       "      <td>0.7878</td>\n",
       "      <td>1790</td>\n",
       "      <td>0.0709</td>\n",
       "    </tr>\n",
       "    <tr>\n",
       "      <th>4</th>\n",
       "      <td>2019-11</td>\n",
       "      <td>27437</td>\n",
       "      <td>15152</td>\n",
       "      <td>0.5522</td>\n",
       "      <td>26341</td>\n",
       "      <td>0.9601</td>\n",
       "      <td>1873</td>\n",
       "      <td>0.0683</td>\n",
       "    </tr>\n",
       "    <tr>\n",
       "      <th>5</th>\n",
       "      <td>2019-12</td>\n",
       "      <td>77234</td>\n",
       "      <td>31386</td>\n",
       "      <td>0.4064</td>\n",
       "      <td>62876</td>\n",
       "      <td>0.8141</td>\n",
       "      <td>6134</td>\n",
       "      <td>0.0794</td>\n",
       "    </tr>\n",
       "  </tbody>\n",
       "</table>\n",
       "</div>"
      ],
      "text/plain": [
       "         Date  TotalSent  InbooxRead  InboxRate  PopupRead  PopupRate  \\\n",
       "0  2019-11-26      27437       15152     0.5522      26341     0.9601   \n",
       "1  2019-12-03      26309       11892     0.4520      21652     0.8230   \n",
       "2  2019-12-10      25694       10891     0.4239      21348     0.8309   \n",
       "3  2019-12-17      25231        8603     0.3410      19876     0.7878   \n",
       "4     2019-11      27437       15152     0.5522      26341     0.9601   \n",
       "5     2019-12      77234       31386     0.4064      62876     0.8141   \n",
       "\n",
       "   UrlClick  UrlClickRate  \n",
       "0      1873        0.0683  \n",
       "1      2263        0.0860  \n",
       "2      2081        0.0810  \n",
       "3      1790        0.0709  \n",
       "4      1873        0.0683  \n",
       "5      6134        0.0794  "
      ]
     },
     "execution_count": 8,
     "metadata": {},
     "output_type": "execute_result"
    }
   ],
   "source": [
    "data"
   ]
  },
  {
   "cell_type": "code",
   "execution_count": 185,
   "metadata": {
    "ExecuteTime": {
     "end_time": "2019-12-27T05:20:56.405326Z",
     "start_time": "2019-12-27T05:20:56.343159Z"
    },
    "hidden": true
   },
   "outputs": [],
   "source": [
    "# run.exit()\n",
    "fdir = r\"C:\\Users\\leo.zhangzs\\AppData\\Roaming\\Code\\User\\VScode\\py3\\UAT_Test\\db\\Camp_job.csv\"\n",
    "df = pd.read_csv(fdir)\n",
    "End_time = df[df.index==20]['END_TIME'].to_string(index=None).strip()"
   ]
  },
  {
   "cell_type": "code",
   "execution_count": 188,
   "metadata": {
    "ExecuteTime": {
     "end_time": "2019-12-27T05:21:22.544122Z",
     "start_time": "2019-12-27T05:21:22.540111Z"
    },
    "hidden": true
   },
   "outputs": [
    {
     "data": {
      "text/plain": [
       "'NaN'"
      ]
     },
     "execution_count": 188,
     "metadata": {},
     "output_type": "execute_result"
    }
   ],
   "source": [
    "End_time"
   ]
  },
  {
   "cell_type": "markdown",
   "metadata": {
    "heading_collapsed": true,
    "hidden": true
   },
   "source": [
    "## Camp Jobs"
   ]
  },
  {
   "cell_type": "markdown",
   "metadata": {
    "heading_collapsed": true,
    "hidden": true
   },
   "source": [
    "##### Script"
   ]
  },
  {
   "cell_type": "code",
   "execution_count": 267,
   "metadata": {
    "ExecuteTime": {
     "end_time": "2019-12-27T08:51:24.898980Z",
     "start_time": "2019-12-27T08:51:24.865895Z"
    },
    "code_folding": [
     24,
     77,
     139
    ],
    "hidden": true
   },
   "outputs": [],
   "source": [
    "import sys, os\n",
    "import time, datetime\n",
    "import traceback\n",
    "import logging\n",
    "import pandas as pd\n",
    "\n",
    "from pyecharts.charts import Line, Bar\n",
    "from pyecharts.render import make_snapshot\n",
    "from pyecharts.globals import ThemeType,RenderType\n",
    "from pyecharts.options.series_options import TextStyleOpts\n",
    "from pyecharts.commons.utils import JsCode\n",
    "from pyecharts import options as opts\n",
    "# 使用 snapshot-selenium 渲染图片\n",
    "from snapshot_selenium import snapshot\n",
    "from string import Template\n",
    "from selenium import webdriver\n",
    "from selenium.webdriver.common.keys import Keys\n",
    "from PIL import Image\n",
    "\n",
    "config_path = os.path.join(BASE_DIR, 'conf')\n",
    "config_name = 'setting.ini'\n",
    "d_set = configadmin.ConfigAdmin(config_path, config_name)\n",
    "logs = log_ctrl.de8ug_log(logger_name='analysis_report', log_file=os.path.join(BASE_DIR, 'log', f'{time.strftime(\"%Y%m\",time.localtime())}-debug.log'))\n",
    "\n",
    "class analysis_report_test:\n",
    "    def __init__(self, df, channel, SCR=None, title=None):\n",
    "        pd.set_option('display.width', 1000)    # 设置行宽\n",
    "        pd.set_option('colheader_justify', 'center')    #设置居中\n",
    "        \n",
    "        cols = list(df.columns[8:])\n",
    "        m = cols[1]\n",
    "        if m == 'GROUP_TYPE':\n",
    "            dg = df[[m]].to_dict(\"list\")\n",
    "        for i in [\"Send_Succ\",\"Notify_Type\"]:\n",
    "            if i in cols:\n",
    "                cols.remove(i)\n",
    "        drep = df[cols].to_dict(\"list\")\n",
    "        \n",
    "        a = lambda x: format(x, '.2%')  #小数转百分比\n",
    "        self.tb = df.to_html(columns=cols, float_format=a, index=0, border=1)\n",
    "        if m != 'GROUP_TYPE':\n",
    "            self.attr = [i.strftime('%Y/%m/%d') for i in drep['PROCESSED_DTTM']]\n",
    "        else:\n",
    "            self.attr = [i for i in dg['GROUP_TYPE']]\n",
    "        # 初始化图表数据（柱形图，折线图）\n",
    "        self.bar = Bar(init_opts = opts.InitOpts(width = \"1000px\", \n",
    "                                        height = \"600px\", \n",
    "        #                                   bg_color = \"#ffffff\",\n",
    "                                        theme = ThemeType.VINTAGE, \n",
    "                                        renderer = RenderType.CANVAS, \n",
    "                                        animation_opts = opts.AnimationOpts(animation = True))).add_xaxis(self.attr)\n",
    "        self.line = Line().add_xaxis(self.attr)\n",
    "        # 添加横纵轴数据\n",
    "        if channel == 'SMT':\n",
    "            self.bar.add_yaxis(\"Inbox\", drep['Inbox_Read'])\n",
    "            self.line.add_yaxis(\"Inbox\", drep['Inbox_Rate'], yaxis_index = 1)\n",
    "            if 'Popup_Read' in cols:\n",
    "                self.bar.add_yaxis(\"Popup\", drep['Popup_Read'])\n",
    "                self.line.add_yaxis(\"Popup\", drep['Popup_Rate'], yaxis_index = 1)\n",
    "            if 'Push_Read' in cols:\n",
    "                self.bar.add_yaxis(\"Popup\", drep['Push_Read'])\n",
    "                self.line.add_yaxis(\"Popup\", drep['Push_Rate'], yaxis_index = 1)\n",
    "            if 'Url_Click' in cols:\n",
    "                self.bar.add_yaxis(\"Url_Click\", drep['Url_Click'])\n",
    "                self.line.add_yaxis(\"Url_Click\", drep['Click_Rate'], yaxis_index = 1)\n",
    "            self.bar.add_yaxis(\"Delivery\", drep['Total_Send'])\n",
    "            self.line.add_yaxis(\"Delivery\", drep['Delivery_Rate'], yaxis_index = 1)\n",
    "        else:\n",
    "            logs.warn(\"The Channel - {channel} is unknown.\")\n",
    "        \n",
    "        self.scr = SCR\n",
    "        self.title = title\n",
    "        self.report = d_set.read_config('Cofig_Path', 'analysis_path')\n",
    "        self.report = r'C:\\Users\\leo.zhangzs\\Documents\\HCC\\Campagin\\Analysis'\n",
    "        self.rep_name = os.path.join(self.report, f\"{channel} \" + self.title + \" SCR-\" + self.scr + \".html\")\n",
    "        self.save_fn = os.path.join(self.report, f\"{channel} \" + self.title + \" SCR-\" + self.scr + \".png\")\n",
    "\n",
    "    def create_html(self):\n",
    "        newline = '\\\\n'\n",
    "        bar = (self.bar.extend_axis(yaxis=opts.AxisOpts(type_ = 'value'\n",
    "                                            ,boundary_gap = ['0%','20%']\n",
    "                                            ))\n",
    "                                            .set_global_opts(title_opts = opts.TitleOpts(title = self.title, \n",
    "                                                                            pos_left = 'center', \n",
    "                                                                            pos_top = '1%',\n",
    "                                                                            title_textstyle_opts = {'fontWeight': 'bold',\n",
    "                                                                                                    'fontSize': 16,\n",
    "                                                                                                    'padding': [8,8,8,8],\n",
    "                                                                                                    'hight': '10%',\n",
    "                                                                                                    'line_height':'10%'}),\n",
    "                                                            legend_opts = opts.LegendOpts(type_ = 'scroll', \n",
    "                                                                            is_show = True,\n",
    "                                                                            pos_left = 'center', \n",
    "                                                                            pos_top = 'bottom', \n",
    "                                                                            orient = 'horizontal', ),\n",
    "                                                            xaxis_opts = opts.AxisOpts(type_ = None, \n",
    "                                                                                        boundary_gap = ['10%','10%']),\n",
    "                                                            toolbox_opts = opts.ToolboxOpts(is_show = True),\n",
    "                                                            tooltip_opts = opts.TooltipOpts(is_show = True),\n",
    "                                                            datazoom_opts = opts.DataZoomOpts(is_show = True\n",
    "                                                                                        ,type_ = \"slider\"\n",
    "                                                                                        ,orient = \"vertical\"\n",
    "                                                                                        ,range_start = 0\n",
    "                                                                                        ,range_end = 100\n",
    "                                                                                        ,yaxis_index = 1))\n",
    "                                            .set_series_opts(label_opts=opts.LabelOpts(is_show = True,\n",
    "                                                                                    position = \"insideBottom\",\n",
    "                                                                                    font_style = \"normal\",\n",
    "                                                                                    font_size = 15,\n",
    "                                                                                    margin = 100,\n",
    "                                                                                    rotate = 0,\n",
    "                                                                                    interval = 1,\n",
    "                                                                                    rich = { 'lineHeight':10})))\n",
    "\n",
    "        line = (self.line.set_series_opts(label_opts=opts.LabelOpts(is_show = True,\n",
    "        #                                                font_style=\"italic\",\n",
    "                                                    font_size = 15,\n",
    "                                                    color = \"#333333\",\n",
    "                                                    interval = 6, \n",
    "                                                    margin = 100,\n",
    "                                                    formatter = JsCode(f\"function(params){{ \\\n",
    "                                                    var str1= Number(params.value[1] * 100).toFixed(2) + '%'; \\\n",
    "                                                    return str1 }}\"),\n",
    "                                                    rich = {\n",
    "                                                        'lineHeight':10\n",
    "                                                    })))\n",
    "\n",
    "        bar.overlap(line)\n",
    "        bar.render(self.rep_name,'report_chart.html')\n",
    "        if os.path.exists(self.rep_name):\n",
    "            with open(self.rep_name, 'r') as f:\n",
    "                temp = Template(f.read())\n",
    "            with open(self.rep_name, 'w') as f:\n",
    "                f.write(temp.substitute(tb1 = self.tb))\n",
    "        else:\n",
    "            return False\n",
    "        logging.info(f\"Report has been Created! ：{self.rep_name}\")\n",
    "        return self.rep_name\n",
    "\n",
    "    def save_as_pic(self):\n",
    "        try:\n",
    "            option = webdriver.ChromeOptions()\n",
    "            option.add_argument('--headless')\n",
    "            option.add_argument('--disable-gpu')\n",
    "            option.add_argument('--window-size=1280,1024')\n",
    "            option.add_argument('--hide-scrollbars')\n",
    "            \n",
    "            driver = webdriver.Chrome(chrome_options=option)\n",
    "            if not os.path.exists(self.rep_name):\n",
    "                logging.warning(\"The report is not exist!\")\n",
    "                return False\n",
    "            driver.get(self.rep_name)\n",
    "            scroll_width = driver.execute_script('return document.body.scrollWidth')\n",
    "            scroll_height = driver.execute_script('return document.body.scrollHeight')\n",
    "            driver.set_window_size(scroll_width, scroll_height + 10)\n",
    "            driver.save_screenshot(self.save_fn)\n",
    "            driver.quit()\n",
    "            \n",
    "            img = Image.open(self.save_fn)\n",
    "            width, height = img.size\n",
    "            cropped = img.crop((0, 0, width-246, height+10))\n",
    "            \n",
    "            size = (800,600)\n",
    "            # cropped.thumbnall(size)\n",
    "            cropped.resize(size, Image.ANTIALIAS)\n",
    "            cropped.save(self.save_fn, quality = 95)\n",
    "            logging.info(f\"The image has been Created! ：{self.save_fn}\")\n",
    "            return self.save_fn\n",
    "        except Exception as e:\n",
    "            logging.error(traceback.format_exc())\n",
    "            return False"
   ]
  },
  {
   "cell_type": "code",
   "execution_count": 265,
   "metadata": {
    "ExecuteTime": {
     "end_time": "2019-12-27T08:49:21.893748Z",
     "start_time": "2019-12-27T08:49:21.880674Z"
    },
    "code_folding": [
     13
    ],
    "hidden": true
   },
   "outputs": [],
   "source": [
    "from core import sdm_check\n",
    "# from core.anaylysis_reports import analysis_report\n",
    "from core.camp_res import campaign_res\n",
    "from core.outlook import send_email\n",
    "from core.color_me import ColorMe\n",
    "from core.configadmin import ConfigAdmin\n",
    "from core import log_ctrl\n",
    "\n",
    "config_path = os.path.join(BASE_DIR, 'conf')\n",
    "config_name = 'setting.ini'\n",
    "conf = ConfigAdmin(config_path, config_name)\n",
    "camp_jobs = conf.read_config('FILE_NM','camp_jobs')\n",
    "\n",
    "def main(campaign_cd, communication_cd, url_check, launch_time, End_time, SCR, TITLE_NAME, model, group, Sender):\n",
    "    pid = os.getpid()\n",
    "    logging.info(f'Camp_jobs Process:{pid}')\n",
    "    try:\n",
    "        job_res = campaign_res(campaign_cd, communication_cd, url_check, launch_time, End_time, model, group).get_res()\n",
    "        if job_res == False or job_res == None:\n",
    "            logging.warning(f'{campaign_cd}-{communication_cd} get results faild!', campaign_cd, communication_cd, url_check, launch_time, End_time, model, group)\n",
    "            return False\n",
    "        # if not job_res and len(job_res) > 0:\n",
    "        #     logging.warning(f'{campaign_cd}-{communication_cd} get results faild!')\n",
    "        #     return False\n",
    "        logging.info(f\"{job_res}\")\n",
    "    except Exception as e:\n",
    "        logs.error(\"Get Results Error!\", e)\n",
    "        return False\n",
    "    \n",
    "    package = []\n",
    "    table_html = \"\"\n",
    "    try:\n",
    "        for k,v in job_res.items():\n",
    "            print(k, type(v))\n",
    "            Html_Report = analysis_report_test(v, k, SCR=SCR, title=TITLE_NAME)\n",
    "#             table_html = table_html + \"<p>\" + \"-\"*40 + \" \"*10 + f\"{k} Channel Response \" + \"-\"*40 + \" \"*10 + \"</p>\"\n",
    "#             table_html = table_html + Html_Report.tb\n",
    "#             attach = Html_Report.create_html()\n",
    "#             if attach:\n",
    "#                 package.append(attach)\n",
    "#                 img = Html_Report.save_as_pic()\n",
    "#                 if not img:\n",
    "#                     return False\n",
    "#                 else:\n",
    "#                     package.append(img)\n",
    "                # with open(img, 'rb') as f:\n",
    "                #     image = f.read()\n",
    "                #     image_base64 = str(base64.b64encode(image), encoding='utf-8')\n",
    "#             else:\n",
    "#                 return False\n",
    "    except Exception as e:\n",
    "        logs.error(\"Create Reports Error!\", e)\n",
    "        return False\n",
    "    \n",
    "#     subject = f\"Analysis of SCR-{SCR}: {TITLE_NAME}\"\n",
    "#     content = f'<p>Dear all:</p><p>The summary which is based on camp request <b>SCR-{SCR}: {TITLE_NAME}</b></p>{table_html}<p style=\"font-size:14px\">Please refer to the attachment for the visualization and browse <i>\".html\"</i> in Chrome.</br></br></p><div style=\"font-family:arial;color:black;font-size:10px;text-align:left\">The e-mail sent on schedule. If any problem,please feel free to let me know.</div></br></br><p>Best Regards &#10<br/>Leo. Ext：6942</p>'\n",
    "#     if Sender == \"Leo.ZhangZS@homecredit.cn\":\n",
    "#         cc_to = None\n",
    "#     else:\n",
    "#         cc_to = \"Jessie.WangTJ@homecredit.cn;Caroline.Cui@homecredit.cn;Iris.Ji@homecreditcfc.cn;Jason.JiJJ@homecreditcfc.cn;Leo.ZhangZS@homecredit.cn;\"\n",
    "#     # cc_to = \"Leo.ZhangZS@homecredit.cn;\"\n",
    "#     if not send_email.outlook(send_to=Sender, subject=subject, content=content, cc_to=cc_to, addtach=package):\n",
    "#         logging.error('E-mail Send Faild!')\n",
    "#         print(ColorMe('E-mail Send Faild!').red())\n",
    "#         return False\n",
    "#     else:\n",
    "#         logging.info('E-mail Send Success!')\n",
    "#         print(ColorMe('E-mail Send Success!').green())\n",
    "    return True"
   ]
  },
  {
   "cell_type": "code",
   "execution_count": 269,
   "metadata": {
    "ExecuteTime": {
     "end_time": "2019-12-27T08:54:44.791825Z",
     "start_time": "2019-12-27T08:54:44.761742Z"
    },
    "hidden": true
   },
   "outputs": [
    {
     "name": "stdout",
     "output_type": "stream",
     "text": [
      "\u001b[34;1mThere are 1 jobs waitting to analysis.\u001b[0m\n"
     ]
    }
   ],
   "source": [
    "day = -2\n",
    "job_lists = pd.read_csv(os.path.join(BASE_DIR, 'db', camp_jobs))\n",
    "pd.set_option('max_colwidth',200)\n",
    "job_lists['LAUNCH_TIME'] = pd.to_datetime(job_lists['LAUNCH_TIME'], format ='%Y-%m-%d %H:%M:%S')\n",
    "inv_time = datetime.datetime.now() + datetime.timedelta(days=day)\n",
    "if datetime.datetime.now().hour >= 15:\n",
    "    inv_time = inv_time + datetime.timedelta(hours=3)\n",
    "df = job_lists[(job_lists['CHECK_STATUS'] == 'n') & (job_lists['LAUNCH_TIME'] < inv_time)]\n",
    "if len(df) == 0:\n",
    "    logging.info('There are no jobs waitting to analysis.')\n",
    "    print(ColorMe('There are no jobs waitting to analysis.').yellow())\n",
    "    sys.exit(0)\n",
    "else:\n",
    "    logging.info(f'There are {len(df)} jobs waitting to analysis.')\n",
    "    print(ColorMe(f'There are {len(df)} jobs waitting to analysis.').blue())\n",
    "df.index\n",
    "campaign_cd = df[df.index==43]['CAMPAIGN_CD'].to_string(index=None).strip()\n",
    "communication_cd = df[df.index==43]['COMMUNICATION_CD'].to_string(index=None).strip()\n",
    "url_check = df[df.index==43]['URL_CHECK'].to_string(index=None).strip()\n",
    "launch_time = df[df.index==43]['LAUNCH_TIME'].to_string(index=None).strip()\n",
    "End_time = df[df.index==43]['END_TIME'].to_string(index=None).strip()\n",
    "End_time = End_time if End_time != \"NaN\" else None\n",
    "SCR = df[df.index==43]['SCR'].to_string(index=None).strip()\n",
    "TITLE_NAME = df[df.index==43]['TITLE_NAME'].to_string(index=None).strip()\n",
    "model = df[df.index==43]['MODEL'].to_string(index=None).strip()\n",
    "model = model if model != \"NaN\" else \"t\"\n",
    "group = df[df.index==43]['GROUP'].to_string(index=None).strip()\n",
    "group = group if group != \"NaN\" else None\n",
    "Sender = df[df.index==43]['Sender'].to_string(index=None).strip()"
   ]
  },
  {
   "cell_type": "code",
   "execution_count": 270,
   "metadata": {
    "ExecuteTime": {
     "end_time": "2019-12-27T08:56:14.456429Z",
     "start_time": "2019-12-27T08:55:00.286629Z"
    },
    "hidden": true
   },
   "outputs": [],
   "source": [
    "job_res = campaign_res(campaign_cd, communication_cd, url_check, launch_time, End_time, model, group).get_res()"
   ]
  },
  {
   "cell_type": "code",
   "execution_count": 282,
   "metadata": {
    "ExecuteTime": {
     "end_time": "2019-12-27T09:05:11.080292Z",
     "start_time": "2019-12-27T09:05:11.061266Z"
    },
    "code_folding": [],
    "hidden": true
   },
   "outputs": [
    {
     "data": {
      "text/html": [
       "<div>\n",
       "<style scoped>\n",
       "    .dataframe tbody tr th:only-of-type {\n",
       "        vertical-align: middle;\n",
       "    }\n",
       "\n",
       "    .dataframe tbody tr th {\n",
       "        vertical-align: top;\n",
       "    }\n",
       "\n",
       "    .dataframe thead th {\n",
       "        text-align: right;\n",
       "    }\n",
       "</style>\n",
       "<table border=\"1\" class=\"dataframe\">\n",
       "  <thead>\n",
       "    <tr style=\"text-align: center;\">\n",
       "      <th></th>\n",
       "      <th>RESPONSE_TRACKING_CD</th>\n",
       "      <th>CAMPAIGN_CD</th>\n",
       "      <th>CAMPAIGN_NM</th>\n",
       "      <th>COMMUNICATION_CD</th>\n",
       "      <th>COMMUNICATION_NM</th>\n",
       "      <th>COMMUNICATION_OCCURRENCE_NO</th>\n",
       "      <th>CHANNEL_CD</th>\n",
       "      <th>SUBJECT_TYPE_NM</th>\n",
       "      <th>PROCESSED_DTTM</th>\n",
       "      <th>COMMUNICATION_CD</th>\n",
       "      <th>GROUP_TYPE</th>\n",
       "      <th>Notify_Type</th>\n",
       "      <th>Total_Send</th>\n",
       "      <th>Send_Succ</th>\n",
       "      <th>Delivery_Rate</th>\n",
       "      <th>Inbox_Read</th>\n",
       "      <th>Inbox_Rate</th>\n",
       "      <th>Popup_Read</th>\n",
       "      <th>Popup_Rate</th>\n",
       "    </tr>\n",
       "    <tr>\n",
       "      <th>COMMUNICATION_CD</th>\n",
       "      <th></th>\n",
       "      <th></th>\n",
       "      <th></th>\n",
       "      <th></th>\n",
       "      <th></th>\n",
       "      <th></th>\n",
       "      <th></th>\n",
       "      <th></th>\n",
       "      <th></th>\n",
       "      <th></th>\n",
       "      <th></th>\n",
       "      <th></th>\n",
       "      <th></th>\n",
       "      <th></th>\n",
       "      <th></th>\n",
       "      <th></th>\n",
       "      <th></th>\n",
       "      <th></th>\n",
       "      <th></th>\n",
       "    </tr>\n",
       "  </thead>\n",
       "  <tbody>\n",
       "    <tr>\n",
       "      <th>COMM6089</th>\n",
       "      <td>213720103</td>\n",
       "      <td>CAMP1442</td>\n",
       "      <td>SMT_AVS_POS_Tipper_Promotio_SCR-940</td>\n",
       "      <td>COMM6089</td>\n",
       "      <td>SMT_AVS_POS_Tipper_Promotio_SCR-940</td>\n",
       "      <td>1</td>\n",
       "      <td>SMT</td>\n",
       "      <td>Tipper</td>\n",
       "      <td>2019-12-12</td>\n",
       "      <td>COMM6089</td>\n",
       "      <td>P1</td>\n",
       "      <td>POP_UP</td>\n",
       "      <td>70093</td>\n",
       "      <td>70166</td>\n",
       "      <td>1.001041</td>\n",
       "      <td>2410</td>\n",
       "      <td>0.034347</td>\n",
       "      <td>9523</td>\n",
       "      <td>0.135721</td>\n",
       "    </tr>\n",
       "    <tr>\n",
       "      <th>COMM6156</th>\n",
       "      <td>215040103</td>\n",
       "      <td>CAMP1442</td>\n",
       "      <td>SMT_AVS_POS_Tipper_Promotio_SCR-940</td>\n",
       "      <td>COMM6156</td>\n",
       "      <td>SMT_AVS_POS_Tipper_Promotio_SCR-940(5)</td>\n",
       "      <td>1</td>\n",
       "      <td>SMT</td>\n",
       "      <td>Tipper</td>\n",
       "      <td>2019-12-13</td>\n",
       "      <td>COMM6156</td>\n",
       "      <td>P2</td>\n",
       "      <td>POP_UP</td>\n",
       "      <td>4692</td>\n",
       "      <td>4692</td>\n",
       "      <td>1.000000</td>\n",
       "      <td>139</td>\n",
       "      <td>0.029625</td>\n",
       "      <td>598</td>\n",
       "      <td>0.127451</td>\n",
       "    </tr>\n",
       "  </tbody>\n",
       "</table>\n",
       "</div>"
      ],
      "text/plain": [
       "                 RESPONSE_TRACKING_CD CAMPAIGN_CD             CAMPAIGN_NM              COMMUNICATION_CD             COMMUNICATION_NM             COMMUNICATION_OCCURRENCE_NO CHANNEL_CD SUBJECT_TYPE_NM PROCESSED_DTTM COMMUNICATION_CD GROUP_TYPE Notify_Type  Total_Send  Send_Succ  Delivery_Rate  Inbox_Read  Inbox_Rate  Popup_Read  Popup_Rate\n",
       "COMMUNICATION_CD                                                                                                                                                                                                                                                                                                                                    \n",
       "COMM6089               213720103        CAMP1442   SMT_AVS_POS_Tipper_Promotio_SCR-940     COMM6089         SMT_AVS_POS_Tipper_Promotio_SCR-940               1                  SMT         Tipper       2019-12-12       COMM6089         P1        POP_UP       70093      70166      1.001041        2410      0.034347      9523      0.135721 \n",
       "COMM6156               215040103        CAMP1442   SMT_AVS_POS_Tipper_Promotio_SCR-940     COMM6156      SMT_AVS_POS_Tipper_Promotio_SCR-940(5)               1                  SMT         Tipper       2019-12-13       COMM6156         P2        POP_UP        4692       4692      1.000000         139      0.029625       598      0.127451 "
      ]
     },
     "execution_count": 282,
     "metadata": {},
     "output_type": "execute_result"
    }
   ],
   "source": [
    "# Html_Report = analysis_report_test(job_res[\"SMT\"], \"SMT\", SCR=SCR, title=TITLE_NAME)\n",
    "job_res[\"SMT\"]"
   ]
  },
  {
   "cell_type": "code",
   "execution_count": 275,
   "metadata": {
    "ExecuteTime": {
     "end_time": "2019-12-27T09:05:11.080292Z",
     "start_time": "2019-12-27T09:05:11.061266Z"
    },
    "code_folding": [],
    "collapsed": true,
    "hidden": true
   },
   "outputs": [
    {
     "name": "stdout",
     "output_type": "stream",
     "text": [
      "SMT <class 'pandas.core.frame.DataFrame'>\n",
      "                 RESPONSE_TRACKING_CD CAMPAIGN_CD             CAMPAIGN_NM              COMMUNICATION_CD             COMMUNICATION_NM             COMMUNICATION_OCCURRENCE_NO CHANNEL_CD SUBJECT_TYPE_NM PROCESSED_DTTM COMMUNICATION_CD GROUP_TYPE Notify_Type  Total_Send  Send_Succ  Delivery_Rate  Inbox_Read  Inbox_Rate  Popup_Read  Popup_Rate\n",
      "COMMUNICATION_CD                                                                                                                                                                                                                                                                                                                                    \n",
      "COMM6089               213720103        CAMP1442   SMT_AVS_POS_Tipper_Promotio_SCR-940     COMM6089         SMT_AVS_POS_Tipper_Promotio_SCR-940               1                  SMT         Tipper       2019-12-12       COMM6089         P1        POP_UP       70093      70166      1.001041        2410      0.034347      9523      0.135721 \n",
      "COMM6156               215040103        CAMP1442   SMT_AVS_POS_Tipper_Promotio_SCR-940     COMM6156      SMT_AVS_POS_Tipper_Promotio_SCR-940(5)               1                  SMT         Tipper       2019-12-13       COMM6156         P2        POP_UP        4692       4692      1.000000         139      0.029625       598      0.127451 \n"
     ]
    }
   ],
   "source": [
    "package = []\n",
    "table_html = \"\"\n",
    "try:\n",
    "    for k,v in job_res.items():\n",
    "        print(k, type(v))\n",
    "#         Html_Report = analysis_report_test(v, k, SCR=SCR, title=TITLE_NAME)\n",
    "#             table_html = table_html + \"<p>\" + \"-\"*40 + \" \"*10 + f\"{k} Channel Response \" + \"-\"*40 + \" \"*10 + \"</p>\"\n",
    "#             table_html = table_html + Html_Report.tb\n",
    "#             attach = Html_Report.create_html()\n",
    "#             if attach:\n",
    "#                 package.append(attach)\n",
    "#                 img = Html_Report.save_as_pic()\n",
    "#                 if not img:\n",
    "#                     return False\n",
    "#                 else:\n",
    "#                     package.append(img)\n",
    "            # with open(img, 'rb') as f:\n",
    "            #     image = f.read()\n",
    "            #     image_base64 = str(base64.b64encode(image), encoding='utf-8')\n",
    "#             else:\n",
    "#                 return False\n",
    "except Exception as e:\n",
    "    logs.error(\"Create Reports Error!\", e)"
   ]
  },
  {
   "cell_type": "markdown",
   "metadata": {
    "heading_collapsed": true,
    "hidden": true
   },
   "source": [
    "##### Test"
   ]
  },
  {
   "cell_type": "code",
   "execution_count": 71,
   "metadata": {
    "ExecuteTime": {
     "end_time": "2020-01-13T05:33:42.415633Z",
     "start_time": "2020-01-13T05:33:42.394607Z"
    },
    "hidden": true
   },
   "outputs": [],
   "source": [
    "from pyecharts.charts import Line, Bar\n",
    "from pyecharts.render import make_snapshot\n",
    "from pyecharts.globals import ThemeType,RenderType\n",
    "from pyecharts.options.series_options import TextStyleOpts\n",
    "from pyecharts.commons.utils import JsCode\n",
    "from pyecharts import options as opts\n",
    "# 使用 snapshot-selenium 渲染图片\n",
    "from snapshot_selenium import snapshot\n",
    "\n",
    "# attr = [\"{}月\".format(i) for i in range(1, 13)]\n",
    "attr = [i.strftime('%Y/%m/%d') for i in drep['PROCESSED_DTTM']]\n",
    "Inbox_Read = drep['Inbox_Read']\n",
    "Inbox_Rate = drep['Inbox_Rate']\n",
    "Popup_Read = drep['Popup_Read']\n",
    "Popup_Rate = drep['Popup_Rate']\n",
    "# Url_Click = [i for i in data['UrlClick']]\n",
    "# Click_Rate = [i for i in data['UrlClickRate']]\n",
    "Total_Sent = drep['Total_Send']\n",
    "Deliver_Rate = drep['Delivery_Rate']\n",
    "titleName = data['SMT']['CAMPAIGN_NM'][0]\n",
    "# Deliver_Rate = [Total_Sent[i]/ Total_Sent[i] for i in range(len(Total_Sent))]\n",
    "# [Total_Sent[i] for i in range(len(Total_Sent))]"
   ]
  },
  {
   "cell_type": "code",
   "execution_count": 60,
   "metadata": {
    "ExecuteTime": {
     "end_time": "2020-06-18T05:24:59.613076Z",
     "start_time": "2020-06-18T05:24:59.596488Z"
    },
    "code_folding": [],
    "hidden": true,
    "scrolled": false
   },
   "outputs": [
    {
     "ename": "SyntaxError",
     "evalue": "invalid syntax (<ipython-input-60-10d1a082ea78>, line 121)",
     "output_type": "error",
     "traceback": [
      "\u001b[1;36m  File \u001b[1;32m\"<ipython-input-60-10d1a082ea78>\"\u001b[1;36m, line \u001b[1;32m121\u001b[0m\n\u001b[1;33m    bar.overlap(line)\u001b[0m\n\u001b[1;37m      ^\u001b[0m\n\u001b[1;31mSyntaxError\u001b[0m\u001b[1;31m:\u001b[0m invalid syntax\n"
     ]
    }
   ],
   "source": [
    "newline = '\\\\n'\n",
    "bar = (\n",
    "    Bar(init_opts = opts.InitOpts(width = \"1000px\", \n",
    "                                  height = \"600px\", \n",
    "#                                   bg_color = \"#ffffff\",\n",
    "                                  theme=ThemeType.VINTAGE, \n",
    "                                  renderer = RenderType.CANVAS, \n",
    "                                  animation_opts = opts.AnimationOpts(animation = True)\n",
    "                                 )\n",
    "       )\n",
    "    .add_xaxis(attr)\n",
    "    .add_yaxis(\"Inbox\", Inbox_Read)\n",
    "    .add_yaxis(\"Popup\", Popup_Read)\n",
    "#     .add_yaxis(\"Url_Click\", Url_Click)\n",
    "    .add_yaxis(\"Delivery\", Total_Sent)\n",
    "    .extend_axis(yaxis=opts.AxisOpts(type_ = 'value'\n",
    "                                     ,boundary_gap = ['0%','20%']\n",
    "#                                      ,axislabel_opts = opts.LabelOpts(is_show = True,\n",
    "#                                                                       formatter = JsCode(\"function(params) \\\n",
    "#                                                                       {var str = Number(params.value[1]/params.value[1]*100).toFixed(2) + '%'; return str;}\"))\n",
    "                                    )\n",
    "                 \n",
    "    )\n",
    "    .set_global_opts(title_opts = opts.TitleOpts(title = titleName, \n",
    "                                                 pos_left = 'center', \n",
    "                                                 pos_top = '1%',\n",
    "                                                 title_textstyle_opts = {'fontWeight': 'bold',\n",
    "                                                                         'fontSize': 16,\n",
    "                                                                         'padding': [8,8,8,8],\n",
    "                                                                         'hight': '10%',\n",
    "                                                                         'line_height':'10%'\n",
    "                                                                      })\n",
    "                     ,legend_opts = opts.LegendOpts(type_ = 'scroll', \n",
    "                                                    is_show = True,\n",
    "                                                    pos_left = 'center', \n",
    "                                                    pos_top = 'bottom', \n",
    "                                                    orient = 'horizontal', \n",
    "                                                   )\n",
    "                     ,xaxis_opts = opts.AxisOpts(type_ = None, \n",
    "                                                 boundary_gap = ['10%','10%']\n",
    "                                                )\n",
    "                     ,toolbox_opts = opts.ToolboxOpts(is_show = True)\n",
    "                     ,tooltip_opts = opts.TooltipOpts(is_show = True)\n",
    "                     ,datazoom_opts = opts.DataZoomOpts(is_show = True\n",
    "                                                        ,type_ = \"slider\"\n",
    "                                                        ,orient = \"vertical\"\n",
    "                                                        ,range_start = 0\n",
    "                                                        ,range_end = 100\n",
    "                                                        ,yaxis_index = 1\n",
    "                                                       )\n",
    "    )\n",
    "    .set_series_opts(label_opts=opts.LabelOpts(is_show = True,\n",
    "                                               position = \"insideBottom\",\n",
    "                                               font_style = \"normal\",\n",
    "                                               font_size = 15,\n",
    "                                               margin = 100,\n",
    "                                               rotate = 0,\n",
    "                                               interval = 1,\n",
    "#                                                formatter = JsCode(f\"function(params){{ \\\n",
    "#                                                var str1=params.value; \\\n",
    "#                                                return str1 }}\"),\n",
    "                                               rich = { 'lineHeight':10\n",
    "                                               }\n",
    "                                              )\n",
    "                    )\n",
    ")\n",
    "\n",
    "line = (\n",
    "    Line()\n",
    "    .add_xaxis(attr)\n",
    "    .add_yaxis(\"Inbox\", Inbox_Rate, yaxis_index = 1)\n",
    "    .add_yaxis(\"Popup\", Popup_Rate, yaxis_index = 1)\n",
    "#     .add_yaxis(\"Url_Click\", Click_Rate, yaxis_index = 1)\n",
    "    .add_yaxis(\"Delivery\", Deliver_Rate, yaxis_index = 1)\n",
    "    \n",
    "    .set_series_opts(label_opts=opts.LabelOpts(is_show = True,\n",
    "#                                                font_style=\"italic\",\n",
    "                                               font_size = 15,\n",
    "                                               color = \"#333333\",\n",
    "                                               interval = 6, \n",
    "                                               margin = 100,\n",
    "#                                                formatter = JsCode(\"function(params){ \\\n",
    "#                                                var str1 = Number(params.value[1]/params.value[1]*100).toFixed(2) + '%'; \\\n",
    "#                                                return str1}\"),\n",
    "                                               formatter = JsCode(f\"function(params){{ \\\n",
    "                                               var str1= Number(params.value[1] * 100).toFixed(2) + '%'; \\\n",
    "                                               return str1 }}\"),\n",
    "                                               rich = {\n",
    "                                                   'lineHeight':10\n",
    "                                               }\n",
    "                                              )\n",
    "                    )\n",
    ")\n",
    "\n",
    "bar.overlap(line)\n",
    "bar.render_notebook()"
   ]
  },
  {
   "cell_type": "code",
   "execution_count": 91,
   "metadata": {
    "ExecuteTime": {
     "end_time": "2019-12-26T03:32:17.453729Z",
     "start_time": "2019-12-26T03:32:17.445717Z"
    },
    "hidden": true
   },
   "outputs": [
    {
     "data": {
      "text/plain": [
       "'C:\\\\Users\\\\leo.zhangzs\\\\Documents\\\\HCC\\\\Campagin\\\\Analysis\\\\DSM AVS POS re-activation progress weekly reminder SCR-930-test.html'"
      ]
     },
     "execution_count": 91,
     "metadata": {},
     "output_type": "execute_result"
    }
   ],
   "source": [
    "htmls = r'C:\\Users\\leo.zhangzs\\Documents\\HCC\\Campagin\\Analysis\\DSM AVS POS re-activation progress weekly reminder SCR-930-test.html'\n",
    "bar.render(htmls,'report_chart.html')\n",
    "# make_snapshot(snapshot, bar.render(), \"DSM AVS POS re-activation progress 3nd week reminder SCR-930\\bar.gif\")"
   ]
  },
  {
   "cell_type": "code",
   "execution_count": 98,
   "metadata": {
    "ExecuteTime": {
     "end_time": "2019-12-26T05:14:24.496523Z",
     "start_time": "2019-12-26T05:14:24.491510Z"
    },
    "hidden": true
   },
   "outputs": [],
   "source": [
    "from string import Template\n",
    "\n",
    "with open(htmls, 'r') as f:\n",
    "    temp = Template(f.read())"
   ]
  },
  {
   "cell_type": "code",
   "execution_count": 102,
   "metadata": {
    "ExecuteTime": {
     "end_time": "2019-12-26T05:16:09.056045Z",
     "start_time": "2019-12-26T05:16:09.049045Z"
    },
    "hidden": true
   },
   "outputs": [],
   "source": [
    "with open(htmls, 'w') as f:\n",
    "    f.write(temp.substitute(tb1=tb))"
   ]
  },
  {
   "cell_type": "markdown",
   "metadata": {},
   "source": [
    "# Sqlite3 + Ploty"
   ]
  },
  {
   "cell_type": "markdown",
   "metadata": {},
   "source": [
    "## Main"
   ]
  },
  {
   "cell_type": "code",
   "execution_count": 1,
   "metadata": {
    "ExecuteTime": {
     "end_time": "2020-09-14T09:40:51.906533Z",
     "start_time": "2020-09-14T09:40:43.778967Z"
    }
   },
   "outputs": [],
   "source": [
    "import sys, os\n",
    "import traceback, logging\n",
    "import datetime, time\n",
    "import cx_Oracle\n",
    "import pandas as pd\n",
    "import numpy as np\n",
    "import sqlite3\n",
    "import statsmodels.api as sm \n",
    "\n",
    "from pandas import DataFrame,Series\n",
    "# 分解(decomposing) 可以用来把时序数据中的趋势和周期性数据都分离出来:\n",
    "from statsmodels.tsa.seasonal import seasonal_decompose\n",
    "from statsmodels.tsa.arima_model import ARIMA\n",
    "from statsmodels import regression\n",
    "from pyecharts.charts import Line, Bar\n",
    "from pyecharts.render import make_snapshot\n",
    "from pyecharts.globals import ThemeType,RenderType\n",
    "from pyecharts.options.series_options import TextStyleOpts\n",
    "from pyecharts.commons.utils import JsCode\n",
    "from pyecharts import options as opts\n",
    "from snapshot_selenium import snapshot\n",
    "from string import Template\n",
    "\n",
    "BASE_DIR = r'C:\\Users\\leo.zhangzs\\AppData\\Roaming\\Code\\User\\VScode\\py3\\UAT_Test'\n",
    "sys.path.append(BASE_DIR)\n",
    "\n",
    "from core.outlook import send_email\n",
    "from core.configadmin import ConfigAdmin\n",
    "from core import log_ctrl\n",
    "from core.color_me import ColorMe\n",
    "from core.sqlplus import SqlPlus\n",
    "from core.sqlitePlus import SqlitePlus\n",
    "\n",
    "config_path = os.path.join(BASE_DIR, 'conf')\n",
    "config_name = 'setting.ini'\n",
    "conf = ConfigAdmin(config_path, config_name)\n",
    "Temp = os.path.join(BASE_DIR, 'conf', 'CSS', conf.read_config('CSS_Style','reporttemplate'))\n",
    "TempError = os.path.join(BASE_DIR, 'conf', 'CSS', conf.read_config('CSS_Style','errortemplate'))\n",
    "\n",
    "logs = log_ctrl.de8ug_log(logger_name='main_QTA', log_file=os.path.join(BASE_DIR, 'log', f'{time.strftime(\"%Y%m\",time.localtime())}-run.log'), level=logging.INFO)"
   ]
  },
  {
   "cell_type": "code",
   "execution_count": 2,
   "metadata": {
    "ExecuteTime": {
     "end_time": "2020-09-14T09:41:00.590385Z",
     "start_time": "2020-09-14T09:41:00.538737Z"
    },
    "code_folding": [
     0,
     42,
     56,
     107,
     130
    ]
   },
   "outputs": [],
   "source": [
    "def getRest(database, plsql, **kwargs):\n",
    "    \"\"\"\n",
    "    1.Get Data from oralce;\n",
    "    2.Get cache from sqlite;\n",
    "    3.insert New data;\n",
    "    4.merge all data\n",
    "    return[dataframe]\n",
    "    \"\"\"\n",
    "    if db == 'XRM':\n",
    "        user = conf.read_config(\"SAS_db\", 'user')\n",
    "        password = conf.read_config(\"SAS_db\", 'password')\n",
    "        service = conf.read_config(\"SAS_db\", 'service')\n",
    "    else:\n",
    "        user = f'{str(database).lower()}_user'\n",
    "        user = conf.read_config(\"SAS_db\", user)\n",
    "        password = f'{str(database).lower()}_password'\n",
    "        password = conf.read_config(\"SAS_db\", password)\n",
    "        service = f'{str(database).lower()}_service'\n",
    "        service = conf.read_config(\"SAS_db\", service)\n",
    "    logs.info('Start loading the latest data.')\n",
    "    sqlplus = SqlPlus(user, password, service).fetchall(plsql)\n",
    "    assert sqlplus['Status'] == True, \"Get Data Failed!\"\n",
    "    res1 = sqlplus['msg']\n",
    "    res2 = None\n",
    "    logs.info('The latest data is loaded.')\n",
    "    if kwargs['local_db'] and kwargs['ssql'] and kwargs['table_nm']:\n",
    "        ldb = SqlitePlus(kwargs['local_db'])\n",
    "        logs.info('Start loading history data.')\n",
    "        res2 = ldb.get_res(kwargs['ssql'])\n",
    "        res2['SEND_DT']=res2['SEND_DT'].astype('datetime64[ns]')\n",
    "        # logs.info('The history data is loaded.', res2['SEND_DT'].max(0))\n",
    "        insert = res1[(res1.SEND_DT > res2['SEND_DT'].max(0))&(res1.SEND_DT < datetime.date.today() - datetime.timedelta(days=2))]\n",
    "        if len(insert)>0:\n",
    "            # logs.info('Update historical data.', insert)\n",
    "            insert.to_sql(name=kwargs['table_nm'], con=ldb.insert(), if_exists='append', index=False)\n",
    "        ldb.exit()\n",
    "        \n",
    "    logs.info('Start loading history data.')\n",
    "    res = pd.concat([res2, res1[res1.SEND_DT > res2['SEND_DT'].max(0)]], axis=0)\n",
    "    res.reset_index(drop=True, inplace=True)\n",
    "    return res\n",
    "\n",
    "def CalcAngle(series):\n",
    "    \"\"\"\n",
    "    Calculate the fitting Angle of linear regression\n",
    "    return angle[float]\n",
    "    \"\"\"\n",
    "    y_arr = series\n",
    "    x_arr = np.arange(0, len(series))\n",
    "    x_b_arr = sm.add_constant(x_arr)  # 添加常数列1\n",
    "    model = regression.linear_model.OLS(y_arr, x_b_arr).fit()  # 使用OLS做拟合\n",
    "    rad = model.params[1]  # y = kx + b :params[1] = k\n",
    "    deg_data = np.rad2deg(rad)  # 弧度转换为角度\n",
    "    logs.info('The trend Angle has calculated.')\n",
    "    return deg_data\n",
    "\n",
    "def Train(title, x_value, y_value, y_name, mean, predict):\n",
    "    \"\"\"\n",
    "    1.Train Data by model;\n",
    "    2.drow the picture;\n",
    "    return the picture[string]\n",
    "    \"\"\"\n",
    "    line = (Line(init_opts = opts.InitOpts(width = \"800px\", \n",
    "                                            height = \"600px\",\n",
    "                                            theme=ThemeType.VINTAGE, \n",
    "                                            renderer = RenderType.CANVAS, \n",
    "                                            animation_opts = opts.AnimationOpts(animation = True)\n",
    "                                            )\n",
    "                )\n",
    "            .add_xaxis(x_value)\n",
    "            .add_yaxis(y_name, y_value)\n",
    "            .add_yaxis(\"Rolling Mean\", mean)\n",
    "            .add_yaxis(\"predictions_ARIMA\", predict)\n",
    "            .set_global_opts(title_opts = opts.TitleOpts(title = title, \n",
    "                                                            pos_left = 'center', \n",
    "                                                            pos_top = '1%',\n",
    "                                                            title_textstyle_opts = {'fontWeight': 'bold',\n",
    "                                                                                    'fontSize': 16,\n",
    "                                                                                    'padding': [8,8,8,8],\n",
    "                                                                                    'hight': '10%',\n",
    "                                                                                    'line_height':'10%'}\n",
    "                                                        ),\n",
    "                                legend_opts = opts.LegendOpts(type_ = 'scroll', \n",
    "                                                            is_show = True,\n",
    "                                                            pos_left = 'center', \n",
    "                                                            pos_top = 'bottom', \n",
    "                                                            orient = 'horizontal', \n",
    "                                                            ),\n",
    "                            yaxis_opts = opts.AxisOpts(type_ = 'value',),\n",
    "                            toolbox_opts = opts.ToolboxOpts(is_show = True),\n",
    "                            tooltip_opts = opts.TooltipOpts(is_show = True),\n",
    "                            )\n",
    "            .set_series_opts(label_opts=opts.LabelOpts(is_show = False,\n",
    "                                                        font_size = 15,\n",
    "                                                        color = \"#333333\",\n",
    "                                                        interval = 6, \n",
    "                                                        margin = 100,\n",
    "                                                        formatter = JsCode(f\"function(params){{var str1= Number(params.value[1] * 100).toFixed(2) + '%'; return str1 }}\"),\n",
    "                                                        rich = {'lineHeight':10}\n",
    "                                                        ),\n",
    "                            )\n",
    "            )\n",
    "    filname = os.path.join(BASE_DIR, 'export', 'Monitor', f'{title}.png')\n",
    "    make_snapshot(snapshot, line.render(), filname)\n",
    "    logs.info('The trend chart has been updated')\n",
    "    return filname\n",
    "\n",
    "def Model(timeseries):\n",
    "    ts_log = np.log(timeseries)\n",
    "    rolmean = timeseries.rolling(window=7,center=False).mean()\n",
    "    decomposition = seasonal_decompose(ts_log[-21:])\n",
    "    trend = decomposition.trend.dropna()\n",
    "    # seasonal = decomposition.seasonal\n",
    "    # residual = seasonal_decompose(ts_log).resid\n",
    "    model = ARIMA(ts_log, order=(2, 1, 1))  \n",
    "    results_ARIMA = model.fit(disp=-1)  \n",
    "    predictions_ARIMA_diff = pd.Series(results_ARIMA.fittedvalues, copy=True)\n",
    "    # print(predictions_ARIMA_diff.head())\n",
    "    #累加现有的diff，得到每个值与第一个月的差分（同log底的情况下）。\n",
    "    #即predictions_ARIMA_diff_cumsum[i] 是第i个月与第1个月的ts_log的差值。\n",
    "    predictions_ARIMA_diff_cumsum = predictions_ARIMA_diff.cumsum()\n",
    "    #先ts_log_diff => ts_log=> ts_log => ts \n",
    "    #先以ts_log的第一个值作为基数，复制给所有值，然后每个时刻的值累加与第一个月对应的差值(这样就解决了，第一个月diff数据为空的问题了)\n",
    "    #然后得到了predictions_ARIMA_log => predictions_ARIMA\n",
    "    predictions_ARIMA_log = pd.Series(ts_log.iloc[0], index=ts_log.index)\n",
    "    predictions_ARIMA_log = predictions_ARIMA_log.add(predictions_ARIMA_diff_cumsum,fill_value=0)\n",
    "    predictions_ARIMA = np.exp(predictions_ARIMA_log)\n",
    "    logs.info('Model load completed.')\n",
    "    return rolmean, trend, predictions_ARIMA\n",
    "\n",
    "def main(title, content, sender, copyer, attachment):\n",
    "    res = send_email.outlook(send_to=sender, subject=title, content=content, cc_to=copyer, addtach=attachment)\n",
    "    if res == False:\n",
    "        for i in range(3):\n",
    "            i += 1\n",
    "            logs.info(\"Send E-mail Failed. Try again {i}\")\n",
    "            time.sleep(600*i)\n",
    "    else:\n",
    "        pass"
   ]
  },
  {
   "cell_type": "markdown",
   "metadata": {},
   "source": [
    "## Test"
   ]
  },
  {
   "cell_type": "code",
   "execution_count": 20,
   "metadata": {
    "ExecuteTime": {
     "end_time": "2020-09-08T08:51:59.137595Z",
     "start_time": "2020-09-08T08:51:59.105460Z"
    },
    "code_folding": []
   },
   "outputs": [],
   "source": [
    "sql = \"\"\"select trunc(sms.communicationstartabsolute) as Send_DT,\n",
    "                'SMS' AS channel,\n",
    "                round(count(rh.skp_client) / count(sms.personid), 4) as Delivery_Rate\n",
    "           from SASADP.SMS_SEND_LIST sms\n",
    "           join app_campaign_cdm.ci_cell_package pa\n",
    "           on sms.response_tracking_code = pa.response_tracking_cd\n",
    "           join DM_CAMPAIGN.f_Client_Ad cln\n",
    "           on cln.id_person = sms.personid\n",
    "           left join app_campaign_cdm.ci_response_history_cl rh\n",
    "           on rh.cell_package_sk = pa.cell_package_sk\n",
    "           and rh.response_dttm >= sysdate - 4\n",
    "           AND RH.RESPONSE_SK = 140\n",
    "           and rh.skp_client = cln.skp_client\n",
    "           where trunc(sms.communicationstartabsolute) >= trunc(sysdate) - 3\n",
    "           and trunc(sms.communicationstartabsolute) <= sysdate - 1\n",
    "           group by trunc(sms.communicationstartabsolute), to_char(sms.communicationstartabsolute, 'day')\n",
    "           order by trunc(sms.communicationstartabsolute) asc\"\"\"\n",
    "local_db = 'Channel_Monitor.db'\n",
    "BASE_DIR = r'C:\\Users\\leo.zhangzs\\AppData\\Roaming\\Code\\User\\VScode\\py3\\schedule_monitor'\n",
    "db = os.path.join(BASE_DIR, 'db', 'monitor', local_db)\n",
    "ssql = \"\"\"select * \n",
    "       from channel_rate \n",
    "      where strftime(send_dt) < strftime(date('now', '-2 day'))\n",
    "        and  strftime(send_dt) > strftime(date('now', '-60 day'))\n",
    "      order by strftime(Send_DT) asc;\"\"\""
   ]
  },
  {
   "cell_type": "code",
   "execution_count": 21,
   "metadata": {
    "ExecuteTime": {
     "end_time": "2020-09-08T08:52:54.819672Z",
     "start_time": "2020-09-08T08:52:01.524309Z"
    }
   },
   "outputs": [
    {
     "name": "stderr",
     "output_type": "stream",
     "text": [
      "2020-09-08 16:52:01,558 <ipython-input-2-bcbccf51cfa0> [line:20] main_QTA INFO Start loading the latest data.\n",
      "2020-09-08 16:52:54,723 sqlplus.py [line:57] sqlplus INFO 执行成功\n",
      "2020-09-08 16:52:54,729 <ipython-input-2-bcbccf51cfa0> [line:25] main_QTA INFO The latest data is loaded.\n",
      "2020-09-08 16:52:54,746 <ipython-input-2-bcbccf51cfa0> [line:28] main_QTA INFO Start loading history data.\n",
      "2020-09-08 16:52:54,792 <ipython-input-2-bcbccf51cfa0> [line:38] main_QTA INFO Start loading history data.\n"
     ]
    }
   ],
   "source": [
    "res = getRest('crm', sql, local_db=db, ssql=ssql, table_nm='channel_rate')\n",
    "res['SEND_DT']=res['SEND_DT'].astype('datetime64[ns]')\n",
    "res.set_index(res.SEND_DT, inplace=True)"
   ]
  },
  {
   "cell_type": "code",
   "execution_count": 22,
   "metadata": {
    "ExecuteTime": {
     "end_time": "2020-09-08T08:54:19.314642Z",
     "start_time": "2020-09-08T08:54:19.257992Z"
    },
    "code_folding": [
     0
    ],
    "scrolled": true
   },
   "outputs": [
    {
     "data": {
      "text/plain": [
       "SEND_DT\n",
       "2020-07-11    0.8282\n",
       "2020-07-12    0.8882\n",
       "2020-07-13    0.9023\n",
       "2020-07-14    0.8242\n",
       "2020-07-15    0.8308\n",
       "2020-07-16    0.8701\n",
       "2020-07-17    0.8939\n",
       "2020-07-18    0.9308\n",
       "2020-07-19    0.8668\n",
       "2020-07-20    0.8814\n",
       "2020-07-21    0.7886\n",
       "2020-07-22    0.7977\n",
       "2020-07-23    0.8010\n",
       "2020-07-24    0.9210\n",
       "2020-07-25    0.9331\n",
       "2020-07-26    0.8734\n",
       "2020-07-27    0.8117\n",
       "2020-07-28    0.8059\n",
       "2020-07-29    0.8158\n",
       "2020-07-30    0.8098\n",
       "2020-07-31    0.9030\n",
       "2020-08-01    0.9249\n",
       "2020-08-02    0.8968\n",
       "2020-08-03    0.8301\n",
       "2020-08-04    0.8115\n",
       "2020-08-05    0.8045\n",
       "2020-08-06    0.8798\n",
       "2020-08-07    0.9175\n",
       "2020-08-08    0.9205\n",
       "2020-08-09    0.8279\n",
       "2020-08-10    0.8373\n",
       "2020-08-11    0.8227\n",
       "2020-08-12    0.8201\n",
       "2020-08-13    0.8951\n",
       "2020-08-14    0.7394\n",
       "2020-08-15    0.9185\n",
       "2020-08-16    0.8286\n",
       "2020-08-17    0.8242\n",
       "2020-08-18    0.7827\n",
       "2020-08-19    0.7541\n",
       "2020-08-20    0.8692\n",
       "2020-08-21    0.8361\n",
       "2020-08-22    0.9383\n",
       "2020-08-23    0.8027\n",
       "2020-08-24    0.7733\n",
       "2020-08-25    0.9242\n",
       "2020-08-26    0.9140\n",
       "2020-08-27    0.9369\n",
       "2020-08-28    0.9065\n",
       "2020-08-29    0.9621\n",
       "2020-08-30    0.8598\n",
       "2020-08-31    0.9624\n",
       "2020-09-01    0.9275\n",
       "2020-09-02    0.9045\n",
       "2020-09-03    0.9202\n",
       "2020-09-04    0.9291\n",
       "2020-09-05    0.9611\n",
       "2020-09-06    0.8912\n",
       "2020-09-07    0.8861\n",
       "Freq: D, Name: DELIVERY_RATE, dtype: float64"
      ]
     },
     "execution_count": 22,
     "metadata": {},
     "output_type": "execute_result"
    }
   ],
   "source": [
    "# database = 'crm'\n",
    "# user = f'{str(database).lower()}_user'\n",
    "# user = conf.read_config(\"SAS_db\", user)\n",
    "# password = f'{str(database).lower()}_password'\n",
    "# password = conf.read_config(\"SAS_db\", password)\n",
    "# service = f'{str(database).lower()}_service'\n",
    "# service = conf.read_config(\"SAS_db\", service)\n",
    "# sqlplus = SqlPlus(user, password, service).fetchall(sql)\n",
    "# res1 = sqlplus['msg']\n",
    "# # res1\n",
    "# ldb = SqlitePlus(db)\n",
    "# res2 = ldb.get_res(ssql)\n",
    "# res2['SEND_DT']=res2['SEND_DT'].astype('datetime64[ns]')\n",
    "# res2\n",
    "# insert = res1[(res1.SEND_DT > res2['SEND_DT'].max(0))&(res1.SEND_DT < datetime.date.today() - datetime.timedelta(days=2))]\n",
    "# insert.to_sql(name='channel_rate', con=ldb.insert(), if_exists='append', index=False)\n",
    "res[\"DELIVERY_RATE\"][-59:].asfreq('D')\n",
    "# ARIMA(np.log(res[\"DELIVERY_RATE\"][-60:].asfreq('D')), order=(2, 1, 1)).fit(disp=-1)"
   ]
  },
  {
   "cell_type": "code",
   "execution_count": 23,
   "metadata": {
    "ExecuteTime": {
     "end_time": "2020-09-08T08:54:30.950995Z",
     "start_time": "2020-09-08T08:54:30.129292Z"
    }
   },
   "outputs": [
    {
     "name": "stderr",
     "output_type": "stream",
     "text": [
      "2020-09-08 16:54:30,945 <ipython-input-2-bcbccf51cfa0> [line:128] main_QTA INFO Model load completed.\n"
     ]
    }
   ],
   "source": [
    "mean, trend, predict = Model(res[\"DELIVERY_RATE\"][-50:].asfreq('D'))\n",
    "# timeseries = res[\"DELIVERY_RATE\"].asfreq('D')\n",
    "# np.log(timeseries)\n",
    "# timeseries\n",
    "# len(res[\"DELIVERY_RATE\"][-59:].asfreq('D'))"
   ]
  },
  {
   "cell_type": "code",
   "execution_count": 25,
   "metadata": {
    "ExecuteTime": {
     "end_time": "2020-09-08T09:02:45.522439Z",
     "start_time": "2020-09-08T09:02:33.327940Z"
    }
   },
   "outputs": [
    {
     "name": "stderr",
     "output_type": "stream",
     "text": [
      "2020-09-08 17:02:45,511 <ipython-input-2-bcbccf51cfa0> [line:105] main_QTA INFO The trend chart has been updated\n"
     ]
    }
   ],
   "source": [
    "attachment = Train(\"SMS_Trend\", [i for i in pd.to_datetime(res.SEND_DT,format=\"%Y/%m/%d\")], res['DELIVERY_RATE'], 'SMS', mean, predict)"
   ]
  },
  {
   "cell_type": "code",
   "execution_count": 94,
   "metadata": {
    "ExecuteTime": {
     "end_time": "2020-08-03T07:41:25.743279Z",
     "start_time": "2020-08-03T07:41:25.713196Z"
    },
    "scrolled": true
   },
   "outputs": [
    {
     "name": "stderr",
     "output_type": "stream",
     "text": [
      "2020-08-03 15:41:25,725 <ipython-input-89-bcbccf51cfa0> [line:54] main_QTA INFO The trend Angle has calculated.\n",
      "2020-08-03 15:41:25,725 <ipython-input-89-bcbccf51cfa0> [line:54] main_QTA INFO The trend Angle has calculated.\n",
      "2020-08-03 15:41:25,725 <ipython-input-89-bcbccf51cfa0> [line:54] main_QTA INFO The trend Angle has calculated.\n",
      "2020-08-03 15:41:25,725 <ipython-input-89-bcbccf51cfa0> [line:54] main_QTA INFO The trend Angle has calculated.\n"
     ]
    }
   ],
   "source": [
    "angle = CalcAngle(trend)\n",
    "sender = conf.read_config('E-mail', 'senderofcrmreport')\n",
    "copyer = None\n",
    "subject = 'SMS Trend Monitor'\n",
    "if angle > -0.05 or mean.dropna()[-7:].mean() >= mean.dropna()[-21:].mean() + 0.01:\n",
    "    Status = '<p><strong>Status :&nbsp;</strong><span style=\"color:#99BB00;\">Normal</span></p>'\n",
    "    content = ''\n",
    "else:\n",
    "    Status = '<p><strong>Status :&nbsp;</strong><span style=\"color:#E53333;\">Abnormal</span></p>'\n",
    "    content = 'The success rate has down, please pay attention.'\n",
    "div = f\"<div><img src='{os.path.basename(attachment)}'/></div>\"\n",
    "detailInfo = f\"Trend Angle:{angle}</br>, 7_Mean:{mean.dropna()[-7:].mean()}, 21_Mean:{mean.dropna()[-21:-7].mean()},\"\n",
    "with open(Temp, 'r') as f:\n",
    "    t1 = Template(f.read())\n",
    "    content_html = t1.substitute(content=content, status=Status, detailInfo=detailInfo, div=div)"
   ]
  },
  {
   "cell_type": "code",
   "execution_count": 96,
   "metadata": {
    "ExecuteTime": {
     "end_time": "2020-08-03T07:42:08.774079Z",
     "start_time": "2020-08-03T07:42:08.770070Z"
    }
   },
   "outputs": [
    {
     "name": "stdout",
     "output_type": "stream",
     "text": [
      "C:\\Users\\leo.zhangzs\\AppData\\Roaming\\Code\\User\\VScode\\py3\\schedule_monitor\\export\\Monitor\\SMS_Trend.png\n"
     ]
    }
   ],
   "source": [
    "main(title=subject, content=content_html, sender=sender, copyer=copyer, attachment=attachment)\n",
    "# print(attachment)"
   ]
  },
  {
   "cell_type": "markdown",
   "metadata": {},
   "source": [
    "### Get Sqlite Data"
   ]
  },
  {
   "cell_type": "code",
   "execution_count": 11,
   "metadata": {
    "ExecuteTime": {
     "end_time": "2020-09-14T09:46:31.881091Z",
     "start_time": "2020-09-14T09:46:31.875076Z"
    },
    "code_folding": []
   },
   "outputs": [],
   "source": [
    "class getHis(object):\n",
    "    def __init__(self, db, sql):\n",
    "        self.db = sqlite3.connect(db)\n",
    "        self.con = self.db.cursor()\n",
    "    \n",
    "    def get_res(self):\n",
    "        self.con.execute(sql)\n",
    "        rows = self.con.fetchall()\n",
    "        column = [i[0] for i in self.con.description]\n",
    "        df1 = DataFrame(data=rows, columns=column)\n",
    "        return df1\n",
    "    \n",
    "    def insert(self):\n",
    "        return self.db\n",
    "    \n",
    "    def exit(self):\n",
    "        self.db.close()"
   ]
  },
  {
   "cell_type": "code",
   "execution_count": 17,
   "metadata": {
    "ExecuteTime": {
     "end_time": "2020-09-14T09:47:22.199843Z",
     "start_time": "2020-09-14T09:47:22.194830Z"
    }
   },
   "outputs": [],
   "source": [
    "sql = \"\"\"select * \n",
    "       from channel_rate \n",
    "      where strftime(send_dt) < strftime(date('now', '-2 day'))\n",
    "        and  strftime(send_dt) > strftime(date('now', '-60 day'))\n",
    "      order by strftime(Send_DT) asc;\"\"\"\n",
    "local_db = 'Channel_Monitor.db'\n",
    "BASE_DIR = r'C:\\Users\\leo.zhangzs\\AppData\\Roaming\\Code\\User\\VScode\\py3\\schedule_monitor'\n",
    "db = os.path.join(BASE_DIR, 'db', 'monitor', local_db)\n",
    "GHdata = getHis(db, sql)"
   ]
  },
  {
   "cell_type": "code",
   "execution_count": 18,
   "metadata": {
    "ExecuteTime": {
     "end_time": "2020-09-14T09:47:25.278416Z",
     "start_time": "2020-09-14T09:47:25.256214Z"
    }
   },
   "outputs": [
    {
     "data": {
      "text/html": [
       "<div>\n",
       "<style>\n",
       "    .dataframe thead tr:only-child th {\n",
       "        text-align: right;\n",
       "    }\n",
       "\n",
       "    .dataframe thead th {\n",
       "        text-align: left;\n",
       "    }\n",
       "\n",
       "    .dataframe tbody tr th {\n",
       "        vertical-align: top;\n",
       "    }\n",
       "</style>\n",
       "<table border=\"1\" class=\"dataframe\">\n",
       "  <thead>\n",
       "    <tr style=\"text-align: right;\">\n",
       "      <th></th>\n",
       "      <th>SEND_DT</th>\n",
       "      <th>CHANNEL</th>\n",
       "      <th>DELIVERY_RATE</th>\n",
       "    </tr>\n",
       "  </thead>\n",
       "  <tbody>\n",
       "    <tr>\n",
       "      <th>0</th>\n",
       "      <td>2020-07-16 00:00:00</td>\n",
       "      <td>SMS</td>\n",
       "      <td>0.8701</td>\n",
       "    </tr>\n",
       "    <tr>\n",
       "      <th>1</th>\n",
       "      <td>2020-07-17 00:00:00</td>\n",
       "      <td>SMS</td>\n",
       "      <td>0.8939</td>\n",
       "    </tr>\n",
       "    <tr>\n",
       "      <th>2</th>\n",
       "      <td>2020-07-18 00:00:00</td>\n",
       "      <td>SMS</td>\n",
       "      <td>0.9308</td>\n",
       "    </tr>\n",
       "    <tr>\n",
       "      <th>3</th>\n",
       "      <td>2020-07-19 00:00:00</td>\n",
       "      <td>SMS</td>\n",
       "      <td>0.8668</td>\n",
       "    </tr>\n",
       "    <tr>\n",
       "      <th>4</th>\n",
       "      <td>2020-07-20 00:00:00</td>\n",
       "      <td>SMS</td>\n",
       "      <td>0.8814</td>\n",
       "    </tr>\n",
       "    <tr>\n",
       "      <th>5</th>\n",
       "      <td>2020-07-21 00:00:00</td>\n",
       "      <td>SMS</td>\n",
       "      <td>0.7886</td>\n",
       "    </tr>\n",
       "    <tr>\n",
       "      <th>6</th>\n",
       "      <td>2020-07-22 00:00:00</td>\n",
       "      <td>SMS</td>\n",
       "      <td>0.7977</td>\n",
       "    </tr>\n",
       "    <tr>\n",
       "      <th>7</th>\n",
       "      <td>2020-07-23 00:00:00</td>\n",
       "      <td>SMS</td>\n",
       "      <td>0.8010</td>\n",
       "    </tr>\n",
       "    <tr>\n",
       "      <th>8</th>\n",
       "      <td>2020-07-24 00:00:00</td>\n",
       "      <td>SMS</td>\n",
       "      <td>0.9210</td>\n",
       "    </tr>\n",
       "    <tr>\n",
       "      <th>9</th>\n",
       "      <td>2020-07-25 00:00:00</td>\n",
       "      <td>SMS</td>\n",
       "      <td>0.9331</td>\n",
       "    </tr>\n",
       "    <tr>\n",
       "      <th>10</th>\n",
       "      <td>2020-07-26 00:00:00</td>\n",
       "      <td>SMS</td>\n",
       "      <td>0.8734</td>\n",
       "    </tr>\n",
       "    <tr>\n",
       "      <th>11</th>\n",
       "      <td>2020-07-27 00:00:00</td>\n",
       "      <td>SMS</td>\n",
       "      <td>0.8117</td>\n",
       "    </tr>\n",
       "    <tr>\n",
       "      <th>12</th>\n",
       "      <td>2020-07-28 00:00:00</td>\n",
       "      <td>SMS</td>\n",
       "      <td>0.8059</td>\n",
       "    </tr>\n",
       "    <tr>\n",
       "      <th>13</th>\n",
       "      <td>2020-07-29 00:00:00</td>\n",
       "      <td>SMS</td>\n",
       "      <td>0.8158</td>\n",
       "    </tr>\n",
       "    <tr>\n",
       "      <th>14</th>\n",
       "      <td>2020-07-30 00:00:00</td>\n",
       "      <td>SMS</td>\n",
       "      <td>0.8098</td>\n",
       "    </tr>\n",
       "    <tr>\n",
       "      <th>15</th>\n",
       "      <td>2020-07-31 00:00:00</td>\n",
       "      <td>SMS</td>\n",
       "      <td>0.9030</td>\n",
       "    </tr>\n",
       "    <tr>\n",
       "      <th>16</th>\n",
       "      <td>2020-08-01 00:00:00</td>\n",
       "      <td>SMS</td>\n",
       "      <td>0.9249</td>\n",
       "    </tr>\n",
       "    <tr>\n",
       "      <th>17</th>\n",
       "      <td>2020-08-02 00:00:00</td>\n",
       "      <td>SMS</td>\n",
       "      <td>0.8968</td>\n",
       "    </tr>\n",
       "    <tr>\n",
       "      <th>18</th>\n",
       "      <td>2020-08-03 00:00:00</td>\n",
       "      <td>SMS</td>\n",
       "      <td>0.8301</td>\n",
       "    </tr>\n",
       "    <tr>\n",
       "      <th>19</th>\n",
       "      <td>2020-08-04 00:00:00</td>\n",
       "      <td>SMS</td>\n",
       "      <td>0.8115</td>\n",
       "    </tr>\n",
       "    <tr>\n",
       "      <th>20</th>\n",
       "      <td>2020-08-05 00:00:00</td>\n",
       "      <td>SMS</td>\n",
       "      <td>0.8045</td>\n",
       "    </tr>\n",
       "    <tr>\n",
       "      <th>21</th>\n",
       "      <td>2020-08-06 00:00:00</td>\n",
       "      <td>SMS</td>\n",
       "      <td>0.8798</td>\n",
       "    </tr>\n",
       "    <tr>\n",
       "      <th>22</th>\n",
       "      <td>2020-08-07 00:00:00</td>\n",
       "      <td>SMS</td>\n",
       "      <td>0.9175</td>\n",
       "    </tr>\n",
       "    <tr>\n",
       "      <th>23</th>\n",
       "      <td>2020-08-08 00:00:00</td>\n",
       "      <td>SMS</td>\n",
       "      <td>0.9205</td>\n",
       "    </tr>\n",
       "    <tr>\n",
       "      <th>24</th>\n",
       "      <td>2020-08-09 00:00:00</td>\n",
       "      <td>SMS</td>\n",
       "      <td>0.8279</td>\n",
       "    </tr>\n",
       "    <tr>\n",
       "      <th>25</th>\n",
       "      <td>2020-08-10 00:00:00</td>\n",
       "      <td>SMS</td>\n",
       "      <td>0.8373</td>\n",
       "    </tr>\n",
       "    <tr>\n",
       "      <th>26</th>\n",
       "      <td>2020-08-11 00:00:00</td>\n",
       "      <td>SMS</td>\n",
       "      <td>0.8227</td>\n",
       "    </tr>\n",
       "    <tr>\n",
       "      <th>27</th>\n",
       "      <td>2020-08-12 00:00:00</td>\n",
       "      <td>SMS</td>\n",
       "      <td>0.8201</td>\n",
       "    </tr>\n",
       "    <tr>\n",
       "      <th>28</th>\n",
       "      <td>2020-08-13 00:00:00</td>\n",
       "      <td>SMS</td>\n",
       "      <td>0.8951</td>\n",
       "    </tr>\n",
       "    <tr>\n",
       "      <th>29</th>\n",
       "      <td>2020-08-14 00:00:00</td>\n",
       "      <td>SMS</td>\n",
       "      <td>0.7394</td>\n",
       "    </tr>\n",
       "    <tr>\n",
       "      <th>30</th>\n",
       "      <td>2020-08-15 00:00:00</td>\n",
       "      <td>SMS</td>\n",
       "      <td>0.9185</td>\n",
       "    </tr>\n",
       "    <tr>\n",
       "      <th>31</th>\n",
       "      <td>2020-08-16 00:00:00</td>\n",
       "      <td>SMS</td>\n",
       "      <td>0.8286</td>\n",
       "    </tr>\n",
       "    <tr>\n",
       "      <th>32</th>\n",
       "      <td>2020-08-17 00:00:00</td>\n",
       "      <td>SMS</td>\n",
       "      <td>0.8242</td>\n",
       "    </tr>\n",
       "    <tr>\n",
       "      <th>33</th>\n",
       "      <td>2020-08-18 00:00:00</td>\n",
       "      <td>SMS</td>\n",
       "      <td>0.7827</td>\n",
       "    </tr>\n",
       "    <tr>\n",
       "      <th>34</th>\n",
       "      <td>2020-08-19 00:00:00</td>\n",
       "      <td>SMS</td>\n",
       "      <td>0.7541</td>\n",
       "    </tr>\n",
       "    <tr>\n",
       "      <th>35</th>\n",
       "      <td>2020-08-20 00:00:00</td>\n",
       "      <td>SMS</td>\n",
       "      <td>0.8692</td>\n",
       "    </tr>\n",
       "    <tr>\n",
       "      <th>36</th>\n",
       "      <td>2020-08-21 00:00:00</td>\n",
       "      <td>SMS</td>\n",
       "      <td>0.8361</td>\n",
       "    </tr>\n",
       "    <tr>\n",
       "      <th>37</th>\n",
       "      <td>2020-08-22 00:00:00</td>\n",
       "      <td>SMS</td>\n",
       "      <td>0.9383</td>\n",
       "    </tr>\n",
       "    <tr>\n",
       "      <th>38</th>\n",
       "      <td>2020-08-23 00:00:00</td>\n",
       "      <td>SMS</td>\n",
       "      <td>0.8027</td>\n",
       "    </tr>\n",
       "    <tr>\n",
       "      <th>39</th>\n",
       "      <td>2020-08-24 00:00:00</td>\n",
       "      <td>SMS</td>\n",
       "      <td>0.7733</td>\n",
       "    </tr>\n",
       "    <tr>\n",
       "      <th>40</th>\n",
       "      <td>2020-08-25 00:00:00</td>\n",
       "      <td>SMS</td>\n",
       "      <td>0.9242</td>\n",
       "    </tr>\n",
       "    <tr>\n",
       "      <th>41</th>\n",
       "      <td>2020-08-26 00:00:00</td>\n",
       "      <td>SMS</td>\n",
       "      <td>0.9140</td>\n",
       "    </tr>\n",
       "    <tr>\n",
       "      <th>42</th>\n",
       "      <td>2020-08-27 00:00:00</td>\n",
       "      <td>SMS</td>\n",
       "      <td>0.9369</td>\n",
       "    </tr>\n",
       "    <tr>\n",
       "      <th>43</th>\n",
       "      <td>2020-08-28 00:00:00</td>\n",
       "      <td>SMS</td>\n",
       "      <td>0.9065</td>\n",
       "    </tr>\n",
       "    <tr>\n",
       "      <th>44</th>\n",
       "      <td>2020-08-29 00:00:00</td>\n",
       "      <td>SMS</td>\n",
       "      <td>0.9621</td>\n",
       "    </tr>\n",
       "    <tr>\n",
       "      <th>45</th>\n",
       "      <td>2020-08-30 00:00:00</td>\n",
       "      <td>SMS</td>\n",
       "      <td>0.8598</td>\n",
       "    </tr>\n",
       "    <tr>\n",
       "      <th>46</th>\n",
       "      <td>2020-08-31 00:00:00</td>\n",
       "      <td>SMS</td>\n",
       "      <td>0.9624</td>\n",
       "    </tr>\n",
       "    <tr>\n",
       "      <th>47</th>\n",
       "      <td>2020-09-01 00:00:00</td>\n",
       "      <td>SMS</td>\n",
       "      <td>0.9275</td>\n",
       "    </tr>\n",
       "    <tr>\n",
       "      <th>48</th>\n",
       "      <td>2020-09-02 00:00:00</td>\n",
       "      <td>SMS</td>\n",
       "      <td>0.9045</td>\n",
       "    </tr>\n",
       "    <tr>\n",
       "      <th>49</th>\n",
       "      <td>2020-09-03 00:00:00</td>\n",
       "      <td>SMS</td>\n",
       "      <td>0.9202</td>\n",
       "    </tr>\n",
       "    <tr>\n",
       "      <th>50</th>\n",
       "      <td>2020-09-04 00:00:00</td>\n",
       "      <td>SMS</td>\n",
       "      <td>0.9291</td>\n",
       "    </tr>\n",
       "    <tr>\n",
       "      <th>51</th>\n",
       "      <td>2020-09-05 00:00:00</td>\n",
       "      <td>SMS</td>\n",
       "      <td>0.9611</td>\n",
       "    </tr>\n",
       "    <tr>\n",
       "      <th>52</th>\n",
       "      <td>2020-09-06 00:00:00</td>\n",
       "      <td>SMS</td>\n",
       "      <td>0.8920</td>\n",
       "    </tr>\n",
       "    <tr>\n",
       "      <th>53</th>\n",
       "      <td>2020-09-07 00:00:00</td>\n",
       "      <td>SMS</td>\n",
       "      <td>0.8991</td>\n",
       "    </tr>\n",
       "    <tr>\n",
       "      <th>54</th>\n",
       "      <td>2020-09-08 00:00:00</td>\n",
       "      <td>SMS</td>\n",
       "      <td>0.9233</td>\n",
       "    </tr>\n",
       "    <tr>\n",
       "      <th>55</th>\n",
       "      <td>2020-09-09 00:00:00</td>\n",
       "      <td>SMS</td>\n",
       "      <td>0.9095</td>\n",
       "    </tr>\n",
       "    <tr>\n",
       "      <th>56</th>\n",
       "      <td>2020-09-10 00:00:00</td>\n",
       "      <td>SMS</td>\n",
       "      <td>0.8543</td>\n",
       "    </tr>\n",
       "    <tr>\n",
       "      <th>57</th>\n",
       "      <td>2020-09-11 00:00:00</td>\n",
       "      <td>SMS</td>\n",
       "      <td>0.8754</td>\n",
       "    </tr>\n",
       "  </tbody>\n",
       "</table>\n",
       "</div>"
      ],
      "text/plain": [
       "                SEND_DT CHANNEL  DELIVERY_RATE\n",
       "0   2020-07-16 00:00:00     SMS         0.8701\n",
       "1   2020-07-17 00:00:00     SMS         0.8939\n",
       "2   2020-07-18 00:00:00     SMS         0.9308\n",
       "3   2020-07-19 00:00:00     SMS         0.8668\n",
       "4   2020-07-20 00:00:00     SMS         0.8814\n",
       "5   2020-07-21 00:00:00     SMS         0.7886\n",
       "6   2020-07-22 00:00:00     SMS         0.7977\n",
       "7   2020-07-23 00:00:00     SMS         0.8010\n",
       "8   2020-07-24 00:00:00     SMS         0.9210\n",
       "9   2020-07-25 00:00:00     SMS         0.9331\n",
       "10  2020-07-26 00:00:00     SMS         0.8734\n",
       "11  2020-07-27 00:00:00     SMS         0.8117\n",
       "12  2020-07-28 00:00:00     SMS         0.8059\n",
       "13  2020-07-29 00:00:00     SMS         0.8158\n",
       "14  2020-07-30 00:00:00     SMS         0.8098\n",
       "15  2020-07-31 00:00:00     SMS         0.9030\n",
       "16  2020-08-01 00:00:00     SMS         0.9249\n",
       "17  2020-08-02 00:00:00     SMS         0.8968\n",
       "18  2020-08-03 00:00:00     SMS         0.8301\n",
       "19  2020-08-04 00:00:00     SMS         0.8115\n",
       "20  2020-08-05 00:00:00     SMS         0.8045\n",
       "21  2020-08-06 00:00:00     SMS         0.8798\n",
       "22  2020-08-07 00:00:00     SMS         0.9175\n",
       "23  2020-08-08 00:00:00     SMS         0.9205\n",
       "24  2020-08-09 00:00:00     SMS         0.8279\n",
       "25  2020-08-10 00:00:00     SMS         0.8373\n",
       "26  2020-08-11 00:00:00     SMS         0.8227\n",
       "27  2020-08-12 00:00:00     SMS         0.8201\n",
       "28  2020-08-13 00:00:00     SMS         0.8951\n",
       "29  2020-08-14 00:00:00     SMS         0.7394\n",
       "30  2020-08-15 00:00:00     SMS         0.9185\n",
       "31  2020-08-16 00:00:00     SMS         0.8286\n",
       "32  2020-08-17 00:00:00     SMS         0.8242\n",
       "33  2020-08-18 00:00:00     SMS         0.7827\n",
       "34  2020-08-19 00:00:00     SMS         0.7541\n",
       "35  2020-08-20 00:00:00     SMS         0.8692\n",
       "36  2020-08-21 00:00:00     SMS         0.8361\n",
       "37  2020-08-22 00:00:00     SMS         0.9383\n",
       "38  2020-08-23 00:00:00     SMS         0.8027\n",
       "39  2020-08-24 00:00:00     SMS         0.7733\n",
       "40  2020-08-25 00:00:00     SMS         0.9242\n",
       "41  2020-08-26 00:00:00     SMS         0.9140\n",
       "42  2020-08-27 00:00:00     SMS         0.9369\n",
       "43  2020-08-28 00:00:00     SMS         0.9065\n",
       "44  2020-08-29 00:00:00     SMS         0.9621\n",
       "45  2020-08-30 00:00:00     SMS         0.8598\n",
       "46  2020-08-31 00:00:00     SMS         0.9624\n",
       "47  2020-09-01 00:00:00     SMS         0.9275\n",
       "48  2020-09-02 00:00:00     SMS         0.9045\n",
       "49  2020-09-03 00:00:00     SMS         0.9202\n",
       "50  2020-09-04 00:00:00     SMS         0.9291\n",
       "51  2020-09-05 00:00:00     SMS         0.9611\n",
       "52  2020-09-06 00:00:00     SMS         0.8920\n",
       "53  2020-09-07 00:00:00     SMS         0.8991\n",
       "54  2020-09-08 00:00:00     SMS         0.9233\n",
       "55  2020-09-09 00:00:00     SMS         0.9095\n",
       "56  2020-09-10 00:00:00     SMS         0.8543\n",
       "57  2020-09-11 00:00:00     SMS         0.8754"
      ]
     },
     "execution_count": 18,
     "metadata": {},
     "output_type": "execute_result"
    }
   ],
   "source": [
    "res = GHdata.get_res()\n",
    "pd.concat([res, None], axis=0)"
   ]
  },
  {
   "cell_type": "markdown",
   "metadata": {},
   "source": [
    "### Get Oracle Data"
   ]
  },
  {
   "cell_type": "code",
   "execution_count": 14,
   "metadata": {
    "ExecuteTime": {
     "end_time": "2020-09-14T09:46:43.272315Z",
     "start_time": "2020-09-14T09:46:43.264297Z"
    },
    "code_folding": []
   },
   "outputs": [],
   "source": [
    "class getData(object):\n",
    "    def __init__(self, db, sql):\n",
    "        if db == 'XRM':\n",
    "            user = 'user'\n",
    "            password = 'password'\n",
    "            service = 'service'\n",
    "        else:\n",
    "            user = f'{str(db).lower()}_user'\n",
    "            password = f'{str(db).lower()}_password'\n",
    "            service = f'{str(db).lower()}_service'\n",
    "        self.user = conf.read_config(\"SAS_db\", user)\n",
    "        self.password = conf.read_config(\"SAS_db\", password)\n",
    "        self.service = conf.read_config(\"SAS_db\", service)\n",
    "        self.db = cx_Oracle.connect(self.user, self.password, self.service)\n",
    "        self.con = self.db.cursor()\n",
    "    \n",
    "    def get_res(self):\n",
    "        self.con.execute(sql)\n",
    "        rows = self.con.fetchall()\n",
    "        column = [i[0] for i in self.con.description]\n",
    "        df1 = DataFrame(data=rows, columns=column)\n",
    "        return df1\n",
    "    \n",
    "    def exit(self):\n",
    "        self.db.close()"
   ]
  },
  {
   "cell_type": "code",
   "execution_count": 7,
   "metadata": {
    "ExecuteTime": {
     "end_time": "2020-09-14T09:45:37.831092Z",
     "start_time": "2020-09-14T09:44:58.443965Z"
    },
    "code_folding": []
   },
   "outputs": [],
   "source": [
    "sql = \"\"\"select trunc(sms.communicationstartabsolute) as Send_DT,\n",
    "                'SMS' AS channel,\n",
    "                round(count(rh.skp_client) / count(sms.personid), 4) as Delivery_Rate\n",
    "           from SASADP.SMS_SEND_LIST sms\n",
    "           join app_campaign_cdm.ci_cell_package pa\n",
    "           on sms.response_tracking_code = pa.response_tracking_cd\n",
    "           join DM_CAMPAIGN.f_Client_Ad cln\n",
    "           on cln.id_person = sms.personid\n",
    "           left join app_campaign_cdm.ci_response_history_cl rh\n",
    "           on rh.cell_package_sk = pa.cell_package_sk\n",
    "           and rh.response_dttm >= to_date('20200909','YYYYMMDD')\n",
    "           and rh.response_dttm <  to_date('20200911','YYYYMMDD')\n",
    "           AND RH.RESPONSE_SK = 140\n",
    "           and rh.skp_client = cln.skp_client\n",
    "           where trunc(sms.communicationstartabsolute) >= to_date('20200909','YYYYMMDD')\n",
    "           and trunc(sms.communicationstartabsolute) <=  to_date('20200910','YYYYMMDD')\n",
    "           group by trunc(sms.communicationstartabsolute), to_char(sms.communicationstartabsolute, 'day')\n",
    "           order by trunc(sms.communicationstartabsolute) asc\"\"\"\n",
    "GData = getData('crm', sql)\n",
    "res1 = GData.get_res()"
   ]
  },
  {
   "cell_type": "code",
   "execution_count": 8,
   "metadata": {
    "ExecuteTime": {
     "end_time": "2020-09-14T09:45:41.587358Z",
     "start_time": "2020-09-14T09:45:41.578843Z"
    }
   },
   "outputs": [
    {
     "data": {
      "text/html": [
       "<div>\n",
       "<style>\n",
       "    .dataframe thead tr:only-child th {\n",
       "        text-align: right;\n",
       "    }\n",
       "\n",
       "    .dataframe thead th {\n",
       "        text-align: left;\n",
       "    }\n",
       "\n",
       "    .dataframe tbody tr th {\n",
       "        vertical-align: top;\n",
       "    }\n",
       "</style>\n",
       "<table border=\"1\" class=\"dataframe\">\n",
       "  <thead>\n",
       "    <tr style=\"text-align: right;\">\n",
       "      <th></th>\n",
       "      <th>SEND_DT</th>\n",
       "      <th>CHANNEL</th>\n",
       "      <th>DELIVERY_RATE</th>\n",
       "    </tr>\n",
       "  </thead>\n",
       "  <tbody>\n",
       "    <tr>\n",
       "      <th>0</th>\n",
       "      <td>2020-09-09</td>\n",
       "      <td>SMS</td>\n",
       "      <td>0.9095</td>\n",
       "    </tr>\n",
       "    <tr>\n",
       "      <th>1</th>\n",
       "      <td>2020-09-10</td>\n",
       "      <td>SMS</td>\n",
       "      <td>0.8543</td>\n",
       "    </tr>\n",
       "  </tbody>\n",
       "</table>\n",
       "</div>"
      ],
      "text/plain": [
       "     SEND_DT CHANNEL  DELIVERY_RATE\n",
       "0 2020-09-09     SMS         0.9095\n",
       "1 2020-09-10     SMS         0.8543"
      ]
     },
     "execution_count": 8,
     "metadata": {},
     "output_type": "execute_result"
    }
   ],
   "source": [
    "# datetime.datetime.strptime(res1['SEND_DT'].max(0), '%Y-%m-%d %X')\n",
    "# res1[(res1.SEND_DT>res2['SEND_DT'].max(0)) & (res1.index < len(res1) -1)]\n",
    "res1"
   ]
  },
  {
   "cell_type": "code",
   "execution_count": 15,
   "metadata": {
    "ExecuteTime": {
     "end_time": "2020-09-14T09:46:58.670748Z",
     "start_time": "2020-09-14T09:46:58.641665Z"
    }
   },
   "outputs": [],
   "source": [
    "res1[res1.index==1].to_sql(name='channel_rate', con=GHdata.insert(), if_exists='append', index=False)"
   ]
  },
  {
   "cell_type": "code",
   "execution_count": 16,
   "metadata": {
    "ExecuteTime": {
     "end_time": "2020-09-14T09:47:04.799398Z",
     "start_time": "2020-09-14T09:47:04.796422Z"
    }
   },
   "outputs": [],
   "source": [
    "GHdata.exit()\n",
    "GData.exit()"
   ]
  },
  {
   "cell_type": "markdown",
   "metadata": {
    "heading_collapsed": true
   },
   "source": [
    "### Get Picture"
   ]
  },
  {
   "cell_type": "markdown",
   "metadata": {
    "heading_collapsed": true,
    "hidden": true
   },
   "source": [
    "#### Get Cache"
   ]
  },
  {
   "cell_type": "code",
   "execution_count": 107,
   "metadata": {
    "ExecuteTime": {
     "end_time": "2020-06-19T11:41:02.673751Z",
     "start_time": "2020-06-19T11:41:02.669744Z"
    },
    "hidden": true
   },
   "outputs": [],
   "source": [
    "# res.reset_index(drop=True, inplace=True)"
   ]
  },
  {
   "cell_type": "code",
   "execution_count": 108,
   "metadata": {
    "ExecuteTime": {
     "end_time": "2020-06-19T11:41:06.548908Z",
     "start_time": "2020-06-19T11:41:06.539348Z"
    },
    "hidden": true
   },
   "outputs": [],
   "source": [
    "import pickle\n",
    "pdir =os.getcwd()\n",
    "filelist = open('mytestcache.pic', 'wb+')\n",
    "pickle.dump(res, filelist)\n",
    "filelist.close()"
   ]
  },
  {
   "cell_type": "code",
   "execution_count": 40,
   "metadata": {
    "ExecuteTime": {
     "end_time": "2020-06-19T10:01:52.340140Z",
     "start_time": "2020-06-19T10:01:52.323588Z"
    },
    "hidden": true
   },
   "outputs": [],
   "source": [
    "import pickle\n",
    "filelist = open('mytestcache.pic', 'rb+')\n",
    "res = pickle.load(filelist)\n",
    "filelist.close()"
   ]
  },
  {
   "cell_type": "code",
   "execution_count": 119,
   "metadata": {
    "ExecuteTime": {
     "end_time": "2020-06-19T11:45:57.625676Z",
     "start_time": "2020-06-19T11:45:57.621699Z"
    },
    "hidden": true
   },
   "outputs": [],
   "source": [
    "ts = res['DELIVERY_RATE']\n",
    "ts_log = np.log(res['DELIVERY_RATE'])"
   ]
  },
  {
   "cell_type": "code",
   "execution_count": 158,
   "metadata": {
    "ExecuteTime": {
     "end_time": "2020-06-22T04:44:36.391231Z",
     "start_time": "2020-06-22T04:44:36.375218Z"
    },
    "hidden": true
   },
   "outputs": [
    {
     "data": {
      "text/html": [
       "<div>\n",
       "<style>\n",
       "    .dataframe thead tr:only-child th {\n",
       "        text-align: right;\n",
       "    }\n",
       "\n",
       "    .dataframe thead th {\n",
       "        text-align: left;\n",
       "    }\n",
       "\n",
       "    .dataframe tbody tr th {\n",
       "        vertical-align: top;\n",
       "    }\n",
       "</style>\n",
       "<table border=\"1\" class=\"dataframe\">\n",
       "  <thead>\n",
       "    <tr style=\"text-align: right;\">\n",
       "      <th></th>\n",
       "      <th>SEND_DT</th>\n",
       "      <th>CHANNEL</th>\n",
       "      <th>DELIVERY_RATE</th>\n",
       "    </tr>\n",
       "  </thead>\n",
       "  <tbody>\n",
       "    <tr>\n",
       "      <th>2</th>\n",
       "      <td>2020-06-17</td>\n",
       "      <td>SMS</td>\n",
       "      <td>0.7797</td>\n",
       "    </tr>\n",
       "  </tbody>\n",
       "</table>\n",
       "</div>"
      ],
      "text/plain": [
       "     SEND_DT CHANNEL  DELIVERY_RATE\n",
       "2 2020-06-17     SMS         0.7797"
      ]
     },
     "execution_count": 158,
     "metadata": {},
     "output_type": "execute_result"
    }
   ],
   "source": [
    "res1[(res1.SEND_DT > res2['SEND_DT'].max(0)) & (res1.SEND_DT < datetime.date.today() - datetime.timedelta(days=4))]\n",
    "# res2"
   ]
  },
  {
   "cell_type": "code",
   "execution_count": 240,
   "metadata": {
    "ExecuteTime": {
     "end_time": "2020-06-19T05:25:43.456296Z",
     "start_time": "2020-06-19T05:25:43.450282Z"
    },
    "hidden": true
   },
   "outputs": [],
   "source": [
    "import datetime\n",
    "import pandas as pd\n",
    "import numpy as np\n",
    "import statsmodels.api as sm\n",
    "\n",
    "from pandas import Series\n",
    "from statsmodels.tsa.stattools import adfuller\n",
    "from statsmodels import regression\n",
    "from sklearn.linear_model import LinearRegression\n",
    "\n",
    "# pd.to_datetime(res.SEND_DT,format=\"%Y/%m/%d\")\n",
    "res['SEND_DT']=res['SEND_DT'].astype('datetime64[ns]')"
   ]
  },
  {
   "cell_type": "markdown",
   "metadata": {
    "heading_collapsed": true,
    "hidden": true
   },
   "source": [
    "#### Model"
   ]
  },
  {
   "cell_type": "code",
   "execution_count": 140,
   "metadata": {
    "ExecuteTime": {
     "end_time": "2020-06-18T10:06:17.047328Z",
     "start_time": "2020-06-18T10:06:17.031283Z"
    },
    "hidden": true
   },
   "outputs": [],
   "source": [
    "def test_stationarity(timeseries):\n",
    "    \n",
    "    #这里以一年为一个窗口，每一个时间t的值由它前面12个月（包括自己）的均值代替，标准差同理。\n",
    "    rolmean = timeseries.rolling(window=7,center=False).mean()\n",
    "    rolstd = timeseries.rolling(window=7,center=False).std()\n",
    "    \n",
    "    #plot rolling statistics:\n",
    "    fig = plt.figure()\n",
    "    fig.add_subplot()\n",
    "    orig = plt.plot(timeseries, color = 'blue',label='Original')\n",
    "    mean = plt.plot(rolmean , color = 'red',label = 'rolling mean')\n",
    "    std = plt.plot(rolstd, color = 'black', label= 'Rolling standard deviation')\n",
    "    \n",
    "    plt.legend(loc = 'best')\n",
    "    plt.title('Rolling Mean & Standard Deviation')\n",
    "    plt.show(block=False)\n",
    "    \n",
    "    \n",
    "    #Dickey-Fuller test:\n",
    "    \n",
    "    print ('Results of Dickey-Fuller Test:')\n",
    "    dftest = adfuller(timeseries,autolag = 'AIC')\n",
    "    #dftest的输出前一项依次为检测值，p值，滞后数，使用的观测数，各个置信度下的临界值\n",
    "    dfoutput = pd.Series(dftest[0:4],index = ['Test Statistic','p-value','#Lags Used','Number of Observations Used'])\n",
    "    for key,value in dftest[4].items():\n",
    "        dfoutput['Critical value (%s)' %key] = value\n",
    "    \n",
    "    print (dfoutput)"
   ]
  },
  {
   "cell_type": "code",
   "execution_count": 171,
   "metadata": {
    "ExecuteTime": {
     "end_time": "2020-06-18T10:37:18.344407Z",
     "start_time": "2020-06-18T10:37:18.340355Z"
    },
    "hidden": true
   },
   "outputs": [],
   "source": [
    "ts = res['DELIVERY_RATE']\n",
    "ts_log = np.log(res['DELIVERY_RATE'])"
   ]
  },
  {
   "cell_type": "markdown",
   "metadata": {
    "heading_collapsed": true,
    "hidden": true
   },
   "source": [
    "##### 取平均"
   ]
  },
  {
   "cell_type": "code",
   "execution_count": 142,
   "metadata": {
    "ExecuteTime": {
     "end_time": "2020-06-18T10:07:07.884209Z",
     "start_time": "2020-06-18T10:07:07.592779Z"
    },
    "hidden": true
   },
   "outputs": [
    {
     "data": {
      "image/png": "[encoded data removed]",
      "text/plain": [
       "<Figure size 1080x432 with 1 Axes>"
      ]
     },
     "metadata": {
      "needs_background": "light"
     },
     "output_type": "display_data"
    },
    {
     "name": "stdout",
     "output_type": "stream",
     "text": [
      "Results of Dickey-Fuller Test:\n",
      "Test Statistic                 -1.915455\n",
      "p-value                         0.324826\n",
      "#Lags Used                      9.000000\n",
      "Number of Observations Used    19.000000\n",
      "Critical value (1%)            -3.832603\n",
      "Critical value (5%)            -3.031227\n",
      "Critical value (10%)           -2.655520\n",
      "dtype: float64\n"
     ]
    }
   ],
   "source": [
    "test_stationarity(res['DELIVERY_RATE'])"
   ]
  },
  {
   "cell_type": "markdown",
   "metadata": {
    "heading_collapsed": true,
    "hidden": true
   },
   "source": [
    "##### 平滑"
   ]
  },
  {
   "cell_type": "code",
   "execution_count": 144,
   "metadata": {
    "ExecuteTime": {
     "end_time": "2020-06-18T10:07:57.307895Z",
     "start_time": "2020-06-18T10:07:57.294832Z"
    },
    "hidden": true
   },
   "outputs": [],
   "source": [
    "ts_log_moving_avg_diff = np.log(res['DELIVERY_RATE']) - np.log(res['DELIVERY_RATE']).rolling(window=7,center=False).mean()\n",
    "ts_log_moving_avg_diff.dropna(inplace = True)"
   ]
  },
  {
   "cell_type": "code",
   "execution_count": 145,
   "metadata": {
    "ExecuteTime": {
     "end_time": "2020-06-18T10:07:59.231343Z",
     "start_time": "2020-06-18T10:07:58.918931Z"
    },
    "hidden": true,
    "scrolled": true
   },
   "outputs": [
    {
     "data": {
      "image/png": "[encoded data removed]",
      "text/plain": [
       "<Figure size 1080x432 with 1 Axes>"
      ]
     },
     "metadata": {
      "needs_background": "light"
     },
     "output_type": "display_data"
    },
    {
     "name": "stdout",
     "output_type": "stream",
     "text": [
      "Results of Dickey-Fuller Test:\n",
      "Test Statistic                -1.083613e+01\n",
      "p-value                        1.660290e-19\n",
      "#Lags Used                     9.000000e+00\n",
      "Number of Observations Used    1.300000e+01\n",
      "Critical value (1%)           -4.068854e+00\n",
      "Critical value (5%)           -3.127149e+00\n",
      "Critical value (10%)          -2.701730e+00\n",
      "dtype: float64\n"
     ]
    }
   ],
   "source": [
    "test_stationarity(ts_log_moving_avg_diff)"
   ]
  },
  {
   "cell_type": "markdown",
   "metadata": {
    "heading_collapsed": true,
    "hidden": true
   },
   "source": [
    "##### 指数加权平均法"
   ]
  },
  {
   "cell_type": "code",
   "execution_count": 146,
   "metadata": {
    "ExecuteTime": {
     "end_time": "2020-06-18T10:08:48.008406Z",
     "start_time": "2020-06-18T10:08:47.737863Z"
    },
    "hidden": true,
    "scrolled": false
   },
   "outputs": [
    {
     "data": {
      "image/png": "[encoded data removed]",
      "text/plain": [
       "<Figure size 1080x432 with 1 Axes>"
      ]
     },
     "metadata": {
      "needs_background": "light"
     },
     "output_type": "display_data"
    },
    {
     "name": "stdout",
     "output_type": "stream",
     "text": [
      "Results of Dickey-Fuller Test:\n",
      "Test Statistic                 -2.508611\n",
      "p-value                         0.113393\n",
      "#Lags Used                      9.000000\n",
      "Number of Observations Used    19.000000\n",
      "Critical value (1%)            -3.832603\n",
      "Critical value (5%)            -3.031227\n",
      "Critical value (10%)           -2.655520\n",
      "dtype: float64\n"
     ]
    }
   ],
   "source": [
    "expwighted_avg = np.log(res['DELIVERY_RATE']).ewm(halflife=7,min_periods=0,adjust=True,ignore_na=False).mean()\n",
    "ts_log_ewma_diff = np.log(res['DELIVERY_RATE']) - expwighted_avg\n",
    "test_stationarity(ts_log_ewma_diff)"
   ]
  },
  {
   "cell_type": "code",
   "execution_count": 232,
   "metadata": {
    "ExecuteTime": {
     "end_time": "2020-06-18T11:22:16.235048Z",
     "start_time": "2020-06-18T11:22:16.232043Z"
    },
    "hidden": true
   },
   "outputs": [],
   "source": [
    "# ts_log_ewma_diff"
   ]
  },
  {
   "cell_type": "markdown",
   "metadata": {
    "heading_collapsed": true,
    "hidden": true
   },
   "source": [
    "##### Differencing--差分"
   ]
  },
  {
   "cell_type": "code",
   "execution_count": 147,
   "metadata": {
    "ExecuteTime": {
     "end_time": "2020-06-18T10:09:25.231762Z",
     "start_time": "2020-06-18T10:09:24.961118Z"
    },
    "hidden": true
   },
   "outputs": [
    {
     "data": {
      "image/png": "[encoded data removed]",
      "text/plain": [
       "<Figure size 1080x432 with 1 Axes>"
      ]
     },
     "metadata": {
      "needs_background": "light"
     },
     "output_type": "display_data"
    },
    {
     "name": "stdout",
     "output_type": "stream",
     "text": [
      "Results of Dickey-Fuller Test:\n",
      "Test Statistic                 -2.187676\n",
      "p-value                         0.210749\n",
      "#Lags Used                      9.000000\n",
      "Number of Observations Used    18.000000\n",
      "Critical value (1%)            -3.859073\n",
      "Critical value (5%)            -3.042046\n",
      "Critical value (10%)           -2.660906\n",
      "dtype: float64\n"
     ]
    }
   ],
   "source": [
    "ts_log_diff = np.log(res['DELIVERY_RATE']) - np.log(res['DELIVERY_RATE']).shift()\n",
    "ts_log_diff.dropna(inplace=True)\n",
    "test_stationarity(ts_log_diff)"
   ]
  },
  {
   "cell_type": "markdown",
   "metadata": {
    "heading_collapsed": true,
    "hidden": true
   },
   "source": [
    "##### 聚合-取一段时间的平均值（月/周平均值）"
   ]
  },
  {
   "cell_type": "code",
   "execution_count": 174,
   "metadata": {
    "ExecuteTime": {
     "end_time": "2020-06-18T10:41:34.207373Z",
     "start_time": "2020-06-18T10:41:33.939467Z"
    },
    "hidden": true
   },
   "outputs": [
    {
     "data": {
      "image/png": "[encoded data removed]",
      "text/plain": [
       "<Figure size 1080x432 with 1 Axes>"
      ]
     },
     "metadata": {
      "needs_background": "light"
     },
     "output_type": "display_data"
    },
    {
     "name": "stdout",
     "output_type": "stream",
     "text": [
      "Results of Dickey-Fuller Test:\n",
      "Test Statistic                 -3.408227\n",
      "p-value                         0.010682\n",
      "#Lags Used                      0.000000\n",
      "Number of Observations Used    28.000000\n",
      "Critical value (1%)            -3.688926\n",
      "Critical value (5%)            -2.971989\n",
      "Critical value (10%)           -2.625296\n",
      "dtype: float64\n"
     ]
    }
   ],
   "source": [
    "res['SEND_W'] = res['SEND_DT'].apply(lambda dates: pd.datetime.strftime(dates, '%w'))\n",
    "grouped=res['DELIVERY_RATE'].groupby(res['SEND_W']).mean()\n",
    "grouped.rename(columns={\"SEND_W\":\"mean_of_value\"},inplace=True)\n",
    "gp = pd.DataFrame(grouped.values, columns=['mean_of_value'], index=grouped.index)\n",
    "res1 = res.join(gp, on=res.SEND_W)\n",
    "tsav = res1['DELIVERY_RATE'] - res1['mean_of_value']\n",
    "test_stationarity(tsav)"
   ]
  },
  {
   "cell_type": "code",
   "execution_count": 231,
   "metadata": {
    "ExecuteTime": {
     "end_time": "2020-06-18T11:22:10.097106Z",
     "start_time": "2020-06-18T11:22:10.094099Z"
    },
    "hidden": true
   },
   "outputs": [],
   "source": [
    "# tsav"
   ]
  },
  {
   "cell_type": "markdown",
   "metadata": {
    "heading_collapsed": true,
    "hidden": true
   },
   "source": [
    "#### Decomposing-分解"
   ]
  },
  {
   "cell_type": "code",
   "execution_count": 109,
   "metadata": {
    "ExecuteTime": {
     "end_time": "2020-06-19T11:41:28.304227Z",
     "start_time": "2020-06-19T11:41:28.287180Z"
    },
    "hidden": true
   },
   "outputs": [],
   "source": [
    "# 分解(decomposing) 可以用来把时序数据中的趋势和周期性数据都分离出来:\n",
    "from statsmodels.tsa.seasonal import seasonal_decompose\n",
    "import matplotlib.pylab as plt\n",
    "from matplotlib.pylab import rcParams\n",
    "#rcParams设定好画布的大小\n",
    "rcParams['figure.figsize'] = 15, 6\n",
    "def decompose(timeseries):\n",
    "    \n",
    "    # 返回包含三个部分 trend（趋势部分） ， seasonal（季节性部分） 和residual (残留部分)\n",
    "    decomposition = seasonal_decompose(timeseries)\n",
    "    \n",
    "    trend = decomposition.trend\n",
    "    seasonal = decomposition.seasonal\n",
    "    residual = decomposition.resid\n",
    "    \n",
    "    plt.subplot(411)\n",
    "    plt.plot(timeseries, label='Original')\n",
    "    plt.legend(loc='best')\n",
    "    plt.subplot(412)\n",
    "    plt.plot(trend, label='Trend')\n",
    "    plt.legend(loc='best')\n",
    "    plt.subplot(413)\n",
    "    plt.plot(seasonal,label='Seasonality')\n",
    "    plt.legend(loc='best')\n",
    "    plt.subplot(414)\n",
    "    plt.plot(residual, label='Residuals')\n",
    "    plt.legend(loc='best')\n",
    "    plt.tight_layout()\n",
    "    \n",
    "    return trend , seasonal, residual"
   ]
  },
  {
   "cell_type": "code",
   "execution_count": 110,
   "metadata": {
    "ExecuteTime": {
     "end_time": "2020-06-19T11:41:32.250836Z",
     "start_time": "2020-06-19T11:41:30.939278Z"
    },
    "hidden": true,
    "scrolled": true
   },
   "outputs": [
    {
     "ename": "NameError",
     "evalue": "name 'test_stationarity' is not defined",
     "output_type": "error",
     "traceback": [
      "\u001b[1;31m---------------------------------------------------------------------------\u001b[0m",
      "\u001b[1;31mNameError\u001b[0m                                 Traceback (most recent call last)",
      "\u001b[1;32m<ipython-input-110-22077d59fa51>\u001b[0m in \u001b[0;36m<module>\u001b[1;34m\u001b[0m\n\u001b[0;32m      2\u001b[0m \u001b[0mtrend\u001b[0m \u001b[1;33m,\u001b[0m \u001b[0mseasonal\u001b[0m\u001b[1;33m,\u001b[0m \u001b[0mresidual\u001b[0m \u001b[1;33m=\u001b[0m \u001b[0mdecompose\u001b[0m\u001b[1;33m(\u001b[0m\u001b[0mnp\u001b[0m\u001b[1;33m.\u001b[0m\u001b[0mlog\u001b[0m\u001b[1;33m(\u001b[0m\u001b[0mres\u001b[0m\u001b[1;33m[\u001b[0m\u001b[1;34m'DELIVERY_RATE'\u001b[0m\u001b[1;33m]\u001b[0m\u001b[1;33m)\u001b[0m\u001b[1;33m)\u001b[0m\u001b[1;33m\u001b[0m\u001b[0m\n\u001b[0;32m      3\u001b[0m \u001b[0mresidual\u001b[0m\u001b[1;33m.\u001b[0m\u001b[0mdropna\u001b[0m\u001b[1;33m(\u001b[0m\u001b[0minplace\u001b[0m\u001b[1;33m=\u001b[0m\u001b[1;32mTrue\u001b[0m\u001b[1;33m)\u001b[0m\u001b[1;33m\u001b[0m\u001b[0m\n\u001b[1;32m----> 4\u001b[1;33m \u001b[0mtest_stationarity\u001b[0m\u001b[1;33m(\u001b[0m\u001b[0mresidual\u001b[0m\u001b[1;33m)\u001b[0m\u001b[1;33m\u001b[0m\u001b[0m\n\u001b[0m\u001b[0;32m      5\u001b[0m \u001b[1;31m# res.set_index(res.SEND_DT, inplace=True)\u001b[0m\u001b[1;33m\u001b[0m\u001b[1;33m\u001b[0m\u001b[0m\n\u001b[0;32m      6\u001b[0m \u001b[1;31m# res\u001b[0m\u001b[1;33m\u001b[0m\u001b[1;33m\u001b[0m\u001b[0m\n",
      "\u001b[1;31mNameError\u001b[0m: name 'test_stationarity' is not defined"
     ]
    },
    {
     "data": {
      "image/png": "[encoded data removed]",
      "text/plain": [
       "<Figure size 1080x432 with 4 Axes>"
      ]
     },
     "metadata": {
      "needs_background": "light"
     },
     "output_type": "display_data"
    }
   ],
   "source": [
    "#消除了trend 和seasonal之后，只对residual部分作为想要的时序数据进行处理\n",
    "trend , seasonal, residual = decompose(np.log(res['DELIVERY_RATE']))\n",
    "residual.dropna(inplace=True)\n",
    "test_stationarity(residual)\n",
    "# res.set_index(res.SEND_DT, inplace=True)\n",
    "# res\n",
    "# decomposition = seasonal_decompose(np.log(res['DELIVERY_RATE']))"
   ]
  },
  {
   "cell_type": "markdown",
   "metadata": {
    "heading_collapsed": true,
    "hidden": true
   },
   "source": [
    "#### Predict"
   ]
  },
  {
   "cell_type": "code",
   "execution_count": 150,
   "metadata": {
    "ExecuteTime": {
     "end_time": "2020-06-18T10:20:17.248996Z",
     "start_time": "2020-06-18T10:20:16.681214Z"
    },
    "collapsed": true,
    "hidden": true
   },
   "outputs": [
    {
     "name": "stderr",
     "output_type": "stream",
     "text": [
      "D:\\Program\\miniconda\\envs\\py36_32\\lib\\site-packages\\statsmodels\\tsa\\stattools.py:541: FutureWarning:\n",
      "\n",
      "fft=True will become the default in a future version of statsmodels. To suppress this warning, explicitly set fft=False.\n",
      "\n"
     ]
    },
    {
     "data": {
      "image/png": "[encoded data removed]",
      "text/plain": [
       "<Figure size 1080x432 with 2 Axes>"
      ]
     },
     "metadata": {
      "needs_background": "light"
     },
     "output_type": "display_data"
    }
   ],
   "source": [
    "#ACF and PACF plots:\n",
    "from statsmodels.tsa.stattools import acf, pacf\n",
    "lag_acf = acf(ts_log_diff, nlags=20)\n",
    "lag_pacf = pacf(ts_log_diff, nlags=20, method='ols')\n",
    "#Plot ACF: \n",
    "plt.subplot(121) \n",
    "plt.plot(lag_acf)\n",
    "plt.axhline(y=0,linestyle='--',color='gray')\n",
    "plt.axhline(y=-1.96/np.sqrt(len(ts_log_diff)),linestyle='--',color='gray')\n",
    "plt.axhline(y=1.96/np.sqrt(len(ts_log_diff)),linestyle='--',color='gray')\n",
    "plt.title('Autocorrelation Function')\n",
    "\n",
    "#Plot PACF:\n",
    "plt.subplot(122)\n",
    "plt.plot(lag_pacf)\n",
    "plt.axhline(y=0,linestyle='--',color='gray')\n",
    "plt.axhline(y=-1.96/np.sqrt(len(ts_log_diff)),linestyle='--',color='gray')\n",
    "plt.axhline(y=1.96/np.sqrt(len(ts_log_diff)),linestyle='--',color='gray')\n",
    "plt.title('Partial Autocorrelation Function')\n",
    "plt.tight_layout()"
   ]
  },
  {
   "cell_type": "code",
   "execution_count": 184,
   "metadata": {
    "ExecuteTime": {
     "end_time": "2020-06-18T10:48:02.975680Z",
     "start_time": "2020-06-18T10:48:02.522314Z"
    },
    "collapsed": true,
    "hidden": true
   },
   "outputs": [
    {
     "name": "stderr",
     "output_type": "stream",
     "text": [
      "D:\\Program\\miniconda\\envs\\py36_32\\lib\\site-packages\\statsmodels\\tsa\\stattools.py:541: FutureWarning:\n",
      "\n",
      "fft=True will become the default in a future version of statsmodels. To suppress this warning, explicitly set fft=False.\n",
      "\n"
     ]
    },
    {
     "data": {
      "image/png": "[encoded data removed]",
      "text/plain": [
       "<Figure size 1080x432 with 2 Axes>"
      ]
     },
     "metadata": {
      "needs_background": "light"
     },
     "output_type": "display_data"
    }
   ],
   "source": [
    "#ACF and PACF plots:\n",
    "from statsmodels.tsa.stattools import acf, pacf\n",
    "lag_acf = acf(ts_log_moving_avg_diff, nlags=20)\n",
    "lag_pacf = pacf(ts_log_moving_avg_diff, nlags=20, method='ols')\n",
    "#Plot ACF: \n",
    "plt.subplot(121) \n",
    "plt.plot(lag_acf)\n",
    "plt.axhline(y=0,linestyle='--',color='gray')\n",
    "plt.axhline(y=-1.96/np.sqrt(len(ts_log_moving_avg_diff)),linestyle='--',color='gray')\n",
    "plt.axhline(y=1.96/np.sqrt(len(ts_log_moving_avg_diff)),linestyle='--',color='gray')\n",
    "plt.title('Autocorrelation Function')\n",
    "\n",
    "#Plot PACF:\n",
    "plt.subplot(122)\n",
    "plt.plot(lag_pacf)\n",
    "plt.axhline(y=0,linestyle='--',color='gray')\n",
    "plt.axhline(y=-1.96/np.sqrt(len(ts_log_moving_avg_diff)),linestyle='--',color='gray')\n",
    "plt.axhline(y=1.96/np.sqrt(len(ts_log_moving_avg_diff)),linestyle='--',color='gray')\n",
    "plt.title('Partial Autocorrelation Function')\n",
    "plt.tight_layout()"
   ]
  },
  {
   "cell_type": "markdown",
   "metadata": {
    "hidden": true
   },
   "source": [
    "#### Fit"
   ]
  },
  {
   "cell_type": "markdown",
   "metadata": {
    "heading_collapsed": true,
    "hidden": true
   },
   "source": [
    "##### 模型1：AR模型(ARIMA(2,1,0))"
   ]
  },
  {
   "cell_type": "code",
   "execution_count": 228,
   "metadata": {
    "ExecuteTime": {
     "end_time": "2020-06-18T11:18:29.313584Z",
     "start_time": "2020-06-18T11:18:29.029340Z"
    },
    "hidden": true,
    "scrolled": true
   },
   "outputs": [
    {
     "name": "stderr",
     "output_type": "stream",
     "text": [
      "D:\\Program\\miniconda\\envs\\py36_32\\lib\\site-packages\\statsmodels\\tsa\\base\\tsa_model.py:165: ValueWarning:\n",
      "\n",
      "No frequency information was provided, so inferred frequency D will be used.\n",
      "\n",
      "D:\\Program\\miniconda\\envs\\py36_32\\lib\\site-packages\\statsmodels\\tsa\\base\\tsa_model.py:165: ValueWarning:\n",
      "\n",
      "No frequency information was provided, so inferred frequency D will be used.\n",
      "\n"
     ]
    },
    {
     "data": {
      "text/plain": [
       "Text(0.5, 1.0, 'RSS: 0.0649')"
      ]
     },
     "execution_count": 228,
     "metadata": {},
     "output_type": "execute_result"
    },
    {
     "data": {
      "image/png": "[encoded data removed]",
      "text/plain": [
       "<Figure size 1080x432 with 1 Axes>"
      ]
     },
     "metadata": {
      "needs_background": "light"
     },
     "output_type": "display_data"
    }
   ],
   "source": [
    "from statsmodels.tsa.arima_model import ARIMA\n",
    "model = ARIMA(ts_log, order=(2, 1, 0))  \n",
    "results_AR = model.fit(disp=-1)  \n",
    "plt.plot(tsav)\n",
    "plt.plot(results_AR.fittedvalues, color='red')\n",
    "plt.title('RSS: %.4f'% sum((results_AR.fittedvalues-tsav).dropna()**2))"
   ]
  },
  {
   "cell_type": "code",
   "execution_count": 219,
   "metadata": {
    "ExecuteTime": {
     "end_time": "2020-06-18T11:16:08.952725Z",
     "start_time": "2020-06-18T11:16:08.946709Z"
    },
    "hidden": true
   },
   "outputs": [
    {
     "data": {
      "text/plain": [
       "0.08613504128268569"
      ]
     },
     "execution_count": 219,
     "metadata": {},
     "output_type": "execute_result"
    }
   ],
   "source": [
    "sum((results_AR.fittedvalues-tsav).dropna()**2)"
   ]
  },
  {
   "cell_type": "markdown",
   "metadata": {
    "heading_collapsed": true,
    "hidden": true
   },
   "source": [
    "##### 模型2：MA模型（ARIMA（0,1,2)）"
   ]
  },
  {
   "cell_type": "code",
   "execution_count": 223,
   "metadata": {
    "ExecuteTime": {
     "end_time": "2020-06-18T11:17:31.566598Z",
     "start_time": "2020-06-18T11:17:31.292804Z"
    },
    "hidden": true,
    "scrolled": true
   },
   "outputs": [
    {
     "name": "stderr",
     "output_type": "stream",
     "text": [
      "D:\\Program\\miniconda\\envs\\py36_32\\lib\\site-packages\\statsmodels\\tsa\\base\\tsa_model.py:165: ValueWarning:\n",
      "\n",
      "No frequency information was provided, so inferred frequency D will be used.\n",
      "\n",
      "D:\\Program\\miniconda\\envs\\py36_32\\lib\\site-packages\\statsmodels\\tsa\\base\\tsa_model.py:165: ValueWarning:\n",
      "\n",
      "No frequency information was provided, so inferred frequency D will be used.\n",
      "\n"
     ]
    },
    {
     "data": {
      "text/plain": [
       "Text(0.5, 1.0, 'RSS: 0.1553')"
      ]
     },
     "execution_count": 223,
     "metadata": {},
     "output_type": "execute_result"
    },
    {
     "data": {
      "image/png": "[encoded data removed]",
      "text/plain": [
       "<Figure size 1080x432 with 1 Axes>"
      ]
     },
     "metadata": {
      "needs_background": "light"
     },
     "output_type": "display_data"
    }
   ],
   "source": [
    "model = ARIMA(ts_log, order=(0, 1, 2))  \n",
    "results_MA = model.fit(disp=-1)  \n",
    "plt.plot(tsav)\n",
    "plt.plot(results_MA.fittedvalues, color='red')\n",
    "plt.title('RSS: %.4f'% sum((results_MA.fittedvalues-tsav).dropna()**2))"
   ]
  },
  {
   "cell_type": "markdown",
   "metadata": {
    "heading_collapsed": true,
    "hidden": true
   },
   "source": [
    "##### 模型3：ARIMA模型(ARIMA(2,1,2))"
   ]
  },
  {
   "cell_type": "code",
   "execution_count": 175,
   "metadata": {
    "ExecuteTime": {
     "end_time": "2020-06-22T05:11:53.684552Z",
     "start_time": "2020-06-22T05:11:52.628758Z"
    },
    "hidden": true,
    "scrolled": true
   },
   "outputs": [
    {
     "name": "stderr",
     "output_type": "stream",
     "text": [
      "D:\\Program\\miniconda\\envs\\py36_32\\lib\\site-packages\\statsmodels\\tsa\\base\\tsa_model.py:165: ValueWarning: No frequency information was provided, so inferred frequency D will be used.\n",
      "  % freq, ValueWarning)\n",
      "D:\\Program\\miniconda\\envs\\py36_32\\lib\\site-packages\\statsmodels\\tsa\\base\\tsa_model.py:165: ValueWarning: No frequency information was provided, so inferred frequency D will be used.\n",
      "  % freq, ValueWarning)\n"
     ]
    },
    {
     "data": {
      "text/plain": [
       "Text(0.5, 1.0, 'RSS: 0.0659')"
      ]
     },
     "execution_count": 175,
     "metadata": {},
     "output_type": "execute_result"
    },
    {
     "data": {
      "image/png": "[encoded data removed]",
      "text/plain": [
       "<Figure size 1080x432 with 1 Axes>"
      ]
     },
     "metadata": {
      "needs_background": "light"
     },
     "output_type": "display_data"
    }
   ],
   "source": [
    "model = ARIMA(ts_log, order=(2, 1, 1))  \n",
    "results_ARIMA = model.fit(disp=-1)  \n",
    "plt.plot(trend)\n",
    "plt.plot(results_ARIMA.fittedvalues, color='red')\n",
    "plt.title('RSS: %.4f'% sum((results_ARIMA.fittedvalues-residual).dropna()**2))"
   ]
  },
  {
   "cell_type": "markdown",
   "metadata": {
    "heading_collapsed": true,
    "hidden": true
   },
   "source": [
    "##### 将模型代入原数据进行预测"
   ]
  },
  {
   "cell_type": "code",
   "execution_count": 176,
   "metadata": {
    "ExecuteTime": {
     "end_time": "2020-06-22T05:12:16.159031Z",
     "start_time": "2020-06-22T05:12:15.779026Z"
    },
    "hidden": true,
    "scrolled": true
   },
   "outputs": [
    {
     "name": "stdout",
     "output_type": "stream",
     "text": [
      "SEND_DT\n",
      "2020-05-21   -0.002334\n",
      "2020-05-22   -0.047259\n",
      "2020-05-23   -0.016211\n",
      "2020-05-24    0.053352\n",
      "2020-05-25   -0.050813\n",
      "dtype: float64\n"
     ]
    },
    {
     "data": {
      "text/plain": [
       "Text(0.5, 1.0, 'RMSE: 0.1578')"
      ]
     },
     "execution_count": 176,
     "metadata": {},
     "output_type": "execute_result"
    },
    {
     "data": {
      "image/png": "[encoded data removed]",
      "text/plain": [
       "<Figure size 1080x432 with 1 Axes>"
      ]
     },
     "metadata": {
      "needs_background": "light"
     },
     "output_type": "display_data"
    }
   ],
   "source": [
    "#ARIMA拟合的其实是一阶差分ts_log_diff，predictions_ARIMA_diff[i]是第i个月与i-1个月的ts_log的差值。\n",
    "#由于差分化有一阶滞后，所以第一个月的数据是空的，\n",
    "predictions_ARIMA_diff = pd.Series(results_ARIMA.fittedvalues, copy=True)\n",
    "print(predictions_ARIMA_diff.head())\n",
    "#累加现有的diff，得到每个值与第一个月的差分（同log底的情况下）。\n",
    "#即predictions_ARIMA_diff_cumsum[i] 是第i个月与第1个月的ts_log的差值。\n",
    "predictions_ARIMA_diff_cumsum = predictions_ARIMA_diff.cumsum()\n",
    "#先ts_log_diff => ts_log=>ts_log => ts \n",
    "#先以ts_log的第一个值作为基数，复制给所有值，然后每个时刻的值累加与第一个月对应的差值(这样就解决了，第一个月diff数据为空的问题了)\n",
    "#然后得到了predictions_ARIMA_log => predictions_ARIMA\n",
    "predictions_ARIMA_log = pd.Series(ts_log.ix[0], index=ts_log.index)\n",
    "predictions_ARIMA_log = predictions_ARIMA_log.add(predictions_ARIMA_diff_cumsum,fill_value=0)\n",
    "predictions_ARIMA = np.exp(predictions_ARIMA_log)\n",
    "plt.figure()\n",
    "plt.plot(ts)\n",
    "plt.plot(predictions_ARIMA)\n",
    "plt.title('RMSE: %.4f'% np.sqrt(sum((predictions_ARIMA-ts)**2)/len(ts)))"
   ]
  },
  {
   "cell_type": "code",
   "execution_count": 186,
   "metadata": {
    "ExecuteTime": {
     "end_time": "2020-06-22T05:17:38.828722Z",
     "start_time": "2020-06-22T05:17:38.821703Z"
    },
    "hidden": true
   },
   "outputs": [
    {
     "data": {
      "text/plain": [
       "0.12251164858018065"
      ]
     },
     "execution_count": 186,
     "metadata": {},
     "output_type": "execute_result"
    }
   ],
   "source": [
    "# quantitativeTrendAnalysis.predict(predictions_ARIMA)\n",
    "quantitativeTrendAnalysis.predict(trend.dropna())"
   ]
  },
  {
   "cell_type": "markdown",
   "metadata": {
    "hidden": true
   },
   "source": [
    "#### pyecharts"
   ]
  },
  {
   "cell_type": "code",
   "execution_count": 114,
   "metadata": {
    "ExecuteTime": {
     "end_time": "2020-06-19T11:45:00.688370Z",
     "start_time": "2020-06-19T11:45:00.682857Z"
    },
    "hidden": true
   },
   "outputs": [],
   "source": [
    "# from pyecharts.globals import CurrentConfig, NotebookType\n",
    "# CurrentConfig.NOTEBOOK_TYPE = NotebookType.JUPYTER_LAB\n",
    "from pyecharts.charts import Line, Bar\n",
    "from pyecharts.render import make_snapshot\n",
    "from pyecharts.globals import ThemeType,RenderType\n",
    "from pyecharts.options.series_options import TextStyleOpts\n",
    "from pyecharts.commons.utils import JsCode\n",
    "from pyecharts import options as opts\n",
    "# 使用 snapshot-selenium 渲染图片\n",
    "from snapshot_selenium import snapshot"
   ]
  },
  {
   "cell_type": "code",
   "execution_count": 121,
   "metadata": {
    "ExecuteTime": {
     "end_time": "2020-06-19T11:46:08.551117Z",
     "start_time": "2020-06-19T11:46:08.531069Z"
    },
    "code_folding": [],
    "hidden": true
   },
   "outputs": [],
   "source": [
    "line = (Line(init_opts = opts.InitOpts(width = \"1000px\", \n",
    "                                       height = \"600px\",\n",
    "#                                        bg_color = \"#ffffff\",\n",
    "                                       theme=ThemeType.VINTAGE, \n",
    "                                       renderer = RenderType.CANVAS, \n",
    "                                       animation_opts = opts.AnimationOpts(animation = True)\n",
    "                                      )\n",
    "            )\n",
    "        .add_xaxis([i for i in pd.to_datetime(res.SEND_DT,format=\"%Y/%m/%d\")])\n",
    "        .add_yaxis(\"SMS\", res['DELIVERY_RATE'])\n",
    "#         .add_yaxis(\"Rolling Mean\", rolling_log_diff_mean)\n",
    "        .add_yaxis(\"predictions_ARIMA\", predictions_ARIMA)\n",
    "        .set_global_opts(title_opts = opts.TitleOpts(title = \"Success Rate Trend\", \n",
    "                                                     pos_left = 'center', \n",
    "                                                     pos_top = '1%',\n",
    "                                                     title_textstyle_opts = {'fontWeight': 'bold',\n",
    "                                                                             'fontSize': 16,\n",
    "                                                                             'padding': [8,8,8,8],\n",
    "                                                                             'hight': '10%',\n",
    "                                                                             'line_height':'10%'}\n",
    "                         ),\n",
    "                         legend_opts = opts.LegendOpts(type_ = 'scroll', \n",
    "                                                       is_show = True,\n",
    "                                                       pos_left = 'center', \n",
    "                                                       pos_top = 'bottom', \n",
    "                                                       orient = 'horizontal', \n",
    "                        ),\n",
    "                        yaxis_opts = opts.AxisOpts(type_ = 'value',\n",
    "#                                                    boundary_gap = ['0%','20%'],\n",
    "#                                                    axislabel_opts = opts.LabelOpts(is_show = True,\n",
    "#                                                                                    formatter = JsCode(\"function(params) \\\n",
    "#                                                                                    {var str = Number(params.value[1]/params.value[1]*100).toFixed(2) + '%'; return str;}\"))\n",
    "                        ),\n",
    "#                          xaxis_opts = opts.AxisOpts(type_ = None, \n",
    "#                                                     boundary_gap = ['10%','10%']\n",
    "#                                                    ),\n",
    "                         toolbox_opts = opts.ToolboxOpts(is_show = True),\n",
    "                         tooltip_opts = opts.TooltipOpts(is_show = True),\n",
    "#                          datazoom_opts = opts.DataZoomOpts(is_show = True,\n",
    "#                                                            type_ = \"slider\",\n",
    "#                                                            orient = \"vertical\",\n",
    "#                                                            range_start = 60,\n",
    "#                                                            range_end = 100,\n",
    "# #                                                            yaxis_index = 0\n",
    "#                                                            )\n",
    "                        )\n",
    "        .set_series_opts(label_opts=opts.LabelOpts(is_show = False,\n",
    "#                                                    font_style=\"italic\",\n",
    "                                                   font_size = 15,\n",
    "                                                   color = \"#333333\",\n",
    "                                                   interval = 6, \n",
    "                                                   margin = 100,\n",
    "                                                   formatter = JsCode(f\"function(params){{ \\\n",
    "                                                   var str1= Number(params.value[1] * 100).toFixed(2) + '%'; \\\n",
    "                                                   return str1 }}\"),\n",
    "                                                   rich = {\n",
    "                                                       'lineHeight':10\n",
    "                                                   }\n",
    "                                                  ),\n",
    "                        )\n",
    ")"
   ]
  },
  {
   "cell_type": "code",
   "execution_count": 122,
   "metadata": {
    "ExecuteTime": {
     "end_time": "2020-06-19T11:46:11.035754Z",
     "start_time": "2020-06-19T11:46:11.022726Z"
    },
    "hidden": true
   },
   "outputs": [
    {
     "data": {
      "text/html": [
       "\n",
       "<script>\n",
       "    require.config({\n",
       "        paths: {\n",
       "            'echarts':'https://assets.pyecharts.org/assets/echarts.min', 'vintage':'https://assets.pyecharts.org/assets/themes/vintage'\n",
       "        }\n",
       "    });\n",
       "</script>\n",
       "\n",
       "        <div id=\"0622ac53dfe74c1abb8c455e5a198252\" style=\"width:1000px; height:600px;\"></div>\n",
       "\n",
       "<script>\n",
       "        require(['echarts', 'vintage'], function(echarts) {\n",
       "                var chart_0622ac53dfe74c1abb8c455e5a198252 = echarts.init(\n",
       "                    document.getElementById('0622ac53dfe74c1abb8c455e5a198252'), 'vintage', {renderer: 'canvas'});\n",
       "                var option_0622ac53dfe74c1abb8c455e5a198252 = {\n",
       "    \"animation\": true,\n",
       "    \"animationThreshold\": 2000,\n",
       "    \"animationDuration\": 1000,\n",
       "    \"animationEasing\": \"cubicOut\",\n",
       "    \"animationDelay\": 0,\n",
       "    \"animationDurationUpdate\": 300,\n",
       "    \"animationEasingUpdate\": \"cubicOut\",\n",
       "    \"animationDelayUpdate\": 0,\n",
       "    \"series\": [\n",
       "        {\n",
       "            \"type\": \"line\",\n",
       "            \"name\": \"SMS\",\n",
       "            \"connectNulls\": false,\n",
       "            \"symbolSize\": 4,\n",
       "            \"showSymbol\": true,\n",
       "            \"smooth\": false,\n",
       "            \"step\": false,\n",
       "            \"data\": [\n",
       "                [\n",
       "                    \"2020-05-20T00:00:00\",\n",
       "                    0.7439\n",
       "                ],\n",
       "                [\n",
       "                    \"2020-05-21T00:00:00\",\n",
       "                    0.8616\n",
       "                ],\n",
       "                [\n",
       "                    \"2020-05-22T00:00:00\",\n",
       "                    0.8645\n",
       "                ],\n",
       "                [\n",
       "                    \"2020-05-23T00:00:00\",\n",
       "                    0.7494\n",
       "                ],\n",
       "                [\n",
       "                    \"2020-05-24T00:00:00\",\n",
       "                    0.868\n",
       "                ],\n",
       "                [\n",
       "                    \"2020-05-25T00:00:00\",\n",
       "                    0.7344\n",
       "                ],\n",
       "                [\n",
       "                    \"2020-05-26T00:00:00\",\n",
       "                    0.7526\n",
       "                ],\n",
       "                [\n",
       "                    \"2020-05-27T00:00:00\",\n",
       "                    0.6928\n",
       "                ],\n",
       "                [\n",
       "                    \"2020-05-28T00:00:00\",\n",
       "                    0.8953\n",
       "                ],\n",
       "                [\n",
       "                    \"2020-05-29T00:00:00\",\n",
       "                    0.9221\n",
       "                ],\n",
       "                [\n",
       "                    \"2020-05-30T00:00:00\",\n",
       "                    0.9158\n",
       "                ],\n",
       "                [\n",
       "                    \"2020-05-31T00:00:00\",\n",
       "                    0.8895\n",
       "                ],\n",
       "                [\n",
       "                    \"2020-06-01T00:00:00\",\n",
       "                    0.7516\n",
       "                ],\n",
       "                [\n",
       "                    \"2020-06-02T00:00:00\",\n",
       "                    0.8079\n",
       "                ],\n",
       "                [\n",
       "                    \"2020-06-03T00:00:00\",\n",
       "                    0.7458\n",
       "                ],\n",
       "                [\n",
       "                    \"2020-06-04T00:00:00\",\n",
       "                    0.8781\n",
       "                ],\n",
       "                [\n",
       "                    \"2020-06-05T00:00:00\",\n",
       "                    0.9035\n",
       "                ],\n",
       "                [\n",
       "                    \"2020-06-06T00:00:00\",\n",
       "                    0.8956\n",
       "                ],\n",
       "                [\n",
       "                    \"2020-06-07T00:00:00\",\n",
       "                    0.8174\n",
       "                ],\n",
       "                [\n",
       "                    \"2020-06-08T00:00:00\",\n",
       "                    0.7525\n",
       "                ],\n",
       "                [\n",
       "                    \"2020-06-09T00:00:00\",\n",
       "                    0.7837\n",
       "                ],\n",
       "                [\n",
       "                    \"2020-06-10T00:00:00\",\n",
       "                    0.7249\n",
       "                ],\n",
       "                [\n",
       "                    \"2020-06-11T00:00:00\",\n",
       "                    0.8609\n",
       "                ],\n",
       "                [\n",
       "                    \"2020-06-12T00:00:00\",\n",
       "                    0.9207\n",
       "                ],\n",
       "                [\n",
       "                    \"2020-06-13T00:00:00\",\n",
       "                    0.9331\n",
       "                ],\n",
       "                [\n",
       "                    \"2020-06-14T00:00:00\",\n",
       "                    0.8699\n",
       "                ],\n",
       "                [\n",
       "                    \"2020-06-15T00:00:00\",\n",
       "                    0.8284\n",
       "                ],\n",
       "                [\n",
       "                    \"2020-06-16T00:00:00\",\n",
       "                    0.8259\n",
       "                ],\n",
       "                [\n",
       "                    \"2020-06-17T00:00:00\",\n",
       "                    0.7797\n",
       "                ],\n",
       "                [\n",
       "                    \"2020-06-18T00:00:00\",\n",
       "                    0.7258\n",
       "                ]\n",
       "            ],\n",
       "            \"hoverAnimation\": true,\n",
       "            \"label\": {\n",
       "                \"show\": false,\n",
       "                \"position\": \"top\",\n",
       "                \"color\": \"#333333\",\n",
       "                \"margin\": 100,\n",
       "                \"interval\": 6,\n",
       "                \"fontSize\": 15,\n",
       "                \"formatter\": function(params){                                                    var str1= Number(params.value[1] * 100).toFixed(2) + '%';                                                    return str1 },\n",
       "                \"rich\": {\n",
       "                    \"lineHeight\": 10\n",
       "                }\n",
       "            },\n",
       "            \"lineStyle\": {\n",
       "                \"width\": 1,\n",
       "                \"opacity\": 1,\n",
       "                \"curveness\": 0,\n",
       "                \"type\": \"solid\"\n",
       "            },\n",
       "            \"areaStyle\": {\n",
       "                \"opacity\": 0\n",
       "            },\n",
       "            \"rippleEffect\": {\n",
       "                \"show\": true,\n",
       "                \"brushType\": \"stroke\",\n",
       "                \"scale\": 2.5,\n",
       "                \"period\": 4\n",
       "            }\n",
       "        },\n",
       "        {\n",
       "            \"type\": \"line\",\n",
       "            \"name\": \"predictions_ARIMA\",\n",
       "            \"connectNulls\": false,\n",
       "            \"symbolSize\": 4,\n",
       "            \"showSymbol\": true,\n",
       "            \"smooth\": false,\n",
       "            \"step\": false,\n",
       "            \"data\": [\n",
       "                [\n",
       "                    \"2020-05-20T00:00:00\",\n",
       "                    0.7439\n",
       "                ],\n",
       "                [\n",
       "                    \"2020-05-21T00:00:00\",\n",
       "                    0.7421658410524566\n",
       "                ],\n",
       "                [\n",
       "                    \"2020-05-22T00:00:00\",\n",
       "                    0.7079076841931226\n",
       "                ],\n",
       "                [\n",
       "                    \"2020-05-23T00:00:00\",\n",
       "                    0.6965243384679466\n",
       "                ],\n",
       "                [\n",
       "                    \"2020-05-24T00:00:00\",\n",
       "                    0.734694606551573\n",
       "                ],\n",
       "                [\n",
       "                    \"2020-05-25T00:00:00\",\n",
       "                    0.6982951485840686\n",
       "                ],\n",
       "                [\n",
       "                    \"2020-05-26T00:00:00\",\n",
       "                    0.7272931303894126\n",
       "                ],\n",
       "                [\n",
       "                    \"2020-05-27T00:00:00\",\n",
       "                    0.7331122382891002\n",
       "                ],\n",
       "                [\n",
       "                    \"2020-05-28T00:00:00\",\n",
       "                    0.7350835077314499\n",
       "                ],\n",
       "                [\n",
       "                    \"2020-05-29T00:00:00\",\n",
       "                    0.6952523832587066\n",
       "                ],\n",
       "                [\n",
       "                    \"2020-05-30T00:00:00\",\n",
       "                    0.6589586407506797\n",
       "                ],\n",
       "                [\n",
       "                    \"2020-05-31T00:00:00\",\n",
       "                    0.6833775363301965\n",
       "                ],\n",
       "                [\n",
       "                    \"2020-06-01T00:00:00\",\n",
       "                    0.6633017141643784\n",
       "                ],\n",
       "                [\n",
       "                    \"2020-06-02T00:00:00\",\n",
       "                    0.7196778910252911\n",
       "                ],\n",
       "                [\n",
       "                    \"2020-06-03T00:00:00\",\n",
       "                    0.6882012739508727\n",
       "                ],\n",
       "                [\n",
       "                    \"2020-06-04T00:00:00\",\n",
       "                    0.7118977408929689\n",
       "                ],\n",
       "                [\n",
       "                    \"2020-06-05T00:00:00\",\n",
       "                    0.6728552611963148\n",
       "                ],\n",
       "                [\n",
       "                    \"2020-06-06T00:00:00\",\n",
       "                    0.6607022673135524\n",
       "                ],\n",
       "                [\n",
       "                    \"2020-06-07T00:00:00\",\n",
       "                    0.6631960892424075\n",
       "                ],\n",
       "                [\n",
       "                    \"2020-06-08T00:00:00\",\n",
       "                    0.6759228363776801\n",
       "                ],\n",
       "                [\n",
       "                    \"2020-06-09T00:00:00\",\n",
       "                    0.6973988397885229\n",
       "                ],\n",
       "                [\n",
       "                    \"2020-06-10T00:00:00\",\n",
       "                    0.6849334706854198\n",
       "                ],\n",
       "                [\n",
       "                    \"2020-06-11T00:00:00\",\n",
       "                    0.697681383019142\n",
       "                ],\n",
       "                [\n",
       "                    \"2020-06-12T00:00:00\",\n",
       "                    0.6680100297816498\n",
       "                ],\n",
       "                [\n",
       "                    \"2020-06-13T00:00:00\",\n",
       "                    0.6393746713627342\n",
       "                ],\n",
       "                [\n",
       "                    \"2020-06-14T00:00:00\",\n",
       "                    0.6450273725381394\n",
       "                ],\n",
       "                [\n",
       "                    \"2020-06-15T00:00:00\",\n",
       "                    0.644858320044147\n",
       "                ],\n",
       "                [\n",
       "                    \"2020-06-16T00:00:00\",\n",
       "                    0.6661961551281284\n",
       "                ],\n",
       "                [\n",
       "                    \"2020-06-17T00:00:00\",\n",
       "                    0.6533535008354396\n",
       "                ],\n",
       "                [\n",
       "                    \"2020-06-18T00:00:00\",\n",
       "                    0.6729505683250021\n",
       "                ]\n",
       "            ],\n",
       "            \"hoverAnimation\": true,\n",
       "            \"label\": {\n",
       "                \"show\": false,\n",
       "                \"position\": \"top\",\n",
       "                \"color\": \"#333333\",\n",
       "                \"margin\": 100,\n",
       "                \"interval\": 6,\n",
       "                \"fontSize\": 15,\n",
       "                \"formatter\": function(params){                                                    var str1= Number(params.value[1] * 100).toFixed(2) + '%';                                                    return str1 },\n",
       "                \"rich\": {\n",
       "                    \"lineHeight\": 10\n",
       "                }\n",
       "            },\n",
       "            \"lineStyle\": {\n",
       "                \"width\": 1,\n",
       "                \"opacity\": 1,\n",
       "                \"curveness\": 0,\n",
       "                \"type\": \"solid\"\n",
       "            },\n",
       "            \"areaStyle\": {\n",
       "                \"opacity\": 0\n",
       "            },\n",
       "            \"rippleEffect\": {\n",
       "                \"show\": true,\n",
       "                \"brushType\": \"stroke\",\n",
       "                \"scale\": 2.5,\n",
       "                \"period\": 4\n",
       "            }\n",
       "        }\n",
       "    ],\n",
       "    \"legend\": [\n",
       "        {\n",
       "            \"data\": [\n",
       "                \"SMS\",\n",
       "                \"predictions_ARIMA\"\n",
       "            ],\n",
       "            \"selected\": {\n",
       "                \"SMS\": true,\n",
       "                \"predictions_ARIMA\": true\n",
       "            },\n",
       "            \"type\": \"scroll\",\n",
       "            \"show\": true,\n",
       "            \"left\": \"center\",\n",
       "            \"top\": \"bottom\",\n",
       "            \"orient\": \"horizontal\",\n",
       "            \"padding\": 5,\n",
       "            \"itemGap\": 10,\n",
       "            \"itemWidth\": 25,\n",
       "            \"itemHeight\": 14\n",
       "        }\n",
       "    ],\n",
       "    \"tooltip\": {\n",
       "        \"show\": true,\n",
       "        \"trigger\": \"item\",\n",
       "        \"triggerOn\": \"mousemove|click\",\n",
       "        \"axisPointer\": {\n",
       "            \"type\": \"line\"\n",
       "        },\n",
       "        \"textStyle\": {\n",
       "            \"fontSize\": 14\n",
       "        },\n",
       "        \"borderWidth\": 0\n",
       "    },\n",
       "    \"xAxis\": [\n",
       "        {\n",
       "            \"show\": true,\n",
       "            \"scale\": false,\n",
       "            \"nameLocation\": \"end\",\n",
       "            \"nameGap\": 15,\n",
       "            \"gridIndex\": 0,\n",
       "            \"inverse\": false,\n",
       "            \"offset\": 0,\n",
       "            \"splitNumber\": 5,\n",
       "            \"minInterval\": 0,\n",
       "            \"splitLine\": {\n",
       "                \"show\": false,\n",
       "                \"lineStyle\": {\n",
       "                    \"width\": 1,\n",
       "                    \"opacity\": 1,\n",
       "                    \"curveness\": 0,\n",
       "                    \"type\": \"solid\"\n",
       "                }\n",
       "            },\n",
       "            \"data\": [\n",
       "                \"2020-05-20T00:00:00\",\n",
       "                \"2020-05-21T00:00:00\",\n",
       "                \"2020-05-22T00:00:00\",\n",
       "                \"2020-05-23T00:00:00\",\n",
       "                \"2020-05-24T00:00:00\",\n",
       "                \"2020-05-25T00:00:00\",\n",
       "                \"2020-05-26T00:00:00\",\n",
       "                \"2020-05-27T00:00:00\",\n",
       "                \"2020-05-28T00:00:00\",\n",
       "                \"2020-05-29T00:00:00\",\n",
       "                \"2020-05-30T00:00:00\",\n",
       "                \"2020-05-31T00:00:00\",\n",
       "                \"2020-06-01T00:00:00\",\n",
       "                \"2020-06-02T00:00:00\",\n",
       "                \"2020-06-03T00:00:00\",\n",
       "                \"2020-06-04T00:00:00\",\n",
       "                \"2020-06-05T00:00:00\",\n",
       "                \"2020-06-06T00:00:00\",\n",
       "                \"2020-06-07T00:00:00\",\n",
       "                \"2020-06-08T00:00:00\",\n",
       "                \"2020-06-09T00:00:00\",\n",
       "                \"2020-06-10T00:00:00\",\n",
       "                \"2020-06-11T00:00:00\",\n",
       "                \"2020-06-12T00:00:00\",\n",
       "                \"2020-06-13T00:00:00\",\n",
       "                \"2020-06-14T00:00:00\",\n",
       "                \"2020-06-15T00:00:00\",\n",
       "                \"2020-06-16T00:00:00\",\n",
       "                \"2020-06-17T00:00:00\",\n",
       "                \"2020-06-18T00:00:00\"\n",
       "            ]\n",
       "        }\n",
       "    ],\n",
       "    \"yAxis\": [\n",
       "        {\n",
       "            \"type\": \"value\",\n",
       "            \"show\": true,\n",
       "            \"scale\": false,\n",
       "            \"nameLocation\": \"end\",\n",
       "            \"nameGap\": 15,\n",
       "            \"gridIndex\": 0,\n",
       "            \"inverse\": false,\n",
       "            \"offset\": 0,\n",
       "            \"splitNumber\": 5,\n",
       "            \"minInterval\": 0,\n",
       "            \"splitLine\": {\n",
       "                \"show\": false,\n",
       "                \"lineStyle\": {\n",
       "                    \"width\": 1,\n",
       "                    \"opacity\": 1,\n",
       "                    \"curveness\": 0,\n",
       "                    \"type\": \"solid\"\n",
       "                }\n",
       "            }\n",
       "        }\n",
       "    ],\n",
       "    \"title\": [\n",
       "        {\n",
       "            \"text\": \"Success Rate Trend\",\n",
       "            \"left\": \"center\",\n",
       "            \"top\": \"1%\",\n",
       "            \"textStyle\": {\n",
       "                \"fontWeight\": \"bold\",\n",
       "                \"fontSize\": 16,\n",
       "                \"padding\": [\n",
       "                    8,\n",
       "                    8,\n",
       "                    8,\n",
       "                    8\n",
       "                ],\n",
       "                \"hight\": \"10%\",\n",
       "                \"line_height\": \"10%\"\n",
       "            }\n",
       "        }\n",
       "    ],\n",
       "    \"toolbox\": {\n",
       "        \"show\": true,\n",
       "        \"orient\": \"horizontal\",\n",
       "        \"itemSize\": 15,\n",
       "        \"itemGap\": 10,\n",
       "        \"left\": \"80%\",\n",
       "        \"feature\": {\n",
       "            \"saveAsImage\": {\n",
       "                \"show\": true,\n",
       "                \"title\": \"save as image\",\n",
       "                \"type\": \"png\"\n",
       "            },\n",
       "            \"restore\": {\n",
       "                \"show\": true,\n",
       "                \"title\": \"restore\"\n",
       "            },\n",
       "            \"dataView\": {\n",
       "                \"show\": true,\n",
       "                \"title\": \"data view\",\n",
       "                \"readOnly\": false\n",
       "            },\n",
       "            \"dataZoom\": {\n",
       "                \"show\": true,\n",
       "                \"title\": {\n",
       "                    \"zoom\": \"data zoom\",\n",
       "                    \"back\": \"data zoom restore\"\n",
       "                }\n",
       "            }\n",
       "        }\n",
       "    }\n",
       "};\n",
       "                chart_0622ac53dfe74c1abb8c455e5a198252.setOption(option_0622ac53dfe74c1abb8c455e5a198252);\n",
       "        });\n",
       "    </script>\n"
      ],
      "text/plain": [
       "<pyecharts.render.display.HTML at 0x1c65ae10>"
      ]
     },
     "execution_count": 122,
     "metadata": {},
     "output_type": "execute_result"
    }
   ],
   "source": [
    "line.render_notebook()"
   ]
  },
  {
   "cell_type": "code",
   "execution_count": 125,
   "metadata": {
    "ExecuteTime": {
     "end_time": "2020-06-19T11:49:45.425203Z",
     "start_time": "2020-06-19T11:49:38.159121Z"
    },
    "hidden": true
   },
   "outputs": [],
   "source": [
    "make_snapshot(snapshot, line.render(), \"test.png\")\n",
    "# line."
   ]
  },
  {
   "cell_type": "markdown",
   "metadata": {
    "hidden": true
   },
   "source": [
    "#### plotly"
   ]
  },
  {
   "cell_type": "code",
   "execution_count": 6,
   "metadata": {
    "ExecuteTime": {
     "end_time": "2020-06-18T07:19:29.357174Z",
     "start_time": "2020-06-18T07:19:25.360803Z"
    },
    "hidden": true
   },
   "outputs": [],
   "source": [
    "import plotly.express as px"
   ]
  },
  {
   "cell_type": "code",
   "execution_count": 11,
   "metadata": {
    "ExecuteTime": {
     "end_time": "2020-06-18T07:31:09.912476Z",
     "start_time": "2020-06-18T07:31:09.200156Z"
    },
    "hidden": true
   },
   "outputs": [],
   "source": [
    "fig = px.line(res, y=\"DELIVERY_RATE\", x=\"SEND_DT\", color=\"CHANNEL\", render_mode='svg')"
   ]
  },
  {
   "cell_type": "code",
   "execution_count": 12,
   "metadata": {
    "ExecuteTime": {
     "end_time": "2020-06-18T07:31:20.299513Z",
     "start_time": "2020-06-18T07:31:20.157006Z"
    },
    "hidden": true
   },
   "outputs": [],
   "source": [
    "fig.show()"
   ]
  }
 ],
 "metadata": {
  "hide_input": false,
  "kernelspec": {
   "display_name": "py36_32",
   "language": "python",
   "name": "py36_32"
  },
  "language_info": {
   "codemirror_mode": {
    "name": "ipython",
    "version": 3
   },
   "file_extension": ".py",
   "mimetype": "text/x-python",
   "name": "python",
   "nbconvert_exporter": "python",
   "pygments_lexer": "ipython3",
   "version": "3.6.5"
  },
  "toc": {
   "base_numbering": 1,
   "nav_menu": {},
   "number_sections": true,
   "sideBar": true,
   "skip_h1_title": false,
   "title_cell": "Table of Contents",
   "title_sidebar": "Contents",
   "toc_cell": false,
   "toc_position": {},
   "toc_section_display": true,
   "toc_window_display": false
  },
  "varInspector": {
   "cols": {
    "lenName": 16,
    "lenType": 16,
    "lenVar": 40
   },
   "kernels_config": {
    "python": {
     "delete_cmd_postfix": "",
     "delete_cmd_prefix": "del ",
     "library": "var_list.py",
     "varRefreshCmd": "print(var_dic_list())"
    },
    "r": {
     "delete_cmd_postfix": ") ",
     "delete_cmd_prefix": "rm(",
     "library": "var_list.r",
     "varRefreshCmd": "cat(var_dic_list()) "
    }
   },
   "types_to_exclude": [
    "module",
    "function",
    "builtin_function_or_method",
    "instance",
    "_Feature"
   ],
   "window_display": false
  }
 },
 "nbformat": 4,
 "nbformat_minor": 2
}
