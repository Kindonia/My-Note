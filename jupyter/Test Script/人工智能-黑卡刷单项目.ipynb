{
 "cells": [
  {
   "cell_type": "markdown",
   "metadata": {},
   "source": [
    "# 一、问题抽象\n",
    "## 1. 业务背景\n",
    "- 某公司海外发行的移动端游戏，近日发现大量来自APPSTORE的退款。\n",
    "- 查证后发现，AS对于用户的6RMB、18RMB和30RMB充值档位实行无条件退款。\n",
    "- 黑产大量注册账号，并使用黑信用卡进行充值、退款操作，套取虚拟物品进行转售。\n",
    "- 同时，因为用户隐私政策，AS不提供充值账号和游戏账号的对应关系。导致虚拟物品无法追回。\n",
    "- 单日虚拟物品等额损失约12W美金。\n",
    "\n",
    "## 2. 目标\n",
    "- 识别黑产刷量账号\n",
    "- 限制黑产行为\n",
    "- 控制财产损失\n",
    "\n",
    "## 3. 难点\n",
    "- 无明确标识（如何确定正负样本？）\n",
    "- 无行为信息（如何获取足够特征？）\n",
    "- 无对应关系（如何关联充值行为？）\n",
    "- 不能误伤正常用户（如何不侵害正常业务逻辑？）\n",
    "\n",
    "## 4. 初步方案\n",
    "- 从业务层进行数据挖掘 --> 获得正负样本\n",
    "- 对仅有数据进行模式分析 --> 特征工程\n",
    "- 建立分类模型，利用预测结果对刷量进行二次验证\n",
    "\n",
    "** 问题抽象环节，核心目的是为业务问题找对解决方向 **"
   ]
  },
  {
   "cell_type": "markdown",
   "metadata": {},
   "source": [
    "# 二、数据处理\n",
    "## 1. 可能利用的数据\n",
    "- 账号\n",
    "- IP\n",
    "- UA\n",
    "- 游戏行为\n",
    "- 充值行为\n",
    "### 备注：实际过程中，还需要记得做数据清理\n",
    "\n",
    "## 2. 正负样本\n",
    "- 正常用户和刷量之间的差异\n",
    "- 寻找两者置信的边界\n",
    "- 宁愿错杀，还是宁愿放过？\n",
    "- （宁愿放过，原因是：要保障pos的纯度，使之不影响训练的结果）\n",
    "\n",
    "- 正样本（postive是业务问题的目标）\n",
    "\n",
    "\n",
    "** 正样本（1） --> 新注册、充值只发生过6\\18\\30、只发生一笔充值、注册立刻充值、充值后马上进行交易 **\n",
    "\n",
    "** 负样本（0） --> 找绝对能肯定不是刷量的账号：VIP大户、注册超过一定时间且充值超过一定金额 **\n",
    "\n",
    "## 3. 样本平衡\n",
    "- 抽样（抽样有两种，上采样：小变大：下采样：大变小）\n",
    "- 时间范围\n",
    "- 目的：尽可能覆盖模式的情况下，减少验证建模的数据量。（时间紧迫啊！没时间处理那么多数据）"
   ]
  },
  {
   "cell_type": "code",
   "execution_count": 11,
   "metadata": {},
   "outputs": [],
   "source": [
    "import pandas as pd\n",
    "from itertools import *\n",
    "from string import ascii_lowercase\n",
    "from sklearn.model_selection import train_test_split\n",
    "from sklearn import svm\n",
    "from sklearn.linear_model import SGDClassifier\n",
    "from sklearn.metrics import precision_recall_curve,roc_auc_score,accuracy_score,precision_score,recall_score,f1_score"
   ]
  },
  {
   "cell_type": "code",
   "execution_count": 12,
   "metadata": {},
   "outputs": [
    {
     "name": "stdout",
     "output_type": "stream",
     "text": [
      "feature    43580\n",
      "label      43580\n",
      "dtype: int64\n",
      "feature    50000\n",
      "label      50000\n",
      "dtype: int64\n"
     ]
    }
   ],
   "source": [
    "# 导入数据，直观感受一下\n",
    "df = pd.read_csv('data.csv', header=None)\n",
    "\n",
    "df.columns = ['feature', 'label']\n",
    "\n",
    "print(df[df['label'] == 0].count())\n",
    "print(df[df['label'] == 1].count())"
   ]
  },
  {
   "attachments": {
    "image.png": {
     "image/png": "[encoded data removed]"
    }
   },
   "cell_type": "markdown",
   "metadata": {},
   "source": [
    "# 三、特征工程\n",
    "## 1. 问题\n",
    "- 如何构建特征？\n",
    "\n",
    "## 2. 思路\n",
    "- 自然人注册账号会使用具有‘意义’的字符\n",
    "- 人的记忆是习惯顺序的而非倒序和乱序\n",
    "- 字符的出现具有‘模式’，数字的出现具有‘模式’\n",
    "![image.png](attachment:image.png)\n",
    "- 刷量注册账号需要考虑成本\n",
    "- 从统计意义来说，刷量属于一套‘生成模式’\n",
    "- 从熵的角度来看，刷量比自然人账号的熵要大\n",
    "\n",
    "- 例子：账号zhangsan中zh这个组合的出现概率，要大于账号xlqixejs中js的出现概率\n",
    "\n",
    "## 3. 操作\n",
    "### 建立特征map\n",
    "- 包含小写字母和数字\n",
    "- 包含N个字符则为N元\n",
    "\n",
    "** 补充：可以有多重的拆分，为演示只做二元的拆分 **\n"
   ]
  },
  {
   "cell_type": "code",
   "execution_count": 22,
   "metadata": {},
   "outputs": [
    {
     "name": "stdout",
     "output_type": "stream",
     "text": [
      "['aa', 'ab', 'ac', 'ad', 'ae', 'af', 'ag', 'ah', 'ai', 'aj', 'ak', 'al', 'am', 'an', 'ao', 'ap', 'aq', 'ar', 'as', 'at', 'au', 'av', 'aw', 'ax', 'ay', 'az', 'a0', 'a1', 'a2', 'a3', 'a4', 'a5', 'a6', 'a7', 'a8', 'a9', 'bb', 'bc', 'bd', 'be', 'bf', 'bg', 'bh', 'bi', 'bj', 'bk', 'bl', 'bm', 'bn', 'bo', 'bp', 'bq', 'br', 'bs', 'bt', 'bu', 'bv', 'bw', 'bx', 'by', 'bz', 'b0', 'b1', 'b2', 'b3', 'b4', 'b5', 'b6', 'b7', 'b8', 'b9', 'cc', 'cd', 'ce', 'cf', 'cg', 'ch', 'ci', 'cj', 'ck', 'cl', 'cm', 'cn', 'co', 'cp', 'cq', 'cr', 'cs', 'ct', 'cu', 'cv', 'cw', 'cx', 'cy', 'cz', 'c0', 'c1', 'c2', 'c3', 'c4', 'c5', 'c6', 'c7', 'c8', 'c9', 'dd', 'de', 'df', 'dg', 'dh', 'di', 'dj', 'dk', 'dl', 'dm', 'dn', 'do', 'dp', 'dq', 'dr', 'ds', 'dt', 'du', 'dv', 'dw', 'dx', 'dy', 'dz', 'd0', 'd1', 'd2', 'd3', 'd4', 'd5', 'd6', 'd7', 'd8', 'd9', 'ee', 'ef', 'eg', 'eh', 'ei', 'ej', 'ek', 'el', 'em', 'en', 'eo', 'ep', 'eq', 'er', 'es', 'et', 'eu', 'ev', 'ew', 'ex', 'ey', 'ez', 'e0', 'e1', 'e2', 'e3', 'e4', 'e5', 'e6', 'e7', 'e8', 'e9', 'ff', 'fg', 'fh', 'fi', 'fj', 'fk', 'fl', 'fm', 'fn', 'fo', 'fp', 'fq', 'fr', 'fs', 'ft', 'fu', 'fv', 'fw', 'fx', 'fy', 'fz', 'f0', 'f1', 'f2', 'f3', 'f4', 'f5', 'f6', 'f7', 'f8', 'f9', 'gg', 'gh', 'gi', 'gj', 'gk', 'gl', 'gm', 'gn', 'go', 'gp', 'gq', 'gr', 'gs', 'gt', 'gu', 'gv', 'gw', 'gx', 'gy', 'gz', 'g0', 'g1', 'g2', 'g3', 'g4', 'g5', 'g6', 'g7', 'g8', 'g9', 'hh', 'hi', 'hj', 'hk', 'hl', 'hm', 'hn', 'ho', 'hp', 'hq', 'hr', 'hs', 'ht', 'hu', 'hv', 'hw', 'hx', 'hy', 'hz', 'h0', 'h1', 'h2', 'h3', 'h4', 'h5', 'h6', 'h7', 'h8', 'h9', 'ii', 'ij', 'ik', 'il', 'im', 'in', 'io', 'ip', 'iq', 'ir', 'is', 'it', 'iu', 'iv', 'iw', 'ix', 'iy', 'iz', 'i0', 'i1', 'i2', 'i3', 'i4', 'i5', 'i6', 'i7', 'i8', 'i9', 'jj', 'jk', 'jl', 'jm', 'jn', 'jo', 'jp', 'jq', 'jr', 'js', 'jt', 'ju', 'jv', 'jw', 'jx', 'jy', 'jz', 'j0', 'j1', 'j2', 'j3', 'j4', 'j5', 'j6', 'j7', 'j8', 'j9', 'kk', 'kl', 'km', 'kn', 'ko', 'kp', 'kq', 'kr', 'ks', 'kt', 'ku', 'kv', 'kw', 'kx', 'ky', 'kz', 'k0', 'k1', 'k2', 'k3', 'k4', 'k5', 'k6', 'k7', 'k8', 'k9', 'll', 'lm', 'ln', 'lo', 'lp', 'lq', 'lr', 'ls', 'lt', 'lu', 'lv', 'lw', 'lx', 'ly', 'lz', 'l0', 'l1', 'l2', 'l3', 'l4', 'l5', 'l6', 'l7', 'l8', 'l9', 'mm', 'mn', 'mo', 'mp', 'mq', 'mr', 'ms', 'mt', 'mu', 'mv', 'mw', 'mx', 'my', 'mz', 'm0', 'm1', 'm2', 'm3', 'm4', 'm5', 'm6', 'm7', 'm8', 'm9', 'nn', 'no', 'np', 'nq', 'nr', 'ns', 'nt', 'nu', 'nv', 'nw', 'nx', 'ny', 'nz', 'n0', 'n1', 'n2', 'n3', 'n4', 'n5', 'n6', 'n7', 'n8', 'n9', 'oo', 'op', 'oq', 'or', 'os', 'ot', 'ou', 'ov', 'ow', 'ox', 'oy', 'oz', 'o0', 'o1', 'o2', 'o3', 'o4', 'o5', 'o6', 'o7', 'o8', 'o9', 'pp', 'pq', 'pr', 'ps', 'pt', 'pu', 'pv', 'pw', 'px', 'py', 'pz', 'p0', 'p1', 'p2', 'p3', 'p4', 'p5', 'p6', 'p7', 'p8', 'p9', 'qq', 'qr', 'qs', 'qt', 'qu', 'qv', 'qw', 'qx', 'qy', 'qz', 'q0', 'q1', 'q2', 'q3', 'q4', 'q5', 'q6', 'q7', 'q8', 'q9', 'rr', 'rs', 'rt', 'ru', 'rv', 'rw', 'rx', 'ry', 'rz', 'r0', 'r1', 'r2', 'r3', 'r4', 'r5', 'r6', 'r7', 'r8', 'r9', 'ss', 'st', 'su', 'sv', 'sw', 'sx', 'sy', 'sz', 's0', 's1', 's2', 's3', 's4', 's5', 's6', 's7', 's8', 's9', 'tt', 'tu', 'tv', 'tw', 'tx', 'ty', 'tz', 't0', 't1', 't2', 't3', 't4', 't5', 't6', 't7', 't8', 't9', 'uu', 'uv', 'uw', 'ux', 'uy', 'uz', 'u0', 'u1', 'u2', 'u3', 'u4', 'u5', 'u6', 'u7', 'u8', 'u9', 'vv', 'vw', 'vx', 'vy', 'vz', 'v0', 'v1', 'v2', 'v3', 'v4', 'v5', 'v6', 'v7', 'v8', 'v9', 'ww', 'wx', 'wy', 'wz', 'w0', 'w1', 'w2', 'w3', 'w4', 'w5', 'w6', 'w7', 'w8', 'w9', 'xx', 'xy', 'xz', 'x0', 'x1', 'x2', 'x3', 'x4', 'x5', 'x6', 'x7', 'x8', 'x9', 'yy', 'yz', 'y0', 'y1', 'y2', 'y3', 'y4', 'y5', 'y6', 'y7', 'y8', 'y9', 'zz', 'z0', 'z1', 'z2', 'z3', 'z4', 'z5', 'z6', 'z7', 'z8', 'z9', '00', '01', '02', '03', '04', '05', '06', '07', '08', '09', '11', '12', '13', '14', '15', '16', '17', '18', '19', '22', '23', '24', '25', '26', '27', '28', '29', '33', '34', '35', '36', '37', '38', '39', '44', '45', '46', '47', '48', '49', '55', '56', '57', '58', '59', '66', '67', '68', '69', '77', '78', '79', '88', '89', '99']\n"
     ]
    }
   ],
   "source": [
    "# 生成一个字符串，包含所有小写字母和数字\n",
    "source = ascii_lowercase\n",
    "for i in range(10):\n",
    "    source += str(i)\n",
    "    \n",
    "# print(source)\n",
    "\n",
    "# 生成特征map，最终是一个数组\n",
    "feature_map = []\n",
    "\n",
    "# for i in permutations(source, 2):\n",
    "for i in combinations_with_replacement(source, 2):\n",
    "    feature_map.append(i[0]+i[1])\n",
    "    \n",
    "# print(len(feature_map))\n",
    "print(feature_map)"
   ]
  },
  {
   "cell_type": "code",
   "execution_count": 24,
   "metadata": {},
   "outputs": [],
   "source": [
    "# 对账号进行拆元\n",
    "def split_acc(acc, num):\n",
    "    res = []\n",
    "    for i in range(len(acc)-num+1):\n",
    "        res.append(acc[i:i+num])\n",
    "    return res\n",
    "\n",
    "# split_acc('abcdef', 2)\n",
    "\n",
    "# 建立向量化特征，它是一个二维数组\n",
    "vec_feature = []\n",
    "\n",
    "for f in df['feature']:\n",
    "    # 先把一个账号字符串拆分成对应元的list\n",
    "    acc = split_acc(f, 2)\n",
    "    # 建立一个全0 list，大小为特征长度\n",
    "    v = [0] * len(feature_map)\n",
    "    for i,f_m in enumerate(feature_map):\n",
    "        v[i] = acc.count(f_m)\n",
    "    vec_feature.append(v)\n"
   ]
  },
  {
   "cell_type": "code",
   "execution_count": 34,
   "metadata": {},
   "outputs": [
    {
     "data": {
      "text/html": [
       "<div>\n",
       "<style scoped>\n",
       "    .dataframe tbody tr th:only-of-type {\n",
       "        vertical-align: middle;\n",
       "    }\n",
       "\n",
       "    .dataframe tbody tr th {\n",
       "        vertical-align: top;\n",
       "    }\n",
       "\n",
       "    .dataframe thead th {\n",
       "        text-align: right;\n",
       "    }\n",
       "</style>\n",
       "<table border=\"1\" class=\"dataframe\">\n",
       "  <thead>\n",
       "    <tr style=\"text-align: right;\">\n",
       "      <th></th>\n",
       "      <th>0</th>\n",
       "      <th>1</th>\n",
       "      <th>2</th>\n",
       "      <th>3</th>\n",
       "      <th>4</th>\n",
       "      <th>5</th>\n",
       "      <th>6</th>\n",
       "      <th>7</th>\n",
       "      <th>8</th>\n",
       "      <th>9</th>\n",
       "      <th>...</th>\n",
       "      <th>657</th>\n",
       "      <th>658</th>\n",
       "      <th>659</th>\n",
       "      <th>660</th>\n",
       "      <th>661</th>\n",
       "      <th>662</th>\n",
       "      <th>663</th>\n",
       "      <th>664</th>\n",
       "      <th>665</th>\n",
       "      <th>y</th>\n",
       "    </tr>\n",
       "  </thead>\n",
       "  <tbody>\n",
       "    <tr>\n",
       "      <th>0</th>\n",
       "      <td>0</td>\n",
       "      <td>0</td>\n",
       "      <td>0</td>\n",
       "      <td>0</td>\n",
       "      <td>0</td>\n",
       "      <td>0</td>\n",
       "      <td>0</td>\n",
       "      <td>0</td>\n",
       "      <td>0</td>\n",
       "      <td>0</td>\n",
       "      <td>...</td>\n",
       "      <td>0</td>\n",
       "      <td>0</td>\n",
       "      <td>0</td>\n",
       "      <td>0</td>\n",
       "      <td>0</td>\n",
       "      <td>1</td>\n",
       "      <td>0</td>\n",
       "      <td>0</td>\n",
       "      <td>0</td>\n",
       "      <td>0</td>\n",
       "    </tr>\n",
       "    <tr>\n",
       "      <th>1</th>\n",
       "      <td>0</td>\n",
       "      <td>0</td>\n",
       "      <td>0</td>\n",
       "      <td>0</td>\n",
       "      <td>0</td>\n",
       "      <td>0</td>\n",
       "      <td>0</td>\n",
       "      <td>0</td>\n",
       "      <td>0</td>\n",
       "      <td>0</td>\n",
       "      <td>...</td>\n",
       "      <td>0</td>\n",
       "      <td>0</td>\n",
       "      <td>0</td>\n",
       "      <td>0</td>\n",
       "      <td>0</td>\n",
       "      <td>0</td>\n",
       "      <td>0</td>\n",
       "      <td>0</td>\n",
       "      <td>0</td>\n",
       "      <td>0</td>\n",
       "    </tr>\n",
       "    <tr>\n",
       "      <th>2</th>\n",
       "      <td>0</td>\n",
       "      <td>0</td>\n",
       "      <td>0</td>\n",
       "      <td>0</td>\n",
       "      <td>0</td>\n",
       "      <td>0</td>\n",
       "      <td>0</td>\n",
       "      <td>0</td>\n",
       "      <td>0</td>\n",
       "      <td>0</td>\n",
       "      <td>...</td>\n",
       "      <td>0</td>\n",
       "      <td>0</td>\n",
       "      <td>0</td>\n",
       "      <td>0</td>\n",
       "      <td>0</td>\n",
       "      <td>0</td>\n",
       "      <td>0</td>\n",
       "      <td>0</td>\n",
       "      <td>0</td>\n",
       "      <td>0</td>\n",
       "    </tr>\n",
       "  </tbody>\n",
       "</table>\n",
       "<p>3 rows × 667 columns</p>\n",
       "</div>"
      ],
      "text/plain": [
       "   0  1  2  3  4  5  6  7  8  9 ...  657  658  659  660  661  662  663  664  \\\n",
       "0  0  0  0  0  0  0  0  0  0  0 ...    0    0    0    0    0    1    0    0   \n",
       "1  0  0  0  0  0  0  0  0  0  0 ...    0    0    0    0    0    0    0    0   \n",
       "2  0  0  0  0  0  0  0  0  0  0 ...    0    0    0    0    0    0    0    0   \n",
       "\n",
       "   665  y  \n",
       "0    0  0  \n",
       "1    0  0  \n",
       "2    0  0  \n",
       "\n",
       "[3 rows x 667 columns]"
      ]
     },
     "execution_count": 34,
     "metadata": {},
     "output_type": "execute_result"
    }
   ],
   "source": [
    "vec_data = pd.DataFrame(vec_feature)\n",
    "\n",
    "vec_data['y'] = df['label']\n",
    "\n",
    "vec_data.to_csv('vec_data.csv')\n",
    "\n",
    "vec_data.head(3)"
   ]
  },
  {
   "cell_type": "code",
   "execution_count": 25,
   "metadata": {},
   "outputs": [
    {
     "name": "stdout",
     "output_type": "stream",
     "text": [
      "(74864, 665)\n",
      "(18716, 665)\n"
     ]
    }
   ],
   "source": [
    "vec_data = pd.read_csv('vec_data.csv')\n",
    "\n",
    "train_x,test_x,train_y,test_y = train_test_split(vec_data.iloc[:,0:665], vec_data['y'], test_size=0.2, random_state=1, stratify=vec_data['y'])\n",
    "\n",
    "print(train_x.shape)\n",
    "print(test_x.shape)"
   ]
  },
  {
   "cell_type": "markdown",
   "metadata": {},
   "source": [
    "# 四、建模与训练\n",
    "## 1.选择算法\n",
    "- 通过经验来选择算法范围\n",
    "- 经验包括：对特征的敏感、对数据量的把握、对执行效率的控制\n",
    "\n",
    "## 2.当前情况\n",
    "- 特征：及其稀疏、是离散特征\n",
    "- 数据：时效性强、可能需要频繁训练\n",
    "- 效率：需要在线对业务进行处理\n",
    "\n",
    "## 3.方案\n",
    "- 分类任务\n",
    "- 运行速度快\n",
    "- 不需要解释性"
   ]
  },
  {
   "cell_type": "code",
   "execution_count": 26,
   "metadata": {},
   "outputs": [
    {
     "name": "stderr",
     "output_type": "stream",
     "text": [
      "D:\\ProgramData\\Anaconda3\\lib\\site-packages\\sklearn\\linear_model\\base.py:340: RuntimeWarning: overflow encountered in exp\n",
      "  np.exp(prob, prob)\n"
     ]
    }
   ],
   "source": [
    "clf = SGDClassifier(loss='log',max_iter=100,penalty='l2')\n",
    "\n",
    "model = clf.fit(train_x, train_y)\n",
    "\n",
    "y_p = model.predict(test_x)\n",
    "y_s = model.predict_proba(test_x)\n"
   ]
  },
  {
   "cell_type": "markdown",
   "metadata": {},
   "source": [
    "# 五、模型评估和优化\n",
    "## 1.从0到1\n",
    "- 先解决有无问题，评估效果够用则马上上线\n",
    "- 无论多赶工，还是要做交叉验证\n",
    "\n",
    "## 2.从大到小\n",
    "- 若一个算法效果无法达到业务需求，检查无操作错误后，直接换个算法\n",
    "- 达到基本线，再开始细化调整\n",
    "\n",
    "## 3.方案\n",
    "- 增加拆元N值，获得更多的模式信息（空间占用增加）\n",
    "- 特征交叉（效率变低）\n",
    "- 用DL发掘更多模式\n",
    "- 超参数网格搜索，进行超参数微调（耗时）\n",
    "- 特征值要记得缩放归一化！（LR、SVM、DT都是对特征缩放敏感的算法）"
   ]
  },
  {
   "cell_type": "code",
   "execution_count": 27,
   "metadata": {},
   "outputs": [
    {
     "name": "stdout",
     "output_type": "stream",
     "text": [
      "accuracy_score: 0.538203\n",
      "precision_score: 0.536394\n",
      "recall_score: 1.000000\n",
      "f1_score: 0.698251\n",
      "roc_auc_score: 0.504188\n"
     ]
    }
   ],
   "source": [
    "print('accuracy_score: %f' %accuracy_score(test_y,y_p))\n",
    "print('precision_score: %f' %precision_score(test_y,y_p))\n",
    "print('recall_score: %f' %recall_score(test_y,y_p))\n",
    "print('f1_score: %f' %f1_score(test_y,y_p))\n",
    "print('roc_auc_score: %f' %roc_auc_score(test_y,y_s[:,1]))\n"
   ]
  },
  {
   "cell_type": "markdown",
   "metadata": {},
   "source": [
    "** LR各项指标看起来都挺不错，但是我们的问题在于找出刷量，RC的值不太理想 **"
   ]
  },
  {
   "cell_type": "code",
   "execution_count": 5,
   "metadata": {},
   "outputs": [
    {
     "name": "stderr",
     "output_type": "stream",
     "text": [
      "D:\\ProgramData\\Anaconda3\\lib\\site-packages\\sklearn\\svm\\base.py:218: ConvergenceWarning: Solver terminated early (max_iter=100).  Consider pre-processing your data with StandardScaler or MinMaxScaler.\n",
      "  % self.max_iter, ConvergenceWarning)\n"
     ]
    }
   ],
   "source": [
    "\n",
    "SVM = svm.SVC(max_iter=100, probability=True)\n",
    "\n",
    "svm_model = SVM.fit(train_x, train_y)\n",
    "\n",
    "svm_y_p = svm_model.predict(test_x)\n",
    "svm_y_s = svm_model.predict_proba(test_x)"
   ]
  },
  {
   "cell_type": "code",
   "execution_count": 6,
   "metadata": {},
   "outputs": [
    {
     "name": "stdout",
     "output_type": "stream",
     "text": [
      "accuracy_score: 0.999038\n",
      "precision_score: 0.998203\n",
      "recall_score: 1.000000\n",
      "f1_score: 0.999101\n",
      "roc_auc_score: 0.930378\n"
     ]
    }
   ],
   "source": [
    "print('accuracy_score: %f' %accuracy_score(test_y,svm_y_p))\n",
    "print('precision_score: %f' %precision_score(test_y,svm_y_p))\n",
    "print('recall_score: %f' %recall_score(test_y,svm_y_p))\n",
    "print('f1_score: %f' %f1_score(test_y,svm_y_p))\n",
    "print('roc_auc_score: %f' %roc_auc_score(test_y,svm_y_s[:,1]))"
   ]
  },
  {
   "cell_type": "markdown",
   "metadata": {},
   "source": [
    "# 六、模型部署\n",
    "## 1.模型角度\n",
    "- 通过PMML转到JAVA环境去执行\n",
    "## 2.业务角度\n",
    "- 要放在注册的环节中\n",
    "- 不能直接拒绝被判别为刷量的用户注册\n",
    "- 要对当前注册流程无侵害（为什么？因为你更改注册逻辑，比如说增加了验证，那么刷量会随之针对）\n",
    "- 当账号被判别为刷量，标记当前账号。它可以正常游戏、充值、消费商店物品，但是7天内不让它进行商店物品交易。\n",
    "## 3.后续处理\n",
    "- 对整个账号库进行离线判别，所有账号都加入标记，但是不执行操作。\n",
    "- 对标记的账号进行数据跟踪（保留游戏内行为LOG）\n",
    "- 增加后续的游戏时长、行为、IP等特征"
   ]
  },
  {
   "cell_type": "markdown",
   "metadata": {},
   "source": [
    "# 七、结项和汇报\n",
    "## 1.突发业务问题结项时机\n",
    "- 项目不能久拖\n",
    "- 达成初步目标就先做一期结项\n",
    "## 2.如何汇报\n",
    "- 汇报不行等于白干\n",
    "- 对上汇报业务效果\n",
    "- 对内汇报模型评估数据\n",
    "- 数据一定要有baseline\n",
    "## 3.后续\n",
    "- 突发问题变成晋升资本（将解决方案常态化）\n",
    "- 项目工程演变成系统（36刷量判别模型 --> 平台账号防刷系统）\n"
   ]
  },
  {
   "cell_type": "markdown",
   "metadata": {},
   "source": [
    "# 附录\n",
    "```python\n",
    "# 导入字符串处理库\n",
    "from string import ascii_lowercase\n",
    "\n",
    "# 组合字母和数字\n",
    "source = ascii_lowercase\n",
    "for i in range(10):\n",
    "    source += str(i)\n",
    "    \n",
    "# 凯撒密码\n",
    "def encrypt(msg, key, source):\n",
    "    result = ''\n",
    "    for word in msg:\n",
    "        num = source.find(word)\n",
    "        num += key\n",
    "        if num >= len(source):\n",
    "            num -= len(source)\n",
    "        result += source[num]\n",
    "    return result\n",
    "```"
   ]
  },
  {
   "cell_type": "code",
   "execution_count": 16,
   "metadata": {},
   "outputs": [
    {
     "name": "stdout",
     "output_type": "stream",
     "text": [
      "这是排列\n",
      "('a', 'b')\n",
      "('a', 'c')\n",
      "('b', 'a')\n",
      "('b', 'c')\n",
      "('c', 'a')\n",
      "('c', 'b')\n",
      "这是组合\n",
      "('a', 'a')\n",
      "('a', 'b')\n",
      "('a', 'c')\n",
      "('b', 'b')\n",
      "('b', 'c')\n",
      "('c', 'c')\n"
     ]
    }
   ],
   "source": [
    "a = ['a','b','c']\n",
    "\n",
    "# 这是排列\n",
    "print('这是排列')\n",
    "for i in permutations(a, 2):\n",
    "    print(i)\n",
    "\n",
    "\n",
    "# 这是组合（with_replacement表示可以重复自身）\n",
    "print('这是组合')\n",
    "for k in combinations_with_replacement(a, 2):\n",
    "    print(k)"
   ]
  },
  {
   "cell_type": "code",
   "execution_count": null,
   "metadata": {},
   "outputs": [],
   "source": []
  }
 ],
 "metadata": {
  "kernelspec": {
   "display_name": "Python 3",
   "language": "python",
   "name": "python3"
  },
  "language_info": {
   "codemirror_mode": {
    "name": "ipython",
    "version": 3
   },
   "file_extension": ".py",
   "mimetype": "text/x-python",
   "name": "python",
   "nbconvert_exporter": "python",
   "pygments_lexer": "ipython3",
   "version": "3.6.4"
  }
 },
 "nbformat": 4,
 "nbformat_minor": 2
}
