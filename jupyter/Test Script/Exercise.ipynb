{
 "cells": [
  {
   "cell_type": "markdown",
   "metadata": {},
   "source": [
    "TODO List \n",
    "#### 3.1:\n",
    "##### 一、写个爬虫，做差评分析器：\n",
    "     有类、有日志、有数据结果\n",
    "\n",
    "##### 二、仿照51备忘录目录结构，做一个简易的数据处理系统，在数据抓取，分析，office文件操作，图片操作等功能，至少选择2项功能，每一项至少提供2个操作函数，多多益善，具体需求如下：（60分）\n",
    "\t-使用装饰器完成登录验证，用户不存在，则提示注册；\n",
    "\t-用户数据保存为：用户名.json, 管理员默认为admin.json\n",
    "\t-用户分为两种类型： 管理员，普通用户，作为一个字段type，具体值为admin或user，保存到：用户名.json\n",
    "\t-操作菜单根据用户角色显示不同。\n",
    "    * 管理员可以看见所有操作，除登录外，数据相关操作根据Json数据里的列表`(\"opration\":[\"crawle\",\"office\",\"image\"])`\n",
    "    * 普通用户只有登录，注册功能，登录后数据操作列表默认为空，需要管理员操作授权，再次登录显示被授权的操作。\n",
    "\t-每一次操作要有日志记录到文件和控制台，但日志等级不同，文件的为DEBUG，控制台的为WARING\n",
    "\t-要有完整的各个功能运行截图和测试数据\n",
    "\t\t"
   ]
  },
  {
   "cell_type": "code",
   "execution_count": 1,
   "metadata": {
    "ExecuteTime": {
     "end_time": "2019-11-04T07:12:16.345163Z",
     "start_time": "2019-11-04T07:12:16.342154Z"
    }
   },
   "outputs": [],
   "source": [
    "class Test(object):\n",
    "    def __init__(self):\n",
    "        self.a = []\n",
    "    def len(self, obj):\n",
    "        self.a.append(obj)\n",
    "test = Test()"
   ]
  },
  {
   "cell_type": "code",
   "execution_count": 29,
   "metadata": {
    "ExecuteTime": {
     "end_time": "2019-11-06T03:25:18.439585Z",
     "start_time": "2019-11-06T03:25:18.431564Z"
    }
   },
   "outputs": [],
   "source": [
    "def test(a):\n",
    "    if type(a) != int:\n",
    "        return {'error':0}\n",
    "    else:\n",
    "        print(a)"
   ]
  },
  {
   "cell_type": "code",
   "execution_count": 30,
   "metadata": {
    "ExecuteTime": {
     "end_time": "2019-11-06T03:25:19.951221Z",
     "start_time": "2019-11-06T03:25:19.941212Z"
    },
    "scrolled": true
   },
   "outputs": [
    {
     "data": {
      "text/plain": [
       "{'error': 0}"
      ]
     },
     "execution_count": 30,
     "metadata": {},
     "output_type": "execute_result"
    }
   ],
   "source": [
    "b=[1]\n",
    "test(b)"
   ]
  }
 ],
 "metadata": {
  "hide_input": false,
  "kernelspec": {
   "display_name": "Python 3",
   "language": "python",
   "name": "python3"
  },
  "language_info": {
   "codemirror_mode": {
    "name": "ipython",
    "version": 3
   },
   "file_extension": ".py",
   "mimetype": "text/x-python",
   "name": "python",
   "nbconvert_exporter": "python",
   "pygments_lexer": "ipython3",
   "version": "3.7.3"
  },
  "toc": {
   "base_numbering": 1,
   "nav_menu": {},
   "number_sections": true,
   "sideBar": true,
   "skip_h1_title": false,
   "title_cell": "Table of Contents",
   "title_sidebar": "Contents",
   "toc_cell": false,
   "toc_position": {},
   "toc_section_display": true,
   "toc_window_display": false
  },
  "varInspector": {
   "cols": {
    "lenName": 16,
    "lenType": 16,
    "lenVar": 40
   },
   "kernels_config": {
    "python": {
     "delete_cmd_postfix": "",
     "delete_cmd_prefix": "del ",
     "library": "var_list.py",
     "varRefreshCmd": "print(var_dic_list())"
    },
    "r": {
     "delete_cmd_postfix": ") ",
     "delete_cmd_prefix": "rm(",
     "library": "var_list.r",
     "varRefreshCmd": "cat(var_dic_list()) "
    }
   },
   "types_to_exclude": [
    "module",
    "function",
    "builtin_function_or_method",
    "instance",
    "_Feature"
   ],
   "window_display": false
  }
 },
 "nbformat": 4,
 "nbformat_minor": 2
}
