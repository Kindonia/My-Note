{
 "cells": [
  {
   "cell_type": "markdown",
   "metadata": {
    "ExecuteTime": {
     "end_time": "2020-09-15T05:19:57.593145Z",
     "start_time": "2020-09-15T05:19:57.589636Z"
    }
   },
   "source": [
    "### Easy"
   ]
  },
  {
   "cell_type": "markdown",
   "metadata": {},
   "source": [
    "#### 1-20"
   ]
  },
  {
   "cell_type": "markdown",
   "metadata": {
    "ExecuteTime": {
     "end_time": "2020-09-15T05:20:17.478190Z",
     "start_time": "2020-09-15T05:20:17.475179Z"
    },
    "heading_collapsed": true
   },
   "source": [
    "##### 1.两数之和\n",
    "给定一个整数数组 `nums` 和一个目标值 `target`，请你在该数组中找出和为目标值的那 两个 整数，并返回他们的数组下标。\n",
    "你可以假设每种输入只会对应一个答案。但是，数组中同一个元素不能使用两遍。\n",
    "\n",
    " \n",
    "\n",
    "示例:\n",
    "```\n",
    "给定 nums = [2, 7, 11, 15], target = 9\n",
    "\n",
    "因为 nums[0] + nums[1] = 2 + 7 = 9\n",
    "所以返回 [0, 1]\n",
    "```"
   ]
  },
  {
   "cell_type": "code",
   "execution_count": 301,
   "metadata": {
    "ExecuteTime": {
     "end_time": "2020-09-15T09:54:23.293247Z",
     "start_time": "2020-09-15T09:54:23.289230Z"
    },
    "code_folding": [],
    "hidden": true
   },
   "outputs": [],
   "source": [
    "class Solution:\n",
    "    def twoSum(self, nums, target):\n",
    "        num = [] + nums\n",
    "        n = 0\n",
    "        while len(num):\n",
    "            i = num.pop(0)\n",
    "            n += 1\n",
    "            if target-i in num:\n",
    "                return [nums.index(i),nums.index(target-i)+n]"
   ]
  },
  {
   "cell_type": "markdown",
   "metadata": {
    "heading_collapsed": true
   },
   "source": [
    "##### 2.两数相加\n",
    "给出两**非空**的链表用来表示两个非负的整数。其中，它们各自的位数是按照**逆序**的方式存储的，并且它们的每个节点只能存储**一位**数字。\n",
    "\n",
    "如果，我们将这两个数相加起来，则会返回一个新的链表来表示它们的和。\n",
    "\n",
    "您可以假设除了数字**0**之外，这两个数都不会以**0**开头。\n",
    "\n",
    "示例：\n",
    "```\n",
    "输入：(2 -> 4 -> 3) + (5 -> 6 -> 4)\n",
    "输出：7 -> 0 -> 8\n",
    "原因：342 + 465 = 807\n",
    "```"
   ]
  },
  {
   "cell_type": "code",
   "execution_count": 2,
   "metadata": {
    "ExecuteTime": {
     "end_time": "2020-10-09T08:34:51.907726Z",
     "start_time": "2020-10-09T08:34:51.899705Z"
    },
    "code_folding": [
     0
    ],
    "hidden": true
   },
   "outputs": [],
   "source": [
    "# Definition for singly-linked list.\n",
    "class ListNode:\n",
    "    def __init__(self, val=0, next=None):\n",
    "        self.val = val\n",
    "        self.next = next\n",
    "\n",
    "class Solution:\n",
    "    def addTwoNumbers(self, l1: ListNode, l2: ListNode) -> ListNode:\n",
    "        # 创建一个结点值为 None 的头结点, dummy 和 p 指向头结点, dummy 用来最后返回, p 用来遍历\n",
    "        dummy = p = ListNode(None)          \n",
    "        s = 0               # 初始化进位 s 为 0\n",
    "        while l1 or l2 or s:\n",
    "            # 如果 l1 或 l2 存在, 则取l1的值 + l2的值 + s(s初始为0, 如果下面有进位1, 下次加上)\n",
    "            s += (l1.val if l1 else 0) + (l2.val if l2 else 0)  \n",
    "            p.next = ListNode(s % 10)       # p.next 指向新链表, 用来创建一个新的链表\n",
    "            p = p.next                      # p 向后遍历\n",
    "            s //= 10                        # 有进位情况则取模, eg. s = 18, 18 // 10 = 1\n",
    "            l1 = l1.next if l1 else None    # 如果l1存在, 则向后遍历, 否则为 None\n",
    "            l2 = l2.next if l2 else None    # 如果l2存在, 则向后遍历, 否则为 None\n",
    "        return dummy.next   # 返回 dummy 的下一个节点, 因为 dummy 指向的是空的头结点, 下一个节点才是新建链表的后序节点"
   ]
  },
  {
   "cell_type": "code",
   "execution_count": 3,
   "metadata": {
    "ExecuteTime": {
     "end_time": "2020-10-09T08:34:55.249841Z",
     "start_time": "2020-10-09T08:34:55.239315Z"
    },
    "code_folding": [
     0,
     8,
     14
    ],
    "hidden": true
   },
   "outputs": [
    {
     "name": "stdout",
     "output_type": "stream",
     "text": [
      "1, 5, 8, \n",
      "9, 1, 2, 9, \n",
      "0, 7, 0, 0, 1, \n"
     ]
    }
   ],
   "source": [
    "def generateList(l: list) -> ListNode:\n",
    "    prenode = ListNode(0)\n",
    "    lastnode = prenode\n",
    "    for val in l:\n",
    "        lastnode.next = ListNode(val)\n",
    "        lastnode = lastnode.next\n",
    "    return prenode.next\n",
    "\n",
    "def printList(l: ListNode):\n",
    "    while l:\n",
    "        print(\"%d, \" %(l.val), end = '')\n",
    "        l = l.next\n",
    "    print('')\n",
    "\n",
    "if __name__ == \"__main__\":\n",
    "    l1 = generateList([1, 5, 8])\n",
    "    l2 = generateList([9, 1, 2, 9])\n",
    "    printList(l1)\n",
    "    printList(l2)\n",
    "    s = Solution()\n",
    "    sum = s.addTwoNumbers(l1, l2)\n",
    "    printList(sum)"
   ]
  },
  {
   "cell_type": "markdown",
   "metadata": {},
   "source": [
    "##### 3.无重复字符的最长字串\n",
    "给定一个字符串，请你找出其中不含有重复字符的 最长子串 的长度。\n",
    "```\n",
    "示例 1:\n",
    "\n",
    "输入: \"abcabcbb\"\n",
    "输出: 3 \n",
    "解释: 因为无重复字符的最长子串是 \"abc\"，所以其长度为 3。\n",
    "\n",
    "示例 2:\n",
    "\n",
    "输入: \"bbbbb\"\n",
    "输出: 1\n",
    "解释: 因为无重复字符的最长子串是 \"b\"，所以其长度为 1。\n",
    "\n",
    "示例 3:\n",
    "\n",
    "输入: \"pwwkew\"\n",
    "输出: 3\n",
    "解释: 因为无重复字符的最长子串是 \"wke\"，所以其长度为 3。\n",
    "     请注意，你的答案必须是 子串 的长度，\"pwke\" 是一个子序列，不是子串。\n",
    "```"
   ]
  },
  {
   "cell_type": "code",
   "execution_count": 140,
   "metadata": {
    "ExecuteTime": {
     "end_time": "2020-10-10T06:02:53.789960Z",
     "start_time": "2020-10-10T06:02:53.775037Z"
    },
    "scrolled": true
   },
   "outputs": [
    {
     "name": "stdout",
     "output_type": "stream",
     "text": [
      "0 0 0 \n",
      "1 1 0 \n",
      "2 1 0 \n",
      "3 1 0 \n",
      "4 1 0 \n",
      "5 1 0 \n",
      "6 1 0 \n",
      "7 1 0 \n",
      "0\n"
     ]
    }
   ],
   "source": [
    "class Solution:\n",
    "    def lengthOfLongestSubstring(self, s: str) -> int:\n",
    "        left = right = 0\n",
    "        mx = len(set(s))\n",
    "        n = len(s)\n",
    "        for i in range(n):\n",
    "            right = 0\n",
    "            tep = s[left:left + right]\n",
    "            print(i, left, right, tep)\n",
    "            while right+1 <= n and s[right:right+1] not in set(tep):\n",
    "                right += 1\n",
    "                tep = s[left:right]\n",
    "#                 print(right, s[right:right+1], set(tep))\n",
    "            left = left + tep.find(s[right:right+1])\n",
    "            if i <= left:\n",
    "                continue\n",
    "        return 0\n",
    "\n",
    "if __name__ == '__main__':\n",
    "    st = \"jbpnbwwd\"\n",
    "    a = Solution()\n",
    "    print(a.lengthOfLongestSubstring(st))"
   ]
  },
  {
   "cell_type": "code",
   "execution_count": 101,
   "metadata": {
    "ExecuteTime": {
     "end_time": "2020-10-10T04:49:12.480532Z",
     "start_time": "2020-10-10T04:49:12.462549Z"
    },
    "code_folding": [
     0
    ]
   },
   "outputs": [
    {
     "name": "stdout",
     "output_type": "stream",
     "text": [
      "-1 0 set()\n",
      "3 4 {'j', 'b', 'n', 'p'}\n",
      "3 4 {'b', 'n', 'p'}\n",
      "5 4 {'n', 'p', 'b', 'w'}\n",
      "5 4 {'n', 'b', 'w'}\n",
      "5 4 {'b', 'w'}\n",
      "5 4 {'w'}\n",
      "7 4 {'d', 'w'}\n",
      "4\n"
     ]
    }
   ],
   "source": [
    "class Solution:\n",
    "    def lengthOfLongestSubstring(self, s: str) -> int:\n",
    "        # 哈希集合，记录每个字符是否出现过\n",
    "        occ = set()\n",
    "        n = len(s)\n",
    "        # 右指针，初始值为 -1，相当于我们在字符串的左边界的左侧，还没有开始移动\n",
    "        rk, ans = -1, 0\n",
    "        for i in range(n):\n",
    "            print(rk, ans, occ)\n",
    "            if i != 0:\n",
    "                # 左指针向右移动一格，移除一个字符\n",
    "                occ.remove(s[i - 1])\n",
    "            \n",
    "            while rk + 1 < n and s[rk + 1] not in occ:\n",
    "                # 不断地移动右指针\n",
    "                occ.add(s[rk + 1])\n",
    "                rk += 1\n",
    "            # 第 i 到 rk 个字符是一个极长的无重复字符子串\n",
    "            ans = max(ans, rk - i + 1)\n",
    "        return ans\n",
    "\n",
    "if __name__ == '__main__':\n",
    "    st = \"jbpnbwwd\"\n",
    "    a = Solution()\n",
    "    print(a.lengthOfLongestSubstring(st))"
   ]
  },
  {
   "cell_type": "code",
   "execution_count": 118,
   "metadata": {
    "ExecuteTime": {
     "end_time": "2020-10-10T05:35:37.042182Z",
     "start_time": "2020-10-10T05:35:37.031212Z"
    }
   },
   "outputs": [
    {
     "data": {
      "text/plain": [
       "1"
      ]
     },
     "execution_count": 118,
     "metadata": {},
     "output_type": "execute_result"
    }
   ],
   "source": [
    "st.find('b')"
   ]
  },
  {
   "cell_type": "code",
   "execution_count": 7,
   "metadata": {
    "ExecuteTime": {
     "end_time": "2020-11-12T07:25:07.929226Z",
     "start_time": "2020-11-12T07:25:06.462141Z"
    }
   },
   "outputs": [
    {
     "ename": "ModuleNotFoundError",
     "evalue": "No module named 'apscheduler'",
     "output_type": "error",
     "traceback": [
      "\u001b[1;31m---------------------------------------------------------------------------\u001b[0m",
      "\u001b[1;31mModuleNotFoundError\u001b[0m                       Traceback (most recent call last)",
      "\u001b[1;32m<ipython-input-7-c13e3b4dd076>\u001b[0m in \u001b[0;36m<module>\u001b[1;34m\u001b[0m\n\u001b[1;32m----> 1\u001b[1;33m \u001b[1;32mfrom\u001b[0m \u001b[0mapscheduler\u001b[0m\u001b[1;33m.\u001b[0m\u001b[0mschedulers\u001b[0m\u001b[1;33m.\u001b[0m\u001b[0mbackground\u001b[0m \u001b[1;32mimport\u001b[0m \u001b[0mBackgroundScheduler\u001b[0m\u001b[1;33m\u001b[0m\u001b[0m\n\u001b[0m\u001b[0;32m      2\u001b[0m \u001b[1;33m\u001b[0m\u001b[0m\n\u001b[0;32m      3\u001b[0m \u001b[0mjobstores\u001b[0m \u001b[1;33m=\u001b[0m \u001b[1;33m{\u001b[0m\u001b[1;34m'default'\u001b[0m\u001b[1;33m:\u001b[0m \u001b[0mMemoryJobStore\u001b[0m\u001b[1;33m(\u001b[0m\u001b[1;33m)\u001b[0m\u001b[1;33m}\u001b[0m\u001b[1;33m\u001b[0m\u001b[0m\n\u001b[0;32m      4\u001b[0m executors = {\n\u001b[0;32m      5\u001b[0m     \u001b[1;34m'default'\u001b[0m\u001b[1;33m:\u001b[0m \u001b[0mThreadPoolExecutor\u001b[0m\u001b[1;33m(\u001b[0m\u001b[1;36m20\u001b[0m\u001b[1;33m)\u001b[0m\u001b[1;33m,\u001b[0m\u001b[1;33m\u001b[0m\u001b[0m\n",
      "\u001b[1;31mModuleNotFoundError\u001b[0m: No module named 'apscheduler'"
     ]
    }
   ],
   "source": [
    "from apscheduler.schedulers.background import BackgroundScheduler\n",
    "\n",
    "jobstores = {'default': MemoryJobStore()}\n",
    "executors = {\n",
    "    'default': ThreadPoolExecutor(20),\n",
    "    'processpool': ProcessPoolExecutor(10)\n",
    "}\n",
    "job_defaults = {'coalesce': True, 'max_instances': 2, 'misfire_grace_time': 5}\n",
    "\n",
    "scheduler = BackgroundScheduler(jobstores=jobstores,\n",
    "                              executors=executors,\n",
    "                              job_defaults=job_defaults,\n",
    "                              timezone=utc)"
   ]
  }
 ],
 "metadata": {
  "hide_input": false,
  "kernelspec": {
   "display_name": "py36_32",
   "language": "python",
   "name": "py36_32"
  },
  "language_info": {
   "codemirror_mode": {
    "name": "ipython",
    "version": 3
   },
   "file_extension": ".py",
   "mimetype": "text/x-python",
   "name": "python",
   "nbconvert_exporter": "python",
   "pygments_lexer": "ipython3",
   "version": "3.6.5"
  },
  "toc": {
   "base_numbering": 1,
   "nav_menu": {},
   "number_sections": true,
   "sideBar": true,
   "skip_h1_title": false,
   "title_cell": "Table of Contents",
   "title_sidebar": "Contents",
   "toc_cell": false,
   "toc_position": {},
   "toc_section_display": true,
   "toc_window_display": false
  },
  "varInspector": {
   "cols": {
    "lenName": 16,
    "lenType": 16,
    "lenVar": 40
   },
   "kernels_config": {
    "python": {
     "delete_cmd_postfix": "",
     "delete_cmd_prefix": "del ",
     "library": "var_list.py",
     "varRefreshCmd": "print(var_dic_list())"
    },
    "r": {
     "delete_cmd_postfix": ") ",
     "delete_cmd_prefix": "rm(",
     "library": "var_list.r",
     "varRefreshCmd": "cat(var_dic_list()) "
    }
   },
   "types_to_exclude": [
    "module",
    "function",
    "builtin_function_or_method",
    "instance",
    "_Feature"
   ],
   "window_display": false
  }
 },
 "nbformat": 4,
 "nbformat_minor": 2
}
